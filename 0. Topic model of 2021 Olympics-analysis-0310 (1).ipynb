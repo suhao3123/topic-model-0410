{
 "cells": [
  {
   "cell_type": "markdown",
   "metadata": {},
   "source": [
    "# Project Management Program Based on Topic Model"
   ]
  },
  {
   "cell_type": "markdown",
   "metadata": {},
   "source": [
    "Nowadays, a project usually generates a huge amount of documents, and this study designed a topic program based on topic model for project management. The program applies the Latent Dirichlet Allocation (LDA) algorithm to build the topic model and applies the “prototypicaltext based interpretation” (PTBI) and the visualisation of PyLDAvis to select the salient topics, the prototypical paragraphs as well as the minimum number of texts for topic interpretation. "
   ]
  },
  {
   "cell_type": "markdown",
   "metadata": {},
   "source": [
    "# 1. Prerequisites"
   ]
  },
  {
   "cell_type": "markdown",
   "metadata": {},
   "source": [
    "Install the libraries below. Download the two css files from https://github.com/suhao3123/CSS, create a folder named assets in the root of your app directory and include the two files in that folder to lauch the Dashboard we created in the final step."
   ]
  },
  {
   "cell_type": "code",
   "execution_count": 1,
   "metadata": {},
   "outputs": [],
   "source": [
    "# pip install numpy                      # （install numpy）\n",
    "# pip intall pandas                      # (install pandas)\n",
    "# pip install PyMuPDF                    # (install PyMuPDF for extracting info from PDF files)\n",
    "# pip install tika                       # (install tika for extracting paragraphs from PDF files)\n",
    "# pip install spacy==2.2.0               # (install spacy for lemmatization)\n",
    "# conda install gensim                   # (intall gesim for topic modelling)\n",
    "# pip install pyLDAvis                   # (install pyLDAvis for topic modelling visulisation)\n",
    "# conda install -c conda-forge pyldavis  # (if you use aconda to install pyLADvis)\n",
    "# pip install plotly                     # (install plotly for visualisation)"
   ]
  },
  {
   "cell_type": "code",
   "execution_count": 2,
   "metadata": {},
   "outputs": [
    {
     "name": "stderr",
     "output_type": "stream",
     "text": [
      "F:\\Anaconda\\lib\\site-packages\\sklearn\\linear_model\\_least_angle.py:34: DeprecationWarning: `np.float` is a deprecated alias for the builtin `float`. To silence this warning, use `float` by itself. Doing this will not modify any behavior and is safe. If you specifically wanted the numpy scalar type, use `np.float64` here.\n",
      "Deprecated in NumPy 1.20; for more details and guidance: https://numpy.org/devdocs/release/1.20.0-notes.html#deprecations\n",
      "  method='lar', copy_X=True, eps=np.finfo(np.float).eps,\n",
      "\n",
      "F:\\Anaconda\\lib\\site-packages\\sklearn\\linear_model\\_least_angle.py:164: DeprecationWarning: `np.float` is a deprecated alias for the builtin `float`. To silence this warning, use `float` by itself. Doing this will not modify any behavior and is safe. If you specifically wanted the numpy scalar type, use `np.float64` here.\n",
      "Deprecated in NumPy 1.20; for more details and guidance: https://numpy.org/devdocs/release/1.20.0-notes.html#deprecations\n",
      "  method='lar', copy_X=True, eps=np.finfo(np.float).eps,\n",
      "\n",
      "F:\\Anaconda\\lib\\site-packages\\sklearn\\linear_model\\_least_angle.py:281: DeprecationWarning: `np.float` is a deprecated alias for the builtin `float`. To silence this warning, use `float` by itself. Doing this will not modify any behavior and is safe. If you specifically wanted the numpy scalar type, use `np.float64` here.\n",
      "Deprecated in NumPy 1.20; for more details and guidance: https://numpy.org/devdocs/release/1.20.0-notes.html#deprecations\n",
      "  eps=np.finfo(np.float).eps, copy_Gram=True, verbose=0,\n",
      "\n",
      "F:\\Anaconda\\lib\\site-packages\\sklearn\\linear_model\\_least_angle.py:864: DeprecationWarning: `np.float` is a deprecated alias for the builtin `float`. To silence this warning, use `float` by itself. Doing this will not modify any behavior and is safe. If you specifically wanted the numpy scalar type, use `np.float64` here.\n",
      "Deprecated in NumPy 1.20; for more details and guidance: https://numpy.org/devdocs/release/1.20.0-notes.html#deprecations\n",
      "  eps=np.finfo(np.float).eps, copy_X=True, fit_path=True,\n",
      "\n",
      "F:\\Anaconda\\lib\\site-packages\\sklearn\\linear_model\\_least_angle.py:1120: DeprecationWarning: `np.float` is a deprecated alias for the builtin `float`. To silence this warning, use `float` by itself. Doing this will not modify any behavior and is safe. If you specifically wanted the numpy scalar type, use `np.float64` here.\n",
      "Deprecated in NumPy 1.20; for more details and guidance: https://numpy.org/devdocs/release/1.20.0-notes.html#deprecations\n",
      "  eps=np.finfo(np.float).eps, copy_X=True, fit_path=True,\n",
      "\n",
      "F:\\Anaconda\\lib\\site-packages\\sklearn\\linear_model\\_least_angle.py:1148: DeprecationWarning: `np.float` is a deprecated alias for the builtin `float`. To silence this warning, use `float` by itself. Doing this will not modify any behavior and is safe. If you specifically wanted the numpy scalar type, use `np.float64` here.\n",
      "Deprecated in NumPy 1.20; for more details and guidance: https://numpy.org/devdocs/release/1.20.0-notes.html#deprecations\n",
      "  eps=np.finfo(np.float).eps, positive=False):\n",
      "\n",
      "F:\\Anaconda\\lib\\site-packages\\sklearn\\linear_model\\_least_angle.py:1378: DeprecationWarning: `np.float` is a deprecated alias for the builtin `float`. To silence this warning, use `float` by itself. Doing this will not modify any behavior and is safe. If you specifically wanted the numpy scalar type, use `np.float64` here.\n",
      "Deprecated in NumPy 1.20; for more details and guidance: https://numpy.org/devdocs/release/1.20.0-notes.html#deprecations\n",
      "  max_n_alphas=1000, n_jobs=None, eps=np.finfo(np.float).eps,\n",
      "\n",
      "F:\\Anaconda\\lib\\site-packages\\sklearn\\linear_model\\_least_angle.py:1620: DeprecationWarning: `np.float` is a deprecated alias for the builtin `float`. To silence this warning, use `float` by itself. Doing this will not modify any behavior and is safe. If you specifically wanted the numpy scalar type, use `np.float64` here.\n",
      "Deprecated in NumPy 1.20; for more details and guidance: https://numpy.org/devdocs/release/1.20.0-notes.html#deprecations\n",
      "  max_n_alphas=1000, n_jobs=None, eps=np.finfo(np.float).eps,\n",
      "\n",
      "F:\\Anaconda\\lib\\site-packages\\sklearn\\linear_model\\_least_angle.py:1754: DeprecationWarning: `np.float` is a deprecated alias for the builtin `float`. To silence this warning, use `float` by itself. Doing this will not modify any behavior and is safe. If you specifically wanted the numpy scalar type, use `np.float64` here.\n",
      "Deprecated in NumPy 1.20; for more details and guidance: https://numpy.org/devdocs/release/1.20.0-notes.html#deprecations\n",
      "  eps=np.finfo(np.float).eps, copy_X=True, positive=False):\n",
      "\n",
      "F:\\Anaconda\\lib\\site-packages\\sklearn\\decomposition\\_lda.py:28: DeprecationWarning: `np.float` is a deprecated alias for the builtin `float`. To silence this warning, use `float` by itself. Doing this will not modify any behavior and is safe. If you specifically wanted the numpy scalar type, use `np.float64` here.\n",
      "Deprecated in NumPy 1.20; for more details and guidance: https://numpy.org/devdocs/release/1.20.0-notes.html#deprecations\n",
      "  EPS = np.finfo(np.float).eps\n",
      "\n"
     ]
    }
   ],
   "source": [
    "import pandas as pd\n",
    "import numpy as np\n",
    "import re\n",
    "\n",
    "# glob for extracting the directories of metadata\n",
    "import glob\n",
    "\n",
    "# PyMuPDF\n",
    "import fitz\n",
    "\n",
    "# tika\n",
    "import tika               \n",
    "from tika import parser   \n",
    "\n",
    "# Gensim\n",
    "import gensim\n",
    "import gensim.corpora as corpora\n",
    "from gensim.utils import simple_preprocess\n",
    "from gensim.models import CoherenceModel\n",
    "\n",
    "# spacy for lemmatization\n",
    "import spacy\n",
    "\n",
    "# Visualisation\n",
    "import plotly.express as px\n",
    "import pyLDAvis\n",
    "import pyLDAvis.gensim_models\n",
    "import matplotlib.pyplot as plt\n",
    "%matplotlib inline\n",
    "\n",
    "# Enable logging for gensim - optional\n",
    "import logging\n",
    "logging.basicConfig(format='%(asctime)s : %(levelname)s : %(message)s', level=logging.ERROR)\n",
    "\n",
    "import warnings\n",
    "warnings.filterwarnings(\"ignore\",category=DeprecationWarning)\n",
    "import os"
   ]
  },
  {
   "cell_type": "markdown",
   "metadata": {},
   "source": [
    "# 2. Import pdf files, data wrangling and overview"
   ]
  },
  {
   "cell_type": "markdown",
   "metadata": {},
   "source": [
    "Input the directory of the pdf files you want to analyse, the chunks below will extract the texts and info of the files."
   ]
  },
  {
   "cell_type": "code",
   "execution_count": 3,
   "metadata": {},
   "outputs": [
    {
     "data": {
      "text/plain": [
       "['D:\\\\LEON\\\\Business Analytics\\\\Study\\\\9. Business Project\\\\Data set\\\\Olympics\\\\Examination_of_Witnesses_Sept_2003_-_Q1-19.pdf']"
      ]
     },
     "execution_count": 3,
     "metadata": {},
     "output_type": "execute_result"
    }
   ],
   "source": [
    "# Extract the directories of the PDF files, make sure the folder name does not contain number\n",
    "pdf_dir = \"D:\\LEON\\Business Analytics\\Study\\9. Business Project\\Data set\\Olympics\"\n",
    "pdf_files = glob.glob(\"%s/*.pdf\" % pdf_dir)\n",
    "pdf_files[:1]"
   ]
  },
  {
   "cell_type": "code",
   "execution_count": 4,
   "metadata": {},
   "outputs": [],
   "source": [
    "# Use PyMuPDF to extract all info of the PDF files (text, title, date, etc)\n",
    "list_metadata = []\n",
    "for i in pdf_files:\n",
    "    with fitz.open(i) as doc:\n",
    "        info = doc.metadata\n",
    "        info['file_name'] = os.path.basename(i)\n",
    "        text = ''\n",
    "        for page in doc:\n",
    "            text+= page.getText()\n",
    "        info['Content'] = text       \n",
    "    list_metadata.append(info)"
   ]
  },
  {
   "cell_type": "code",
   "execution_count": 5,
   "metadata": {},
   "outputs": [
    {
     "data": {
      "text/html": [
       "<div>\n",
       "<style scoped>\n",
       "    .dataframe tbody tr th:only-of-type {\n",
       "        vertical-align: middle;\n",
       "    }\n",
       "\n",
       "    .dataframe tbody tr th {\n",
       "        vertical-align: top;\n",
       "    }\n",
       "\n",
       "    .dataframe thead th {\n",
       "        text-align: right;\n",
       "    }\n",
       "</style>\n",
       "<table border=\"1\" class=\"dataframe\">\n",
       "  <thead>\n",
       "    <tr style=\"text-align: right;\">\n",
       "      <th></th>\n",
       "      <th>format</th>\n",
       "      <th>title</th>\n",
       "      <th>author</th>\n",
       "      <th>subject</th>\n",
       "      <th>keywords</th>\n",
       "      <th>creator</th>\n",
       "      <th>producer</th>\n",
       "      <th>creationDate</th>\n",
       "      <th>modDate</th>\n",
       "      <th>trapped</th>\n",
       "      <th>encryption</th>\n",
       "      <th>file_name</th>\n",
       "      <th>Content</th>\n",
       "      <th>document_id</th>\n",
       "      <th>Word_count</th>\n",
       "    </tr>\n",
       "  </thead>\n",
       "  <tbody>\n",
       "    <tr>\n",
       "      <th>0</th>\n",
       "      <td>PDF 1.7</td>\n",
       "      <td></td>\n",
       "      <td>B Lewis</td>\n",
       "      <td></td>\n",
       "      <td></td>\n",
       "      <td>Microsoft Word</td>\n",
       "      <td></td>\n",
       "      <td>D:20210822083603+00'00'</td>\n",
       "      <td>D:20210822083603+00'00'</td>\n",
       "      <td></td>\n",
       "      <td>None</td>\n",
       "      <td>Examination_of_Witnesses_Sept_2003_-_Q1-19.pdf</td>\n",
       "      <td>Examination of Witnesses (1-19) \\n16 SEPTEMBER...</td>\n",
       "      <td>0</td>\n",
       "      <td>6115</td>\n",
       "    </tr>\n",
       "    <tr>\n",
       "      <th>1</th>\n",
       "      <td>PDF 1.7</td>\n",
       "      <td></td>\n",
       "      <td>B Lewis</td>\n",
       "      <td></td>\n",
       "      <td></td>\n",
       "      <td>Microsoft Word</td>\n",
       "      <td></td>\n",
       "      <td>D:20210822083606+00'00'</td>\n",
       "      <td>D:20210822083606+00'00'</td>\n",
       "      <td></td>\n",
       "      <td>None</td>\n",
       "      <td>Examination_of_Witnesses_Sept_2003_-_Q20-39.pdf</td>\n",
       "      <td>Examination of Witnesses (20-39) \\n16 SEPTEMBE...</td>\n",
       "      <td>1</td>\n",
       "      <td>4002</td>\n",
       "    </tr>\n",
       "    <tr>\n",
       "      <th>2</th>\n",
       "      <td>PDF 1.7</td>\n",
       "      <td></td>\n",
       "      <td>B Lewis</td>\n",
       "      <td></td>\n",
       "      <td></td>\n",
       "      <td>Microsoft Word</td>\n",
       "      <td></td>\n",
       "      <td>D:20210822083609+00'00'</td>\n",
       "      <td>D:20210822083609+00'00'</td>\n",
       "      <td></td>\n",
       "      <td>None</td>\n",
       "      <td>Examination_of_Witnesses_Sept_2003_-_Q40-44.pdf</td>\n",
       "      <td>Examination of Witnesses (40-44) \\n16 SEPTEMBE...</td>\n",
       "      <td>2</td>\n",
       "      <td>1007</td>\n",
       "    </tr>\n",
       "  </tbody>\n",
       "</table>\n",
       "</div>"
      ],
      "text/plain": [
       "    format title   author subject keywords         creator producer  \\\n",
       "0  PDF 1.7        B Lewis                   Microsoft Word            \n",
       "1  PDF 1.7        B Lewis                   Microsoft Word            \n",
       "2  PDF 1.7        B Lewis                   Microsoft Word            \n",
       "\n",
       "              creationDate                  modDate trapped encryption  \\\n",
       "0  D:20210822083603+00'00'  D:20210822083603+00'00'               None   \n",
       "1  D:20210822083606+00'00'  D:20210822083606+00'00'               None   \n",
       "2  D:20210822083609+00'00'  D:20210822083609+00'00'               None   \n",
       "\n",
       "                                         file_name  \\\n",
       "0   Examination_of_Witnesses_Sept_2003_-_Q1-19.pdf   \n",
       "1  Examination_of_Witnesses_Sept_2003_-_Q20-39.pdf   \n",
       "2  Examination_of_Witnesses_Sept_2003_-_Q40-44.pdf   \n",
       "\n",
       "                                             Content  document_id  Word_count  \n",
       "0  Examination of Witnesses (1-19) \\n16 SEPTEMBER...            0        6115  \n",
       "1  Examination of Witnesses (20-39) \\n16 SEPTEMBE...            1        4002  \n",
       "2  Examination of Witnesses (40-44) \\n16 SEPTEMBE...            2        1007  "
      ]
     },
     "execution_count": 5,
     "metadata": {},
     "output_type": "execute_result"
    }
   ],
   "source": [
    "df = pd.DataFrame(list_metadata)\n",
    "df['document_id'] = df.index\n",
    "df = df.drop_duplicates(subset = ['Content'])             # drop duplicate rows\n",
    "df = df.dropna(subset=df.columns[[12]], how='any')        # drop rows whose text content is NaN                   \n",
    "df['Word_count'] = df ['Content'].str.count(' ') + 1\n",
    "df.head(3)"
   ]
  },
  {
   "cell_type": "code",
   "execution_count": 6,
   "metadata": {
    "scrolled": true
   },
   "outputs": [
    {
     "data": {
      "text/html": [
       "<div>\n",
       "<style scoped>\n",
       "    .dataframe tbody tr th:only-of-type {\n",
       "        vertical-align: middle;\n",
       "    }\n",
       "\n",
       "    .dataframe tbody tr th {\n",
       "        vertical-align: top;\n",
       "    }\n",
       "\n",
       "    .dataframe thead th {\n",
       "        text-align: right;\n",
       "    }\n",
       "</style>\n",
       "<table border=\"1\" class=\"dataframe\">\n",
       "  <thead>\n",
       "    <tr style=\"text-align: right;\">\n",
       "      <th></th>\n",
       "      <th>file_name</th>\n",
       "      <th>Content</th>\n",
       "    </tr>\n",
       "  </thead>\n",
       "  <tbody>\n",
       "  </tbody>\n",
       "</table>\n",
       "</div>"
      ],
      "text/plain": [
       "Empty DataFrame\n",
       "Columns: [file_name, Content]\n",
       "Index: []"
      ]
     },
     "execution_count": 6,
     "metadata": {},
     "output_type": "execute_result"
    }
   ],
   "source": [
    "# check if there are documents with few words\n",
    "min_word_count= 10                                               # set the threshold of the minimum word count of each document \n",
    "min_word_count_filter = df['Word_count'] <= min_word_count\n",
    "df_few_words = df[min_word_count_filter][['file_name', 'Content']]\n",
    "df_few_words"
   ]
  },
  {
   "cell_type": "code",
   "execution_count": 7,
   "metadata": {},
   "outputs": [
    {
     "name": "stdout",
     "output_type": "stream",
     "text": [
      "<class 'pandas.core.frame.DataFrame'>\n",
      "Int64Index: 169 entries, 0 to 168\n",
      "Data columns (total 15 columns):\n",
      " #   Column        Non-Null Count  Dtype \n",
      "---  ------        --------------  ----- \n",
      " 0   format        169 non-null    object\n",
      " 1   title         169 non-null    object\n",
      " 2   author        169 non-null    object\n",
      " 3   subject       169 non-null    object\n",
      " 4   keywords      169 non-null    object\n",
      " 5   creator       169 non-null    object\n",
      " 6   producer      169 non-null    object\n",
      " 7   creationDate  169 non-null    object\n",
      " 8   modDate       169 non-null    object\n",
      " 9   trapped       169 non-null    object\n",
      " 10  encryption    3 non-null      object\n",
      " 11  file_name     169 non-null    object\n",
      " 12  Content       169 non-null    object\n",
      " 13  document_id   169 non-null    int64 \n",
      " 14  Word_count    169 non-null    int64 \n",
      "dtypes: int64(2), object(13)\n",
      "memory usage: 21.1+ KB\n"
     ]
    }
   ],
   "source": [
    "df.info()"
   ]
  },
  {
   "cell_type": "code",
   "execution_count": 8,
   "metadata": {},
   "outputs": [
    {
     "data": {
      "text/plain": [
       "1054090"
      ]
     },
     "execution_count": 8,
     "metadata": {},
     "output_type": "execute_result"
    }
   ],
   "source": [
    "# Word count\n",
    "df['Word_count'].sum( )"
   ]
  },
  {
   "cell_type": "markdown",
   "metadata": {},
   "source": [
    "# 3. Natural language processing"
   ]
  },
  {
   "cell_type": "markdown",
   "metadata": {},
   "source": [
    "### 3.1. Tokenisation\n",
    "The texts extracted above will be split into individual words."
   ]
  },
  {
   "cell_type": "code",
   "execution_count": 9,
   "metadata": {
    "scrolled": false
   },
   "outputs": [],
   "source": [
    "data = df.Content.values.tolist()"
   ]
  },
  {
   "cell_type": "code",
   "execution_count": 10,
   "metadata": {},
   "outputs": [],
   "source": [
    "def sent_to_words(sentences):\n",
    "    for sentence in sentences:\n",
    "        yield(gensim.utils.simple_preprocess(str(sentence).encode('utf-8'), deacc=True))  # deacc=True removes punctuations\n",
    "\n",
    "data_words= list(sent_to_words(data))"
   ]
  },
  {
   "cell_type": "markdown",
   "metadata": {},
   "source": [
    "### 3.2. Processing words: \n",
    "First, the stopwords will be removed and users can add more stop words manually. Next, the bigrams (phrases containing two words) and trigrams (phrases containing three words) will be formed, then the words will be lemmitised (reducing different forms of a word into a single word). Next, a threshold allows users to remove short words."
   ]
  },
  {
   "cell_type": "code",
   "execution_count": 11,
   "metadata": {},
   "outputs": [],
   "source": [
    "# Build the bigram and trigram models\n",
    "bigram = gensim.models.Phrases(data_words, min_count=5, threshold=100) # higher threshold fewer phrases.\n",
    "trigram = gensim.models.Phrases(bigram[data_words], threshold=100)  \n",
    "bigram_mod = gensim.models.phrases.Phraser(bigram)\n",
    "trigram_mod = gensim.models.phrases.Phraser(trigram)"
   ]
  },
  {
   "cell_type": "code",
   "execution_count": 12,
   "metadata": {},
   "outputs": [],
   "source": [
    "# import the stop_words from gensim\n",
    "from gensim.parsing.preprocessing import remove_stopwords, STOPWORDS\n",
    "stop_words = [i for i in STOPWORDS]\n",
    "\n",
    "# add more stop words after analysing the key words of each topic from pyLDAvis in section 5.2. Topic visualisation \n",
    "new_stop_words = ['go', 'would', 'make', 'think', 'take', 'say', 'need', 'want', 'thing', 'have', 'lot', 'people', 'year','good','great','able','come','look','right',\n",
    "                   'sure', 'day', 'moment', 'work','time', 'know', 'use', 'try', 'happen', 'ask', 'new', 'way', 'jonathan_stephen', 'david_higgin', 'dame_helen_ghosh','end']              \n",
    "stop_words.extend(new_stop_words)"
   ]
  },
  {
   "cell_type": "code",
   "execution_count": 13,
   "metadata": {},
   "outputs": [],
   "source": [
    "# Define functions for stopwords, bigrams, trigrams and lemmatization\n",
    "def remove_stop_words(texts):\n",
    "    return [[word for word in doc if word not in stop_words] for doc in texts]\n",
    "\n",
    "def make_bigrams(texts):\n",
    "    return [bigram_mod[doc] for doc in texts]\n",
    "\n",
    "def make_trigrams(texts):\n",
    "    return [trigram_mod[bigram_mod[doc]] for doc in texts]\n",
    "\n",
    "def lemmatization(texts, allowed_postags=['NOUN', 'ADJ', 'VERB', 'ADV']):\n",
    "    \"\"\"https://spacy.io/api/annotation\"\"\"\n",
    "    texts_out = []\n",
    "    for sent in texts:\n",
    "        doc = nlp(\" \".join(sent)) \n",
    "        texts_out.append([token.lemma_ for token in doc if token.pos_ in allowed_postags])\n",
    "    return texts_out"
   ]
  },
  {
   "cell_type": "code",
   "execution_count": 14,
   "metadata": {},
   "outputs": [],
   "source": [
    "# Form Trigrams\n",
    "data_words_trigrams = make_trigrams(data_words)\n",
    "\n",
    "# Initialize spacy 'en' model, keeping only tagger component (for efficiency)\n",
    "# python3 -m spacy download en\n",
    "nlp = spacy.load('en_core_web_sm', disable=['parser', 'ner'])\n",
    "\n",
    "#increase the maximum length of text that the parser or NER can process\n",
    "nlp.max_length = 13000000 #\n",
    "\n",
    "# Do lemmatization keeping only noun, adj, verb\n",
    "data_lemmatized1 = lemmatization(data_words_trigrams, allowed_postags=['NOUN', 'ADJ', 'VERB'])\n",
    "\n",
    "# Set a threshold for removing the words with length less than the threshold\n",
    "minimum_len = 3 \n",
    "data_lemmatized2 = []\n",
    "for i in data_lemmatized1:\n",
    "    new_element = [x for x in i if len(x) >= minimum_len]\n",
    "    data_lemmatized2.append(new_element)\n",
    "\n",
    "# remove stop words\n",
    "data_lemmatized = remove_stop_words(data_lemmatized2)"
   ]
  },
  {
   "cell_type": "markdown",
   "metadata": {},
   "source": [
    "###  3.3. Dictionary and Corpus\n",
    "The processed words will be inputted to generate the Dictionary and Corpus to build the topic model. The Dictionary assigns an ID (0, 1, 2, etc.) to each word; the Corpus is a list of (word ID, word frequency) of each document. We can set two parameters to filter out more stopwords as shown below."
   ]
  },
  {
   "cell_type": "code",
   "execution_count": 15,
   "metadata": {},
   "outputs": [
    {
     "name": "stdout",
     "output_type": "stream",
     "text": [
      "After removal of high and low frequency words - Number of unique tokens: 3396, 332393\n"
     ]
    }
   ],
   "source": [
    "# Create Dictionary, set the parameters to filter out tokens in the dictionary by their frequency\n",
    "no_below = 5             # remove the tokens less frequent than no_below documents (absolute number)\n",
    "no_above = 0.85          # remove the tokens more frequent than no_above documents (fraction of the total corpus size)\n",
    "id2word = corpora.Dictionary(data_lemmatized)\n",
    "id2word.filter_extremes(no_below = no_below, no_above = no_above)\n",
    "\n",
    "# print the number of reserved unique tokens and word count afer removal of high and low frequency words\n",
    "print('After removal of high and low frequency words - Number of unique tokens: %d, %d' % (len(id2word),id2word.num_pos))"
   ]
  },
  {
   "cell_type": "code",
   "execution_count": 16,
   "metadata": {},
   "outputs": [],
   "source": [
    "# Create Corpus\n",
    "texts = data_lemmatized\n",
    "\n",
    "# Term Document Frequency\n",
    "corpus = [id2word.doc2bow(text) for text in texts]"
   ]
  },
  {
   "cell_type": "markdown",
   "metadata": {},
   "source": [
    "#  4. LDA Model\n",
    "Now we can input the Dictionnay and Corpus to bulid the LDA model, a basic and widely-used topic model. We might need to tune the parameters and hyperparameters to get a higher coherence score, a measure evaluating the interpretability of the topics extracted."
   ]
  },
  {
   "cell_type": "markdown",
   "metadata": {},
   "source": [
    "### 4.1. Building LDA Model, Perparameter/Hyperparameter tuning\n",
    "First we set the training parameters and hyperameters"
   ]
  },
  {
   "cell_type": "code",
   "execution_count": 17,
   "metadata": {},
   "outputs": [],
   "source": [
    "# set training parameters and hyperameters\n",
    "k = 20                  # number of topics\n",
    "passes = 20             # number of training iterations through the corpus\n",
    "iterations = 100        # maximum number of iterations through the corpus, limiting this parameter might cause some documents not to converge in time\n",
    "alpha = 50.0/k          # document-topic density, a high α tends to return more salient topics in each document\n",
    "eta = 0.01              # prior probabilities assigned to each term\n",
    "random_state = 12345    # random seed for reproducibility\n",
    "minimum_probability = 0 # topics with a probability lower than this threshold will be filtered out"
   ]
  },
  {
   "cell_type": "markdown",
   "metadata": {},
   "source": [
    "Now, we need to plot the coherence score against k to identify the opitmal k where the coherence socre reaches the highest point. Because running it is quite time-consuming, I stopped some chunks below and just set k to be 10 based on the analysis of the reuslt. If users want to fit the model to the other corpus, they can remove the hashs to reactivate the chunks and analyse the coherence socres aginst k."
   ]
  },
  {
   "cell_type": "code",
   "execution_count": 18,
   "metadata": {},
   "outputs": [],
   "source": [
    "#start=1; limit=21; step=1 # set the parameters to generate a sequence of k values starting with \"start\" and ending in \"limit\" by a step of \"step\" f\n",
    "#coherence_values = []\n",
    "#model_list = []\n",
    "#for i in range(start,limit,step):\n",
    "    #model = gensim.models.LdaModel(corpus = corpus,id2word = id2word,alpha = alpha,eta = eta,iterations = iterations,num_topics = i,passes = passes,random_state = 12345,minimum_probability = minimum_probability)\n",
    "    #model_list.append(model)\n",
    "    #coherencemodel = CoherenceModel(model=model, texts=texts, dictionary=id2word, coherence='c_v')\n",
    "    #coherence_values.append(coherencemodel.get_coherence())"
   ]
  },
  {
   "cell_type": "code",
   "execution_count": 19,
   "metadata": {},
   "outputs": [],
   "source": [
    "#list_num_topics = [i for i in range(start, limit, step)]\n",
    "#df_coherence1 = pd.DataFrame({'Number_of_Topics': list_num_topics, 'Coherence_Score': coherence_values})\n",
    "#df_coherence1.to_pickle('./df_coherence1.pkl') #save the result to disk\n",
    "#df_coherence = pd.read_pickle('./df_coherence1.pkl') #load the result from disk"
   ]
  },
  {
   "cell_type": "code",
   "execution_count": 20,
   "metadata": {},
   "outputs": [],
   "source": [
    "#fig1 = px.line(df_coherence, x = 'Number_of_Topics', y = \"Coherence_Score\", title = 'Coherence scores against number of topics')\n",
    "#fig1.update_layout(autosize=False, width=1000, height=400)\n",
    "#fig1.update_traces(mode = \"lines + markers\")\n",
    "#fig1.show()"
   ]
  },
  {
   "cell_type": "code",
   "execution_count": 35,
   "metadata": {},
   "outputs": [],
   "source": [
    "# set num of topics to get the highest coherence socre\n",
    "k = 10\n",
    "lda_model = gensim.models.LdaModel(\n",
    "    corpus = corpus,\n",
    "    id2word = id2word,\n",
    "    alpha = alpha,\n",
    "    eta = eta,\n",
    "    iterations = iterations,\n",
    "    num_topics = k,\n",
    "    passes = passes,\n",
    "    random_state = 12345,\n",
    "    minimum_probability = minimum_probability)"
   ]
  },
  {
   "cell_type": "code",
   "execution_count": 36,
   "metadata": {},
   "outputs": [
    {
     "data": {
      "text/plain": [
       "0.4364017884744861"
      ]
     },
     "execution_count": 36,
     "metadata": {},
     "output_type": "execute_result"
    }
   ],
   "source": [
    "# print the coherence of the LDA model\n",
    "coherencemodel2 = CoherenceModel(model=lda_model, texts=texts, dictionary=id2word, coherence='c_v')\n",
    "coherence_score = coherencemodel2.get_coherence()\n",
    "coherence_score"
   ]
  },
  {
   "cell_type": "markdown",
   "metadata": {},
   "source": [
    "### 4.2. Topic distribution of documents"
   ]
  },
  {
   "cell_type": "code",
   "execution_count": 37,
   "metadata": {},
   "outputs": [],
   "source": [
    "# create the function for converting a list of tuples into a dictionary\n",
    "def Convert(tup, di):\n",
    "    di = dict(tup)\n",
    "    return di"
   ]
  },
  {
   "cell_type": "code",
   "execution_count": 38,
   "metadata": {},
   "outputs": [
    {
     "data": {
      "text/html": [
       "<div>\n",
       "<style scoped>\n",
       "    .dataframe tbody tr th:only-of-type {\n",
       "        vertical-align: middle;\n",
       "    }\n",
       "\n",
       "    .dataframe tbody tr th {\n",
       "        vertical-align: top;\n",
       "    }\n",
       "\n",
       "    .dataframe thead th {\n",
       "        text-align: right;\n",
       "    }\n",
       "</style>\n",
       "<table border=\"1\" class=\"dataframe\">\n",
       "  <thead>\n",
       "    <tr style=\"text-align: right;\">\n",
       "      <th></th>\n",
       "      <th>author</th>\n",
       "      <th>creationDate</th>\n",
       "      <th>file_name</th>\n",
       "      <th>Content</th>\n",
       "      <th>document_id</th>\n",
       "      <th>Word_count</th>\n",
       "      <th>1</th>\n",
       "      <th>2</th>\n",
       "      <th>3</th>\n",
       "      <th>4</th>\n",
       "      <th>5</th>\n",
       "      <th>6</th>\n",
       "      <th>7</th>\n",
       "      <th>8</th>\n",
       "      <th>9</th>\n",
       "      <th>10</th>\n",
       "    </tr>\n",
       "  </thead>\n",
       "  <tbody>\n",
       "    <tr>\n",
       "      <th>0</th>\n",
       "      <td>B Lewis</td>\n",
       "      <td>D:20210822083603+00'00'</td>\n",
       "      <td>Examination_of_Witnesses_Sept_2003_-_Q1-19.pdf</td>\n",
       "      <td>Examination of Witnesses (1-19) \\n16 SEPTEMBER...</td>\n",
       "      <td>0</td>\n",
       "      <td>6115</td>\n",
       "      <td>0.022669</td>\n",
       "      <td>0.012241</td>\n",
       "      <td>0.008059</td>\n",
       "      <td>0.027981</td>\n",
       "      <td>0.009974</td>\n",
       "      <td>0.008838</td>\n",
       "      <td>0.021381</td>\n",
       "      <td>0.346660</td>\n",
       "      <td>0.515521</td>\n",
       "      <td>0.026676</td>\n",
       "    </tr>\n",
       "    <tr>\n",
       "      <th>1</th>\n",
       "      <td>B Lewis</td>\n",
       "      <td>D:20210822083606+00'00'</td>\n",
       "      <td>Examination_of_Witnesses_Sept_2003_-_Q20-39.pdf</td>\n",
       "      <td>Examination of Witnesses (20-39) \\n16 SEPTEMBE...</td>\n",
       "      <td>1</td>\n",
       "      <td>4002</td>\n",
       "      <td>0.054689</td>\n",
       "      <td>0.031731</td>\n",
       "      <td>0.008668</td>\n",
       "      <td>0.012626</td>\n",
       "      <td>0.032229</td>\n",
       "      <td>0.007006</td>\n",
       "      <td>0.012481</td>\n",
       "      <td>0.306131</td>\n",
       "      <td>0.488593</td>\n",
       "      <td>0.045848</td>\n",
       "    </tr>\n",
       "    <tr>\n",
       "      <th>2</th>\n",
       "      <td>B Lewis</td>\n",
       "      <td>D:20210822083609+00'00'</td>\n",
       "      <td>Examination_of_Witnesses_Sept_2003_-_Q40-44.pdf</td>\n",
       "      <td>Examination of Witnesses (40-44) \\n16 SEPTEMBE...</td>\n",
       "      <td>2</td>\n",
       "      <td>1007</td>\n",
       "      <td>0.058003</td>\n",
       "      <td>0.024969</td>\n",
       "      <td>0.021409</td>\n",
       "      <td>0.042886</td>\n",
       "      <td>0.040421</td>\n",
       "      <td>0.022138</td>\n",
       "      <td>0.030234</td>\n",
       "      <td>0.301232</td>\n",
       "      <td>0.424574</td>\n",
       "      <td>0.034133</td>\n",
       "    </tr>\n",
       "    <tr>\n",
       "      <th>3</th>\n",
       "      <td>Bronwen Lewis</td>\n",
       "      <td>D:20210822084116+00'00'</td>\n",
       "      <td>Further_supplementary_memorandum_submitted_by_...</td>\n",
       "      <td>Further supplementary memorandum submitted by ...</td>\n",
       "      <td>3</td>\n",
       "      <td>431</td>\n",
       "      <td>0.040255</td>\n",
       "      <td>0.023550</td>\n",
       "      <td>0.608594</td>\n",
       "      <td>0.029913</td>\n",
       "      <td>0.025182</td>\n",
       "      <td>0.093307</td>\n",
       "      <td>0.076155</td>\n",
       "      <td>0.033556</td>\n",
       "      <td>0.037462</td>\n",
       "      <td>0.032028</td>\n",
       "    </tr>\n",
       "    <tr>\n",
       "      <th>4</th>\n",
       "      <td>Bronwen Lewis</td>\n",
       "      <td>D:20210822083921+00'00'</td>\n",
       "      <td>Further_Supplementary_Memorandum_submitted_by_...</td>\n",
       "      <td>Further supplementary memorandum submitted by ...</td>\n",
       "      <td>4</td>\n",
       "      <td>288</td>\n",
       "      <td>0.240306</td>\n",
       "      <td>0.092834</td>\n",
       "      <td>0.056631</td>\n",
       "      <td>0.042153</td>\n",
       "      <td>0.054051</td>\n",
       "      <td>0.064404</td>\n",
       "      <td>0.096172</td>\n",
       "      <td>0.192395</td>\n",
       "      <td>0.106136</td>\n",
       "      <td>0.054918</td>\n",
       "    </tr>\n",
       "    <tr>\n",
       "      <th>...</th>\n",
       "      <td>...</td>\n",
       "      <td>...</td>\n",
       "      <td>...</td>\n",
       "      <td>...</td>\n",
       "      <td>...</td>\n",
       "      <td>...</td>\n",
       "      <td>...</td>\n",
       "      <td>...</td>\n",
       "      <td>...</td>\n",
       "      <td>...</td>\n",
       "      <td>...</td>\n",
       "      <td>...</td>\n",
       "      <td>...</td>\n",
       "      <td>...</td>\n",
       "      <td>...</td>\n",
       "      <td>...</td>\n",
       "    </tr>\n",
       "    <tr>\n",
       "      <th>164</th>\n",
       "      <td>Bronwen Lewis</td>\n",
       "      <td>D:20210822084528+00'00'</td>\n",
       "      <td>Written_evidence_submitted_by_UK_Sport_-_Jan_2...</td>\n",
       "      <td>Written evidence submitted by UK Sport  \\n \\n ...</td>\n",
       "      <td>164</td>\n",
       "      <td>3089</td>\n",
       "      <td>0.161374</td>\n",
       "      <td>0.746055</td>\n",
       "      <td>0.008360</td>\n",
       "      <td>0.015019</td>\n",
       "      <td>0.013721</td>\n",
       "      <td>0.006636</td>\n",
       "      <td>0.007021</td>\n",
       "      <td>0.007741</td>\n",
       "      <td>0.023814</td>\n",
       "      <td>0.010259</td>\n",
       "    </tr>\n",
       "    <tr>\n",
       "      <th>165</th>\n",
       "      <td>Bronwen Lewis</td>\n",
       "      <td>D:20210822084531+00'00'</td>\n",
       "      <td>Written_evidence_submitted_by_Vision_2020_UK_-...</td>\n",
       "      <td>Written evidence submitted by Vision 2020 UK  ...</td>\n",
       "      <td>165</td>\n",
       "      <td>2284</td>\n",
       "      <td>0.010344</td>\n",
       "      <td>0.904470</td>\n",
       "      <td>0.010520</td>\n",
       "      <td>0.008543</td>\n",
       "      <td>0.008640</td>\n",
       "      <td>0.011762</td>\n",
       "      <td>0.010805</td>\n",
       "      <td>0.012390</td>\n",
       "      <td>0.012407</td>\n",
       "      <td>0.010119</td>\n",
       "    </tr>\n",
       "    <tr>\n",
       "      <th>166</th>\n",
       "      <td>Bronwen Lewis</td>\n",
       "      <td>D:20210822084535+00'00'</td>\n",
       "      <td>Written_evidence_submitted_by_VisitBritain_-_J...</td>\n",
       "      <td>Written evidence submitted by VisitBritain  \\n...</td>\n",
       "      <td>166</td>\n",
       "      <td>2372</td>\n",
       "      <td>0.008408</td>\n",
       "      <td>0.065365</td>\n",
       "      <td>0.009910</td>\n",
       "      <td>0.013444</td>\n",
       "      <td>0.185897</td>\n",
       "      <td>0.009476</td>\n",
       "      <td>0.018929</td>\n",
       "      <td>0.013965</td>\n",
       "      <td>0.014569</td>\n",
       "      <td>0.660036</td>\n",
       "    </tr>\n",
       "    <tr>\n",
       "      <th>167</th>\n",
       "      <td>Bronwen Lewis</td>\n",
       "      <td>D:20210822084543+00'00'</td>\n",
       "      <td>Written_evidence_submitted_by_Womens_Sport_and...</td>\n",
       "      <td>Written evidence submitted by the Women's Spor...</td>\n",
       "      <td>167</td>\n",
       "      <td>1966</td>\n",
       "      <td>0.039542</td>\n",
       "      <td>0.632806</td>\n",
       "      <td>0.014172</td>\n",
       "      <td>0.011664</td>\n",
       "      <td>0.121685</td>\n",
       "      <td>0.009411</td>\n",
       "      <td>0.039502</td>\n",
       "      <td>0.044871</td>\n",
       "      <td>0.022595</td>\n",
       "      <td>0.063752</td>\n",
       "    </tr>\n",
       "    <tr>\n",
       "      <th>168</th>\n",
       "      <td>Bronwen Lewis</td>\n",
       "      <td>D:20210822084546+00'00'</td>\n",
       "      <td>Written_evidence_submitted_by_Youth_Sport_Trus...</td>\n",
       "      <td>Written evidence submitted by Youth Sport Trus...</td>\n",
       "      <td>168</td>\n",
       "      <td>2682</td>\n",
       "      <td>0.009104</td>\n",
       "      <td>0.905684</td>\n",
       "      <td>0.007948</td>\n",
       "      <td>0.013781</td>\n",
       "      <td>0.015472</td>\n",
       "      <td>0.006963</td>\n",
       "      <td>0.010288</td>\n",
       "      <td>0.008576</td>\n",
       "      <td>0.010184</td>\n",
       "      <td>0.012001</td>\n",
       "    </tr>\n",
       "  </tbody>\n",
       "</table>\n",
       "<p>169 rows × 16 columns</p>\n",
       "</div>"
      ],
      "text/plain": [
       "            author             creationDate  \\\n",
       "0          B Lewis  D:20210822083603+00'00'   \n",
       "1          B Lewis  D:20210822083606+00'00'   \n",
       "2          B Lewis  D:20210822083609+00'00'   \n",
       "3    Bronwen Lewis  D:20210822084116+00'00'   \n",
       "4    Bronwen Lewis  D:20210822083921+00'00'   \n",
       "..             ...                      ...   \n",
       "164  Bronwen Lewis  D:20210822084528+00'00'   \n",
       "165  Bronwen Lewis  D:20210822084531+00'00'   \n",
       "166  Bronwen Lewis  D:20210822084535+00'00'   \n",
       "167  Bronwen Lewis  D:20210822084543+00'00'   \n",
       "168  Bronwen Lewis  D:20210822084546+00'00'   \n",
       "\n",
       "                                             file_name  \\\n",
       "0       Examination_of_Witnesses_Sept_2003_-_Q1-19.pdf   \n",
       "1      Examination_of_Witnesses_Sept_2003_-_Q20-39.pdf   \n",
       "2      Examination_of_Witnesses_Sept_2003_-_Q40-44.pdf   \n",
       "3    Further_supplementary_memorandum_submitted_by_...   \n",
       "4    Further_Supplementary_Memorandum_submitted_by_...   \n",
       "..                                                 ...   \n",
       "164  Written_evidence_submitted_by_UK_Sport_-_Jan_2...   \n",
       "165  Written_evidence_submitted_by_Vision_2020_UK_-...   \n",
       "166  Written_evidence_submitted_by_VisitBritain_-_J...   \n",
       "167  Written_evidence_submitted_by_Womens_Sport_and...   \n",
       "168  Written_evidence_submitted_by_Youth_Sport_Trus...   \n",
       "\n",
       "                                               Content  document_id  \\\n",
       "0    Examination of Witnesses (1-19) \\n16 SEPTEMBER...            0   \n",
       "1    Examination of Witnesses (20-39) \\n16 SEPTEMBE...            1   \n",
       "2    Examination of Witnesses (40-44) \\n16 SEPTEMBE...            2   \n",
       "3    Further supplementary memorandum submitted by ...            3   \n",
       "4    Further supplementary memorandum submitted by ...            4   \n",
       "..                                                 ...          ...   \n",
       "164  Written evidence submitted by UK Sport  \\n \\n ...          164   \n",
       "165  Written evidence submitted by Vision 2020 UK  ...          165   \n",
       "166  Written evidence submitted by VisitBritain  \\n...          166   \n",
       "167  Written evidence submitted by the Women's Spor...          167   \n",
       "168  Written evidence submitted by Youth Sport Trus...          168   \n",
       "\n",
       "     Word_count         1         2         3         4         5         6  \\\n",
       "0          6115  0.022669  0.012241  0.008059  0.027981  0.009974  0.008838   \n",
       "1          4002  0.054689  0.031731  0.008668  0.012626  0.032229  0.007006   \n",
       "2          1007  0.058003  0.024969  0.021409  0.042886  0.040421  0.022138   \n",
       "3           431  0.040255  0.023550  0.608594  0.029913  0.025182  0.093307   \n",
       "4           288  0.240306  0.092834  0.056631  0.042153  0.054051  0.064404   \n",
       "..          ...       ...       ...       ...       ...       ...       ...   \n",
       "164        3089  0.161374  0.746055  0.008360  0.015019  0.013721  0.006636   \n",
       "165        2284  0.010344  0.904470  0.010520  0.008543  0.008640  0.011762   \n",
       "166        2372  0.008408  0.065365  0.009910  0.013444  0.185897  0.009476   \n",
       "167        1966  0.039542  0.632806  0.014172  0.011664  0.121685  0.009411   \n",
       "168        2682  0.009104  0.905684  0.007948  0.013781  0.015472  0.006963   \n",
       "\n",
       "            7         8         9        10  \n",
       "0    0.021381  0.346660  0.515521  0.026676  \n",
       "1    0.012481  0.306131  0.488593  0.045848  \n",
       "2    0.030234  0.301232  0.424574  0.034133  \n",
       "3    0.076155  0.033556  0.037462  0.032028  \n",
       "4    0.096172  0.192395  0.106136  0.054918  \n",
       "..        ...       ...       ...       ...  \n",
       "164  0.007021  0.007741  0.023814  0.010259  \n",
       "165  0.010805  0.012390  0.012407  0.010119  \n",
       "166  0.018929  0.013965  0.014569  0.660036  \n",
       "167  0.039502  0.044871  0.022595  0.063752  \n",
       "168  0.010288  0.008576  0.010184  0.012001  \n",
       "\n",
       "[169 rows x 16 columns]"
      ]
     },
     "execution_count": 38,
     "metadata": {},
     "output_type": "execute_result"
    }
   ],
   "source": [
    "# topic distribution of documents\n",
    "list_topic = []\n",
    "dictionary_topic = {}\n",
    "for d in texts:\n",
    "    bow = id2word.doc2bow(d)\n",
    "    belong = lda_model[bow]                        # generate a list of tuples of topic distribution of a document\n",
    "    belong_dic = Convert(belong, dictionary_topic) # convert the list of tuples into a dictionary\n",
    "    list_topic.append(belong_dic)           \n",
    "                      \n",
    "df_topic_distribution = pd.DataFrame(list_topic)   # convert the list of dictionaries into a dataframe\n",
    "\n",
    "# rename the topic IDs to ensure they are as same as the topic IDs in the pyLDAvis\n",
    "original_topic_id = [*df_topic_distribution]; new_topic_id = [x + 1 for x in original_topic_id]\n",
    "df_topic_distribution = df_topic_distribution.rename(columns = dict(zip(original_topic_id, new_topic_id))) #rename the topic IDs to ensure they are as same as the topic IDs in the pyLDAvis\n",
    "df_topic = pd.merge(df, df_topic_distribution, how = 'left', left_index=True, right_index=True) # merge with info of documents\n",
    "df_topic.drop(['title','format','creator', 'producer', 'keywords', 'trapped', 'encryption','subject', 'modDate'], axis = 1)"
   ]
  },
  {
   "cell_type": "markdown",
   "metadata": {},
   "source": [
    "# 5. Topic interpretation tools"
   ]
  },
  {
   "cell_type": "markdown",
   "metadata": {},
   "source": [
    "I first identify the salient topics defined by PTBI proposed by Marchetti and Puranam (2020), then combine both the topic visualisation of pyLDAvis and the prototypical texts defined by PTBI to facilitate the topic interpretation."
   ]
  },
  {
   "cell_type": "markdown",
   "metadata": {},
   "source": [
    "##  5.1. Salient topics for interpretation\n",
    "PTBI assumes that the topics with little salience are not worthy of interpretation. To extract the most salient topics for interpretation, for each topic, we need to compute the fraction of documents with the probability that the documents belong to the topic is more than > 1/K (Marchetti and Puranam, 2020, p. 14), and I defined the fraction as the “salience” of the topic. "
   ]
  },
  {
   "cell_type": "markdown",
   "metadata": {},
   "source": [
    "The scree plot below shows that when the topics are sorted by salience in descending order, the salience tends to level off on topic 6, as a result, we can select the topics ahead of topic 6 as the salient topics for interpretation."
   ]
  },
  {
   "cell_type": "code",
   "execution_count": 39,
   "metadata": {},
   "outputs": [],
   "source": [
    "# compute salience: the fraction of documents with the probability that the document belongs to the topic is more than > 1/K for each document\n",
    "list_percent_above = []\n",
    "for i in df_topic_distribution:\n",
    "    num_above = df_topic_distribution[i][df_topic_distribution[i] > 1/k].count()\n",
    "    percent_above =  num_above/len(df_topic_distribution)\n",
    "    list_percent_above.append(percent_above)\n",
    "    \n",
    "df_salient_topic = pd.DataFrame({'topic_ID':  [str(i) for i in new_topic_id], 'salience': list_percent_above}).sort_values(\n",
    "    by = 'salience', ascending = False)"
   ]
  },
  {
   "cell_type": "code",
   "execution_count": 40,
   "metadata": {},
   "outputs": [
    {
     "data": {
      "application/vnd.plotly.v1+json": {
       "config": {
        "plotlyServerURL": "https://plotly.com"
       },
       "data": [
        {
         "hovertemplate": "topic_ID=%{x}<br>salience=%{y}<extra></extra>",
         "legendgroup": "",
         "line": {
          "color": "#636efa",
          "dash": "solid"
         },
         "mode": "lines+markers",
         "name": "",
         "orientation": "v",
         "showlegend": false,
         "type": "scatter",
         "x": [
          "9",
          "2",
          "8",
          "10",
          "5",
          "1",
          "4",
          "7",
          "3",
          "6"
         ],
         "xaxis": "x",
         "y": [
          0.3609467455621302,
          0.3076923076923077,
          0.2781065088757396,
          0.2485207100591716,
          0.22485207100591717,
          0.21893491124260356,
          0.20118343195266272,
          0.17159763313609466,
          0.15384615384615385,
          0.047337278106508875
         ],
         "yaxis": "y"
        }
       ],
       "layout": {
        "autosize": false,
        "height": 400,
        "legend": {
         "tracegroupgap": 0
        },
        "template": {
         "data": {
          "bar": [
           {
            "error_x": {
             "color": "#2a3f5f"
            },
            "error_y": {
             "color": "#2a3f5f"
            },
            "marker": {
             "line": {
              "color": "#E5ECF6",
              "width": 0.5
             }
            },
            "type": "bar"
           }
          ],
          "barpolar": [
           {
            "marker": {
             "line": {
              "color": "#E5ECF6",
              "width": 0.5
             }
            },
            "type": "barpolar"
           }
          ],
          "carpet": [
           {
            "aaxis": {
             "endlinecolor": "#2a3f5f",
             "gridcolor": "white",
             "linecolor": "white",
             "minorgridcolor": "white",
             "startlinecolor": "#2a3f5f"
            },
            "baxis": {
             "endlinecolor": "#2a3f5f",
             "gridcolor": "white",
             "linecolor": "white",
             "minorgridcolor": "white",
             "startlinecolor": "#2a3f5f"
            },
            "type": "carpet"
           }
          ],
          "choropleth": [
           {
            "colorbar": {
             "outlinewidth": 0,
             "ticks": ""
            },
            "type": "choropleth"
           }
          ],
          "contour": [
           {
            "colorbar": {
             "outlinewidth": 0,
             "ticks": ""
            },
            "colorscale": [
             [
              0,
              "#0d0887"
             ],
             [
              0.1111111111111111,
              "#46039f"
             ],
             [
              0.2222222222222222,
              "#7201a8"
             ],
             [
              0.3333333333333333,
              "#9c179e"
             ],
             [
              0.4444444444444444,
              "#bd3786"
             ],
             [
              0.5555555555555556,
              "#d8576b"
             ],
             [
              0.6666666666666666,
              "#ed7953"
             ],
             [
              0.7777777777777778,
              "#fb9f3a"
             ],
             [
              0.8888888888888888,
              "#fdca26"
             ],
             [
              1,
              "#f0f921"
             ]
            ],
            "type": "contour"
           }
          ],
          "contourcarpet": [
           {
            "colorbar": {
             "outlinewidth": 0,
             "ticks": ""
            },
            "type": "contourcarpet"
           }
          ],
          "heatmap": [
           {
            "colorbar": {
             "outlinewidth": 0,
             "ticks": ""
            },
            "colorscale": [
             [
              0,
              "#0d0887"
             ],
             [
              0.1111111111111111,
              "#46039f"
             ],
             [
              0.2222222222222222,
              "#7201a8"
             ],
             [
              0.3333333333333333,
              "#9c179e"
             ],
             [
              0.4444444444444444,
              "#bd3786"
             ],
             [
              0.5555555555555556,
              "#d8576b"
             ],
             [
              0.6666666666666666,
              "#ed7953"
             ],
             [
              0.7777777777777778,
              "#fb9f3a"
             ],
             [
              0.8888888888888888,
              "#fdca26"
             ],
             [
              1,
              "#f0f921"
             ]
            ],
            "type": "heatmap"
           }
          ],
          "heatmapgl": [
           {
            "colorbar": {
             "outlinewidth": 0,
             "ticks": ""
            },
            "colorscale": [
             [
              0,
              "#0d0887"
             ],
             [
              0.1111111111111111,
              "#46039f"
             ],
             [
              0.2222222222222222,
              "#7201a8"
             ],
             [
              0.3333333333333333,
              "#9c179e"
             ],
             [
              0.4444444444444444,
              "#bd3786"
             ],
             [
              0.5555555555555556,
              "#d8576b"
             ],
             [
              0.6666666666666666,
              "#ed7953"
             ],
             [
              0.7777777777777778,
              "#fb9f3a"
             ],
             [
              0.8888888888888888,
              "#fdca26"
             ],
             [
              1,
              "#f0f921"
             ]
            ],
            "type": "heatmapgl"
           }
          ],
          "histogram": [
           {
            "marker": {
             "colorbar": {
              "outlinewidth": 0,
              "ticks": ""
             }
            },
            "type": "histogram"
           }
          ],
          "histogram2d": [
           {
            "colorbar": {
             "outlinewidth": 0,
             "ticks": ""
            },
            "colorscale": [
             [
              0,
              "#0d0887"
             ],
             [
              0.1111111111111111,
              "#46039f"
             ],
             [
              0.2222222222222222,
              "#7201a8"
             ],
             [
              0.3333333333333333,
              "#9c179e"
             ],
             [
              0.4444444444444444,
              "#bd3786"
             ],
             [
              0.5555555555555556,
              "#d8576b"
             ],
             [
              0.6666666666666666,
              "#ed7953"
             ],
             [
              0.7777777777777778,
              "#fb9f3a"
             ],
             [
              0.8888888888888888,
              "#fdca26"
             ],
             [
              1,
              "#f0f921"
             ]
            ],
            "type": "histogram2d"
           }
          ],
          "histogram2dcontour": [
           {
            "colorbar": {
             "outlinewidth": 0,
             "ticks": ""
            },
            "colorscale": [
             [
              0,
              "#0d0887"
             ],
             [
              0.1111111111111111,
              "#46039f"
             ],
             [
              0.2222222222222222,
              "#7201a8"
             ],
             [
              0.3333333333333333,
              "#9c179e"
             ],
             [
              0.4444444444444444,
              "#bd3786"
             ],
             [
              0.5555555555555556,
              "#d8576b"
             ],
             [
              0.6666666666666666,
              "#ed7953"
             ],
             [
              0.7777777777777778,
              "#fb9f3a"
             ],
             [
              0.8888888888888888,
              "#fdca26"
             ],
             [
              1,
              "#f0f921"
             ]
            ],
            "type": "histogram2dcontour"
           }
          ],
          "mesh3d": [
           {
            "colorbar": {
             "outlinewidth": 0,
             "ticks": ""
            },
            "type": "mesh3d"
           }
          ],
          "parcoords": [
           {
            "line": {
             "colorbar": {
              "outlinewidth": 0,
              "ticks": ""
             }
            },
            "type": "parcoords"
           }
          ],
          "pie": [
           {
            "automargin": true,
            "type": "pie"
           }
          ],
          "scatter": [
           {
            "marker": {
             "colorbar": {
              "outlinewidth": 0,
              "ticks": ""
             }
            },
            "type": "scatter"
           }
          ],
          "scatter3d": [
           {
            "line": {
             "colorbar": {
              "outlinewidth": 0,
              "ticks": ""
             }
            },
            "marker": {
             "colorbar": {
              "outlinewidth": 0,
              "ticks": ""
             }
            },
            "type": "scatter3d"
           }
          ],
          "scattercarpet": [
           {
            "marker": {
             "colorbar": {
              "outlinewidth": 0,
              "ticks": ""
             }
            },
            "type": "scattercarpet"
           }
          ],
          "scattergeo": [
           {
            "marker": {
             "colorbar": {
              "outlinewidth": 0,
              "ticks": ""
             }
            },
            "type": "scattergeo"
           }
          ],
          "scattergl": [
           {
            "marker": {
             "colorbar": {
              "outlinewidth": 0,
              "ticks": ""
             }
            },
            "type": "scattergl"
           }
          ],
          "scattermapbox": [
           {
            "marker": {
             "colorbar": {
              "outlinewidth": 0,
              "ticks": ""
             }
            },
            "type": "scattermapbox"
           }
          ],
          "scatterpolar": [
           {
            "marker": {
             "colorbar": {
              "outlinewidth": 0,
              "ticks": ""
             }
            },
            "type": "scatterpolar"
           }
          ],
          "scatterpolargl": [
           {
            "marker": {
             "colorbar": {
              "outlinewidth": 0,
              "ticks": ""
             }
            },
            "type": "scatterpolargl"
           }
          ],
          "scatterternary": [
           {
            "marker": {
             "colorbar": {
              "outlinewidth": 0,
              "ticks": ""
             }
            },
            "type": "scatterternary"
           }
          ],
          "surface": [
           {
            "colorbar": {
             "outlinewidth": 0,
             "ticks": ""
            },
            "colorscale": [
             [
              0,
              "#0d0887"
             ],
             [
              0.1111111111111111,
              "#46039f"
             ],
             [
              0.2222222222222222,
              "#7201a8"
             ],
             [
              0.3333333333333333,
              "#9c179e"
             ],
             [
              0.4444444444444444,
              "#bd3786"
             ],
             [
              0.5555555555555556,
              "#d8576b"
             ],
             [
              0.6666666666666666,
              "#ed7953"
             ],
             [
              0.7777777777777778,
              "#fb9f3a"
             ],
             [
              0.8888888888888888,
              "#fdca26"
             ],
             [
              1,
              "#f0f921"
             ]
            ],
            "type": "surface"
           }
          ],
          "table": [
           {
            "cells": {
             "fill": {
              "color": "#EBF0F8"
             },
             "line": {
              "color": "white"
             }
            },
            "header": {
             "fill": {
              "color": "#C8D4E3"
             },
             "line": {
              "color": "white"
             }
            },
            "type": "table"
           }
          ]
         },
         "layout": {
          "annotationdefaults": {
           "arrowcolor": "#2a3f5f",
           "arrowhead": 0,
           "arrowwidth": 1
          },
          "autotypenumbers": "strict",
          "coloraxis": {
           "colorbar": {
            "outlinewidth": 0,
            "ticks": ""
           }
          },
          "colorscale": {
           "diverging": [
            [
             0,
             "#8e0152"
            ],
            [
             0.1,
             "#c51b7d"
            ],
            [
             0.2,
             "#de77ae"
            ],
            [
             0.3,
             "#f1b6da"
            ],
            [
             0.4,
             "#fde0ef"
            ],
            [
             0.5,
             "#f7f7f7"
            ],
            [
             0.6,
             "#e6f5d0"
            ],
            [
             0.7,
             "#b8e186"
            ],
            [
             0.8,
             "#7fbc41"
            ],
            [
             0.9,
             "#4d9221"
            ],
            [
             1,
             "#276419"
            ]
           ],
           "sequential": [
            [
             0,
             "#0d0887"
            ],
            [
             0.1111111111111111,
             "#46039f"
            ],
            [
             0.2222222222222222,
             "#7201a8"
            ],
            [
             0.3333333333333333,
             "#9c179e"
            ],
            [
             0.4444444444444444,
             "#bd3786"
            ],
            [
             0.5555555555555556,
             "#d8576b"
            ],
            [
             0.6666666666666666,
             "#ed7953"
            ],
            [
             0.7777777777777778,
             "#fb9f3a"
            ],
            [
             0.8888888888888888,
             "#fdca26"
            ],
            [
             1,
             "#f0f921"
            ]
           ],
           "sequentialminus": [
            [
             0,
             "#0d0887"
            ],
            [
             0.1111111111111111,
             "#46039f"
            ],
            [
             0.2222222222222222,
             "#7201a8"
            ],
            [
             0.3333333333333333,
             "#9c179e"
            ],
            [
             0.4444444444444444,
             "#bd3786"
            ],
            [
             0.5555555555555556,
             "#d8576b"
            ],
            [
             0.6666666666666666,
             "#ed7953"
            ],
            [
             0.7777777777777778,
             "#fb9f3a"
            ],
            [
             0.8888888888888888,
             "#fdca26"
            ],
            [
             1,
             "#f0f921"
            ]
           ]
          },
          "colorway": [
           "#636efa",
           "#EF553B",
           "#00cc96",
           "#ab63fa",
           "#FFA15A",
           "#19d3f3",
           "#FF6692",
           "#B6E880",
           "#FF97FF",
           "#FECB52"
          ],
          "font": {
           "color": "#2a3f5f"
          },
          "geo": {
           "bgcolor": "white",
           "lakecolor": "white",
           "landcolor": "#E5ECF6",
           "showlakes": true,
           "showland": true,
           "subunitcolor": "white"
          },
          "hoverlabel": {
           "align": "left"
          },
          "hovermode": "closest",
          "mapbox": {
           "style": "light"
          },
          "paper_bgcolor": "white",
          "plot_bgcolor": "#E5ECF6",
          "polar": {
           "angularaxis": {
            "gridcolor": "white",
            "linecolor": "white",
            "ticks": ""
           },
           "bgcolor": "#E5ECF6",
           "radialaxis": {
            "gridcolor": "white",
            "linecolor": "white",
            "ticks": ""
           }
          },
          "scene": {
           "xaxis": {
            "backgroundcolor": "#E5ECF6",
            "gridcolor": "white",
            "gridwidth": 2,
            "linecolor": "white",
            "showbackground": true,
            "ticks": "",
            "zerolinecolor": "white"
           },
           "yaxis": {
            "backgroundcolor": "#E5ECF6",
            "gridcolor": "white",
            "gridwidth": 2,
            "linecolor": "white",
            "showbackground": true,
            "ticks": "",
            "zerolinecolor": "white"
           },
           "zaxis": {
            "backgroundcolor": "#E5ECF6",
            "gridcolor": "white",
            "gridwidth": 2,
            "linecolor": "white",
            "showbackground": true,
            "ticks": "",
            "zerolinecolor": "white"
           }
          },
          "shapedefaults": {
           "line": {
            "color": "#2a3f5f"
           }
          },
          "ternary": {
           "aaxis": {
            "gridcolor": "white",
            "linecolor": "white",
            "ticks": ""
           },
           "baxis": {
            "gridcolor": "white",
            "linecolor": "white",
            "ticks": ""
           },
           "bgcolor": "#E5ECF6",
           "caxis": {
            "gridcolor": "white",
            "linecolor": "white",
            "ticks": ""
           }
          },
          "title": {
           "x": 0.05
          },
          "xaxis": {
           "automargin": true,
           "gridcolor": "white",
           "linecolor": "white",
           "ticks": "",
           "title": {
            "standoff": 15
           },
           "zerolinecolor": "white",
           "zerolinewidth": 2
          },
          "yaxis": {
           "automargin": true,
           "gridcolor": "white",
           "linecolor": "white",
           "ticks": "",
           "title": {
            "standoff": 15
           },
           "zerolinecolor": "white",
           "zerolinewidth": 2
          }
         }
        },
        "title": {
         "text": "Scree plot of salience of topics"
        },
        "width": 800,
        "xaxis": {
         "anchor": "y",
         "domain": [
          0,
          1
         ],
         "title": {
          "text": "topic_ID"
         }
        },
        "yaxis": {
         "anchor": "x",
         "domain": [
          0,
          1
         ],
         "title": {
          "text": "salience"
         }
        }
       }
      },
      "text/html": [
       "<div>                            <div id=\"0bbd7ce5-1b19-4c54-8045-3360dcea6737\" class=\"plotly-graph-div\" style=\"height:400px; width:800px;\"></div>            <script type=\"text/javascript\">                require([\"plotly\"], function(Plotly) {                    window.PLOTLYENV=window.PLOTLYENV || {};                                    if (document.getElementById(\"0bbd7ce5-1b19-4c54-8045-3360dcea6737\")) {                    Plotly.newPlot(                        \"0bbd7ce5-1b19-4c54-8045-3360dcea6737\",                        [{\"hovertemplate\": \"topic_ID=%{x}<br>salience=%{y}<extra></extra>\", \"legendgroup\": \"\", \"line\": {\"color\": \"#636efa\", \"dash\": \"solid\"}, \"mode\": \"lines+markers\", \"name\": \"\", \"orientation\": \"v\", \"showlegend\": false, \"type\": \"scatter\", \"x\": [\"9\", \"2\", \"8\", \"10\", \"5\", \"1\", \"4\", \"7\", \"3\", \"6\"], \"xaxis\": \"x\", \"y\": [0.3609467455621302, 0.3076923076923077, 0.2781065088757396, 0.2485207100591716, 0.22485207100591717, 0.21893491124260356, 0.20118343195266272, 0.17159763313609466, 0.15384615384615385, 0.047337278106508875], \"yaxis\": \"y\"}],                        {\"autosize\": false, \"height\": 400, \"legend\": {\"tracegroupgap\": 0}, \"template\": {\"data\": {\"bar\": [{\"error_x\": {\"color\": \"#2a3f5f\"}, \"error_y\": {\"color\": \"#2a3f5f\"}, \"marker\": {\"line\": {\"color\": \"#E5ECF6\", \"width\": 0.5}}, \"type\": \"bar\"}], \"barpolar\": [{\"marker\": {\"line\": {\"color\": \"#E5ECF6\", \"width\": 0.5}}, \"type\": \"barpolar\"}], \"carpet\": [{\"aaxis\": {\"endlinecolor\": \"#2a3f5f\", \"gridcolor\": \"white\", \"linecolor\": \"white\", \"minorgridcolor\": \"white\", \"startlinecolor\": \"#2a3f5f\"}, \"baxis\": {\"endlinecolor\": \"#2a3f5f\", \"gridcolor\": \"white\", \"linecolor\": \"white\", \"minorgridcolor\": \"white\", \"startlinecolor\": \"#2a3f5f\"}, \"type\": \"carpet\"}], \"choropleth\": [{\"colorbar\": {\"outlinewidth\": 0, \"ticks\": \"\"}, \"type\": \"choropleth\"}], \"contour\": [{\"colorbar\": {\"outlinewidth\": 0, \"ticks\": \"\"}, \"colorscale\": [[0.0, \"#0d0887\"], [0.1111111111111111, \"#46039f\"], [0.2222222222222222, \"#7201a8\"], [0.3333333333333333, \"#9c179e\"], [0.4444444444444444, \"#bd3786\"], [0.5555555555555556, \"#d8576b\"], [0.6666666666666666, \"#ed7953\"], [0.7777777777777778, \"#fb9f3a\"], [0.8888888888888888, \"#fdca26\"], [1.0, \"#f0f921\"]], \"type\": \"contour\"}], \"contourcarpet\": [{\"colorbar\": {\"outlinewidth\": 0, \"ticks\": \"\"}, \"type\": \"contourcarpet\"}], \"heatmap\": [{\"colorbar\": {\"outlinewidth\": 0, \"ticks\": \"\"}, \"colorscale\": [[0.0, \"#0d0887\"], [0.1111111111111111, \"#46039f\"], [0.2222222222222222, \"#7201a8\"], [0.3333333333333333, \"#9c179e\"], [0.4444444444444444, \"#bd3786\"], [0.5555555555555556, \"#d8576b\"], [0.6666666666666666, \"#ed7953\"], [0.7777777777777778, \"#fb9f3a\"], [0.8888888888888888, \"#fdca26\"], [1.0, \"#f0f921\"]], \"type\": \"heatmap\"}], \"heatmapgl\": [{\"colorbar\": {\"outlinewidth\": 0, \"ticks\": \"\"}, \"colorscale\": [[0.0, \"#0d0887\"], [0.1111111111111111, \"#46039f\"], [0.2222222222222222, \"#7201a8\"], [0.3333333333333333, \"#9c179e\"], [0.4444444444444444, \"#bd3786\"], [0.5555555555555556, \"#d8576b\"], [0.6666666666666666, \"#ed7953\"], [0.7777777777777778, \"#fb9f3a\"], [0.8888888888888888, \"#fdca26\"], [1.0, \"#f0f921\"]], \"type\": \"heatmapgl\"}], \"histogram\": [{\"marker\": {\"colorbar\": {\"outlinewidth\": 0, \"ticks\": \"\"}}, \"type\": \"histogram\"}], \"histogram2d\": [{\"colorbar\": {\"outlinewidth\": 0, \"ticks\": \"\"}, \"colorscale\": [[0.0, \"#0d0887\"], [0.1111111111111111, \"#46039f\"], [0.2222222222222222, \"#7201a8\"], [0.3333333333333333, \"#9c179e\"], [0.4444444444444444, \"#bd3786\"], [0.5555555555555556, \"#d8576b\"], [0.6666666666666666, \"#ed7953\"], [0.7777777777777778, \"#fb9f3a\"], [0.8888888888888888, \"#fdca26\"], [1.0, \"#f0f921\"]], \"type\": \"histogram2d\"}], \"histogram2dcontour\": [{\"colorbar\": {\"outlinewidth\": 0, \"ticks\": \"\"}, \"colorscale\": [[0.0, \"#0d0887\"], [0.1111111111111111, \"#46039f\"], [0.2222222222222222, \"#7201a8\"], [0.3333333333333333, \"#9c179e\"], [0.4444444444444444, \"#bd3786\"], [0.5555555555555556, \"#d8576b\"], [0.6666666666666666, \"#ed7953\"], [0.7777777777777778, \"#fb9f3a\"], [0.8888888888888888, \"#fdca26\"], [1.0, \"#f0f921\"]], \"type\": \"histogram2dcontour\"}], \"mesh3d\": [{\"colorbar\": {\"outlinewidth\": 0, \"ticks\": \"\"}, \"type\": \"mesh3d\"}], \"parcoords\": [{\"line\": {\"colorbar\": {\"outlinewidth\": 0, \"ticks\": \"\"}}, \"type\": \"parcoords\"}], \"pie\": [{\"automargin\": true, \"type\": \"pie\"}], \"scatter\": [{\"marker\": {\"colorbar\": {\"outlinewidth\": 0, \"ticks\": \"\"}}, \"type\": \"scatter\"}], \"scatter3d\": [{\"line\": {\"colorbar\": {\"outlinewidth\": 0, \"ticks\": \"\"}}, \"marker\": {\"colorbar\": {\"outlinewidth\": 0, \"ticks\": \"\"}}, \"type\": \"scatter3d\"}], \"scattercarpet\": [{\"marker\": {\"colorbar\": {\"outlinewidth\": 0, \"ticks\": \"\"}}, \"type\": \"scattercarpet\"}], \"scattergeo\": [{\"marker\": {\"colorbar\": {\"outlinewidth\": 0, \"ticks\": \"\"}}, \"type\": \"scattergeo\"}], \"scattergl\": [{\"marker\": {\"colorbar\": {\"outlinewidth\": 0, \"ticks\": \"\"}}, \"type\": \"scattergl\"}], \"scattermapbox\": [{\"marker\": {\"colorbar\": {\"outlinewidth\": 0, \"ticks\": \"\"}}, \"type\": \"scattermapbox\"}], \"scatterpolar\": [{\"marker\": {\"colorbar\": {\"outlinewidth\": 0, \"ticks\": \"\"}}, \"type\": \"scatterpolar\"}], \"scatterpolargl\": [{\"marker\": {\"colorbar\": {\"outlinewidth\": 0, \"ticks\": \"\"}}, \"type\": \"scatterpolargl\"}], \"scatterternary\": [{\"marker\": {\"colorbar\": {\"outlinewidth\": 0, \"ticks\": \"\"}}, \"type\": \"scatterternary\"}], \"surface\": [{\"colorbar\": {\"outlinewidth\": 0, \"ticks\": \"\"}, \"colorscale\": [[0.0, \"#0d0887\"], [0.1111111111111111, \"#46039f\"], [0.2222222222222222, \"#7201a8\"], [0.3333333333333333, \"#9c179e\"], [0.4444444444444444, \"#bd3786\"], [0.5555555555555556, \"#d8576b\"], [0.6666666666666666, \"#ed7953\"], [0.7777777777777778, \"#fb9f3a\"], [0.8888888888888888, \"#fdca26\"], [1.0, \"#f0f921\"]], \"type\": \"surface\"}], \"table\": [{\"cells\": {\"fill\": {\"color\": \"#EBF0F8\"}, \"line\": {\"color\": \"white\"}}, \"header\": {\"fill\": {\"color\": \"#C8D4E3\"}, \"line\": {\"color\": \"white\"}}, \"type\": \"table\"}]}, \"layout\": {\"annotationdefaults\": {\"arrowcolor\": \"#2a3f5f\", \"arrowhead\": 0, \"arrowwidth\": 1}, \"autotypenumbers\": \"strict\", \"coloraxis\": {\"colorbar\": {\"outlinewidth\": 0, \"ticks\": \"\"}}, \"colorscale\": {\"diverging\": [[0, \"#8e0152\"], [0.1, \"#c51b7d\"], [0.2, \"#de77ae\"], [0.3, \"#f1b6da\"], [0.4, \"#fde0ef\"], [0.5, \"#f7f7f7\"], [0.6, \"#e6f5d0\"], [0.7, \"#b8e186\"], [0.8, \"#7fbc41\"], [0.9, \"#4d9221\"], [1, \"#276419\"]], \"sequential\": [[0.0, \"#0d0887\"], [0.1111111111111111, \"#46039f\"], [0.2222222222222222, \"#7201a8\"], [0.3333333333333333, \"#9c179e\"], [0.4444444444444444, \"#bd3786\"], [0.5555555555555556, \"#d8576b\"], [0.6666666666666666, \"#ed7953\"], [0.7777777777777778, \"#fb9f3a\"], [0.8888888888888888, \"#fdca26\"], [1.0, \"#f0f921\"]], \"sequentialminus\": [[0.0, \"#0d0887\"], [0.1111111111111111, \"#46039f\"], [0.2222222222222222, \"#7201a8\"], [0.3333333333333333, \"#9c179e\"], [0.4444444444444444, \"#bd3786\"], [0.5555555555555556, \"#d8576b\"], [0.6666666666666666, \"#ed7953\"], [0.7777777777777778, \"#fb9f3a\"], [0.8888888888888888, \"#fdca26\"], [1.0, \"#f0f921\"]]}, \"colorway\": [\"#636efa\", \"#EF553B\", \"#00cc96\", \"#ab63fa\", \"#FFA15A\", \"#19d3f3\", \"#FF6692\", \"#B6E880\", \"#FF97FF\", \"#FECB52\"], \"font\": {\"color\": \"#2a3f5f\"}, \"geo\": {\"bgcolor\": \"white\", \"lakecolor\": \"white\", \"landcolor\": \"#E5ECF6\", \"showlakes\": true, \"showland\": true, \"subunitcolor\": \"white\"}, \"hoverlabel\": {\"align\": \"left\"}, \"hovermode\": \"closest\", \"mapbox\": {\"style\": \"light\"}, \"paper_bgcolor\": \"white\", \"plot_bgcolor\": \"#E5ECF6\", \"polar\": {\"angularaxis\": {\"gridcolor\": \"white\", \"linecolor\": \"white\", \"ticks\": \"\"}, \"bgcolor\": \"#E5ECF6\", \"radialaxis\": {\"gridcolor\": \"white\", \"linecolor\": \"white\", \"ticks\": \"\"}}, \"scene\": {\"xaxis\": {\"backgroundcolor\": \"#E5ECF6\", \"gridcolor\": \"white\", \"gridwidth\": 2, \"linecolor\": \"white\", \"showbackground\": true, \"ticks\": \"\", \"zerolinecolor\": \"white\"}, \"yaxis\": {\"backgroundcolor\": \"#E5ECF6\", \"gridcolor\": \"white\", \"gridwidth\": 2, \"linecolor\": \"white\", \"showbackground\": true, \"ticks\": \"\", \"zerolinecolor\": \"white\"}, \"zaxis\": {\"backgroundcolor\": \"#E5ECF6\", \"gridcolor\": \"white\", \"gridwidth\": 2, \"linecolor\": \"white\", \"showbackground\": true, \"ticks\": \"\", \"zerolinecolor\": \"white\"}}, \"shapedefaults\": {\"line\": {\"color\": \"#2a3f5f\"}}, \"ternary\": {\"aaxis\": {\"gridcolor\": \"white\", \"linecolor\": \"white\", \"ticks\": \"\"}, \"baxis\": {\"gridcolor\": \"white\", \"linecolor\": \"white\", \"ticks\": \"\"}, \"bgcolor\": \"#E5ECF6\", \"caxis\": {\"gridcolor\": \"white\", \"linecolor\": \"white\", \"ticks\": \"\"}}, \"title\": {\"x\": 0.05}, \"xaxis\": {\"automargin\": true, \"gridcolor\": \"white\", \"linecolor\": \"white\", \"ticks\": \"\", \"title\": {\"standoff\": 15}, \"zerolinecolor\": \"white\", \"zerolinewidth\": 2}, \"yaxis\": {\"automargin\": true, \"gridcolor\": \"white\", \"linecolor\": \"white\", \"ticks\": \"\", \"title\": {\"standoff\": 15}, \"zerolinecolor\": \"white\", \"zerolinewidth\": 2}}}, \"title\": {\"text\": \"Scree plot of salience of topics\"}, \"width\": 800, \"xaxis\": {\"anchor\": \"y\", \"domain\": [0.0, 1.0], \"title\": {\"text\": \"topic_ID\"}}, \"yaxis\": {\"anchor\": \"x\", \"domain\": [0.0, 1.0], \"title\": {\"text\": \"salience\"}}},                        {\"responsive\": true}                    ).then(function(){\n",
       "                            \n",
       "var gd = document.getElementById('0bbd7ce5-1b19-4c54-8045-3360dcea6737');\n",
       "var x = new MutationObserver(function (mutations, observer) {{\n",
       "        var display = window.getComputedStyle(gd).display;\n",
       "        if (!display || display === 'none') {{\n",
       "            console.log([gd, 'removed!']);\n",
       "            Plotly.purge(gd);\n",
       "            observer.disconnect();\n",
       "        }}\n",
       "}});\n",
       "\n",
       "// Listen for the removal of the full notebook cells\n",
       "var notebookContainer = gd.closest('#notebook-container');\n",
       "if (notebookContainer) {{\n",
       "    x.observe(notebookContainer, {childList: true});\n",
       "}}\n",
       "\n",
       "// Listen for the clearing of the current output cell\n",
       "var outputEl = gd.closest('.output');\n",
       "if (outputEl) {{\n",
       "    x.observe(outputEl, {childList: true});\n",
       "}}\n",
       "\n",
       "                        })                };                });            </script>        </div>"
      ]
     },
     "metadata": {},
     "output_type": "display_data"
    }
   ],
   "source": [
    "fig_L1 = px.line(df_salient_topic, x = 'topic_ID', y = 'salience', title=\"Scree plot of salience of topics\")\n",
    "fig_L1.update_layout(autosize=False, width=800, height=400)\n",
    "fig_L1.update_traces(mode = \"lines + markers\")\n",
    "fig_L1.show()"
   ]
  },
  {
   "cell_type": "markdown",
   "metadata": {},
   "source": [
    "## 5.2. Topic visualisation"
   ]
  },
  {
   "cell_type": "markdown",
   "metadata": {},
   "source": [
    "Check the words of each topic, if there're common words with high overall frequency such as \"think\" \"want\" or \"make\", return to the \"import the stop_words from gensim\" section, add these words to the list of stop words to remove them."
   ]
  },
  {
   "cell_type": "code",
   "execution_count": 41,
   "metadata": {},
   "outputs": [
    {
     "data": {
      "text/html": [
       "\n",
       "<link rel=\"stylesheet\" type=\"text/css\" href=\"https://cdn.jsdelivr.net/gh/bmabey/pyLDAvis@3.3.1/pyLDAvis/js/ldavis.v1.0.0.css\">\n",
       "\n",
       "\n",
       "<div id=\"ldavis_el1453626894657482724261621190\"></div>\n",
       "<script type=\"text/javascript\">\n",
       "\n",
       "var ldavis_el1453626894657482724261621190_data = {\"mdsDat\": {\"x\": [-0.036244592808925336, -0.11538809295656835, 0.165444049907352, 0.012263126977933596, -0.16659301587090863, 0.20929758428094067, 0.05712592037229214, -0.022764145736569586, -0.06765091050700427, -0.035489923658542234], \"y\": [-0.016183488140395625, -0.1219077437584002, 0.007343637841904594, -0.11344694392717605, -0.03295965267067178, -0.055475188023404294, 0.09192601030368587, 0.07848153164207887, 0.18856978367698216, -0.026347946944603573], \"topics\": [1, 2, 3, 4, 5, 6, 7, 8, 9, 10], \"cluster\": [1, 1, 1, 1, 1, 1, 1, 1, 1, 1], \"Freq\": [15.054269794299815, 6.242333425274796, 13.086590780482327, 5.958818315439551, 3.875822940573881, 3.3999208875192264, 11.669868231466198, 17.202776729050726, 5.608814868183323, 17.900784027710156]}, \"tinfo\": {\"Term\": [\"bid\", \"authority\", \"cost\", \"programme\", \"report\", \"delivery\", \"project\", \"legacy\", \"local\", \"construction\", \"risk\", \"athlete\", \"stadium\", \"performance\", \"venue\", \"community\", \"budget\", \"benefit\", \"area\", \"contingency\", \"park\", \"borough\", \"contract\", \"security\", \"plan\", \"facility\", \"job\", \"participation\", \"preparation\", \"city\", \"boxing\", \"intervene\", \"sporting_giant\", \"archery\", \"clegg\", \"tally\", \"medal_table\", \"volleyball\", \"podium\", \"qualify\", \"fundraising\", \"shoot\", \"dame_tanni_grey_thompson\", \"rower\", \"medal_target\", \"politic\", \"mission\", \"silver_medal\", \"sporting_giants_campaign\", \"dismantle\", \"bronze\", \"shooting\", \"precede\", \"medal\", \"independence\", \"medicine\", \"beat\", \"squad\", \"sir_clive_woodward\", \"lodge\", \"gold_medal\", \"cycling\", \"performance\", \"governing_bodie\", \"athlete\", \"eastway\", \"silver\", \"elite\", \"cycle\", \"coach\", \"basketball\", \"british\", \"science\", \"tier\", \"alliance\", \"boa\", \"talent\", \"handball\", \"success\", \"paralympic\", \"funding\", \"target\", \"win\", \"world_class\", \"compete\", \"team\", \"support\", \"level\", \"national\", \"swimming\", \"facility\", \"fund\", \"programme\", \"provide\", \"lottery\", \"achieve\", \"participation\", \"money\", \"venue\", \"legacy\", \"place\", \"deliver\", \"evidence\", \"chairman\", \"government\", \"community\", \"teaching\", \"pioneer\", \"ngbs\", \"pupil\", \"curriculum\", \"prestige\", \"dcsf\", \"preparatory\", \"mini\", \"engender\", \"gym\", \"beacon\", \"redress\", \"fitness\", \"mentor\", \"league\", \"leaving_laste\", \"improves_cultural_life\", \"pinnacle\", \"nurture\", \"girl\", \"satisfaction\", \"testimony\", \"pair\", \"educate\", \"role_model\", \"depth\", \"abuse\", \"unlimited\", \"progressive\", \"disability\", \"written_evidence_submitte\", \"talent_identification\", \"swimming\", \"compelling\", \"swim\", \"participant\", \"disabled\", \"child\", \"young\", \"woman\", \"club\", \"school\", \"active\", \"participation\", \"customer\", \"swimmer\", \"coach\", \"age\", \"pathway\", \"physical_activity\", \"offer\", \"facility\", \"event\", \"training\", \"sporting\", \"athlete\", \"international\", \"competition\", \"provide\", \"centre\", \"ensure\", \"activity\", \"opportunity\", \"performance\", \"support\", \"development\", \"programme\", \"legacy\", \"increase\", \"success\", \"major\", \"level\", \"community\", \"include\", \"develop\", \"self_finance\", \"joint_venture_agreement\", \"ultimate_guarantor\", \"auditor_general\", \"governance_arrangement\", \"characterise\", \"financially_expose\", \"certify\", \"applicable\", \"stationery_office_limite\", \"courtesy\", \"controller\", \"command\", \"notify\", \"candidate_file\", \"cashflow\", \"installation\", \"risk_assessment\", \"comptroller\", \"expected\", \"corporation_tax\", \"sterling\", \"reimburse\", \"anticipated_final_cost\", \"terminate\", \"gross\", \"designate\", \"national_audit_office\", \"recyclable\", \"insufficient\", \"uncertainty\", \"imply\", \"inflation\", \"tax\", \"delivery\", \"department\", \"estimate\", \"cost\", \"report\", \"paragraph\", \"budget\", \"contingency\", \"risk\", \"preparation\", \"locog\", \"package\", \"authority\", \"oversee\", \"financial\", \"review\", \"figure\", \"funding\", \"include\", \"cover\", \"infrastructure\", \"project\", \"government\", \"programme\", \"construction\", \"management\", \"remain\", \"fund\", \"progress\", \"security\", \"plan\", \"venue\", \"deliver\", \"main\", \"provide\", \"legacy\", \"bid\", \"landowner\", \"fringe\", \"suite\", \"social_enterprise\", \"advisor\", \"founder\", \"forge\", \"memorable\", \"telecom\", \"emission\", \"parkland\", \"prosperous\", \"alleviate\", \"hackney_marshe\", \"conservation\", \"possession\", \"londoner\", \"welcoming\", \"verify\", \"peace\", \"visionary\", \"shareholder\", \"creative_programmer\", \"anchor_tenant\", \"broxbourne\", \"workless\", \"holding\", \"negate\", \"entrepreneur\", \"campus\", \"masterplan\", \"transformation\", \"maintenance\", \"commence\", \"waterway\", \"momentum\", \"carbon\", \"mayor\", \"viability\", \"company\", \"park\", \"surround\", \"venue\", \"partner\", \"legacy\", \"sustainable\", \"launch\", \"planning\", \"stakeholder\", \"education\", \"oda\", \"sustainability\", \"velopark\", \"plan\", \"community\", \"development\", \"local\", \"secure\", \"business\", \"ensure\", \"site\", \"volunteer\", \"design\", \"deliver\", \"detailed\", \"borough\", \"land\", \"include\", \"develop\", \"opportunity\", \"programme\", \"key\", \"provide\", \"support\", \"project\", \"delivery\", \"area\", \"facility\", \"blight\", \"film\", \"brownfield\", \"westfield\", \"neighbour\", \"flagship\", \"newham\", \"characteristic\", \"convergence\", \"attainment\", \"visa\", \"metropolitan\", \"technological\", \"childhood\", \"adaptation\", \"marry\", \"thame\", \"concrete\", \"festival\", \"flat\", \"thames_gateway_development_corporation\", \"journalist\", \"float\", \"preclude\", \"anchor\", \"hackney\", \"unlock\", \"sky\", \"green\", \"skilled\", \"deprivation\", \"resident\", \"cheap\", \"transform\", \"oplc\", \"open_space\", \"job\", \"borough\", \"council\", \"host_borough\", \"economic\", \"economy\", \"benefit\", \"local\", \"area\", \"regeneration\", \"social\", \"create\", \"medium\", \"community\", \"creative\", \"physical\", \"live\", \"employment\", \"effect\", \"legacy\", \"park\", \"host\", \"opportunity\", \"housing\", \"visitor\", \"link\", \"leisure\", \"centre\", \"support\", \"public\", \"help\", \"build\", \"government\", \"facility\", \"development\", \"increase\", \"place\", \"highway\", \"compliance\", \"soil\", \"dependency\", \"completion_date\", \"readiness\", \"overarch\", \"compliant\", \"planned\", \"grouping\", \"supplier\", \"frequency\", \"immigration\", \"reconcile\", \"contractor\", \"directorate\", \"trading\", \"landscaping\", \"procurement\", \"source_national_audit\", \"mature\", \"procure\", \"european_union\", \"conditional\", \"collaborative\", \"safety\", \"authority\", \"specialise\", \"alert\", \"threshold\", \"forecast\", \"test_event\", \"construction\", \"delay\", \"executive\", \"date\", \"utility\", \"arrangement\", \"preparation\", \"main\", \"project\", \"contract\", \"programme\", \"tender\", \"progress\", \"risk\", \"site\", \"management\", \"report\", \"delivery\", \"activity\", \"plan\", \"wide\", \"security\", \"contingency\", \"potential\", \"budget\", \"government\", \"individual\", \"venue\", \"include\", \"stadium\", \"park\", \"cost\", \"concordat\", \"envelope\", \"orn\", \"frank\", \"security_guard\", \"greek\", \"military\", \"description\", \"coincide\", \"irrelevant\", \"apology\", \"integrity\", \"finely_balance\", \"warn\", \"screening\", \"soldier\", \"penalty\", \"wage\", \"transcript\", \"discrepancy\", \"finely_balanced\", \"guard\", \"relieve\", \"traffic\", \"precious\", \"renegotiate\", \"diffuse\", \"drain\", \"sceptical\", \"public_domain\", \"maker\", \"crisis\", \"hearing\", \"defence\", \"haven\", \"nao\", \"deploy\", \"conservative\", \"chair\", \"methodology\", \"materialise\", \"purchase\", \"cost\", \"security\", \"accept\", \"pay\", \"figure\", \"personnel\", \"report\", \"paragraph\", \"risk\", \"estimate\", \"spend\", \"contract\", \"money\", \"government\", \"arise\", \"taxpayer\", \"number\", \"revenue\", \"likely\", \"account\", \"budget\", \"public\", \"department\", \"volunteer\", \"question\", \"contingency\", \"venue\", \"committee\", \"programme\", \"point\", \"management\", \"agree\", \"increase\", \"funding\", \"legacy\", \"clear\", \"project\", \"place\", \"include\", \"torch\", \"architect\", \"chunk\", \"seb\", \"tout\", \"activate\", \"lord_coe\", \"shed\", \"french\", \"kent\", \"confused\", \"admit\", \"beg\", \"pretend\", \"lucky\", \"territory\", \"import\", \"wrap\", \"regret\", \"thrust\", \"remark\", \"shame\", \"tooth\", \"override\", \"ludicrous\", \"west\\ufb01eld\", \"liverpool\", \"fortune\", \"professionalism\", \"pricing\", \"border\", \"brie\\ufb01ng\", \"disaster\", \"comfort\", \"sander\", \"extraordinary\", \"ticket\", \"sort\", \"constituency\", \"fan\", \"kind\", \"sell\", \"stop\", \"philip_davie\", \"hotspot\", \"make_sure\", \"fantastic\", \"remember\", \"queue\", \"course\", \"talk\", \"shall\", \"happy\", \"sit\", \"\\ufb01nal\", \"chairman\", \"suppose\", \"couple\", \"big\", \"understand\", \"question\", \"important\", \"start\", \"let\", \"process\", \"hope\", \"tell\", \"con\\ufb01dent\", \"point\", \"country\", \"deal\", \"term\", \"like\", \"committee\", \"place\", \"business\", \"chair\", \"contract\", \"stadium\", \"example\", \"number\", \"money\", \"budget\", \"park\", \"event\", \"project\", \"legacy\", \"build\", \"opportunity\", \"plan\", \"cost\", \"programme\", \"government\", \"local\", \"witnesses_questions_wednesday_january\", \"deliverability\", \"miss_kirkbride\", \"witnesses_questions_tuesday_january\", \"charismatic\", \"bryant\", \"unequivocal\", \"appendix_memorandum_submitte\", \"wholehearte\", \"arup\", \"gentleman\", \"wembley\", \"configuration\", \"centrepiece\", \"crossrail\", \"stead\", \"modernise\", \"catalytic\", \"influx\", \"appendix\", \"magnitude\", \"west\", \"mount\", \"bidding\", \"picketts_lock\", \"credibility\", \"underwriting\", \"premier\", \"poll\", \"dome\", \"ioc\", \"manchester\", \"bid\", \"city\", \"backing\", \"stadium\", \"hotel\", \"debate\", \"athletic\", \"yesterday\", \"option\", \"village\", \"issue\", \"decision\", \"benefit\", \"stage\", \"country\", \"transport\", \"like\", \"point\", \"decide\", \"boa\", \"football\", \"facility\", \"government\", \"question\", \"regeneration\", \"event\", \"term\", \"world\", \"chairman\", \"view\", \"committee\", \"major\", \"process\", \"cost\", \"project\", \"host\", \"inbound\", \"ccpr\", \"stimulus\", \"inactive\", \"devolved_administration\", \"bombing\", \"community_cohesion\", \"enduring\", \"psa\", \"liaise\", \"union\", \"eligible\", \"museum\", \"diverse_communitie\", \"music\", \"nldf\", \"visitbritain\", \"gateway\", \"tourism\", \"library\", \"devote\", \"gallery\", \"lottery_distributor\", \"heritage\", \"extended\", \"license\", \"voluntary\", \"old\", \"inspect\", \"encounter\", \"bene\\ufb01ts\", \"distributor\", \"recreation\", \"south_w\", \"cultural\", \"sector\", \"camelot\", \"art\", \"destination\", \"forum\", \"region\", \"grant\", \"visitor\", \"lottery\", \"regional\", \"strategy\", \"visit\", \"welcome\", \"ensure\", \"promote\", \"community\", \"opportunity\", \"legacy\", \"evidence\", \"skill\", \"participation\", \"national\", \"objective\", \"business\", \"local\", \"nation\", \"increase\", \"support\", \"develop\", \"event\", \"funding\", \"deliver\", \"government\", \"committee\", \"plan\", \"provide\", \"programme\", \"development\", \"cost\", \"fund\", \"include\", \"facility\"], \"Freq\": [1481.0, 775.0, 3018.0, 2528.0, 1600.0, 1458.0, 1682.0, 2724.0, 1210.0, 631.0, 949.0, 1379.0, 957.0, 894.0, 1667.0, 1321.0, 1465.0, 881.0, 1148.0, 956.0, 927.0, 595.0, 687.0, 809.0, 1552.0, 1345.0, 474.0, 925.0, 518.0, 549.0, 12.70738877159018, 7.805770629771907, 17.443648451915813, 7.768968762992648, 5.854889508592581, 5.751193911202734, 66.75221487636158, 38.10539262982936, 60.683526344986895, 32.720719735978044, 22.684763781712036, 88.29677803495345, 14.457373145068505, 8.118128937084222, 9.026649979704708, 8.884947121825109, 62.6490626204171, 6.9743524669062795, 6.152834666096167, 6.921729725025016, 16.44777107903657, 67.69801055400212, 10.315574234384117, 386.14560983599085, 6.7195224505361955, 44.096666188288815, 12.478172214442996, 19.812936739572198, 13.201643833037396, 7.401104158137272, 57.8063447892609, 104.13057061996791, 639.2529089888413, 262.4893908427135, 843.6364355334877, 18.504717589738714, 17.749026319622164, 288.3610886418176, 95.61242685401007, 261.20811617653476, 36.28486594510715, 264.29563794292017, 50.55455340464451, 69.7418875023995, 21.81686311858507, 126.81280327325221, 106.78213526932014, 43.55860964524101, 284.10299535603644, 226.75523179307825, 707.4733846521592, 278.61768828710996, 223.5173763382575, 97.47434291048322, 108.65168967365045, 293.4941430372648, 403.69049284558696, 314.15805335329986, 263.83644839944054, 152.0031752546982, 319.8813552607233, 254.3613423683584, 434.3606388545062, 322.7158170814808, 255.85429025327142, 192.68589403457133, 206.29190745401243, 215.4570362105587, 261.39082291821506, 304.3042037581091, 221.28553996159934, 231.98555346026885, 183.66161979792852, 176.20915251119493, 216.87484898954153, 195.28591570503147, 9.945924945055339, 5.919276731627576, 11.397224334959695, 19.85548756529652, 15.56599554377265, 7.690438129901006, 6.913186856773134, 4.407214170746336, 4.415726514654717, 5.439190076521517, 8.118614484596025, 8.62047620180804, 3.9838622178747434, 21.80715605798196, 6.92871070487738, 6.860830197748286, 8.0820426892776, 7.873693016713239, 6.600288371790702, 8.211457076267736, 13.40417000998341, 8.028110066301794, 2.83406107268128, 3.3592655906686284, 8.869384189497179, 11.121233236784201, 9.392792305987193, 4.90977366601249, 4.408739686303596, 4.317163513819335, 116.69332880888022, 19.335682670491178, 10.109451219819018, 171.2708928233546, 6.992459378892186, 57.79253047442748, 48.45615153634098, 57.74950896164518, 97.97936117528121, 216.76186763761712, 78.02735486579829, 153.88576220066224, 210.86626655649286, 73.59413866074142, 245.88705013816505, 20.86078806037572, 21.073364430968606, 132.13177436282115, 43.32280374990944, 41.35917679450915, 39.11986472140819, 81.12291217127662, 252.812939023108, 219.39376472365916, 106.63459467529087, 112.22815464311988, 217.71617577370975, 86.98336607585232, 88.62104376616135, 214.66214407647013, 97.26556465943965, 159.72026369679293, 115.18894016153818, 176.41052253150576, 132.2329694537625, 169.7546159023672, 143.83772312653687, 219.57304515441135, 219.15615717615836, 136.86470228142946, 103.08074661419244, 103.04852105766152, 113.91517524928238, 120.52417803273232, 114.29952182019174, 102.51453139059333, 19.846400924266522, 13.894377453444207, 12.885706360776178, 15.835124294861371, 10.888227762580474, 8.888099383242428, 7.946935057612013, 7.906972794288527, 5.87988159855003, 5.907689930798721, 6.819861857119009, 5.8952646989215, 9.744392540900279, 5.7440047301416595, 34.48304702693191, 17.172906252465868, 9.002867094936596, 14.966127132256009, 55.93437153197842, 15.74816434062606, 6.132873620341358, 9.258849173452967, 18.418006797811003, 18.080743113845692, 4.686269577102647, 29.921370044184172, 39.117455616323305, 41.01792233563787, 3.7901038233356714, 6.691742352332556, 85.9009522454754, 10.291590165278627, 48.69069528702177, 76.90109532490808, 806.4740993419452, 520.1877441861537, 361.638157359373, 1280.1984082727108, 704.5687356992132, 176.08945040612153, 607.5806669122261, 409.6764615846147, 403.92573066381624, 238.51944369934978, 74.36178878897867, 208.39043197661712, 305.3757417723931, 49.681890469526735, 144.00053409674953, 191.5261717717793, 209.79343418729303, 561.7690157405517, 415.9270113532186, 147.40079763506327, 242.9861585037703, 433.38943924590075, 514.8287532307841, 552.1677998989725, 211.37600993926299, 227.69969179946983, 168.53167220841686, 267.67964485493695, 209.3892603681395, 234.19924972151418, 339.4605031272479, 344.0285096956658, 277.85186151756835, 170.99653656315175, 248.0921683583555, 264.12288213849143, 213.66762803921463, 9.934262556363025, 9.891104353001602, 3.877720340754239, 6.805157239892437, 5.279125568237743, 8.157758364906496, 3.513688092796583, 5.49369538324447, 5.112712875235273, 3.750218602331208, 27.838461803217314, 3.598318476802303, 3.56054026148392, 5.18743074381279, 4.026580809680114, 5.084197577645012, 62.0768083047365, 5.5673705454412, 2.7724196468534736, 2.7200383077342782, 2.7049405265389654, 8.054054096458243, 3.7511532169109754, 4.1879652710089665, 3.166606628337447, 4.734625552463092, 3.150616370044121, 2.5982594151250793, 3.140434017698601, 5.509065880315481, 26.231799929365124, 45.742863100605234, 12.275425230175793, 19.09095928296619, 8.091930196361568, 15.515108720813764, 11.868833602199896, 192.06427080047337, 13.462799793040226, 151.58913939772907, 237.80720508986764, 30.345284976724724, 356.0872943445453, 131.06682691530946, 469.028492425343, 80.95096631822744, 53.79983436707358, 126.43997438465702, 76.9315719121125, 72.73355227154421, 144.34059639486156, 39.35454448673603, 26.673972342244472, 229.42662633868233, 202.99022564201235, 179.87038499989637, 176.0262741427253, 89.68107364849547, 133.4256465025945, 150.570134696119, 138.78973013264638, 96.90530358611456, 102.69775109775804, 178.43074668167034, 57.825078816618074, 97.08016837747576, 85.47445272717964, 155.82703313531687, 123.28688054006457, 141.7038976508845, 186.01302272760316, 97.88389818099931, 126.04338582843657, 117.04219996461867, 113.69420796591126, 106.82913803177574, 101.22434416806746, 102.37890069917995, 8.623512633775494, 6.867054507129818, 7.359032335725852, 13.682987041642708, 10.31385184703868, 3.8165317840794812, 11.38579468644206, 5.180664383857998, 27.554939350174678, 5.833472894341433, 15.848936417992403, 4.879057615113929, 4.214810736896209, 3.4041509812453006, 8.016655406220316, 3.3632856114380916, 9.188888584652664, 6.697611683563682, 61.40334788873651, 7.7097887451340945, 6.498974397666334, 20.713449914971044, 3.7702301594320136, 5.6852221698720005, 4.984813489243462, 55.599025195867696, 4.732333890266126, 4.12034853154016, 19.951814507707663, 12.211422443066368, 18.406226687339526, 65.64318405555215, 15.269417420452468, 35.42266786219344, 47.67669648868249, 14.561208274198254, 148.2305251754412, 172.82416794834944, 57.010039578009454, 23.880898590988465, 111.41305193846084, 46.14322252484447, 190.30757207639238, 216.8288310780172, 208.44163533953164, 112.29388932822766, 58.27751803852689, 99.76959708977662, 61.30722147509718, 150.8794544883021, 30.707407427897408, 45.75821570118055, 43.097857553693366, 49.2597535091308, 35.820487183017036, 154.8765504878408, 89.60919423481563, 78.0722705062227, 94.64161300122635, 38.702658963836036, 43.00981521564288, 46.77749016166122, 43.521587862076494, 51.61952458996239, 72.16040346006885, 59.096047034368375, 51.62580554626558, 54.02672152124983, 61.50191477802531, 57.09345154931431, 53.802393871149654, 49.972034654376024, 48.72623175771844, 21.002602942052647, 8.541410617558135, 16.749399880044326, 10.282226216746977, 12.236808037441595, 10.947016515031063, 15.430084926730721, 9.450073558348615, 7.087482892325188, 4.391699945719986, 55.94713690773483, 4.750857386701664, 8.989227054148095, 4.560287719958362, 118.48758598786472, 4.789503179049153, 4.282750983274098, 5.1656207935295235, 142.94528213233824, 10.126076858795782, 4.0729271128378075, 15.660988428870354, 6.889876128922857, 3.457376480748608, 9.887493537307611, 29.018215029562764, 343.40219332803974, 2.783994545099688, 4.612768775256058, 6.361482815080018, 78.3243468741765, 21.484303288758895, 194.5993420836265, 42.75671357009593, 65.29837930872702, 69.31441172504707, 17.259792179973534, 80.83366049781363, 105.87138400327365, 102.09451610656157, 250.65448985345049, 125.89377750053573, 267.2266045952038, 27.340113873326526, 97.34717039894134, 119.93913575861167, 111.68454073857316, 96.86280120002624, 147.79525321155631, 135.37668487003396, 78.05898602903774, 123.51522568861418, 72.69639462421028, 86.0761368281168, 88.09525135186334, 68.82864239417638, 92.17804569156733, 102.60583665096986, 54.95567145331497, 82.07147271869894, 76.89263310256825, 69.22225150356094, 66.89746380301243, 66.91712299367892, 9.608057120765025, 6.597809477763547, 21.819863907378405, 4.805257177449212, 27.562449805871147, 16.182513648100585, 61.8313302171336, 12.929331455113394, 6.720863396114754, 4.170660573000019, 5.808461711027718, 5.818059993543785, 11.567247722582666, 16.41420919665888, 11.530858719648476, 19.59556572858784, 10.497179152145199, 12.032188814697045, 10.368251757378761, 4.8228125110055124, 4.8233665932120635, 68.96903667936985, 5.608632296402129, 49.01636112442647, 4.7430436381481, 10.96940686095553, 4.663906244734231, 4.637945878779209, 4.611181299149739, 21.36015712376846, 49.18284616914924, 16.594161360618386, 40.13446743396461, 21.921136398007715, 21.541885836227415, 25.310526451683494, 19.367618051532133, 35.47129928208647, 387.3039257372197, 18.499337917175794, 35.69466668291855, 36.66190456669719, 859.1541246547577, 296.3330299044811, 84.57119611575882, 149.76848808916117, 186.61887286769257, 31.83513198249296, 398.41340416993967, 118.82164880871423, 261.59513248833235, 205.61692372566472, 170.7679351336427, 191.4998645229504, 251.31254768332144, 412.2130506404085, 72.22724918019709, 53.83686607012773, 228.44280614563547, 121.93361231062316, 102.99085280860386, 82.33174858109702, 241.41375476141368, 183.77860954714203, 184.2798566067443, 133.28949074180107, 155.8508980893714, 176.74714335050814, 227.86978365629437, 203.9493915410599, 274.27638785912706, 146.57836875482406, 145.76663063376006, 138.4685160913162, 164.40557471414937, 201.4663979669837, 211.63664503929775, 140.1628492476288, 162.69264161786327, 141.2659372220866, 142.03509558638595, 19.90273113102187, 13.873754257855172, 9.957726803146713, 8.966431545564207, 7.917919905992229, 7.965006967190009, 9.917584288226454, 5.971370233517304, 6.938483494435801, 8.908724791413478, 5.960544266912548, 5.961750552205993, 4.9775698466579925, 5.933506551321775, 14.70849612510832, 8.825134094076043, 7.8427290042121, 20.382957348701797, 6.789000076853561, 7.781861654143749, 11.61941974049628, 9.708738638211031, 6.779631626272017, 8.647082909090173, 5.770216021738418, 9.506394008342683, 6.682086100820174, 5.69826580747698, 5.599847963596522, 20.34660785111514, 29.892808896350967, 22.509451314714255, 18.95630379282264, 13.71788391287832, 119.54704489955672, 31.8163401671208, 298.8584546054489, 170.1510340815981, 50.800839225843994, 29.912272666572807, 142.21226682253706, 114.79297671032849, 53.89334217093569, 88.62299468179995, 14.148726858269466, 191.6479945765302, 79.39843092831774, 69.6399554058434, 20.60313369352493, 260.108264167456, 214.1420199466463, 46.00470330094529, 105.24887466950555, 98.9677105008473, 65.53924729720784, 315.0898849690563, 32.47681479974798, 66.76505982969152, 197.5132868845479, 188.4651241268371, 297.716813812201, 293.5801702644447, 241.38010356701938, 118.90698909171508, 279.2830276247468, 144.33704561935684, 144.5533231654865, 82.77703920637221, 252.81713584235496, 314.5561908074331, 151.8217598777264, 260.759127807955, 143.23137048847533, 342.33004794873256, 310.65954400902086, 243.82690500197523, 227.34873206058668, 209.15131583299424, 237.52673645642957, 199.1991274396195, 240.94779026072558, 236.78290611220018, 277.21481465455315, 225.21637327374884, 244.59815387469106, 257.75677476009577, 301.17597308465804, 200.4680927222938, 224.77213991935648, 229.36218050959718, 231.80685422805678, 225.96796494747042, 220.40212455771047, 207.28376103555962, 8.05977101295758, 9.042934173082836, 6.018340271334231, 7.931848525565421, 4.900403613024017, 9.693185507997525, 12.29680413505254, 21.101235431724657, 7.117655286141115, 109.7063724868351, 11.7306874499041, 18.271039269159957, 4.931643828078179, 16.980857704982323, 71.50571572285888, 4.025327773624509, 4.8070623478191346, 5.577940742811422, 4.744733176992608, 18.010483085083962, 4.5872146185963105, 7.619550334986213, 8.952137217100104, 110.73076537972929, 13.781816522807235, 5.099767780743802, 5.059585038117596, 8.019339456203337, 5.600113776878899, 31.604297623550966, 141.0856081239018, 104.4458367829932, 770.0167748238522, 228.65093270799713, 12.98102820611861, 317.8513632305018, 31.681208287682985, 54.19469694370922, 124.69454139882477, 33.576560993787325, 61.636618133637526, 144.66444805973586, 191.0577805190375, 139.26847863804252, 168.8934455847184, 148.30741010622205, 176.89316370659506, 131.53433042809712, 81.02936273292029, 125.01005150881126, 53.27128415610128, 59.10112235133299, 66.41594632845224, 158.5637787561634, 199.15310633183978, 113.1210286018489, 93.47136986608314, 136.8029385491148, 110.24835962127757, 90.5441647702559, 100.29556588639682, 82.73165735452218, 119.35438517401084, 88.18870596398693, 87.26078003298726, 108.76188391082927, 98.95389704225893, 84.00887299277221, 17.881752365653558, 12.900100857378721, 12.883484481285866, 8.93971883894447, 14.82206064380011, 5.924619451078074, 7.868943021051331, 5.9149970644587695, 7.860587658661875, 11.721684982279552, 13.533532775920204, 9.65414595951025, 48.03792913213829, 11.585263072152586, 41.68902363985894, 27.438066600112524, 58.336679467097355, 24.274050391128924, 394.4876315073666, 29.872111742502344, 6.138544482486627, 11.231592305031162, 23.158925973354386, 69.70047550974965, 8.45825120407985, 9.30622810352119, 66.11687339660855, 205.3275985952784, 5.816821752942426, 4.945005692370993, 159.11380066946643, 67.96195630115206, 82.6854021258066, 20.93772517679823, 243.7674421846838, 239.89378705095186, 80.74495156939602, 89.86134304041775, 52.05488105025461, 47.07742805850934, 216.08020384964922, 171.64265202703308, 139.17325619048017, 462.5652404278881, 175.42189557558333, 264.5899456011122, 139.2175120141536, 161.45537151969492, 364.2973854303464, 125.81304195084788, 415.8655090294048, 430.79891842001206, 680.8271632939345, 269.9689528906313, 188.99724997907668, 299.29584559109986, 271.7988645264567, 157.2693593359881, 267.97147798836744, 332.09064375595324, 204.57137500678908, 308.9707372541961, 353.0328819449012, 271.695886080581, 308.64096972668733, 402.03658309726285, 314.26352242448326, 370.3205552289679, 288.51219332910364, 303.29809169401597, 296.4912491291748, 346.64814282165713, 260.8025377462618, 328.0309581729652, 238.87472060293072, 258.15868628572935, 236.79585423416114], \"Total\": [1481.0, 775.0, 3018.0, 2528.0, 1600.0, 1458.0, 1682.0, 2724.0, 1210.0, 631.0, 949.0, 1379.0, 957.0, 894.0, 1667.0, 1321.0, 1465.0, 881.0, 1148.0, 956.0, 927.0, 595.0, 687.0, 809.0, 1552.0, 1345.0, 474.0, 925.0, 518.0, 549.0, 12.807729459757084, 7.904870121277921, 17.71504007657438, 7.894794151634117, 5.951992043034913, 5.908182270709135, 69.6877585049072, 40.256334884657754, 64.82022721520313, 35.38192261510634, 24.58439789337443, 96.14996357669125, 15.776315706693081, 8.894543553150301, 9.905684443046656, 9.88408400936381, 70.79449676146834, 7.889958961470188, 6.965982998366043, 7.890610079260393, 18.76677270109771, 77.60603821565493, 11.983562621003802, 452.1171703859382, 7.93946214224292, 52.24056700808852, 14.792927211976304, 23.673504110204288, 15.81373751955278, 8.926310762005665, 69.9045248112952, 127.94676881610708, 894.6492589701617, 372.92816115331937, 1379.6234231107428, 22.7353244348834, 21.742777232208724, 478.8014339062487, 143.19336776067638, 460.3693370886142, 48.9044164504157, 481.40988486531074, 73.1511374349747, 107.99472314505859, 27.57780276561447, 221.2142759042837, 180.41188271335915, 62.74501477134998, 628.2880038420993, 480.15789614687907, 2120.9795521409774, 695.5005670175598, 522.8982623212424, 180.62080480878686, 209.81378437767674, 839.6449628711206, 1477.0811494250477, 1032.7545332032616, 850.3787728703339, 366.2228782441863, 1345.0738957347835, 971.2668559759879, 2528.5225554546764, 1538.9135408704562, 1033.561322402142, 676.522045501556, 925.2064646701328, 1027.9338107069484, 1667.6484250564883, 2724.082743373622, 1207.980314552014, 1480.5205474688676, 749.9458342517325, 749.6636210413225, 2217.6495628553207, 1321.2491185283259, 10.22791670055723, 6.162175206491385, 12.236122926134623, 24.34438429079929, 20.260906325946138, 10.177876841936211, 9.15266620230674, 6.1128120230363985, 6.134409272237777, 8.131260353906445, 12.146501930448174, 13.185058233363344, 6.1926009880025825, 34.58669509110731, 11.100839077963105, 11.11797658114545, 13.506901411787391, 13.181982220361416, 11.091261627009107, 14.082541158211805, 23.169215842028542, 14.12098405302997, 5.075556706241672, 6.070665834908348, 16.03854774703483, 20.131589584953936, 17.008753726604294, 9.048621868191125, 8.138687860092288, 8.067055257510587, 218.12662351737276, 36.65143796132319, 19.066677666784877, 366.2228782441863, 13.076501409866335, 120.94575382345987, 101.84525266074155, 126.583497568259, 234.54662675904532, 598.1383701738823, 189.90636500772064, 422.3591928955428, 670.2346452459161, 204.78180274054301, 925.2064646701328, 44.19291285855924, 44.99577312704103, 460.3693370886142, 120.00623255791734, 114.13907900001925, 106.51790311922073, 282.1282480059505, 1345.0738957347835, 1286.8859568440603, 458.44765181050946, 509.27848229035004, 1379.6234231107428, 371.4994441523372, 389.1326688082944, 1538.9135408704562, 456.23101902581243, 1017.1830517924664, 625.1288378204916, 1388.1301325416832, 894.6492589701617, 1477.0811494250477, 1123.769331998819, 2528.5225554546764, 2724.082743373622, 1141.7317137882865, 628.2880038420993, 690.4477407523157, 1032.7545332032616, 1321.2491185283259, 1419.8558440156162, 982.8837100931141, 19.96993016556435, 14.005181500595626, 13.011765892115463, 15.991469438528586, 11.005444143224052, 8.99045961063509, 8.045034176033921, 8.03892587075023, 5.983935933111004, 6.048512456437699, 6.983222870906629, 6.048416754408059, 10.018730249141868, 6.03851992214504, 36.856853557453476, 18.988894797303207, 9.975545947004052, 16.911091334501354, 63.57197085924898, 17.972312718586352, 7.036498728498915, 10.999268617448031, 21.905100308290766, 22.792925828557877, 6.04992215798433, 38.79335646894618, 50.73369020591422, 53.66721934866866, 5.039493423768744, 9.046765666348298, 116.94840554566106, 13.953147594086628, 69.5808896554171, 117.16034669773195, 1458.4936406930387, 949.6280362678028, 700.5158221547574, 3018.66026380398, 1600.4506906631254, 318.6515735167552, 1465.3530059039501, 956.7239001469679, 949.4327072659014, 518.2917810495001, 127.99744801425895, 467.2347303977689, 775.7012531927409, 78.43984479679439, 313.0887174409993, 473.3816531541092, 547.3283436334916, 2120.9795521409774, 1419.8558440156162, 353.8346494209279, 722.4070468419188, 1682.740928265629, 2217.6495628553207, 2528.5225554546764, 631.1938265338854, 728.9127328166346, 461.88698389199646, 971.2668559759879, 674.1208942604427, 809.4891617987289, 1552.2408216543208, 1667.6484250564883, 1480.5205474688676, 500.5447806110156, 1538.9135408704562, 2724.082743373622, 1481.1784282310978, 11.619387742853633, 12.63038445114666, 5.280464200950161, 9.411984655203666, 7.365417367532277, 11.53195973271789, 5.236132035660111, 8.37479098462961, 8.334067778800447, 6.271704631072584, 47.56708622381492, 6.270741827841709, 6.216004883134429, 9.323216966001734, 7.313753828477279, 9.284911183413481, 115.189263847718, 10.348781556600738, 5.157485327588877, 5.217648301445902, 5.193043369973582, 15.526742701445478, 7.2623172776856775, 8.201196498526944, 6.214267098615992, 9.32835986987305, 6.269983650305866, 5.182894118403603, 6.273902226683451, 11.167755183235478, 54.41422494134093, 96.1481428023974, 25.69414281191272, 40.95798099909199, 16.75747976003591, 34.81685667072505, 25.94828124031767, 688.3220830619151, 31.731378622290357, 532.6458518790623, 927.4698728344226, 82.78193075075444, 1667.6484250564883, 514.8199056294295, 2724.082743373622, 299.59601397437325, 180.8152441541968, 553.6785805472438, 296.44757727810804, 278.58656733118465, 720.8831424004478, 130.64480171481563, 77.78241216622125, 1552.2408216543208, 1321.2491185283259, 1123.769331998819, 1210.2031673550857, 455.81676899829273, 844.9739668696452, 1017.1830517924664, 903.5772348784011, 541.1191034810986, 594.807679791305, 1480.5205474688676, 245.3499454461441, 595.894148850086, 482.0259611066716, 1419.8558440156162, 982.8837100931141, 1388.1301325416832, 2528.5225554546764, 748.0037950792589, 1538.9135408704562, 1477.0811494250477, 1682.740928265629, 1458.4936406930387, 1148.0035603192434, 1345.0738957347835, 10.063723462137354, 8.078144797042203, 9.119073108972588, 17.018450052299603, 13.0418835153874, 5.041188190283548, 15.089032355111328, 7.056180396205906, 37.669075667892564, 8.089220344885092, 22.10175519007297, 7.0345184815701245, 6.078129528510521, 5.068321827575935, 12.088162822586572, 5.078307199975754, 14.045854605268222, 10.24294824128638, 95.07746671618769, 11.953178206370396, 10.132506496560143, 32.90783382672952, 5.994170014755851, 9.088238201539015, 8.162791212978531, 91.64849441234546, 8.048668611948443, 7.008305235784088, 34.85932070448877, 22.03116726900108, 34.00456653156478, 134.11608201627288, 28.066662361531233, 73.0380625545765, 102.3651178544205, 28.133930149135708, 474.24336444620616, 595.894148850086, 156.36735846473903, 54.80933159136548, 406.75930954377395, 131.7132179828588, 881.7417594288529, 1210.2031673550857, 1148.0035603192434, 529.046964932435, 220.52705457221035, 521.9816958096715, 283.7790598379934, 1321.2491185283259, 95.59050464838074, 188.6135943270179, 187.14153395262989, 241.29269220222022, 136.92221495014465, 2724.082743373622, 927.4698728344226, 714.2684439908769, 1388.1301325416832, 175.1184365459106, 236.97266938061478, 305.24488884408925, 251.59421869734754, 456.23101902581243, 1477.0811494250477, 916.6394232662518, 572.3219064889636, 816.1463506135701, 2217.6495628553207, 1345.0738957347835, 1123.769331998819, 1141.7317137882865, 1207.980314552014, 27.4532626216034, 12.168057037969485, 24.06773383614936, 15.28208375455118, 18.497334247615335, 17.338453895481077, 24.840922969486666, 15.224917089519794, 11.950344274102637, 7.485095767376437, 99.511492080005, 8.599629164458992, 16.865995414971668, 8.569009257800742, 233.32527252982374, 9.583684876770253, 8.72899622921715, 10.675640533010707, 297.21420159370257, 21.190380203761215, 8.560617800450839, 32.98953481067085, 14.837726063328294, 7.460801243835324, 22.243759850652395, 65.34680009357622, 775.7012531927409, 6.408079068483567, 10.652024050698888, 14.710426646733833, 189.73914140153994, 53.69983249359146, 631.1938265338854, 121.35225016007472, 222.8194829482285, 266.33487107217513, 48.699502602786865, 356.82836762963194, 518.2917810495001, 500.5447806110156, 1682.740928265629, 687.4792071506397, 2528.5225554546764, 97.31917595308445, 674.1208942604427, 949.4327072659014, 903.5772348784011, 728.9127328166346, 1600.4506906631254, 1458.4936406930387, 625.1288378204916, 1552.2408216543208, 576.6779121331052, 809.4891617987289, 956.7239001469679, 662.6662003690469, 1465.3530059039501, 2217.6495628553207, 427.5166550030663, 1667.6484250564883, 1419.8558440156162, 957.4151979149647, 927.4698728344226, 3018.66026380398, 9.70696842505533, 6.712832005689927, 22.25245997438709, 4.901414955059502, 29.034470212333527, 17.42688712077595, 66.71409887174585, 14.583428679355375, 7.796170425564632, 4.8401609813641375, 6.836692076830072, 6.851261802901456, 13.63867054345873, 19.428972744189927, 13.699170586292032, 23.301470549924467, 12.65980592720737, 14.607311824321389, 12.634906208741821, 5.887813557030787, 5.897706114914719, 84.36984768360897, 6.874059449596049, 60.21840406683988, 5.848123454164908, 13.635160837336992, 5.844825646240452, 5.847733921876121, 5.849936612366241, 27.171123148172708, 63.18793712149082, 21.486873461326088, 53.50746957892368, 29.232826418901876, 29.23476093875741, 35.07179604899027, 26.338758657432464, 51.60043313746827, 758.4716630342209, 25.314305316496053, 55.54659359349949, 58.609320680048604, 3018.66026380398, 809.4891617987289, 184.51210196577287, 399.61675464535085, 547.3283436334916, 52.8869375121622, 1600.4506906631254, 318.6515735167552, 949.4327072659014, 700.5158221547574, 551.2808750153076, 687.4792071506397, 1027.9338107069484, 2217.6495628553207, 172.88742293852164, 113.94670601734374, 1024.9219905156187, 398.96436800271783, 328.047338536191, 230.44767242349656, 1465.3530059039501, 916.6394232662518, 949.6280362678028, 541.1191034810986, 757.6804748331574, 956.7239001469679, 1667.6484250564883, 1354.6526311242985, 2528.5225554546764, 728.4551656566942, 728.9127328166346, 667.3694074673624, 1141.7317137882865, 2120.9795521409774, 2724.082743373622, 775.4504329853803, 1682.740928265629, 1207.980314552014, 1419.8558440156162, 20.03159140974209, 14.008615226049164, 10.062988409402765, 9.066922604844304, 8.015259277467603, 8.064967730097212, 10.058672989831871, 6.066822038554574, 7.050509522293132, 9.05599296004121, 6.067051232454579, 6.074734738017391, 5.072286093027421, 6.057218328220752, 15.036568103936915, 9.053699848009801, 8.062010652972306, 21.0026332806479, 6.995716191883804, 8.041128072129858, 12.032028323825799, 10.055926508427731, 7.062135846337503, 9.049940368260822, 6.0475132217204015, 10.022430133162263, 7.060226753163027, 6.0399274428924095, 5.99700918270064, 21.888874956615386, 33.36746602542004, 24.963250081319586, 20.964609239973417, 15.009169850337926, 150.42919622724338, 36.940871682697235, 415.35834453234924, 232.5397325163061, 66.86454497368639, 36.99515927469425, 219.54244032796078, 175.57427312898076, 73.78267970674906, 133.22335306833978, 15.975607102560959, 334.4101716921186, 122.20682918448958, 105.67706251559474, 24.8721166969586, 509.76246463014974, 421.287820613298, 66.06628239819588, 186.55017594811048, 173.07750811872071, 105.03645773846665, 749.6636210413225, 43.87195503538699, 108.20495284311986, 431.71979679149086, 406.6598975154977, 757.6804748331574, 764.2725662596035, 598.5270233223889, 233.2760635616196, 780.9207959101673, 317.83402198799087, 324.34030265240597, 148.6763431580513, 728.4551656566942, 1017.44409682425, 354.83611157943056, 843.9965119550758, 345.64994703019534, 1354.6526311242985, 1207.980314552014, 844.9739668696452, 758.4716630342209, 687.4792071506397, 957.4151979149647, 679.9635731757752, 1024.9219905156187, 1027.9338107069484, 1465.3530059039501, 927.4698728344226, 1286.8859568440603, 1682.740928265629, 2724.082743373622, 816.1463506135701, 1388.1301325416832, 1552.2408216543208, 3018.66026380398, 2528.5225554546764, 2217.6495628553207, 1210.2031673550857, 8.178080707041827, 9.185906964423742, 6.156141626538447, 8.173671636578936, 5.140616056666089, 10.189569028305433, 13.180348688463358, 23.30632192844782, 8.099977958402063, 129.7716052423772, 14.13764245112827, 22.19181727900156, 6.10891630960493, 21.347277502592963, 90.40517385560105, 5.0917209951849625, 6.11909743823955, 7.1242916866341055, 6.10287148011896, 23.237327179071173, 6.074084896347173, 10.150006408332017, 12.088867526078932, 151.7982754830227, 19.160116900683953, 7.11365215251287, 7.085468651622296, 11.279588917154376, 8.09669787847637, 46.28848159665883, 239.4212499699815, 176.57556815201065, 1481.1784282310978, 549.2200578720302, 20.178492092728128, 957.4151979149647, 61.38073907439804, 120.40724094677, 432.3940102380037, 76.44666815860023, 176.8666466719152, 582.6919180649402, 867.2798401571782, 636.0492720455267, 881.7417594288529, 773.1135054694089, 1017.44409682425, 704.0272659655673, 345.64994703019534, 728.4551656566942, 182.33779858727414, 221.2142759042837, 271.2423899637429, 1345.0738957347835, 2217.6495628553207, 757.6804748331574, 529.046964932435, 1286.8859568440603, 843.9965119550758, 567.6998222610557, 749.6636210413225, 493.7496997411027, 1354.6526311242985, 690.4477407523157, 780.9207959101673, 3018.66026380398, 1682.740928265629, 714.2684439908769, 18.013417336398312, 13.02904350848463, 13.014824280076517, 9.04167185544575, 15.025022821272337, 6.037012946087893, 8.020705383024307, 6.036131832844929, 8.039099602277162, 12.03082852532524, 14.013003027798405, 10.025350166913123, 49.88637637634819, 12.032529671570371, 43.90553533537363, 28.936952269590034, 61.766946338309786, 25.969440140322433, 433.74292732380474, 32.89097468034706, 7.018334057447959, 13.038973599584057, 26.949812058777763, 81.84019917582707, 9.983009265618858, 11.019809500480953, 79.78306006479642, 248.08811219603538, 7.041976875725719, 6.032407460191348, 197.759417920159, 86.56628433461618, 110.97466839820217, 26.033955499261516, 354.95439716740594, 355.5474436653889, 110.3159279723322, 125.81929473626178, 69.85691588897986, 63.02130137744654, 373.5115762874573, 294.7892058759807, 236.97266938061478, 1033.561322402142, 334.5448629973923, 596.4550177340252, 271.1955843361435, 339.71811430824346, 1017.1830517924664, 250.58280064901308, 1321.2491185283259, 1388.1301325416832, 2724.082743373622, 749.9458342517325, 452.2780314336819, 925.2064646701328, 850.3787728703339, 357.6512716243145, 844.9739668696452, 1210.2031673550857, 555.7040100412667, 1141.7317137882865, 1477.0811494250477, 982.8837100931141, 1286.8859568440603, 2120.9795521409774, 1480.5205474688676, 2217.6495628553207, 1354.6526311242985, 1552.2408216543208, 1538.9135408704562, 2528.5225554546764, 1123.769331998819, 3018.66026380398, 971.2668559759879, 1419.8558440156162, 1345.0738957347835], \"Category\": [\"Default\", \"Default\", \"Default\", \"Default\", \"Default\", \"Default\", \"Default\", \"Default\", \"Default\", \"Default\", \"Default\", \"Default\", \"Default\", \"Default\", \"Default\", \"Default\", \"Default\", \"Default\", \"Default\", \"Default\", \"Default\", \"Default\", \"Default\", \"Default\", \"Default\", \"Default\", \"Default\", \"Default\", \"Default\", \"Default\", \"Topic1\", \"Topic1\", \"Topic1\", \"Topic1\", \"Topic1\", \"Topic1\", \"Topic1\", \"Topic1\", \"Topic1\", \"Topic1\", \"Topic1\", \"Topic1\", \"Topic1\", \"Topic1\", \"Topic1\", \"Topic1\", \"Topic1\", \"Topic1\", \"Topic1\", \"Topic1\", \"Topic1\", \"Topic1\", \"Topic1\", \"Topic1\", \"Topic1\", \"Topic1\", \"Topic1\", \"Topic1\", \"Topic1\", \"Topic1\", \"Topic1\", \"Topic1\", \"Topic1\", \"Topic1\", \"Topic1\", \"Topic1\", \"Topic1\", \"Topic1\", \"Topic1\", \"Topic1\", \"Topic1\", \"Topic1\", \"Topic1\", \"Topic1\", \"Topic1\", \"Topic1\", \"Topic1\", \"Topic1\", \"Topic1\", \"Topic1\", \"Topic1\", \"Topic1\", \"Topic1\", \"Topic1\", \"Topic1\", \"Topic1\", \"Topic1\", \"Topic1\", \"Topic1\", \"Topic1\", \"Topic1\", \"Topic1\", \"Topic1\", \"Topic1\", \"Topic1\", \"Topic1\", \"Topic1\", \"Topic1\", \"Topic1\", \"Topic1\", \"Topic1\", \"Topic1\", \"Topic1\", \"Topic1\", \"Topic1\", \"Topic1\", \"Topic2\", \"Topic2\", \"Topic2\", \"Topic2\", \"Topic2\", \"Topic2\", \"Topic2\", \"Topic2\", \"Topic2\", \"Topic2\", \"Topic2\", \"Topic2\", \"Topic2\", \"Topic2\", \"Topic2\", \"Topic2\", \"Topic2\", \"Topic2\", \"Topic2\", \"Topic2\", \"Topic2\", \"Topic2\", \"Topic2\", \"Topic2\", \"Topic2\", \"Topic2\", \"Topic2\", \"Topic2\", \"Topic2\", \"Topic2\", \"Topic2\", \"Topic2\", \"Topic2\", \"Topic2\", \"Topic2\", \"Topic2\", \"Topic2\", \"Topic2\", \"Topic2\", \"Topic2\", \"Topic2\", \"Topic2\", \"Topic2\", \"Topic2\", \"Topic2\", \"Topic2\", \"Topic2\", \"Topic2\", \"Topic2\", \"Topic2\", \"Topic2\", \"Topic2\", \"Topic2\", \"Topic2\", \"Topic2\", \"Topic2\", \"Topic2\", \"Topic2\", \"Topic2\", \"Topic2\", \"Topic2\", \"Topic2\", \"Topic2\", \"Topic2\", \"Topic2\", \"Topic2\", \"Topic2\", \"Topic2\", \"Topic2\", \"Topic2\", \"Topic2\", \"Topic2\", \"Topic2\", \"Topic2\", \"Topic2\", \"Topic2\", \"Topic3\", \"Topic3\", \"Topic3\", \"Topic3\", \"Topic3\", \"Topic3\", \"Topic3\", \"Topic3\", \"Topic3\", \"Topic3\", \"Topic3\", \"Topic3\", \"Topic3\", \"Topic3\", \"Topic3\", \"Topic3\", \"Topic3\", \"Topic3\", \"Topic3\", \"Topic3\", \"Topic3\", \"Topic3\", \"Topic3\", \"Topic3\", \"Topic3\", \"Topic3\", \"Topic3\", \"Topic3\", \"Topic3\", \"Topic3\", \"Topic3\", \"Topic3\", \"Topic3\", \"Topic3\", \"Topic3\", \"Topic3\", \"Topic3\", \"Topic3\", \"Topic3\", \"Topic3\", \"Topic3\", \"Topic3\", \"Topic3\", \"Topic3\", \"Topic3\", \"Topic3\", \"Topic3\", \"Topic3\", \"Topic3\", \"Topic3\", \"Topic3\", \"Topic3\", \"Topic3\", \"Topic3\", \"Topic3\", \"Topic3\", \"Topic3\", \"Topic3\", \"Topic3\", \"Topic3\", \"Topic3\", \"Topic3\", \"Topic3\", \"Topic3\", \"Topic3\", \"Topic3\", \"Topic3\", \"Topic3\", \"Topic3\", \"Topic3\", \"Topic3\", \"Topic4\", \"Topic4\", \"Topic4\", \"Topic4\", \"Topic4\", \"Topic4\", \"Topic4\", \"Topic4\", \"Topic4\", \"Topic4\", \"Topic4\", \"Topic4\", \"Topic4\", \"Topic4\", \"Topic4\", \"Topic4\", \"Topic4\", \"Topic4\", \"Topic4\", \"Topic4\", \"Topic4\", \"Topic4\", \"Topic4\", \"Topic4\", \"Topic4\", \"Topic4\", \"Topic4\", \"Topic4\", \"Topic4\", \"Topic4\", \"Topic4\", \"Topic4\", \"Topic4\", \"Topic4\", \"Topic4\", \"Topic4\", \"Topic4\", \"Topic4\", \"Topic4\", \"Topic4\", \"Topic4\", \"Topic4\", \"Topic4\", \"Topic4\", \"Topic4\", \"Topic4\", \"Topic4\", \"Topic4\", \"Topic4\", \"Topic4\", \"Topic4\", \"Topic4\", \"Topic4\", \"Topic4\", \"Topic4\", \"Topic4\", \"Topic4\", \"Topic4\", \"Topic4\", \"Topic4\", \"Topic4\", \"Topic4\", \"Topic4\", \"Topic4\", \"Topic4\", \"Topic4\", \"Topic4\", \"Topic4\", \"Topic4\", \"Topic4\", \"Topic4\", \"Topic4\", \"Topic4\", \"Topic4\", \"Topic4\", \"Topic4\", \"Topic4\", \"Topic4\", \"Topic5\", \"Topic5\", \"Topic5\", \"Topic5\", \"Topic5\", \"Topic5\", \"Topic5\", \"Topic5\", \"Topic5\", \"Topic5\", \"Topic5\", \"Topic5\", \"Topic5\", \"Topic5\", \"Topic5\", \"Topic5\", \"Topic5\", \"Topic5\", \"Topic5\", \"Topic5\", \"Topic5\", \"Topic5\", \"Topic5\", \"Topic5\", \"Topic5\", \"Topic5\", \"Topic5\", \"Topic5\", \"Topic5\", \"Topic5\", \"Topic5\", \"Topic5\", \"Topic5\", \"Topic5\", \"Topic5\", \"Topic5\", \"Topic5\", \"Topic5\", \"Topic5\", \"Topic5\", \"Topic5\", \"Topic5\", \"Topic5\", \"Topic5\", \"Topic5\", \"Topic5\", \"Topic5\", \"Topic5\", \"Topic5\", \"Topic5\", \"Topic5\", \"Topic5\", \"Topic5\", \"Topic5\", \"Topic5\", \"Topic5\", \"Topic5\", \"Topic5\", \"Topic5\", \"Topic5\", \"Topic5\", \"Topic5\", \"Topic5\", \"Topic5\", \"Topic5\", \"Topic5\", \"Topic5\", \"Topic5\", \"Topic5\", \"Topic5\", \"Topic5\", \"Topic5\", \"Topic5\", \"Topic6\", \"Topic6\", \"Topic6\", \"Topic6\", \"Topic6\", \"Topic6\", \"Topic6\", \"Topic6\", \"Topic6\", \"Topic6\", \"Topic6\", \"Topic6\", \"Topic6\", \"Topic6\", \"Topic6\", \"Topic6\", \"Topic6\", \"Topic6\", \"Topic6\", \"Topic6\", \"Topic6\", \"Topic6\", \"Topic6\", \"Topic6\", \"Topic6\", \"Topic6\", \"Topic6\", \"Topic6\", \"Topic6\", \"Topic6\", \"Topic6\", \"Topic6\", \"Topic6\", \"Topic6\", \"Topic6\", \"Topic6\", \"Topic6\", \"Topic6\", \"Topic6\", \"Topic6\", \"Topic6\", \"Topic6\", \"Topic6\", \"Topic6\", \"Topic6\", \"Topic6\", \"Topic6\", \"Topic6\", \"Topic6\", \"Topic6\", \"Topic6\", \"Topic6\", \"Topic6\", \"Topic6\", \"Topic6\", \"Topic6\", \"Topic6\", \"Topic6\", \"Topic6\", \"Topic6\", \"Topic6\", \"Topic6\", \"Topic6\", \"Topic6\", \"Topic7\", \"Topic7\", \"Topic7\", \"Topic7\", \"Topic7\", \"Topic7\", \"Topic7\", \"Topic7\", \"Topic7\", \"Topic7\", \"Topic7\", \"Topic7\", \"Topic7\", \"Topic7\", \"Topic7\", \"Topic7\", \"Topic7\", \"Topic7\", \"Topic7\", \"Topic7\", \"Topic7\", \"Topic7\", \"Topic7\", \"Topic7\", \"Topic7\", \"Topic7\", \"Topic7\", \"Topic7\", \"Topic7\", \"Topic7\", \"Topic7\", \"Topic7\", \"Topic7\", \"Topic7\", \"Topic7\", \"Topic7\", \"Topic7\", \"Topic7\", \"Topic7\", \"Topic7\", \"Topic7\", \"Topic7\", \"Topic7\", \"Topic7\", \"Topic7\", \"Topic7\", \"Topic7\", \"Topic7\", \"Topic7\", \"Topic7\", \"Topic7\", \"Topic7\", \"Topic7\", \"Topic7\", \"Topic7\", \"Topic7\", \"Topic7\", \"Topic7\", \"Topic7\", \"Topic7\", \"Topic7\", \"Topic7\", \"Topic7\", \"Topic7\", \"Topic7\", \"Topic7\", \"Topic7\", \"Topic7\", \"Topic7\", \"Topic7\", \"Topic7\", \"Topic7\", \"Topic7\", \"Topic7\", \"Topic7\", \"Topic7\", \"Topic7\", \"Topic7\", \"Topic7\", \"Topic7\", \"Topic7\", \"Topic8\", \"Topic8\", \"Topic8\", \"Topic8\", \"Topic8\", \"Topic8\", \"Topic8\", \"Topic8\", \"Topic8\", \"Topic8\", \"Topic8\", \"Topic8\", \"Topic8\", \"Topic8\", \"Topic8\", \"Topic8\", \"Topic8\", \"Topic8\", \"Topic8\", \"Topic8\", \"Topic8\", \"Topic8\", \"Topic8\", \"Topic8\", \"Topic8\", \"Topic8\", \"Topic8\", \"Topic8\", \"Topic8\", \"Topic8\", \"Topic8\", \"Topic8\", \"Topic8\", \"Topic8\", \"Topic8\", \"Topic8\", \"Topic8\", \"Topic8\", \"Topic8\", \"Topic8\", \"Topic8\", \"Topic8\", \"Topic8\", \"Topic8\", \"Topic8\", \"Topic8\", \"Topic8\", \"Topic8\", \"Topic8\", \"Topic8\", \"Topic8\", \"Topic8\", \"Topic8\", \"Topic8\", \"Topic8\", \"Topic8\", \"Topic8\", \"Topic8\", \"Topic8\", \"Topic8\", \"Topic8\", \"Topic8\", \"Topic8\", \"Topic8\", \"Topic8\", \"Topic8\", \"Topic8\", \"Topic8\", \"Topic8\", \"Topic8\", \"Topic8\", \"Topic8\", \"Topic8\", \"Topic8\", \"Topic8\", \"Topic8\", \"Topic8\", \"Topic8\", \"Topic8\", \"Topic8\", \"Topic8\", \"Topic8\", \"Topic8\", \"Topic8\", \"Topic8\", \"Topic8\", \"Topic8\", \"Topic8\", \"Topic8\", \"Topic8\", \"Topic8\", \"Topic8\", \"Topic8\", \"Topic8\", \"Topic9\", \"Topic9\", \"Topic9\", \"Topic9\", \"Topic9\", \"Topic9\", \"Topic9\", \"Topic9\", \"Topic9\", \"Topic9\", \"Topic9\", \"Topic9\", \"Topic9\", \"Topic9\", \"Topic9\", \"Topic9\", \"Topic9\", \"Topic9\", \"Topic9\", \"Topic9\", \"Topic9\", \"Topic9\", \"Topic9\", \"Topic9\", \"Topic9\", \"Topic9\", \"Topic9\", \"Topic9\", \"Topic9\", \"Topic9\", \"Topic9\", \"Topic9\", \"Topic9\", \"Topic9\", \"Topic9\", \"Topic9\", \"Topic9\", \"Topic9\", \"Topic9\", \"Topic9\", \"Topic9\", \"Topic9\", \"Topic9\", \"Topic9\", \"Topic9\", \"Topic9\", \"Topic9\", \"Topic9\", \"Topic9\", \"Topic9\", \"Topic9\", \"Topic9\", \"Topic9\", \"Topic9\", \"Topic9\", \"Topic9\", \"Topic9\", \"Topic9\", \"Topic9\", \"Topic9\", \"Topic9\", \"Topic9\", \"Topic9\", \"Topic9\", \"Topic9\", \"Topic9\", \"Topic9\", \"Topic9\", \"Topic10\", \"Topic10\", \"Topic10\", \"Topic10\", \"Topic10\", \"Topic10\", \"Topic10\", \"Topic10\", \"Topic10\", \"Topic10\", \"Topic10\", \"Topic10\", \"Topic10\", \"Topic10\", \"Topic10\", \"Topic10\", \"Topic10\", \"Topic10\", \"Topic10\", \"Topic10\", \"Topic10\", \"Topic10\", \"Topic10\", \"Topic10\", \"Topic10\", \"Topic10\", \"Topic10\", \"Topic10\", \"Topic10\", \"Topic10\", \"Topic10\", \"Topic10\", \"Topic10\", \"Topic10\", \"Topic10\", \"Topic10\", \"Topic10\", \"Topic10\", \"Topic10\", \"Topic10\", \"Topic10\", \"Topic10\", \"Topic10\", \"Topic10\", \"Topic10\", \"Topic10\", \"Topic10\", \"Topic10\", \"Topic10\", \"Topic10\", \"Topic10\", \"Topic10\", \"Topic10\", \"Topic10\", \"Topic10\", \"Topic10\", \"Topic10\", \"Topic10\", \"Topic10\", \"Topic10\", \"Topic10\", \"Topic10\", \"Topic10\", \"Topic10\", \"Topic10\", \"Topic10\", \"Topic10\", \"Topic10\", \"Topic10\", \"Topic10\", \"Topic10\", \"Topic10\", \"Topic10\", \"Topic10\", \"Topic10\", \"Topic10\", \"Topic10\"], \"logprob\": [30.0, 29.0, 28.0, 27.0, 26.0, 25.0, 24.0, 23.0, 22.0, 21.0, 20.0, 19.0, 18.0, 17.0, 16.0, 15.0, 14.0, 13.0, 12.0, 11.0, 10.0, 9.0, 8.0, 7.0, 6.0, 5.0, 4.0, 3.0, 2.0, 1.0, -8.1819, -8.6692, -7.8651, -8.674, -8.9568, -8.9747, -6.5231, -7.0838, -6.6184, -7.2361, -7.6024, -6.2434, -8.0529, -8.63, -8.5239, -8.5398, -6.5866, -8.7819, -8.9072, -8.7894, -7.9239, -6.5091, -8.3905, -4.7679, -8.8191, -6.9377, -8.2001, -7.7378, -8.1438, -8.7225, -6.667, -6.0785, -4.2638, -5.1539, -3.9864, -7.8061, -7.8478, -5.0599, -6.1638, -5.1588, -7.1327, -5.147, -6.8011, -6.4793, -7.6414, -5.8814, -6.0533, -6.95, -5.0748, -5.3002, -4.1624, -5.0943, -5.3146, -6.1445, -6.036, -5.0423, -4.7235, -4.9742, -5.1488, -5.7002, -4.9562, -5.1854, -4.6502, -4.9473, -5.1795, -5.463, -5.3948, -5.3513, -5.1581, -5.0061, -5.3247, -5.2774, -5.511, -5.5524, -5.3448, -5.4496, -7.5466, -8.0656, -7.4104, -6.8553, -7.0987, -7.8038, -7.9104, -8.3606, -8.3586, -8.1502, -7.7496, -7.6897, -8.4616, -6.7616, -7.9081, -7.918, -7.7542, -7.7803, -7.9567, -7.7383, -7.2482, -7.7609, -8.8021, -8.6321, -7.6612, -7.4349, -7.6039, -8.2526, -8.3602, -8.3812, -5.0843, -6.8819, -7.5303, -4.7006, -7.899, -5.7869, -5.9631, -5.7877, -5.259, -4.465, -5.4867, -4.8076, -4.4926, -5.5452, -4.3389, -6.8059, -6.7958, -4.96, -6.0751, -6.1215, -6.1772, -5.4478, -4.3112, -4.4529, -5.1744, -5.1233, -4.4606, -5.3781, -5.3594, -4.4747, -5.2664, -4.7704, -5.0972, -4.671, -4.9592, -4.7094, -4.8751, -4.4521, -4.454, -4.9248, -5.2083, -5.2086, -5.1083, -5.052, -5.105, -5.2138, -7.596, -7.9526, -8.0279, -7.8218, -8.1964, -8.3993, -8.5113, -8.5163, -8.8125, -8.8078, -8.6642, -8.8099, -8.3073, -8.8359, -7.0436, -7.7407, -8.3865, -7.8782, -6.5599, -7.8273, -8.7704, -8.3585, -7.6707, -7.6892, -9.0394, -7.1855, -6.9175, -6.87, -9.2516, -8.6832, -6.1308, -8.2527, -6.6985, -6.2415, -3.8914, -4.3298, -4.6934, -3.4293, -4.0265, -5.413, -4.1746, -4.5687, -4.5828, -5.1096, -6.2751, -5.2446, -4.8625, -6.6784, -5.6142, -5.329, -5.2379, -4.2529, -4.5535, -5.5909, -5.091, -4.5124, -4.3402, -4.2702, -5.2304, -5.156, -5.4569, -4.9942, -5.2398, -5.1279, -4.7567, -4.7433, -4.9569, -5.4424, -5.0702, -5.0076, -5.2196, -7.5013, -7.5057, -8.4421, -7.8796, -8.1336, -7.6984, -8.5407, -8.0937, -8.1656, -8.4755, -6.4709, -8.5169, -8.5274, -8.1511, -8.4044, -8.1712, -5.6689, -8.0804, -8.7776, -8.7967, -8.8022, -7.7111, -8.4753, -8.3651, -8.6447, -8.2424, -8.6497, -8.8425, -8.653, -8.0909, -6.5303, -5.9743, -7.2897, -6.8481, -7.7065, -7.0555, -7.3234, -4.5395, -7.1974, -4.7761, -4.3259, -6.3847, -3.9221, -4.9216, -3.6467, -5.4035, -5.8121, -4.9576, -5.4544, -5.5105, -4.8251, -6.1247, -6.5136, -4.3617, -4.4842, -4.6051, -4.6267, -5.3011, -4.9038, -4.7829, -4.8644, -5.2236, -5.1655, -4.6131, -5.7399, -5.2218, -5.3491, -4.7486, -4.9828, -4.8436, -4.5715, -5.2135, -4.9607, -5.0348, -5.0638, -5.1261, -5.18, -5.1686, -7.2127, -7.4405, -7.3713, -6.7511, -7.0337, -8.0279, -6.9348, -7.7223, -6.051, -7.6036, -6.6041, -7.7823, -7.9286, -8.1422, -7.2857, -8.1543, -7.1492, -7.4655, -5.2497, -7.3247, -7.4956, -6.3364, -8.0401, -7.6293, -7.7608, -5.349, -7.8128, -7.9513, -6.3739, -6.8648, -6.4545, -5.183, -6.6414, -5.7999, -5.5028, -6.6888, -4.3684, -4.2149, -5.324, -6.1941, -4.654, -5.5355, -4.1186, -3.9881, -4.0275, -4.6461, -5.302, -4.7643, -5.2513, -4.3507, -5.9427, -5.5438, -5.6037, -5.4701, -5.7887, -4.3246, -4.8717, -5.0096, -4.8171, -5.7113, -5.6058, -5.5218, -5.5939, -5.4233, -5.0883, -5.288, -5.4232, -5.3777, -5.2481, -5.3225, -5.3819, -5.4557, -5.481, -6.1916, -7.0913, -6.4178, -6.9058, -6.7318, -6.8431, -6.4999, -6.9902, -7.2779, -7.7565, -5.2118, -7.6779, -7.0402, -7.7188, -4.4614, -7.6698, -7.7816, -7.5942, -4.2737, -6.9211, -7.8318, -6.485, -7.3061, -7.9957, -6.9449, -5.8683, -3.3973, -8.2123, -7.7074, -7.3859, -4.8753, -6.1689, -3.9653, -5.4807, -5.0572, -4.9975, -6.3878, -4.8438, -4.574, -4.6103, -3.7121, -4.4008, -3.6481, -5.9278, -4.6579, -4.4492, -4.5205, -4.6629, -4.2404, -4.3281, -4.8787, -4.4198, -4.9499, -4.781, -4.7578, -5.0046, -4.7125, -4.6053, -5.2297, -4.8286, -4.8938, -4.9989, -5.033, -5.0327, -8.2069, -8.5827, -7.3866, -8.8997, -7.153, -7.6855, -6.345, -7.91, -8.5642, -9.0414, -8.7101, -8.7085, -8.0213, -7.6713, -8.0244, -7.4942, -8.1184, -7.9819, -8.1307, -8.8961, -8.896, -6.2358, -8.7452, -6.5773, -8.9128, -8.0743, -8.9296, -8.9352, -8.941, -7.4079, -6.5739, -7.6604, -6.7772, -7.382, -7.3995, -7.2382, -7.5059, -6.9007, -4.5102, -7.5517, -6.8945, -6.8677, -3.7135, -4.778, -6.0319, -5.4604, -5.2404, -7.0089, -4.482, -5.6918, -4.9027, -5.1434, -5.3292, -5.2146, -4.9428, -4.4479, -6.1896, -6.4835, -5.0382, -5.666, -5.8348, -6.0587, -4.9829, -5.2557, -5.253, -5.5769, -5.4206, -5.2947, -5.0407, -5.1516, -4.8553, -5.4819, -5.4875, -5.5388, -5.3671, -5.1638, -5.1146, -5.5267, -5.3776, -5.5188, -5.5134, -7.8667, -8.2275, -8.5592, -8.664, -8.7884, -8.7825, -8.5632, -9.0705, -8.9204, -8.6705, -9.0724, -9.0722, -9.2526, -9.0769, -8.1691, -8.6799, -8.7979, -7.8428, -8.9422, -8.8057, -8.4048, -8.5845, -8.9436, -8.7003, -9.1048, -8.6056, -8.9581, -9.1174, -9.1348, -7.8446, -7.4599, -7.7436, -7.9154, -8.2388, -6.0738, -7.3975, -5.1575, -5.7208, -6.9296, -7.4593, -5.9002, -6.1144, -6.8705, -6.3731, -8.2079, -5.6019, -6.483, -6.6142, -7.8321, -5.2964, -5.4909, -7.0288, -6.2012, -6.2627, -6.6749, -5.1047, -7.377, -6.6563, -5.5717, -5.6186, -5.1614, -5.1754, -5.3711, -6.0792, -5.2253, -5.8854, -5.8839, -6.4414, -5.3249, -5.1064, -5.8348, -5.2939, -5.8931, -5.0217, -5.1188, -5.3611, -5.431, -5.5145, -5.3872, -5.5632, -5.3729, -5.3904, -5.2327, -5.4405, -5.3579, -5.3055, -5.1498, -5.5569, -5.4424, -5.4222, -5.4116, -5.4371, -5.4621, -5.5234, -7.6499, -7.5348, -7.942, -7.6659, -8.1475, -7.4654, -7.2274, -6.6875, -7.7742, -5.039, -7.2746, -6.8315, -8.1411, -6.9047, -5.467, -8.3442, -8.1667, -8.018, -8.1798, -6.8458, -8.2135, -7.7061, -7.5449, -5.0297, -7.1134, -8.1076, -8.1155, -7.6549, -8.014, -6.2835, -4.7874, -5.0881, -3.0904, -4.3046, -7.1733, -3.9752, -6.2811, -5.7442, -4.9109, -6.223, -5.6155, -4.7624, -4.4842, -4.8004, -4.6075, -4.7375, -4.5612, -4.8575, -5.342, -4.9084, -5.7614, -5.6575, -5.5409, -4.6706, -4.4427, -5.0083, -5.1991, -4.8182, -5.0341, -5.231, -5.1287, -5.3212, -4.9547, -5.2573, -5.2679, -5.0476, -5.1421, -5.3059, -8.0135, -8.3401, -8.3413, -8.7068, -8.2012, -9.1182, -8.8344, -9.1198, -8.8354, -8.4359, -8.2921, -8.6299, -7.0253, -8.4476, -7.1671, -7.5854, -6.8311, -7.7079, -4.9197, -7.5004, -9.0827, -8.4786, -7.7549, -6.6531, -8.7622, -8.6666, -6.7059, -5.5727, -9.1365, -9.2989, -5.8277, -6.6783, -6.4823, -7.8557, -5.4011, -5.4171, -6.506, -6.399, -6.945, -7.0455, -5.5216, -5.7519, -5.9616, -4.7605, -5.7301, -5.3191, -5.9613, -5.8131, -4.9993, -6.0625, -4.8669, -4.8317, -4.374, -5.299, -5.6556, -5.1959, -5.2922, -5.8393, -5.3064, -5.0919, -5.5764, -5.164, -5.0307, -5.2926, -5.1651, -4.9008, -5.1471, -4.9829, -5.2326, -5.1826, -5.2053, -5.049, -5.3335, -5.1042, -5.4214, -5.3437, -5.4301], \"loglift\": [30.0, 29.0, 28.0, 27.0, 26.0, 25.0, 24.0, 23.0, 22.0, 21.0, 20.0, 19.0, 18.0, 17.0, 16.0, 15.0, 14.0, 13.0, 12.0, 11.0, 10.0, 9.0, 8.0, 7.0, 6.0, 5.0, 4.0, 3.0, 2.0, 1.0, 1.8856, 1.8809, 1.8781, 1.8774, 1.8771, 1.8666, 1.8505, 1.8386, 1.8276, 1.8153, 1.8131, 1.8083, 1.8062, 1.8022, 1.8006, 1.7869, 1.7713, 1.7702, 1.7694, 1.7625, 1.7616, 1.7569, 1.7436, 1.7358, 1.7267, 1.724, 1.7233, 1.7155, 1.713, 1.7061, 1.7035, 1.6875, 1.5574, 1.5423, 1.4017, 1.6876, 1.6906, 1.3864, 1.4896, 1.3268, 1.595, 1.2939, 1.524, 1.4562, 1.6592, 1.3371, 1.3691, 1.5285, 1.0998, 1.1433, 0.7956, 0.9787, 1.0436, 1.2767, 1.2354, 0.8424, 0.5963, 0.7034, 0.7232, 1.0142, 0.4573, 0.5537, 0.132, 0.3314, 0.4974, 0.6376, 0.3928, 0.331, 0.0404, -0.2984, 0.1963, 0.04, 0.4866, 0.4456, -0.4314, -0.0184, 2.7459, 2.7336, 2.7028, 2.57, 2.5102, 2.4936, 2.4932, 2.4467, 2.4451, 2.3717, 2.3709, 2.3489, 2.3327, 2.3126, 2.3025, 2.2911, 2.2603, 2.2585, 2.2548, 2.2344, 2.2266, 2.2091, 2.1911, 2.1821, 2.1814, 2.1804, 2.18, 2.1624, 2.1608, 2.1486, 2.1483, 2.1343, 2.1393, 2.0138, 2.1478, 2.0353, 2.031, 1.989, 1.9009, 1.7588, 1.8843, 1.7642, 1.6174, 1.7504, 1.4487, 2.0231, 2.0153, 1.5256, 1.755, 1.7587, 1.7721, 1.5274, 1.1023, 1.0047, 1.3154, 1.2614, 0.9274, 1.322, 1.2943, 0.804, 1.2283, 0.9224, 1.0824, 0.7109, 0.8619, 0.6103, 0.7181, 0.3301, 0.2537, 0.6525, 0.9663, 0.8717, 0.5693, 0.3793, 0.2543, 0.5133, 2.0274, 2.0256, 2.0238, 2.0238, 2.0229, 2.0221, 2.0213, 2.017, 2.016, 2.01, 2.0099, 2.0079, 2.0058, 1.9836, 1.967, 1.9331, 1.931, 1.9114, 1.9056, 1.9015, 1.8961, 1.8613, 1.8602, 1.802, 1.7782, 1.7739, 1.7736, 1.7648, 1.7487, 1.732, 1.725, 1.7292, 1.6766, 1.6126, 1.4411, 1.4317, 1.3724, 1.1758, 1.2131, 1.4405, 1.1532, 1.1854, 1.1789, 1.2575, 1.4905, 1.2262, 1.1014, 1.5769, 1.2569, 1.1287, 1.0747, 0.705, 0.8058, 1.1579, 0.944, 0.677, 0.5732, 0.512, 0.9396, 0.8701, 1.0254, 0.7448, 0.8644, 0.7934, 0.5135, 0.4551, 0.3605, 0.9595, 0.2086, -0.2999, 0.0974, 2.6636, 2.5758, 2.5115, 2.496, 2.4873, 2.4741, 2.4214, 2.3987, 2.3317, 2.3061, 2.2846, 2.2649, 2.2631, 2.234, 2.2235, 2.218, 2.2021, 2.2004, 2.1996, 2.1689, 2.1681, 2.1639, 2.1597, 2.1482, 2.1461, 2.1421, 2.1321, 2.1298, 2.1283, 2.1137, 2.0906, 2.0774, 2.0816, 2.057, 2.0923, 2.012, 2.0381, 1.5439, 1.9629, 1.5636, 1.4593, 1.8167, 1.2763, 1.4522, 1.0611, 1.5117, 1.6081, 1.3435, 1.4713, 1.4774, 1.212, 1.6204, 1.7501, 0.9084, 0.9471, 0.9881, 0.8924, 1.1945, 0.9745, 0.9099, 0.9469, 1.1004, 1.0639, 0.7043, 1.375, 1.0058, 1.0905, 0.6107, 0.7443, 0.5383, 0.2107, 0.7867, 0.3181, 0.285, 0.1256, 0.2064, 0.3919, 0.2448, 3.096, 3.088, 3.036, 3.0323, 3.0157, 2.9721, 2.9688, 2.9414, 2.9378, 2.9235, 2.9179, 2.8845, 2.8843, 2.8524, 2.8397, 2.8384, 2.8261, 2.8256, 2.8132, 2.8119, 2.8063, 2.7875, 2.7868, 2.7813, 2.7572, 2.7506, 2.7193, 2.7193, 2.6924, 2.6603, 2.6366, 2.5359, 2.6417, 2.5268, 2.4863, 2.5918, 2.0875, 2.0126, 2.2414, 2.4196, 1.9554, 2.2015, 1.7172, 1.531, 1.5443, 1.7005, 1.9196, 1.5956, 1.7181, 1.0806, 2.1148, 1.8341, 1.782, 1.6615, 1.9095, 0.3832, 0.9134, 1.0368, 0.5648, 1.7409, 1.5439, 1.3747, 1.4959, 1.0713, 0.2315, 0.5089, 0.8447, 0.5353, -0.3347, 0.0909, 0.2113, 0.1216, 0.0399, 3.1136, 3.0275, 3.0189, 2.9852, 2.9682, 2.9216, 2.9052, 2.9045, 2.859, 2.8482, 2.8056, 2.788, 2.7521, 2.7507, 2.7038, 2.6878, 2.6694, 2.6555, 2.6494, 2.643, 2.6386, 2.6364, 2.6143, 2.6123, 2.5706, 2.5696, 2.5666, 2.5477, 2.5445, 2.5431, 2.4966, 2.4653, 2.2047, 2.3382, 2.154, 2.0353, 2.3441, 1.8966, 1.7931, 1.7916, 1.4773, 1.6838, 1.1341, 2.1118, 1.4463, 1.3125, 1.2907, 1.3632, 0.9992, 1.0043, 1.3009, 0.8503, 1.3104, 1.1402, 0.9963, 1.1168, 0.6153, 0.3081, 1.33, 0.3698, 0.4655, 0.7545, 0.7521, -0.4277, 2.1379, 2.1309, 2.1285, 2.1283, 2.0961, 2.0741, 2.0722, 2.0278, 1.9997, 1.9993, 1.9852, 1.9847, 1.9834, 1.9795, 1.9759, 1.9749, 1.9608, 1.9542, 1.9504, 1.9486, 1.9471, 1.9466, 1.9447, 1.9423, 1.9387, 1.9306, 1.9225, 1.9164, 1.9102, 1.9075, 1.8976, 1.8898, 1.8606, 1.8603, 1.8428, 1.822, 1.8407, 1.7734, 1.4761, 1.8345, 1.7059, 1.679, 0.8915, 1.1432, 1.368, 1.1667, 1.0722, 1.6406, 0.7576, 1.1617, 0.8591, 0.9224, 0.9762, 0.87, 0.7396, 0.4655, 1.2753, 1.3984, 0.6471, 0.9628, 0.9896, 1.1189, 0.3448, 0.5412, 0.5085, 0.747, 0.5668, 0.4594, 0.1578, 0.2547, -0.0731, 0.5448, 0.5386, 0.5755, 0.2102, -0.2059, -0.4069, 0.4375, -0.1882, 0.0021, -0.1541, 1.7536, 1.7504, 1.7496, 1.749, 1.7479, 1.7476, 1.746, 1.7442, 1.7441, 1.7437, 1.7424, 1.7413, 1.7412, 1.7395, 1.738, 1.7345, 1.7325, 1.7302, 1.7301, 1.7273, 1.7252, 1.725, 1.7193, 1.7146, 1.7132, 1.7072, 1.7051, 1.7019, 1.6916, 1.687, 1.6501, 1.6566, 1.6594, 1.6701, 1.5303, 1.6108, 1.4309, 1.4477, 1.4853, 1.5476, 1.3259, 1.3352, 1.446, 1.3525, 1.6387, 1.2034, 1.3289, 1.343, 1.5718, 1.0873, 1.0834, 1.3982, 1.1877, 1.2012, 1.2884, 0.8933, 1.4594, 1.2773, 0.9781, 0.991, 0.826, 0.8033, 0.852, 1.0862, 0.7319, 0.9707, 0.952, 1.1745, 0.7018, 0.5862, 0.9112, 0.5855, 0.8791, 0.3846, 0.4021, 0.5173, 0.5553, 0.5701, 0.3661, 0.5324, 0.3123, 0.2919, 0.095, 0.3447, 0.0997, -0.1161, -0.4421, 0.3562, -0.0605, -0.1521, -0.8066, -0.6549, -0.5487, -0.0044, 2.8663, 2.8651, 2.8582, 2.8508, 2.833, 2.8309, 2.8114, 2.7814, 2.7515, 2.7129, 2.6942, 2.6864, 2.6668, 2.652, 2.6463, 2.6458, 2.6395, 2.6361, 2.6291, 2.626, 2.6001, 2.5941, 2.5804, 2.5654, 2.5513, 2.548, 2.5441, 2.5397, 2.5122, 2.4992, 2.352, 2.3558, 2.2266, 2.0045, 2.4397, 1.7782, 2.2195, 2.0825, 1.6374, 2.0581, 1.8267, 1.4876, 1.368, 1.362, 1.2282, 1.2297, 1.1313, 1.2033, 1.4302, 1.1183, 1.6504, 1.5609, 1.4738, 0.7428, 0.4707, 0.979, 1.1474, 0.6394, 0.8454, 1.0451, 0.8693, 1.0944, 0.4516, 0.823, 0.6893, -0.4426, 0.0473, 0.7405, 1.713, 1.7104, 1.7102, 1.709, 1.7067, 1.7015, 1.7012, 1.7001, 1.6979, 1.6943, 1.6855, 1.6826, 1.6826, 1.6824, 1.6685, 1.6671, 1.6632, 1.6528, 1.6255, 1.6241, 1.5864, 1.5711, 1.5687, 1.5598, 1.5546, 1.5513, 1.5324, 1.5311, 1.5292, 1.5216, 1.5029, 1.4784, 1.4261, 1.5025, 1.3446, 1.3269, 1.4083, 1.3837, 1.4262, 1.4286, 1.173, 1.1795, 1.1881, 0.9163, 1.0747, 0.9075, 1.0535, 0.9764, 0.6935, 1.0313, 0.5644, 0.5503, 0.3337, 0.6986, 0.8478, 0.5917, 0.5797, 0.8987, 0.5719, 0.4272, 0.721, 0.4133, 0.2891, 0.4345, 0.2925, 0.0572, 0.1704, -0.0695, 0.1738, 0.0876, 0.0735, -0.2668, 0.2596, -0.4991, 0.3177, 0.0156, -0.0167]}, \"token.table\": {\"Topic\": [1, 2, 5, 7, 1, 3, 4, 6, 7, 8, 9, 10, 1, 2, 3, 4, 5, 6, 7, 8, 9, 10, 1, 2, 3, 4, 5, 6, 7, 8, 9, 10, 8, 1, 2, 3, 4, 5, 6, 7, 8, 10, 1, 2, 3, 4, 5, 6, 7, 8, 9, 10, 2, 3, 5, 8, 3, 4, 1, 2, 5, 7, 8, 10, 1, 3, 4, 5, 6, 7, 8, 9, 10, 4, 6, 8, 1, 3, 4, 1, 10, 4, 5, 10, 1, 4, 7, 3, 7, 1, 7, 3, 5, 9, 10, 5, 9, 3, 1, 8, 1, 2, 3, 4, 5, 6, 7, 8, 9, 10, 1, 2, 3, 4, 6, 7, 8, 9, 10, 1, 2, 3, 4, 5, 6, 7, 8, 10, 1, 2, 3, 4, 5, 7, 8, 9, 10, 3, 7, 9, 10, 1, 2, 3, 4, 5, 6, 7, 8, 9, 10, 1, 2, 3, 4, 5, 6, 7, 8, 9, 10, 5, 10, 3, 1, 2, 3, 4, 5, 6, 7, 8, 9, 10, 8, 9, 10, 1, 4, 6, 8, 2, 10, 1, 8, 10, 8, 1, 2, 3, 4, 5, 6, 7, 8, 9, 10, 1, 3, 7, 8, 10, 1, 2, 3, 4, 5, 6, 7, 8, 9, 10, 1, 2, 3, 5, 7, 8, 9, 10, 1, 2, 3, 4, 5, 7, 8, 9, 10, 5, 10, 1, 2, 4, 8, 9, 10, 10, 6, 8, 1, 2, 3, 4, 5, 6, 7, 8, 9, 10, 1, 1, 8, 10, 1, 2, 3, 4, 5, 7, 8, 9, 10, 1, 2, 5, 9, 1, 3, 4, 9, 1, 3, 4, 6, 7, 8, 9, 10, 1, 2, 3, 4, 5, 6, 7, 8, 9, 10, 1, 2, 3, 4, 5, 6, 7, 8, 9, 10, 1, 3, 8, 10, 4, 7, 3, 10, 1, 3, 4, 6, 7, 8, 10, 3, 9, 9, 10, 10, 1, 2, 3, 4, 5, 6, 7, 8, 9, 10, 4, 9, 10, 3, 1, 3, 4, 5, 6, 7, 8, 10, 1, 3, 4, 5, 7, 8, 9, 10, 3, 1, 5, 9, 5, 8, 1, 2, 4, 5, 7, 8, 9, 10, 5, 10, 8, 1, 2, 3, 4, 5, 6, 7, 8, 9, 10, 1, 2, 3, 4, 5, 6, 7, 8, 9, 10, 1, 1, 2, 4, 5, 6, 7, 8, 9, 10, 1, 2, 3, 4, 5, 8, 10, 7, 10, 2, 3, 6, 8, 10, 1, 8, 3, 1, 4, 10, 1, 2, 3, 4, 5, 6, 7, 8, 9, 10, 1, 2, 3, 4, 5, 6, 7, 8, 9, 10, 10, 1, 2, 3, 4, 5, 6, 7, 8, 9, 10, 1, 2, 5, 1, 2, 4, 5, 6, 7, 8, 9, 10, 1, 2, 3, 4, 5, 6, 7, 8, 9, 10, 3, 6, 3, 4, 6, 8, 2, 6, 8, 1, 3, 6, 7, 7, 5, 6, 7, 8, 6, 8, 10, 3, 9, 8, 4, 5, 1, 3, 7, 8, 1, 4, 7, 8, 9, 10, 1, 2, 3, 4, 5, 6, 7, 8, 9, 10, 1, 3, 4, 6, 7, 8, 10, 1, 3, 4, 5, 6, 7, 8, 9, 10, 1, 3, 4, 6, 7, 8, 10, 3, 4, 5, 1, 3, 7, 8, 10, 3, 8, 1, 2, 3, 4, 5, 6, 7, 8, 9, 10, 1, 2, 4, 5, 7, 8, 9, 10, 1, 2, 3, 4, 5, 7, 8, 9, 10, 1, 2, 5, 7, 8, 9, 10, 1, 2, 3, 4, 5, 6, 7, 8, 9, 10, 3, 1, 2, 3, 4, 5, 6, 7, 8, 9, 10, 1, 2, 3, 4, 5, 6, 7, 8, 9, 10, 1, 3, 4, 5, 7, 8, 10, 4, 8, 10, 3, 9, 10, 1, 4, 7, 10, 1, 5, 7, 9, 1, 2, 3, 4, 5, 6, 7, 8, 9, 10, 2, 8, 10, 1, 2, 3, 5, 7, 8, 10, 1, 2, 3, 4, 7, 8, 10, 1, 2, 4, 8, 10, 1, 5, 1, 2, 3, 4, 6, 7, 8, 9, 10, 1, 2, 8, 1, 3, 4, 5, 6, 7, 8, 9, 10, 1, 2, 5, 7, 8, 9, 10, 1, 3, 6, 7, 8, 9, 10, 1, 2, 3, 4, 5, 6, 7, 8, 9, 10, 7, 8, 1, 3, 6, 7, 8, 9, 10, 1, 2, 3, 4, 5, 6, 7, 8, 9, 10, 9, 1, 2, 3, 4, 5, 6, 7, 8, 9, 10, 1, 2, 3, 4, 6, 7, 8, 9, 10, 3, 5, 6, 8, 2, 3, 7, 8, 3, 5, 7, 8, 10, 1, 2, 10, 5, 7, 1, 2, 3, 4, 5, 6, 7, 8, 9, 10, 1, 2, 3, 4, 8, 4, 5, 7, 10, 1, 2, 3, 4, 6, 7, 8, 9, 10, 1, 2, 3, 4, 5, 6, 7, 8, 9, 10, 1, 2, 3, 4, 5, 6, 7, 8, 9, 10, 10, 1, 10, 7, 8, 1, 6, 10, 1, 2, 7, 8, 10, 1, 2, 4, 5, 7, 8, 10, 7, 8, 7, 10, 1, 8, 1, 3, 7, 10, 10, 1, 3, 8, 9, 10, 1, 7, 1, 2, 1, 2, 3, 4, 5, 6, 7, 8, 9, 10, 1, 2, 3, 4, 5, 7, 8, 9, 10, 1, 2, 7, 1, 2, 3, 4, 5, 7, 8, 10, 1, 2, 3, 4, 5, 6, 7, 8, 9, 10, 10, 1, 2, 3, 4, 5, 6, 7, 8, 9, 10, 4, 8, 1, 2, 3, 4, 5, 7, 8, 10, 8, 10, 10, 1, 2, 5, 1, 2, 3, 4, 5, 6, 7, 8, 9, 10, 4, 5, 9, 7, 1, 2, 3, 4, 6, 7, 8, 9, 10, 5, 6, 7, 8, 1, 2, 3, 4, 5, 6, 7, 8, 9, 10, 1, 2, 3, 4, 5, 7, 8, 9, 10, 1, 2, 3, 4, 5, 6, 7, 8, 9, 10, 1, 3, 4, 6, 7, 8, 9, 10, 3, 10, 1, 10, 5, 7, 8, 1, 2, 3, 4, 5, 6, 7, 8, 9, 10, 8, 9, 10, 1, 5, 7, 8, 10, 1, 5, 8, 10, 1, 2, 3, 4, 5, 6, 7, 8, 9, 10, 5, 8, 1, 2, 3, 4, 5, 6, 7, 8, 9, 10, 3, 3, 7, 7, 8, 1, 2, 4, 6, 10, 5, 7, 5, 7, 5, 7, 1, 2, 3, 4, 5, 6, 7, 8, 9, 10, 1, 3, 6, 7, 8, 10, 4, 10, 8, 1, 2, 3, 4, 8, 10, 4, 5, 10, 7, 8, 1, 3, 6, 10, 4, 5, 1, 2, 3, 4, 5, 6, 7, 8, 9, 10, 1, 2, 3, 4, 5, 6, 7, 8, 9, 10, 1, 10, 5, 10, 3, 10, 1, 9, 1, 2, 10, 1, 2, 3, 8, 3, 1, 2, 4, 6, 7, 8, 10, 1, 2, 3, 4, 5, 6, 7, 8, 9, 10, 1, 2, 3, 4, 6, 7, 8, 9, 10, 1, 7, 1, 5, 7, 10, 1, 3, 7, 8, 10, 1, 3, 6, 7, 3, 7, 8, 1, 2, 10, 1, 4, 5, 7, 8, 10, 1, 4, 5, 1, 3, 4, 6, 8, 1, 5, 7, 8, 9, 10, 7, 8, 10, 3, 7, 8, 9, 1, 2, 3, 4, 5, 6, 7, 8, 9, 10, 1, 3, 4, 7, 8, 10, 3, 6, 7, 2, 4, 5, 1, 2, 3, 4, 5, 7, 8, 9, 10, 1, 2, 3, 4, 5, 6, 7, 8, 9, 10, 5, 7, 8, 10, 5, 8, 9, 1, 7, 8, 1, 3, 4, 5, 6, 7, 8, 9, 10, 6, 7, 3, 7, 10, 8, 1, 2, 3, 4, 5, 6, 7, 8, 9, 10, 2, 10, 10, 10, 1, 2, 3, 4, 5, 6, 7, 8, 9, 10, 1, 2, 3, 4, 5, 6, 7, 8, 9, 10, 1, 5, 1, 2, 3, 4, 5, 6, 7, 8, 9, 10, 3, 6, 7, 8, 9, 10, 1, 2, 3, 4, 5, 6, 7, 8, 9, 10, 9, 10, 3, 8, 3, 4, 7, 7, 10, 1, 2, 3, 4, 5, 6, 7, 8, 9, 10, 1, 1, 4, 5, 7, 8, 9, 10, 7, 10, 1, 2, 3, 4, 5, 6, 7, 8, 9, 10, 1, 2, 3, 4, 5, 6, 7, 8, 9, 10, 3, 1, 3, 5, 10, 8, 1, 2, 3, 4, 5, 6, 7, 8, 9, 10, 1, 3, 4, 5, 7, 8, 9, 10, 1, 2, 3, 4, 5, 6, 7, 8, 9, 10, 4, 8, 3, 6, 8, 1, 2, 3, 4, 6, 7, 8, 9, 10, 1, 2, 5, 2, 6, 10, 1, 2, 3, 4, 5, 6, 7, 8, 9, 10, 1, 2, 3, 4, 5, 7, 8, 10, 1, 3, 4, 5, 6, 7, 8, 9, 10, 1, 2, 3, 4, 5, 6, 7, 8, 9, 10, 10, 7, 8, 10, 8, 10, 1, 2, 3, 5, 7, 8, 9, 10, 1, 2, 3, 5, 6, 7, 8, 9, 10, 1, 2, 3, 4, 5, 7, 8, 9, 10, 1, 2, 4, 5, 6, 7, 8, 9, 10, 8, 1, 2, 3, 4, 5, 6, 7, 8, 9, 10, 3, 4, 7, 8, 10, 1, 8, 1, 2, 3, 4, 5, 7, 8, 9, 10, 8, 1, 2, 3, 4, 6, 7, 8, 9, 10, 1, 3, 10, 8, 8, 7, 9, 1, 2, 3, 4, 5, 6, 7, 8, 9, 10, 3, 4, 8, 1, 2, 3, 4, 5, 6, 7, 8, 9, 10, 1, 3, 5, 6, 7, 8, 9, 10, 2, 7, 8, 10, 1, 2, 3, 4, 5, 6, 7, 8, 9, 10, 1, 2, 5, 7, 8, 9, 10, 5, 8, 1, 3, 4, 8, 10, 1, 3, 7, 8, 2, 6, 8, 10, 1, 2, 3, 4, 5, 6, 7, 8, 9, 10, 1, 2, 3, 7, 8, 9, 10, 1, 2, 1, 2, 1, 2, 1, 2, 3, 4, 5, 6, 7, 8, 9, 10, 4, 10, 1, 2, 10, 7, 10, 5, 7, 10, 7, 8, 2, 5, 10, 9, 1, 2, 8, 9, 10, 1, 3, 4, 5, 8, 10, 1, 2, 3, 4, 5, 6, 7, 8, 9, 10, 1, 7, 9, 10, 8, 10, 5, 10, 3, 7, 8, 10, 1, 2, 3, 4, 5, 6, 7, 8, 9, 10, 1, 2, 3, 4, 5, 6, 7, 8, 9, 10, 1, 3, 6, 7, 4, 8, 10, 5, 7, 10, 2, 5, 8, 10, 1, 2, 1, 10, 3, 1, 2, 3, 4, 5, 6, 7, 8, 9, 10, 1, 2, 1, 2, 3, 4, 5, 6, 7, 8, 9, 10, 1, 2, 3, 4, 5, 6, 7, 8, 10, 1, 2, 3, 4, 5, 6, 7, 8, 9, 10, 1, 2, 3, 5, 7, 8, 9, 10, 4, 5, 7, 8, 10, 2, 4, 5, 7, 8, 1, 2, 3, 4, 5, 6, 7, 8, 9, 10, 1, 2, 3, 4, 5, 6, 7, 8, 9, 10, 7, 3, 4, 6, 7, 8, 10, 8, 1, 3, 4, 7, 8, 10, 1, 2, 3, 4, 5, 6, 7, 8, 10, 1, 2, 1, 3, 4, 6, 7, 8, 10, 1, 2, 3, 4, 5, 6, 7, 8, 10, 1, 2, 3, 4, 5, 6, 7, 8, 10, 1, 4, 5, 7, 8, 10, 1, 2, 4, 7, 8, 9, 10, 1, 2, 3, 4, 5, 6, 7, 8, 9, 10, 1, 2, 3, 4, 5, 6, 7, 8, 9, 10, 1, 2, 7, 8, 10, 1, 2, 3, 5, 6, 7, 8, 9, 10, 4, 8, 10, 7, 8, 1, 2, 3, 4, 5, 6, 7, 8, 10, 1, 2, 3, 5, 7, 10, 1, 8, 10, 1, 2, 3, 4, 5, 6, 7, 8, 10, 1, 2, 3, 4, 5, 6, 7, 8, 10, 7, 8, 9, 10, 1, 2, 10, 2, 1, 2, 3, 4, 5, 6, 7, 8, 9, 10, 1, 2, 3, 4, 5, 6, 7, 8, 9, 10, 3, 4, 6, 10, 1, 2, 3, 4, 5, 6, 7, 8, 9, 10, 1, 2, 1, 2, 3, 4, 5, 6, 7, 8, 9, 10, 1, 10, 1, 9, 10, 1, 4, 1, 2, 3, 4, 5, 6, 7, 8, 9, 10, 1, 6, 1, 7, 3, 5, 10, 4, 8, 9, 1, 2, 3, 4, 6, 7, 8, 9, 10, 2, 10, 2, 8, 8, 5, 8, 1, 2, 3, 4, 5, 6, 7, 8, 9, 10, 3, 4, 6, 8, 10, 1, 3, 4, 6, 7, 8, 10, 8, 1, 2, 3, 4, 5, 6, 7, 8, 9, 10, 1, 2, 3, 4, 5, 6, 7, 8, 10, 1, 2, 1, 2, 3, 4, 5, 6, 7, 8, 9, 10, 1, 2, 3, 4, 5, 6, 7, 8, 9, 10, 4, 10, 1, 2, 3, 4, 5, 6, 7, 8, 9, 10, 10, 1, 2, 3, 4, 5, 6, 7, 8, 9, 10, 1, 7, 8, 10, 2, 8, 10, 3, 7, 8, 9, 10, 1, 2, 10, 1, 2, 3, 5, 7, 8, 9, 10, 7, 8, 3, 6, 8, 3, 6, 1, 2, 4, 7, 8, 10, 3, 8, 2, 4, 10, 1, 2, 3, 4, 5, 6, 7, 8, 9, 10, 1, 2, 3, 4, 5, 7, 8, 9, 10, 1, 2, 3, 4, 5, 6, 7, 8, 10, 8, 1, 3, 8, 7, 9, 1, 2, 3, 4, 5, 6, 7, 8, 9, 10, 8, 1, 2, 4, 7, 8, 9, 10, 7, 8, 1, 3, 4, 6, 7, 8, 9, 10, 1, 4, 5, 7, 8, 9, 10, 1, 3, 4, 7, 8, 9, 10, 1, 2, 3, 4, 6, 7, 8, 9, 10, 1, 3, 4, 6, 7, 8, 9, 10, 1, 3, 7, 1, 2, 5, 10, 1, 2, 1, 2, 3, 4, 6, 7, 8, 10, 1, 5, 8, 10, 1, 2, 3, 5, 8, 7, 10, 1, 2, 4, 5, 7, 8, 9, 10, 1, 2, 7, 9, 10, 4, 7, 8, 8, 1, 2, 3, 4, 5, 7, 8, 9, 10, 1, 2, 3, 4, 5, 6, 7, 8, 9, 10, 1, 3, 4, 6, 7, 8, 9, 10, 7, 8, 3, 1, 3, 7, 8, 9, 10, 3, 8, 9, 10, 8, 3, 4, 8, 9, 10, 8, 1, 5, 8, 1, 8, 9, 1, 2, 9, 1, 8, 1, 2, 10, 1, 2, 3, 4, 5, 7, 8, 9, 10, 1, 2, 3, 4, 5, 6, 7, 8, 9, 10, 1, 2, 3, 4, 5, 6, 7, 8, 9, 10, 5, 8, 10, 5, 7, 8, 1, 2, 3, 4, 5, 6, 7, 8, 9, 10, 1, 4, 1, 2, 3, 6, 8, 10, 1, 7, 8, 1, 3, 5, 7, 8, 9, 10, 1, 3, 6, 4, 8, 10, 6, 9, 10, 1, 2, 3, 4, 5, 6, 7, 8, 9, 10, 1, 2, 3, 4, 5, 6, 7, 8, 9, 10, 1, 1, 2, 1, 2, 8, 1, 2, 3, 4, 5, 6, 7, 8, 9, 10, 1, 2, 3, 4, 5, 6, 7, 8, 9, 10, 1, 2, 3, 4, 5, 6, 7, 8, 9, 10, 1, 2, 3, 4, 5, 6, 7, 8, 9, 10, 3, 1, 9, 2, 3, 10, 1, 3, 4, 5, 7, 8, 10, 1, 2, 3, 4, 5, 6, 7, 8, 9, 10, 1, 2, 3, 4, 5, 6, 7, 8, 9, 10, 4, 10, 3, 4, 6, 7, 8, 10, 1, 2, 3, 4, 5, 6, 7, 8, 9, 10, 3, 7, 8, 9, 10, 1, 2, 3, 4, 5, 6, 7, 8, 9, 10, 1, 2, 3, 4, 6, 7, 8, 9, 10, 1, 2, 3, 4, 5, 6, 7, 8, 9, 10, 1, 2, 5, 8, 10, 1, 2, 5, 8, 1, 2, 5, 7, 8, 9, 10, 1, 2, 4, 5, 8, 10, 1, 2, 5, 1, 5, 7, 8, 9, 10, 1, 1, 2, 3, 4, 5, 6, 7, 8, 9, 10, 3, 5, 7, 8, 10, 1, 3, 7, 8, 9, 10, 2, 1, 2, 3, 4, 5, 6, 7, 8, 9, 10, 5, 10, 1, 4, 10, 1, 3, 5, 7, 8, 9, 10, 1, 3, 4, 6, 7, 8, 10, 1, 2, 3, 4, 5, 6, 7, 8, 9, 10, 3, 10, 8, 3, 4, 6, 8, 10, 2, 7, 8, 5, 8, 10, 4, 5, 10, 1, 6, 8, 10, 8, 1, 2, 3, 4, 7, 8, 10, 1, 4, 6, 8, 10, 8, 8, 2, 3, 5, 7, 8, 9, 10, 8, 3, 4, 6, 1, 4, 7, 8, 9, 1, 2, 3, 4, 5, 6, 7, 8, 9, 10, 3, 7, 8, 2, 3, 4, 5, 6, 8, 9, 10, 1, 3, 4, 5, 7, 8, 10, 1, 2, 3, 4, 5, 6, 7, 8, 9, 10, 3, 1, 3, 7, 8, 9, 1, 2, 3, 4, 5, 7, 8, 9, 10, 7, 9, 10, 9, 10, 2, 8, 1, 5, 10, 1, 3, 4, 6, 8, 10, 1, 2, 3, 4, 7, 8, 10, 1, 2, 3, 4, 5, 6, 7, 8, 9, 10, 3, 4, 10, 1, 2, 3, 4, 5, 7, 8, 9, 10, 1, 2, 3, 4, 5, 6, 7, 8, 9, 10, 1, 3, 4, 5, 6, 7, 8, 9, 10, 2, 5, 8, 4, 10, 1, 2, 3, 4, 5, 6, 7, 8, 9, 10, 7, 8, 10, 2, 4, 5, 7, 8, 9, 10, 1, 2, 8, 1, 3, 4, 7, 8, 10, 1, 2, 3, 4, 5, 7, 8, 9, 10, 7, 8, 10, 7, 8, 10, 4, 6, 7, 10, 1, 2, 3, 4, 5, 7, 8, 9, 10, 3, 4, 10, 1, 9, 10, 8, 9, 4, 5, 7, 8, 7, 9, 1, 2, 3, 4, 5, 6, 7, 8, 9, 10, 1, 2, 3, 4, 5, 7, 8, 9, 10, 9, 9, 1, 2, 5, 8, 10, 3, 4, 5, 10, 1, 2, 3, 4, 5, 6, 7, 8, 9, 10, 1, 2, 4, 5, 7, 8, 10, 8, 2, 4, 5, 10, 7, 8, 9, 1, 2, 3, 4, 5, 6, 7, 8, 9, 10, 1, 3, 7, 8, 10], \"Freq\": [0.22102813324873882, 0.552570333121847, 0.11051406662436941, 0.11051406662436941, 0.13549246761406208, 0.02167879481824993, 0.005419698704562483, 0.005419698704562483, 0.46067438988781106, 0.157171262432312, 0.10297427538668717, 0.10839397409124966, 0.16489643657657313, 0.008678759819819639, 0.19527209594594186, 0.013018139729729457, 0.013018139729729457, 0.013018139729729457, 0.35582915261260517, 0.11716325756756511, 0.060751318738737466, 0.060751318738737466, 0.28528264715588797, 0.11825187446876186, 0.10051409329844758, 0.0384318592023476, 0.05469149194180236, 0.02217222646289285, 0.025128523324611896, 0.05616964037266188, 0.013303335877735708, 0.2867607955867475, 0.9919444525667769, 0.16114713103590922, 0.36136023323203886, 0.004883246395027552, 0.058598956740330624, 0.07813194232044084, 0.004883246395027552, 0.024416231975137762, 0.048832463950275525, 0.24904556614640516, 0.12957328969561868, 0.18396207796291544, 0.05758812875360831, 0.05278911802414095, 0.03359307510627151, 0.12477427896615134, 0.043191096565206234, 0.09118120385987982, 0.0015996702431557864, 0.2831416330385742, 0.08272555678448616, 0.2481766703534585, 0.6618044542758893, 0.9876974483264792, 0.2715392625021172, 0.6788481562552929, 0.15832511024650517, 0.35831472318945906, 0.0749961048536077, 0.024998701617869237, 0.04999740323573847, 0.32498312103230004, 0.16932151629309775, 0.23225517721619604, 0.07342260441028133, 0.0014984204981690068, 0.03146683046154914, 0.20678202874732293, 0.0689273429157743, 0.037460512454225166, 0.17681361878394278, 0.09387887177502094, 0.46939435887510467, 0.46939435887510467, 0.3217500689914995, 0.16087503449574975, 0.643500137982999, 0.7977430322125161, 0.18130523459375364, 0.24501422954688284, 0.6125355738672071, 0.12250711477344142, 0.24386685532522354, 0.48773371065044707, 0.24386685532522354, 0.7897187107697824, 0.21936630854716177, 0.14626956849337347, 0.8776174109602408, 0.08606841847978589, 0.08606841847978589, 0.7746157663180729, 0.04303420923989294, 0.08581362628303824, 0.9010430759719015, 1.0026845318981623, 1.013325977390317, 0.9993850051621702, 0.09668959560467956, 0.059233265775839726, 0.1306616156819994, 0.08797882122587959, 0.18118410707903918, 0.016550471319719925, 0.03484309751519984, 0.17857087476539918, 0.06271757552735971, 0.1515674741911193, 0.023136442963941864, 0.011568221481970932, 0.20822798667547676, 0.034704664445912796, 0.02892055370492733, 0.4164559733509535, 0.06362521815084013, 0.034704664445912796, 0.17352332222956396, 0.025222209937471957, 0.014012338854151088, 0.3615183424370981, 0.07006169427075544, 0.0028024677708302177, 0.22699988943724764, 0.08407403312490652, 0.1429258563123411, 0.07006169427075544, 0.007947906575825009, 0.007947906575825009, 0.015895813151650017, 0.015895813151650017, 0.1669060380923252, 0.007947906575825009, 0.055635346030775065, 0.015895813151650017, 0.7153115918242509, 0.07705845960156527, 0.06935261364140874, 0.847643055617218, 0.007705845960156527, 0.6117611413823117, 0.15801413367457814, 0.027543748071715456, 0.021020228791572323, 0.005798683804571675, 0.007248354755714594, 0.017396051413715027, 0.07248354755714594, 0.03551693830300151, 0.04349012853428756, 0.24514678161627204, 0.11332256886035218, 0.0023127054869459627, 0.0185016438955677, 0.004625410973891925, 0.006938116460837888, 0.11100986337340621, 0.16420208957316335, 0.28908818586824536, 0.046254109738919254, 0.7417278481966274, 0.2472426160655425, 1.0005334445032839, 0.02449396584290294, 0.012891560969948916, 0.39319260958344193, 0.00773493658196935, 0.002578312193989783, 0.44218054126924783, 0.011602404872954023, 0.052855399976790556, 0.002578312193989783, 0.04898793168580588, 0.049557716969365485, 0.6442503206017514, 0.2973463018161929, 0.7361298347461211, 0.10224025482585015, 0.061344152895510096, 0.08179220386068013, 0.682590841899089, 0.3033737075107062, 0.8111984753284557, 0.06759987294403798, 0.06759987294403798, 0.9857488139072461, 0.007938832345350458, 0.0737177289211114, 0.16217900362644508, 0.10320482048955595, 0.21548259223094102, 0.01814590250365819, 0.08505891798589776, 0.07144949110815413, 0.19166609519488964, 0.07031537220167548, 0.035396544314395664, 0.005056649187770809, 0.06573643944102052, 0.09607633456764537, 0.8040072208555586, 0.0256552480617623, 0.01350276213776963, 0.14447955487413505, 0.006751381068884815, 0.02092928131354293, 0.01350276213776963, 0.06616353447507119, 0.0621127058337403, 0.5198563423041308, 0.12760110220192303, 0.06587690122420667, 0.006587690122420667, 0.026350760489682667, 0.006587690122420667, 0.019763070367262003, 0.07246459134662733, 0.731233603588694, 0.06587690122420667, 0.07643846829645878, 0.023163172211048116, 0.011581586105524058, 0.006948951663314434, 0.08802005440198284, 0.15982588825623198, 0.45863080977875265, 0.08338741995977321, 0.09496900606529726, 0.894301203114395, 0.0993668003460439, 0.5741039970447075, 0.07232806261980566, 0.009041007827475708, 0.018082015654951416, 0.2667097309105334, 0.05424604696485425, 0.9938689967342412, 0.0899079360031276, 0.8990793600312761, 0.1275394298579024, 0.01006890235720282, 0.0016781503928671368, 0.16278058810811227, 0.2903200179660147, 0.0033563007857342736, 0.08726382042909112, 0.10404532435776248, 0.00503445117860141, 0.20641249832265784, 1.0150120707067591, 0.08011777286550653, 0.9213543879533251, 0.040058886432753266, 0.5483892381517304, 0.17448748486645968, 0.0020772319626959483, 0.01246339177617569, 0.0020772319626959483, 0.014540623738871638, 0.12671114972445285, 0.02492678355235138, 0.09347543832131767, 0.8525706713048282, 0.10657133391310353, 0.767621875200501, 0.2193205357715717, 0.16092002228592886, 0.3218400445718577, 0.4827600668577866, 0.9813957756428331, 0.04231062395900523, 0.4149170865657287, 0.022520170816889878, 0.06278350651981421, 0.1644654899051655, 0.18903294897813624, 0.0013648588373872655, 0.10168198338535127, 0.093120553615003, 0.06616460388434424, 0.0465602768075015, 0.06984041521125225, 0.06616460388434424, 0.04410973592289616, 0.06248879255743623, 0.24505408846053423, 0.089444742288095, 0.2168728682875728, 0.04142139447167072, 0.007100810480857838, 0.06035688908729162, 0.15740129899234873, 0.022485899856049818, 0.015385089375191981, 0.08047585211638883, 0.28876629288821876, 0.009467747307810451, 0.31716953481165006, 0.14503798584745514, 0.10877848938559136, 0.009064874115465946, 0.7342548033527417, 0.537261061113421, 0.537261061113421, 0.9224878609618661, 0.05426399182128624, 0.03853819799232905, 0.03853819799232905, 0.46245837590794864, 0.11561459397698716, 0.03853819799232905, 0.26976738594630334, 0.03853819799232905, 0.8952601076295568, 0.10532471854465374, 0.8421889871882434, 0.14036483119804058, 0.9977708641109597, 0.2652165130252884, 0.21261158482192544, 0.019726848076261124, 0.06575616025420375, 0.11397734444061983, 0.026302464101681498, 0.03506995213557533, 0.11178547243214637, 0.03945369615252225, 0.10959360042367292, 0.09368876193964633, 0.7963544764869939, 0.09368876193964633, 0.9951578268818397, 0.006592204091050411, 0.05141919191019321, 0.039553224546302466, 0.015821289818520986, 0.01713973063673107, 0.5102365966473018, 0.29928606573368866, 0.058011396001243616, 0.23477196313131304, 0.03868401665231863, 0.0440197430871212, 0.002667863217401285, 0.006669658043503212, 0.4201884567407023, 0.13339316087006423, 0.11871991317435716, 1.0010611681469126, 0.2834394655039426, 0.7085986637598566, 0.9726460690477466, 0.5344418872034931, 0.4275535097627945, 0.14922406040806646, 0.4178273691425861, 0.03410835666470091, 0.06821671332940182, 0.055426079580138975, 0.14069697124189123, 0.004263544583087614, 0.13216988207571603, 0.5919118994530844, 0.394607932968723, 0.9937405861121822, 0.01820763800715018, 0.00910381900357509, 0.04733985881859047, 0.054622914021450544, 0.07647207963003076, 0.005462291402145054, 0.06736826062645568, 0.17479332486864174, 0.41695491036373916, 0.1310949936514813, 0.12895730758059337, 0.03094975381934241, 0.20762126520475535, 0.02450188844031274, 0.023212315364506807, 0.0038687192274178012, 0.18054023061283073, 0.20891083828056128, 0.09800755376125096, 0.09284926145802723, 1.0080658637676214, 0.20598580891198148, 0.3646185583039672, 0.007102958927999362, 0.011838264879998936, 0.002367652975999787, 0.05919132439999468, 0.17994162617598383, 0.009470611903999148, 0.15863274939198574, 0.5669361075404581, 0.2867263072618409, 0.0021721689944078854, 0.008688675977631542, 0.0021721689944078854, 0.03909904189934194, 0.09340326675953908, 0.8978767289445229, 0.12826810413493184, 0.13486928559480973, 0.04495642853160324, 0.44956428531603243, 0.17982571412641296, 0.17982571412641296, 0.06662593667547079, 0.932763113456591, 0.9981304767494392, 0.1709068618434875, 0.4638900535751803, 0.36622898966461603, 0.12327883633267503, 0.0029527864989862284, 0.08784539834484029, 0.05610294348073834, 0.01254934262069147, 0.013287539245438027, 0.15059211144829765, 0.2524632456633225, 0.08784539834484029, 0.21333882455175499, 0.14758761028896722, 0.09158000433315401, 0.035572398377340816, 0.15364248660851457, 0.11428579053145665, 0.007568595399434216, 0.0385998365371145, 0.09385058295298428, 0.0030274381597736864, 0.31485356861646335, 0.9974185084683288, 0.0037548400929894063, 0.0037548400929894063, 0.1164000428826716, 0.28536784706719487, 0.04505808111587288, 0.00563226013948411, 0.170845224231018, 0.3116517277181207, 0.0018774200464947031, 0.0582000214413358, 0.22941916235610801, 0.5353113788309187, 0.22941916235610801, 0.5195082883772488, 0.10485488389265574, 0.03812904868823845, 0.04289517977426825, 0.014298393258089417, 0.014298393258089417, 0.12391940823677496, 0.09532262172059612, 0.05242744194632787, 0.34692538257821665, 0.22871377073675023, 0.028267994136002835, 0.028267994136002835, 0.0025698176487275307, 0.07195489416437086, 0.07452471181309839, 0.125921064787649, 0.028267994136002835, 0.06681525886691579, 0.32437106448317093, 0.6487421289663419, 0.08218238925734626, 0.16436477851469253, 0.7396415033161164, 0.08218238925734626, 0.13136360534775704, 0.5911362240649067, 0.19704540802163556, 0.01573020289419754, 0.8808913620750622, 0.01573020289419754, 0.09438121736518525, 1.0301877540044642, 0.683396990310369, 0.19525628294581973, 0.09762814147290987, 0.09762814147290987, 0.4021015842606484, 0.13403386142021612, 0.26806772284043223, 0.16369515464268508, 0.8184757732134254, 0.9889482996128497, 0.5469147709655411, 0.41018607822415576, 0.07751872914213015, 0.019379682285532537, 0.6782888799936388, 0.2131765051408579, 0.10468926398519203, 0.014955609140741719, 0.014955609140741719, 0.7627360661778277, 0.07477804570370859, 0.014955609140741719, 0.00950579639371345, 0.0015842993989522414, 0.334287173178923, 0.05386617956437621, 0.0015842993989522414, 0.3089383827956871, 0.05228188016542397, 0.17268863448579433, 0.004752898196856725, 0.06178767655913742, 0.1578302789099384, 0.4285457904177135, 0.0010452336351651549, 0.09198055989453363, 0.1850063534242324, 0.10765906442201095, 0.02822130814945918, 0.026182610052460625, 0.13382222915702097, 0.0305463783945374, 0.0014545894473589236, 0.18327827036722438, 0.2778265844455544, 0.30400919449801506, 0.008727536684153542, 0.03345555728925524, 0.04285862346403901, 0.20143553028098335, 0.06857379754246241, 0.5057317568756603, 0.021429311732019504, 0.12429000804571312, 0.03428689877123121, 0.9919951358555488, 0.26546974733769624, 0.7433152925455495, 0.14797243147561656, 0.0067260196125280254, 0.10761631380044841, 0.5582596278398261, 0.18160252953825667, 0.8526968072486201, 0.14211613454143668, 0.040746552858187804, 0.0016563639373247073, 0.4240291679551251, 0.003975273449579298, 0.0009938183623948245, 0.022195276760151077, 0.28456332443238475, 0.07685528669186642, 0.03610873383367862, 0.10865747428850081, 0.21104148796784547, 0.05116157284068981, 0.05116157284068981, 0.3645262064899149, 0.08953275247120716, 0.03837117963051736, 0.012790393210172453, 0.18546070154750055, 0.17199962194112464, 0.053074169056118455, 0.004914274912603561, 0.014742824737810682, 0.04226276424839062, 0.014742824737810682, 0.30959931949402436, 0.17396533190616606, 0.21622809615455668, 0.12014237480282398, 0.027725163416036303, 0.009241721138678768, 0.12938409594150274, 0.6191953162914774, 0.06469204797075137, 0.03696688455471507, 0.1255486710784683, 0.023540375827212807, 0.051004147625627744, 0.03334886575521814, 0.01373188589920747, 0.003923395971202134, 0.12162527510726616, 0.5100414762562775, 0.01961697985601067, 0.09808489928005336, 1.0024024908560871, 0.11022097486446251, 0.01413089421339263, 0.4154482898737433, 0.02826178842678526, 0.005652357685357052, 0.03674032495482084, 0.18087544593142565, 0.11304715370714104, 0.002826178842678526, 0.09043772296571283, 0.05747327969703138, 0.1168623353839638, 0.021073535888911504, 0.13985164726277635, 0.1915775989901046, 0.0076631039596041835, 0.036399743808119875, 0.1455989752324795, 0.06513638365663556, 0.2164826868588182, 0.010461290100710223, 0.04184516040284089, 0.1359967713092329, 0.3242999931220169, 0.020922580201420446, 0.2615322525177556, 0.20922580201420446, 0.5507883843481295, 0.13769709608703237, 0.27539419217406474, 0.1405747678633336, 0.7028738393166679, 0.1405747678633336, 0.04654004231001246, 0.04654004231001246, 0.7911807192702118, 0.09308008462002491, 0.03318394149423048, 0.07742919681987112, 0.09955182448269144, 0.7964145958615315, 0.00563452662077249, 0.019720843172703714, 0.002817263310386245, 0.0817006360012011, 0.1324113755881535, 0.00563452662077249, 0.01126905324154498, 0.05071073958695241, 0.002817263310386245, 0.6874122477342437, 0.7896981380102618, 0.04935613362564136, 0.19742453450256545, 0.09051225052311264, 0.4751893152463414, 0.09051225052311264, 0.02262806263077816, 0.02262806263077816, 0.24890868893855977, 0.06788418789233448, 0.6704221117310953, 0.09776989129411806, 0.006983563663865576, 0.027934254655462305, 0.02095069099159673, 0.07681920030252133, 0.10475345495798365, 0.8128380338347986, 0.05471025227734221, 0.007815750325334601, 0.07815750325334601, 0.03907875162667301, 0.8874061764661897, 0.0633861554618707, 0.12014949402298955, 0.026282701817528967, 0.12390416571120798, 0.09762146389367901, 0.2590723464870712, 0.045056060258621085, 0.08260277714080531, 0.033792045193965815, 0.21026161454023173, 0.10925778105487674, 0.7648044673841372, 0.10925778105487674, 0.07609146622596785, 0.09018247849003597, 0.01972741716969537, 0.01409101226406812, 0.12400090792379946, 0.1380919201878676, 0.4283667728276708, 0.04790944169783161, 0.06200045396189973, 0.3072904894179668, 0.00830514836264775, 0.0166102967252955, 0.0830514836264775, 0.12457722543971625, 0.4484780115829785, 0.00830514836264775, 0.13710815965584888, 0.15904546520078472, 0.005484326386233956, 0.21388872906312426, 0.12065518049714702, 0.29066929847039963, 0.06581191663480747, 0.14464288231024797, 0.01572205242502695, 0.17923139764530727, 0.012577641940021561, 0.011005436697518866, 0.007861026212513476, 0.13992626658273988, 0.17765919240280456, 0.21853652870787463, 0.09118790406515632, 0.7525786143544044, 0.23945683184003777, 0.049442840920423406, 0.3790617803899128, 0.3543403599297011, 0.09064520835410958, 0.041202367433686174, 0.032961893946948935, 0.05768331440716064, 0.15670164145754856, 0.060789429875773154, 0.18777179450516596, 0.12022798353208468, 0.015535076523808694, 0.030394714937886577, 0.07294731585092779, 0.12495605030020036, 0.018236828962731946, 0.21208756645547522, 0.9797617192136014, 0.01302713941966294, 0.01714097292060913, 0.5526249669604384, 0.07336336410020708, 0.002742555667297461, 0.0925612537712893, 0.04868036309452993, 0.039767057175813185, 0.0020569167504730958, 0.15701131195277965, 0.10846352052200064, 0.006318263331378678, 0.5475828220528187, 0.003159131665689339, 0.01053043888563113, 0.1937600754956128, 0.04001566776539829, 0.001053043888563113, 0.08740264275073838, 0.13087220513396133, 0.13087220513396133, 0.6543610256698066, 0.06543610256698067, 0.07593372284595597, 0.037966861422977984, 0.7213703670365816, 0.15186744569191193, 0.029407814949552406, 0.5293406690919433, 0.029407814949552406, 0.029407814949552406, 0.38230159434418126, 0.3527595317354194, 0.529139297603129, 0.05879325528923656, 0.06857098025347237, 0.8914227432951407, 0.2404138427569953, 0.036986745039537736, 0.16980278404515053, 0.17316521541238122, 0.0067248627344614065, 0.09246686259884435, 0.04034917640676844, 0.13449725468922813, 0.018493372519768868, 0.08742321554799828, 0.17739691245544043, 0.01971076805060449, 0.7687199539735752, 0.03942153610120898, 0.01971076805060449, 0.04294492480555185, 0.12883477441665553, 0.07157487467591975, 0.7443786966295654, 0.05706135362917002, 0.020379054867560722, 0.24454865841072865, 0.23639703646370436, 0.040758109735121444, 0.14265338407292505, 0.12227432920536432, 0.004075810973512144, 0.1385775730994129, 0.15769922566456612, 0.10479367899000201, 0.11802006565864304, 0.12514196617252668, 0.04273140308330179, 0.06511451898407891, 0.009156729232136097, 0.06511451898407891, 0.03459208821029192, 0.2767367056823354, 0.15572590834876412, 0.12814017601269734, 0.10233416834347357, 0.16017522001587167, 0.0480525660047615, 0.03025531933633132, 0.05428160233871207, 0.05428160233871207, 0.03470463100343887, 0.23225406902301393, 0.9983345901320756, 0.1424839558525695, 0.8549037351154171, 0.8554575110749681, 0.17109150221499364, 0.3130319953728502, 0.5217199922880836, 0.20868799691523346, 0.3254990099562293, 0.5363856924630821, 0.004584493097975061, 0.09627435505747628, 0.041260437881775545, 0.12639878267996305, 0.45819558721486603, 0.03949961958748845, 0.05529946742248383, 0.03159969566999076, 0.19749809793744225, 0.09479908700997228, 0.09539886849818223, 0.9062892507327311, 0.8492116728168767, 0.16984233456337533, 0.8871303903862562, 0.1267329129123223, 0.04620736619049361, 0.1501739401191042, 0.023103683095246803, 0.7855252252383913, 0.9972965226383584, 0.02160364664180692, 0.23764011305987612, 0.02160364664180692, 0.6913166925378215, 0.04320729328361384, 0.1710064126308899, 0.8550320631544495, 0.8357039308771774, 0.17593766965835314, 0.004916912663273088, 0.04179375763782125, 0.06637832095418669, 0.0614614082909136, 0.27288865281165636, 0.019667650653092353, 0.09587979693382521, 0.08112905894400595, 0.04916912663273088, 0.30484858512293145, 0.030369009741456333, 0.037961262176820415, 0.0455535146121845, 0.007592252435364083, 0.3492436120267478, 0.05314576704754858, 0.12147603896582533, 0.037961262176820415, 0.3112823498499274, 0.3740987086009247, 0.5611480629013871, 0.06234978476682078, 0.08614916444075611, 0.17588787739987705, 0.025126839628553863, 0.26203704184063314, 0.014358194073459351, 0.03230593666528354, 0.1040969070325803, 0.3051116240610112, 0.0730341676377434, 0.05112391734642038, 0.15337175203926115, 0.02191025029132302, 0.2629230034958762, 0.05842733411019472, 0.2191025029132302, 0.05112391734642038, 0.0730341676377434, 0.0365170838188717, 0.9974713933687038, 0.6015019580254465, 0.1608182318331923, 0.0689220993570824, 0.014619839257562935, 0.012531290792196802, 0.008354193861464534, 0.037593872376590405, 0.01670838772292907, 0.004177096930732267, 0.07309919628781468, 0.6377851374221879, 0.31889256871109395, 0.029010410286829193, 0.024866065960139308, 0.0538764762469685, 0.21136156066118414, 0.20307287200780436, 0.03315475461351908, 0.18649549470104482, 0.25280500392808297, 0.16577129555639797, 0.8288564777819899, 0.994014074933168, 0.12298216469228869, 0.6149108234614434, 0.24596432938457738, 0.1366519032685966, 0.15729715484155005, 0.05112157532350377, 0.14844918988171285, 0.032442538186069694, 0.0039324288710387515, 0.033425645403829383, 0.07569925576749596, 0.002949321653279063, 0.35785102726452633, 0.4781713025811495, 0.31878086838743297, 0.15939043419371648, 1.0427789633446307, 0.027122870603488718, 0.0028550390108935493, 0.5167620609717324, 0.0014275195054467746, 0.0028550390108935493, 0.29406901812203556, 0.061383338734211305, 0.0028550390108935493, 0.09278876785404035, 0.06739577181381708, 0.47177040269671955, 0.06739577181381708, 0.33697885906908537, 0.10878974881607527, 0.17017824993371775, 0.034968133548024194, 0.045070038795231186, 0.025643297935217742, 0.009324835612806451, 0.06915919746164785, 0.19038206042813172, 0.10645853991287366, 0.24011451702976613, 0.24535105283115308, 0.026668592699038377, 0.016001155619423026, 0.004000288904855757, 0.013334296349519189, 0.05200375576312484, 0.22401617867192236, 0.05867090393788443, 0.3600260014370181, 0.11765336137987419, 0.06765068279342765, 0.14118403365584903, 0.011765336137987418, 0.04264934350020439, 0.06765068279342765, 0.07353335086242137, 0.292662736432437, 0.045590677534701245, 0.14118403365584903, 0.013463813667932447, 0.43981791315245994, 0.09873463356483796, 0.291715962805203, 0.06283113045035142, 0.04487937889310816, 0.004487937889310816, 0.040391441003797345, 0.8902582684004461, 0.11128228355005576, 0.10017019652019815, 0.8013615721615852, 0.08121086112337658, 0.05414057408225106, 0.8662491853160169, 0.23790514485093864, 0.18809375514777335, 0.04237685392657344, 0.0758322649212367, 0.04237685392657344, 0.017099432286161214, 0.02750778237338978, 0.0750888113435775, 0.11820911884781013, 0.17619849790522643, 0.8109169034047343, 0.08109169034047344, 0.08109169034047344, 0.19638837011120217, 0.02454854626390027, 0.02454854626390027, 0.6464450516160404, 0.09819418505560108, 0.010517739213488553, 0.6415820920228018, 0.21035478426977108, 0.1367306097753512, 0.03288702331859022, 0.00548117055309837, 0.3836819387168859, 0.00365411370206558, 0.02009762536136069, 0.025578795914459062, 0.34165963114313175, 0.11875869531713135, 0.06577404663718044, 0.00182705685103279, 0.8665355939847769, 0.1237907991406824, 0.07665558885724694, 0.03832779442862347, 0.4599335331434816, 0.09262550320250672, 0.012775931476207822, 0.08623753746440281, 0.143729229107338, 0.025551862952415644, 0.0574916916429352, 0.006387965738103911, 0.9944022393132801, 0.14664185879607042, 0.8798511527764225, 0.8477872417812565, 0.1695574483562513, 0.17347711263521903, 0.6360827463291364, 0.08673855631760952, 0.02891285210586984, 0.08673855631760952, 0.7934637329567764, 0.1983659332391941, 0.6692780666263667, 0.33463903331318334, 0.6673150728379739, 0.33365753641898693, 0.15852979324414535, 0.03318065439993739, 0.007373478755541643, 0.02580717564439575, 0.011060218133312465, 0.014746957511083287, 0.11797566008866629, 0.26175849582172833, 0.24332479893287423, 0.12534913884420792, 0.0052703938291979845, 0.4321722939942348, 0.41109071867744285, 0.010540787658395969, 0.06851511977957381, 0.0737855136087718, 0.7639226766549111, 0.19098066916372777, 0.9933894167984758, 0.031735301497847854, 0.047602952246771774, 0.09520590449354355, 0.06347060299569571, 0.015867650748923927, 0.7457795851994244, 0.693724239888109, 0.08671552998601363, 0.17343105997202726, 1.0201135887992372, 0.9928360465107627, 0.1162840839850227, 0.1162840839850227, 0.5814204199251135, 0.2325681679700454, 0.7917415371384156, 0.1583483074276831, 0.2615141229593029, 0.010295831612570978, 0.2759282872169022, 0.027798745353941643, 0.006177498967542587, 0.027798745353941643, 0.094721650835653, 0.04427207593405521, 0.006177498967542587, 0.2460703755404464, 0.3333365469206594, 0.033475098771381634, 0.2649719085847391, 0.018387730311040615, 0.004243322379470911, 0.0037718421150852543, 0.09476753314151702, 0.05186282908242225, 0.005657763172627882, 0.18953506628303404, 0.935552707036139, 0.08135240930749034, 0.1533863064239811, 0.843624685331896, 0.07701359710464549, 0.9241631652557458, 0.14146630224336929, 0.8487978134602157, 0.1726428735125369, 0.561089338915745, 0.25896431026880534, 0.829703086553681, 0.10013657941165115, 0.028610451260471757, 0.04291567689070763, 0.9995053227154487, 0.7025481776161328, 0.08580741100655057, 0.008044444781864116, 0.008044444781864116, 0.09117037419445997, 0.037540742315365874, 0.06703703984886764, 0.09785134839816757, 0.0202917542761177, 0.232227854493347, 0.03381959046019616, 0.027957528113762162, 0.0464455708986694, 0.1857822835946776, 0.09920413201657542, 0.08973464668772049, 0.16684331293696775, 0.12212116075629098, 0.016961272327262637, 0.07802185270540812, 0.0373147991199778, 0.006784508930905055, 0.05766832591269296, 0.08819861610176571, 0.010176763396357582, 0.5834677680578347, 0.05738259466934987, 0.9181215147095979, 0.08606019679590875, 0.5737346453060583, 0.11474692906121166, 0.22949385812242332, 0.025777609648200802, 0.773328289446024, 0.051555219296401604, 0.128888048241004, 0.051555219296401604, 0.13359882506226167, 0.13359882506226167, 0.5343953002490467, 0.13359882506226167, 0.11852575623344119, 0.8178277180107443, 0.059262878116720596, 0.16465645923840108, 0.6586258369536043, 0.16465645923840108, 0.1091125398635349, 0.05455626993176745, 0.6110302232357955, 0.15275755580894887, 0.05455626993176745, 0.021822507972706982, 0.3217773447662831, 0.5362955746104718, 0.10725911492209438, 0.7012509306172138, 0.015937521150391223, 0.04781256345117367, 0.0637500846015649, 0.17531273265430344, 0.06968634542384988, 0.010720976219053829, 0.15009366706675362, 0.562851251500326, 0.09648878597148446, 0.1125702503000652, 0.7525288147930066, 0.20523513130718363, 0.034205855217863936, 0.0373779589230994, 0.7475591784619879, 0.18688979461549698, 0.0186889794615497, 0.13978147453900175, 0.080374347859926, 0.06464893197428831, 0.080374347859926, 0.09085795845035113, 0.005241805295212566, 0.04717624765691309, 0.22714489612587785, 0.06290166354255078, 0.20443040651329006, 0.02443786818875112, 0.036656802283126684, 0.036656802283126684, 0.02443786818875112, 0.01221893409437556, 0.8553253866062892, 0.10927662920614956, 0.7649364044430469, 0.10927662920614956, 0.1594900490611674, 0.47847014718350217, 0.3189800981223348, 0.19821666543420077, 0.006292592553466691, 0.0031462962767333457, 0.0031462962767333457, 0.04719444415100019, 0.05977962925793357, 0.45306666384960176, 0.09438888830200037, 0.13529073989953386, 0.12320297885247748, 0.042001015517890046, 0.1400033850596335, 0.06720162482862407, 0.10920264034651413, 0.0056001354023853395, 0.07140172638041309, 0.044801083219082716, 0.11760284345009214, 0.280006770119267, 0.437881639917333, 0.10947040997933324, 0.18245068329888872, 0.2554309566184442, 0.22808457850321667, 0.2443763341105893, 0.5213361794359238, 0.0625954302443815, 0.0625954302443815, 0.8763360234213409, 0.07994589419675201, 0.1142084202810743, 0.14276052535134287, 0.2227064195480949, 0.005710421014053715, 0.1484709463653966, 0.1484709463653966, 0.039972947098376004, 0.09707715723891315, 0.5336180746267041, 0.47432717744595915, 0.716684169831187, 0.07166841698311871, 0.14333683396623742, 0.992308289378228, 0.10859999908960105, 0.03925301171913291, 0.06280481875061265, 0.024860240755450843, 0.04579518033898839, 0.005233734895884388, 0.07719758971429472, 0.3846795148475025, 0.09682409557386118, 0.15439517942858944, 0.606888999413372, 0.37930562463335754, 0.9953911338398493, 0.9992551476409087, 0.12888632375695408, 0.08028984102892221, 0.292987490070453, 0.10987030877641987, 0.019720311831665106, 0.05423085753707904, 0.10001015286058731, 0.021833202385057794, 0.01056445276696345, 0.18170858759177133, 0.1594069760890855, 0.11999316331980613, 0.1672897386429414, 0.021896562649599657, 0.04379312529919931, 0.02102070014361567, 0.14364145098137376, 0.04379312529919931, 0.007882762553855878, 0.27064151434905176, 0.8816718153683998, 0.12595311648119997, 0.26899536814343566, 0.030408172050997075, 0.2035008437259035, 0.06315543425976315, 0.0023390901577690056, 0.1286499586772953, 0.09356360631076023, 0.0795290653641462, 0.007017270473307018, 0.12397177836175731, 0.7042163479464105, 0.01437176220298797, 0.11497409762390376, 0.17246114643585564, 0.8192864647876441, 0.16385729295752882, 0.027685222738942236, 0.01661113364336534, 0.3363754562781482, 0.09689827958629782, 0.06644453457346136, 0.04844913979314891, 0.08028714594293249, 0.059523228888725806, 0.0941297573124036, 0.17164838098144186, 0.14200557849701032, 0.852033470982062, 0.9022062599694569, 0.10024513999660632, 0.7737571921463874, 0.11053674173519819, 0.11053674173519819, 0.8757510912017764, 0.14595851520029607, 0.23418608390790685, 0.23418608390790685, 0.0215343525432558, 0.048452293222325554, 0.0430687050865116, 0.008075382203720926, 0.026917940679069753, 0.06998664576558136, 0.11036355678418598, 0.20188455509302314, 1.012034337979319, 0.04176738698529807, 0.033413909588238457, 0.008353477397059614, 0.01253021609558942, 0.19630671883090092, 0.5889201564927028, 0.12112542225736439, 0.8264187937965343, 0.20660469844913357, 0.09685455156524402, 0.016142425260874, 0.051886366909952145, 0.038050002400631576, 0.04150909352796172, 0.01844848601242743, 0.1360575843416523, 0.2086984980155853, 0.22022880177335244, 0.17410758674228388, 0.012651732105954612, 0.0021086220176591017, 0.01054311008829551, 0.04428106237084114, 0.3120760586135471, 0.004217244035318203, 0.14971216325379624, 0.3415967668607745, 0.004217244035318203, 0.1180828329889097, 0.9996300297432485, 0.27349110997059045, 0.060775802215686764, 0.6381459232647111, 0.030387901107843382, 0.9938170269910461, 0.06684458064106744, 0.07753971354363821, 0.18315415095652476, 0.13101537805649216, 0.0494649896743899, 0.03074850709489102, 0.03074850709489102, 0.08689795483338766, 0.07219214709235283, 0.2700521057899124, 0.027329567763922882, 0.013664783881961441, 0.004554927960653814, 0.013664783881961441, 0.12298305493765298, 0.6467997704128415, 0.031884495724576696, 0.14120276678026822, 0.10372885287175451, 0.004149154114870181, 0.22405432220298974, 0.17633904988198265, 0.014522039402045632, 0.004149154114870181, 0.17841362693941776, 0.15144412519276157, 0.051864426435877256, 0.09128139052714397, 0.8606305445095747, 0.08606305445095747, 0.2810135832808854, 0.46835597213480895, 0.2810135832808854, 0.1548542001034049, 0.04977456431895157, 0.005530507146550174, 0.29864738591370943, 0.022122028586200698, 0.005530507146550174, 0.1714457215430554, 0.022122028586200698, 0.2765253573275087, 0.26983327209805286, 0.62961096822879, 0.0899444240326843, 0.5922898047525873, 0.22210867678222024, 0.22210867678222024, 0.1115971975298787, 0.08039403374685342, 0.0969133557496315, 0.1721680448733984, 0.056899886898457895, 0.01908899431432136, 0.07782436143531016, 0.11049590939636017, 0.024595434981914056, 0.24999240630870856, 0.15501151100341704, 0.14706220274683154, 0.003974654128292745, 0.10334100733561136, 0.17488478164488075, 0.03179723302634196, 0.01987327064146372, 0.3656681798029325, 0.10716916094306556, 0.06430149656583933, 0.008573532875445244, 0.017147065750890488, 0.034294131501780976, 0.21862508832385372, 0.510125206088992, 0.025720598626335734, 0.017147065750890488, 0.30404127012260723, 0.11038441017190198, 0.09779671427510614, 0.016460833095809944, 0.03001681329235931, 0.05422392078619746, 0.05519220508595099, 0.12490867466820488, 0.009682842997535262, 0.19752999714971933, 0.9974375392966207, 0.03040347723710109, 0.03040347723710109, 0.9121043171130326, 0.0907456703272734, 0.8167110329454607, 0.09836541359871762, 0.017358602399773698, 0.002893100399962283, 0.05496890759928338, 0.0838999115989062, 0.41371335719460645, 0.2343411323969449, 0.09257921279879305, 0.16156204844244731, 0.009145021609949847, 0.12498196200264793, 0.024386724293199595, 0.006096681073299899, 0.3139790752749448, 0.10059523770944832, 0.09145021609949848, 0.17070707005239716, 0.10483386018740096, 0.1965634878513768, 0.08845356953311956, 0.03931269757027536, 0.15397473215024515, 0.02948452317770652, 0.05896904635541304, 0.032760581308562804, 0.29156917364620893, 0.0587790415503614, 0.016030647695553107, 0.12290163233257383, 0.22977261696959456, 0.005343549231851036, 0.016030647695553107, 0.29923875698365804, 0.06412259078221243, 0.1816806738829352, 0.9914695723992086, 0.06114675783052852, 0.06362568044527968, 0.03553122414476657, 0.14543012673206782, 0.17930873580033363, 0.008263075382503853, 0.05866783521577736, 0.17104566041782976, 0.0033052301530015413, 0.27433410269912795, 0.5781365265325945, 0.06250124611163184, 0.21875436139071142, 0.0781265576395398, 0.054688590347677854, 0.7841985548828417, 0.1120283649832631, 0.043406823109921756, 0.008681364621984352, 0.008681364621984352, 0.5382446065630297, 0.008681364621984352, 0.052088187731906106, 0.23439684479357747, 0.026044093865953053, 0.060769552353890456, 0.994166925409427, 0.24768728710263652, 0.009675284652446738, 0.14899938364767978, 0.0019350569304893478, 0.0009675284652446739, 0.06482440717139315, 0.06095429331041446, 0.01741551237440413, 0.447965679408284, 0.03710601015765868, 0.11131803047297603, 0.8534382336261496, 0.997568055178273, 0.9921433455408164, 0.16463385301074387, 0.8231692650537193, 0.02796952548962789, 0.015982585994073078, 0.3416277756233121, 0.073919460222588, 0.0039956464985182695, 0.20377797142443177, 0.029967348738887022, 0.10988027870925242, 0.073919460222588, 0.11986939495554809, 0.2335162548103448, 0.4670325096206896, 0.27243563061206894, 0.11731517857056344, 0.14917856040454364, 0.06517509920586857, 0.05938175705423581, 0.05503675044051124, 0.02462170414443924, 0.10138348765357334, 0.1260051917980126, 0.12745352733592077, 0.17235192901107468, 0.19437207807136786, 0.008971018987909285, 0.029903396626364286, 0.0029903396626364286, 0.06877781224063785, 0.5741452152261942, 0.044855094939546425, 0.07774883122854714, 0.015825805455198037, 0.7754644673047039, 0.18990966546237645, 0.015825805455198037, 0.048016721926031444, 0.03978528388156891, 0.31279464568957627, 0.11661203896321923, 0.004115719022231267, 0.1330749150521443, 0.2002983257485883, 0.061735785333469004, 0.010975250725950045, 0.07271103605941905, 0.0962760600343362, 0.056632976490786, 0.0339797858944716, 0.0339797858944716, 0.0792861670871004, 0.5889829555041743, 0.1076026553324934, 0.5907480350960894, 0.3938320233973929, 0.03675509487006421, 0.11026528461019262, 0.4778162333108347, 0.27566321152548157, 0.07351018974012842, 0.05400871243256732, 0.2700435621628366, 0.6481045491908078, 0.018002904144189105, 0.11681399909564187, 0.4672559963825675, 0.23362799819128374, 0.23362799819128374, 0.0784516454270764, 0.00435842474594869, 0.15545048260550326, 0.27893918374071613, 0.031961781470290385, 0.01888650723244432, 0.07264041243247815, 0.14818644136225542, 0.030508973221640825, 0.18160103108119538, 0.8537609833983987, 0.07298992863250559, 0.008847264076667345, 0.002211816019166836, 0.03538905630666938, 0.008847264076667345, 0.01769452815333469, 0.9614314111607144, 0.043049167663912584, 0.9085692212129364, 0.10095213569032627, 0.8422573206984408, 0.15313769467244379, 0.0880967045781047, 0.028190945464993507, 0.07047736366248376, 0.056381890929987015, 0.21495595917057547, 0.03876255001436607, 0.07047736366248376, 0.21847982735369967, 0.02114320909874513, 0.19381275007183035, 0.5970298254818037, 0.35821789528908227, 0.2702498413796005, 0.6305829632190679, 0.09008328045986684, 0.7110603974690275, 0.23702013248967585, 0.7107807041945514, 0.1421561408389103, 0.1421561408389103, 0.9293387911780321, 0.07494667670790581, 0.6520595256176698, 0.16301488140441744, 0.16301488140441744, 0.9746364466559155, 0.8898996798051867, 0.08475235045763682, 0.028250783485878943, 0.8171139699057461, 0.16342279398114923, 0.11488687901465003, 0.028721719753662507, 0.4595475160586001, 0.08616515926098753, 0.11488687901465003, 0.20105203827563756, 0.2091574357809444, 0.0009728252827020669, 0.07879884789886742, 0.0009728252827020669, 0.014592379240531004, 0.0038913011308082677, 0.2441791459582188, 0.23055959200038986, 0.04085866187348681, 0.1760813761690741, 0.08272073441476066, 0.08272073441476066, 0.7444866097328459, 0.08272073441476066, 0.040091105934650074, 0.9621865424316017, 0.02277617144083252, 0.9565992005149659, 0.08553881859399017, 0.7128234882832514, 0.11405175812532023, 0.11405175812532023, 0.2771259469381262, 0.04498797839904646, 0.0071980765438474335, 0.04858701667097017, 0.0071980765438474335, 0.0017995191359618584, 0.0071980765438474335, 0.19074902841195698, 0.04858701667097017, 0.368901422872181, 0.3104498941205989, 0.1093630308833928, 0.0764365269615111, 0.0399821833337135, 0.029398664215965806, 0.0058797328431931615, 0.04351002303962939, 0.04586191617690666, 0.01999109166685675, 0.319857466669708, 0.09316674239288748, 0.7639672876216774, 0.018633348478577498, 0.11180009087146499, 0.5788271825479696, 0.19294239418265652, 0.19294239418265652, 0.7667604137241029, 0.07667604137241028, 0.07667604137241028, 0.06627330212207116, 0.7290063233427828, 0.13254660424414233, 0.06627330212207116, 0.08172523323250878, 0.8989775655575967, 0.03455788953458323, 0.9330630174337473, 0.9936209662894749, 0.1814772262876582, 0.0468328325903634, 0.04390578055346569, 0.04195441252886722, 0.03317325641817408, 0.019513680245984752, 0.22245595480422617, 0.23513984696411624, 0.04000304450426874, 0.13366870968499556, 0.4260594684291963, 0.5680792912389284, 0.11463680756339484, 0.011184078786672666, 0.061512433326699666, 0.100656709080054, 0.0251641772700135, 0.05592039393336334, 0.022368157573345333, 0.12302486665339933, 0.039144275753354336, 0.4389750923769022, 0.12068530235053247, 0.0013871873833394537, 0.09710311683376176, 0.19975498320088134, 0.0027743747666789075, 0.0027743747666789075, 0.11513655281717466, 0.18172154721746844, 0.2788246640512302, 0.03544487328255441, 0.2871034735886907, 0.03190038595429897, 0.12051256916068499, 0.14886846778672852, 0.003544487328255441, 0.18431334106928293, 0.10987910717591867, 0.07088974656510882, 0.010633461984766323, 0.028215781635150292, 0.008061651895757227, 0.012092477843635839, 0.016123303791514453, 0.008061651895757227, 0.06449321516605781, 0.032246607583028906, 0.8263193193151157, 0.14217707866609183, 0.5331640449978443, 0.17772134833261477, 0.10663280899956887, 0.03554426966652296, 0.029306858262660114, 0.1269963858048605, 0.4689097322025618, 0.1269963858048605, 0.24422381885550096, 0.13255241398952544, 0.12678926555519823, 0.013687477531527083, 0.10229588470930767, 0.0684373876576354, 0.01584865819439978, 0.026654561508763264, 0.16208854971545228, 0.04106243259458125, 0.3104896218993775, 0.05653977269411253, 0.011307954538822506, 0.022615909077645012, 0.06784772723293504, 0.011307954538822506, 0.06219374996352379, 0.05653977269411253, 0.16396534081292635, 0.3505465907034977, 0.19223522715998262, 0.9886547386366418, 0.12076845951678399, 0.04025615317226133, 0.6038422975839199, 0.08051230634452267, 0.04025615317226133, 0.04025615317226133, 0.9944816909030728, 0.012748622878979321, 0.637431143948966, 0.012748622878979321, 0.10198898303183457, 0.03824586863693796, 0.20397796606366914, 0.06634780760755714, 0.00856100743323318, 0.44517238652812535, 0.00428050371661659, 0.00428050371661659, 0.01284151114984977, 0.2482692155637622, 0.06848805946586543, 0.13911637079003916, 0.49417972947036587, 0.49417972947036587, 0.0219675676562505, 0.5523274153571555, 0.015691119754464643, 0.028244015558036357, 0.3734486501562585, 0.0031382239508929285, 0.006276447901785857, 0.4727611517411374, 0.1895209903455661, 0.0728926885944485, 0.0145785377188897, 0.0020826482455556716, 0.006247944736667015, 0.027074427192223728, 0.13953743245223, 0.07705798508555985, 0.036658872698574305, 0.02156404276386724, 0.10674201168114283, 0.2566121088900202, 0.09703819243740258, 0.07223954325895525, 0.09272538388462913, 0.24259548109350645, 0.07547414967353534, 0.021022940007188004, 0.5886423202012641, 0.25227528008625605, 0.04204588001437601, 0.021022940007188004, 0.08409176002875202, 0.1669199059933504, 0.4713032639812247, 0.11782581599530617, 0.03927527199843539, 0.029456453998826543, 0.019637635999217695, 0.14728226999413271, 0.22265300542776245, 0.2658865987147066, 0.006485038993041625, 0.032425194965208126, 0.03350603479738173, 0.0032425194965208124, 0.0789013077486731, 0.032425194965208126, 0.0010808398321736042, 0.32317110981990765, 0.11848803694841623, 0.0815819270792374, 0.09323648809055703, 0.2544579154138119, 0.025251548857859196, 0.005827280505659814, 0.017481841516979443, 0.11266075644275642, 0.0019424268352199383, 0.28553674477733093, 0.5870031595400266, 0.3592108886737476, 0.017522482374329153, 0.017522482374329153, 0.008761241187164577, 0.05255034919303355, 0.007507192741861936, 0.07757432499924001, 0.007507192741861936, 0.007507192741861936, 0.3753596370930968, 0.3153020951582013, 0.017516783064344517, 0.1426366620953768, 0.5749716781732198, 0.19165722605773994, 0.19165722605773994, 0.7899015243597737, 0.15798030487195472, 0.7142463860480456, 0.14754385439490145, 0.01564859061764106, 0.0022355129453772945, 0.0011177564726886473, 0.03688596359872536, 0.00782429530882053, 0.025708398871838886, 0.04918128479830048, 0.0378165213204124, 0.1701743459418558, 0.094541303301031, 0.0189082606602062, 0.6050643411265983, 0.0756330426408248, 0.1876547874243618, 0.6680510432307281, 0.14261763844251496, 0.10073505076764422, 0.1484516537628441, 0.06892398210417763, 0.0318110686634666, 0.24388485975324392, 0.06892398210417763, 0.005301844777244433, 0.04241475821795546, 0.2916014627484438, 0.11265711818011415, 0.366135634085371, 0.00938809318167618, 0.01877618636335236, 0.08449283863508561, 0.01877618636335236, 0.00938809318167618, 0.00938809318167618, 0.366135634085371, 0.05219174836894149, 0.05219174836894149, 0.7306844771651809, 0.15657524510682447, 0.27048320568820505, 0.6311274799391451, 0.09016106856273501, 0.9736821493941707, 0.1829500012025933, 0.05463665194285591, 0.06374276059999857, 0.05463665194285591, 0.04056357492727181, 0.01986787343376579, 0.116723756423374, 0.25745452657921497, 0.04470271522597302, 0.16473778388830798, 0.07215375245745344, 0.032211496632791714, 0.21839394717032784, 0.14752865457818606, 0.018682668047019194, 0.07988451164932345, 0.0715095225247976, 0.14752865457818606, 0.016105748316395857, 0.1952016695947178, 0.08367959759678899, 0.08367959759678899, 0.5857571831775229, 0.16735919519357798, 0.057795264480652114, 0.02709153022530568, 0.14810036523167106, 0.2275688538925677, 0.03070373425534644, 0.06140746851069288, 0.09933561082612083, 0.14087595717158954, 0.016254918135183406, 0.18964071157713977, 0.9410642730004636, 0.061709132655768106, 0.10021206992772343, 0.005491072324806764, 0.015100448893218599, 0.001372768081201691, 0.021964289299227054, 0.0041183042436050725, 0.20179690793664856, 0.34731032454402777, 0.17159601015021136, 0.1345312719577657, 0.9105547860048273, 0.10117275400053637, 0.12350714019579785, 0.7410428411747871, 0.12350714019579785, 0.43080649033515583, 0.5385081129189447, 0.21126775429625397, 0.08752521249416235, 0.13883309568039545, 0.03621732930792925, 0.04376260624708118, 0.1041248217602966, 0.07092560322802811, 0.07997993555501043, 0.028672052368777325, 0.19919531119361086, 0.8344763837152086, 0.08344763837152086, 0.17099502222167035, 0.8549751111083518, 0.220064654518113, 0.660193963554339, 0.1100323272590565, 0.17731142639057823, 0.08865571319528912, 0.7092457055623129, 0.09261192585922119, 0.003858830244134216, 0.4611302141740388, 0.06560011415028168, 0.20451800293911346, 0.03280005707514084, 0.06174128390614746, 0.001929415122067108, 0.07524718976061721, 0.6543633249191739, 0.16359083122979348, 0.7860185502576883, 0.19650463756442207, 0.9905536955875984, 0.045685308266507046, 0.9137061653301409, 0.10628478641455957, 0.014085935548917534, 0.09604046965171047, 0.07811291531672451, 0.011524856358205255, 0.042257806646752605, 0.07683237572136838, 0.3572705471043629, 0.11140694479598413, 0.1037237072238473, 0.09093792977734307, 0.06062528651822871, 0.4850022921458297, 0.15156321629557176, 0.18187585955468613, 0.0033645767753958775, 0.16822883876979386, 0.10766645681266808, 0.48113447888161043, 0.016822883876979385, 0.15140595489281447, 0.07065611228331342, 1.000498718145703, 0.17164173563085283, 0.08700733142577793, 0.21830930430467918, 0.07356074384179408, 0.007118781662109104, 0.10559526132128504, 0.10836367641210524, 0.08938025864648097, 0.0015819514804686896, 0.13723429093065884, 0.13202379685566512, 0.059336537912658485, 0.3100334105936406, 0.10680576824278527, 0.01335072103034816, 0.14389110443819683, 0.01928437482161401, 0.08307115307772188, 0.13054038340784868, 0.3718829119469513, 0.49584388259593504, 0.070717956639143, 0.012479639406907588, 0.2573182791995708, 0.06774661392321263, 0.00415987980230253, 0.14916140433970498, 0.09686577253933033, 0.15332128414200752, 0.05883258577542149, 0.13014481095775057, 0.07582324066452177, 0.08779533129576204, 0.05187905940204121, 0.07582324066452177, 0.06784184691036158, 0.003990696877080093, 0.01596278750832037, 0.06385115003328148, 0.0558697562791213, 0.5028278065120917, 0.6378830622942002, 0.47841229672065017, 0.20988833447868774, 0.13970895329076738, 0.1611526530981875, 0.08187594471924041, 0.012996181701466733, 0.031840645168593494, 0.08382537197446042, 0.05393415406108694, 0.031840645168593494, 0.19234348918170763, 0.9951363207061041, 0.0785477889914915, 0.017455064220331443, 0.1669140516069194, 0.03927389449574575, 0.0643655493124722, 0.0032728245413121454, 0.2007332385338116, 0.1669140516069194, 0.05454707568853576, 0.20727888761643587, 0.1104113357272739, 0.7728793500909172, 0.036803778575757964, 0.07360755715151593, 0.8215447045649371, 0.041077235228246856, 0.16430894091298742, 0.13649706065819164, 0.6312989055441364, 0.1535591932404656, 0.03412426516454791, 0.03412426516454791, 0.9326796725825923, 0.05652604076258135, 0.028263020381290676, 0.10030613500596718, 0.010558540526943914, 0.025076533751491794, 0.03167562158083174, 0.2058915402754063, 0.39330563462866075, 0.14913938494308276, 0.08314850664968332, 0.16082266132536785, 0.8443189719581813, 0.2883763471726363, 0.6344279637797999, 0.11535053886905454, 0.46679842204145433, 0.5834980275518179, 0.07208852358354605, 0.1441770471670921, 0.03604426179177302, 0.009011065447943256, 0.009011065447943256, 0.7479184321792903, 0.793730572428971, 0.19843264310724276, 0.645932138652162, 0.1614830346630405, 0.1614830346630405, 0.018901913559370116, 0.0018901913559370117, 0.10396052457653564, 0.12286243813590576, 0.2117014318649453, 0.005670574067811035, 0.04536459254248828, 0.030243061694992187, 0.1757877961021421, 0.28352870339055175, 0.03748210467572094, 0.04283669105796679, 0.002677293191122924, 0.04015939786684386, 0.002677293191122924, 0.016063759146737546, 0.2677293191122924, 0.01338646595561462, 0.5782953292825516, 0.08070666444580996, 0.0896740716064555, 0.014945678601075917, 0.11956542880860734, 0.11358715736817697, 0.005978271440430367, 0.011956542880860734, 0.038858764362797386, 0.5230987510376571, 1.000612347327807, 0.09130293730008754, 0.8217264357007878, 0.04565146865004377, 0.8728466845529809, 0.1454744474254968, 0.12340681159642371, 0.01299019069436039, 0.3658903712244843, 0.06928101703658875, 0.0021650317823933983, 0.03680554030068777, 0.19701789219779925, 0.09742643020770293, 0.0021650317823933983, 0.09742643020770293, 0.9973380777568172, 0.009462791415615193, 0.009462791415615193, 0.018925582831230386, 0.09462791415615193, 0.6623953990930636, 0.11355349698738232, 0.08516512274053674, 0.8067378251878655, 0.1466796045796119, 0.0668561678433629, 0.44050091896795185, 0.0031241199926805097, 0.09247395178334308, 0.24867995141736857, 0.04561215189313544, 0.05123556787996036, 0.05186039187849646, 0.05964981887130676, 0.05219359151239342, 0.4921110056882808, 0.02982490943565338, 0.10438718302478683, 0.01491245471782669, 0.25351173020305373, 0.04511681103280226, 0.22057107616036659, 0.037597342527335216, 0.3057917192223264, 0.17545426512756435, 0.025064895018223475, 0.18548022313485374, 0.1140728620135608, 0.02323706448424387, 0.4055923982704384, 0.09717317875229255, 0.02323706448424387, 0.0506990497838048, 0.07393611426804868, 0.008449841630634135, 0.20490865954287774, 0.07056845576022035, 0.42551725562879134, 0.003159781601203896, 0.12639126404815584, 0.2759542598384736, 0.07688801896262815, 0.004213042134938528, 0.017905429073488747, 0.05913278925765357, 0.8869918388648035, 0.05913278925765357, 0.19869270546770648, 0.5464049400361929, 0.04967317636692662, 0.14901952910077987, 0.8994278292298127, 0.11242847865372659, 0.0612118725671651, 0.015302968141791275, 0.15302968141791276, 0.04590890442537383, 0.443786076111947, 0.0612118725671651, 0.13772671327612146, 0.07651484070895638, 0.08641939414714259, 0.02659058281450541, 0.7977174844351623, 0.09306703985076893, 0.14163318876993247, 0.5665327550797299, 0.14163318876993247, 0.07081659438496624, 0.07081659438496624, 0.8547101159062901, 0.17094202318125803, 0.17754975939260445, 0.31481511959529024, 0.004476044354435406, 0.026856266126612436, 0.1521855080508038, 0.19396192202553425, 0.001492014784811802, 0.12831327149381497, 0.6971866985026005, 0.2323955661675335, 0.027340654843239234, 0.013670327421619617, 0.027340654843239234, 0.07299712005927149, 0.8759654407112578, 0.07299712005927149, 0.9926190387013397, 0.02250051334226135, 0.05906384752343605, 0.02812564167782669, 0.07312666836234939, 0.07031410419456673, 0.008437692503348007, 0.05906384752343605, 0.005625128335565338, 0.6750154002678406, 0.11627479198817829, 0.015357047998438641, 0.214998671978141, 0.1974477599799254, 0.030714095996877282, 0.030714095996877282, 0.11188706398862439, 0.0899484239908549, 0.008775455999107794, 0.18647843998104063, 0.0024706939813201345, 0.28907119581445573, 0.007412081943960403, 0.10623984119676579, 0.3656627092353799, 0.19394947753363057, 0.00864742893462047, 0.025942286803861413, 0.9643709630391638, 0.03444182010854157, 1.0015057556128815, 0.017086785817396682, 0.07404273854205229, 0.1594766676290357, 0.6549934563335396, 0.028477976362327805, 0.06265154799712117, 0.030272628145557885, 0.6962704473478313, 0.22704471109168411, 0.030272628145557885, 0.9944384529480341, 0.06440500877926598, 0.5152400702341279, 0.19321502633779794, 0.12881001755853197, 0.06440500877926598, 0.9889856603457426, 0.9152369561722126, 0.02080083991300483, 0.05200209978251208, 0.8762204792755781, 0.11597035755117946, 0.012885595283464385, 0.8278611240764427, 0.09198456934182697, 0.09198456934182697, 0.8872036007010667, 0.12674337152872384, 0.8220700504182674, 0.12647231544896423, 0.06323615772448211, 0.11555516495119174, 0.01733327474267876, 0.04044430773291711, 0.03466654948535752, 0.011555516495119175, 0.10399964845607257, 0.5719980665083991, 0.03466654948535752, 0.06933309897071505, 0.13169875845313259, 0.005533561279543386, 0.13944574424449332, 0.15383300357130614, 0.046481914748164446, 0.12395177266177185, 0.057549037307251215, 0.11067122559086773, 0.0486953392599818, 0.18260752222493173, 0.0530647043012947, 0.09728529121904028, 0.04200955757185831, 0.11055146729436395, 0.06633088037661837, 0.004422058691774558, 0.055275733647181975, 0.15477205421210954, 0.002211029345887279, 0.41788454637269573, 0.5446828964384733, 0.18156096547949113, 0.2269512068493639, 0.5707513964397815, 0.2853756982198907, 0.14268784910994536, 0.03174213709777677, 0.12243395737713897, 0.045345910139681096, 0.14964150346094762, 0.2630062788101504, 0.02720754608380866, 0.01360377304190433, 0.06801886520952165, 0.00906918202793622, 0.26754086982411845, 0.21249503407278153, 0.7437326192547354, 0.04154940414448226, 0.12464821243344677, 0.04154940414448226, 0.7063398704561984, 0.04154940414448226, 0.04154940414448226, 0.04291574636276514, 0.8583149272553028, 0.1287472390882954, 0.06020476521799687, 0.004300340372714062, 0.008600680745428123, 0.10750850931785155, 0.7310578633613906, 0.07310578633613905, 0.017201361490856246, 0.14157367499557705, 0.37752979998820546, 0.4719122499852568, 0.038411373946935036, 0.15364549578774014, 0.8066388528856359, 0.46815901738084076, 0.1560530057936136, 0.46815901738084076, 0.18139573588005073, 0.0018139573588005073, 0.07618620906962131, 0.005441872076401522, 0.014511658870404058, 0.007255829435202029, 0.31018670835488676, 0.23581445664406595, 0.029023317740808116, 0.13967471662763906, 0.20421047347668517, 0.21991897143643016, 0.003927124489936253, 0.09228742551350194, 0.023562746939617518, 0.0019635622449681264, 0.04516193163426691, 0.058906867349043796, 0.10799592347324696, 0.24151815613107958, 0.9596365532630142, 0.8613285449314726, 0.14355475748857877, 0.8448263470796936, 0.12672395206195403, 0.042241317353984675, 0.07938039856220262, 0.017756141783650585, 0.04177915713800138, 0.043868114994901446, 0.005222394642250172, 0.07206904606305238, 0.11175924534415368, 0.2485859849711082, 0.332144299247111, 0.04804603070870159, 0.05173884522391486, 0.04915190296271912, 0.13969488210457012, 0.06208661426869783, 0.007760826783587229, 0.0543257874851106, 0.07502132557467654, 0.14874918001875523, 0.191433727328485, 0.21859662107104028, 0.06409227619416644, 0.0033732776944298127, 0.20576993936021856, 0.25974238247109555, 0.0067465553888596255, 0.05734572080530682, 0.013493110777719251, 0.05734572080530682, 0.0809586646663155, 0.25299582708223595, 0.10024610027955541, 0.01002461002795554, 0.05346458681576289, 0.043439976787807345, 0.030073830083866625, 0.09022149025159987, 0.10525840529353318, 0.4026551694562142, 0.03842767177382957, 0.12530762534944426, 0.9919794401041425, 0.1963972497600831, 0.7855889990403324, 0.09091513579491184, 0.8182362221542065, 0.9988609696329738, 0.027106632721243595, 0.013553316360621797, 0.013553316360621797, 0.09487321452435259, 0.04065994908186539, 0.7318790834735771, 0.08131989816373078, 0.1710103812815679, 0.07712232881325612, 0.03688459204112249, 0.11065377612336748, 0.005029717096516703, 0.046944026234155896, 0.04359088150314476, 0.05029717096516703, 0.01508915128955011, 0.44429167685897547, 0.4520219998842674, 0.16393755629605472, 0.05570693660545548, 0.003183253520311742, 0.03024090844296155, 0.004774880280467613, 0.05729856336561136, 0.07958133800779355, 0.05093205632498787, 0.10186411264997575, 0.7575091597591448, 0.1893772899397862, 0.2713254462941085, 0.0100490906034855, 0.562749073795188, 0.020098181206971, 0.0904418154313695, 0.0502454530174275, 0.2735123931120891, 0.11509184858677014, 0.0636390221597435, 0.07921027226265946, 0.048744782930867356, 0.011509184858677015, 0.05483788079722578, 0.05889994604146472, 0.0555148916712656, 0.238984838536058, 0.022793604688767642, 0.09117441875507057, 0.7293953500405645, 0.09117441875507057, 0.06838081406630292, 0.07247958516533294, 0.012079930860888823, 0.09663944688711058, 0.3623979258266647, 0.024159861721777646, 0.024159861721777646, 0.024159861721777646, 0.03623979258266647, 0.04831972344355529, 0.28991834066133176, 0.03061736821899424, 0.053580394383239915, 0.01530868410949712, 0.2985193401351938, 0.16074118314971975, 0.01530868410949712, 0.18370420931396544, 0.02296302616424568, 0.21432157753295966, 0.06008090615497868, 0.033378281197210376, 0.11014832795079424, 0.27036407769740406, 0.006675656239442075, 0.08010787487330491, 0.006675656239442075, 0.04339176555637349, 0.01335131247888415, 0.3771745775284773, 0.35553129101800085, 0.4795538343963732, 0.05787718690990712, 0.07441352602702343, 0.033072678234232634, 0.37781326597061043, 0.46671050502251876, 0.04444861952595417, 0.11112154881488542, 0.4150478002050189, 0.4669287752306463, 0.01365288816463878, 0.002730577632927756, 0.07918675135490492, 0.010922310531711023, 0.008191732898783268, 0.5930873199189604, 0.2328006302485639, 0.011085744297550661, 0.011085744297550661, 0.06651446578530397, 0.08314308223162996, 0.3671326553232898, 0.5244752218904141, 0.052447522189041404, 0.1424204476470595, 0.04509980842156884, 0.13767309939215752, 0.5079662632745122, 0.0878259427156867, 0.07833124620588272, 1.0155407746551874, 0.4011499245736142, 0.1193385080272759, 0.048885653890691334, 0.005751253398904863, 0.014378133497262156, 0.03738314709288161, 0.0833931742841205, 0.14234352162289535, 0.0014378133497262157, 0.1480947750218002, 0.6572189496729324, 0.02560593310414022, 0.07681779931242066, 0.034141244138853624, 0.20484746483312177, 0.008776032541456624, 0.04388016270728312, 0.4739057572386577, 0.3247132040338951, 0.07898429287310961, 0.07020826033165299, 0.9777162146280666, 0.3489570151151772, 0.07264975400008808, 0.05240310124596517, 0.09527836590175486, 0.0011909795737719358, 0.032156448491842266, 0.017864693606579034, 0.22509513944289586, 0.015482734459035164, 0.13815363055754454, 0.6580971960596276, 0.3290485980298138, 0.11998942491729214, 0.5999471245864607, 0.23997884983458428, 0.09557862450792173, 0.015415907178697053, 0.021582270050175874, 0.23740497055193463, 0.44706130818221457, 0.11407771312235819, 0.07091317302200645, 0.14385654073714216, 0.08220373756408124, 0.0924792047595914, 0.27743761427877417, 0.02055093439102031, 0.267162147083264, 0.1130301391506117, 0.21090134553716566, 0.015402907258332323, 0.05094807785448384, 0.009478712158973737, 0.027251297457049493, 0.009478712158973737, 0.0758296972717899, 0.3092429841865182, 0.13033229218588888, 0.1599532676826818, 0.8264569145573708, 0.16529138291147416, 0.9940687399724649, 0.16759828815246416, 0.05586609605082139, 0.39106267235574976, 0.2607084482371665, 0.13035422411858325, 0.5910681672240498, 0.1970227224080166, 0.3940454448160332, 0.6407584481633708, 0.14239076625852684, 0.14239076625852684, 0.09869226339400693, 0.5921535803640415, 0.19738452678801385, 0.33989496838354133, 0.4078739620602496, 0.13595798735341652, 0.06797899367670826, 0.9948852857757102, 0.002407559672662643, 0.002407559672662643, 0.033705835417277, 0.004815119345325286, 0.18297453512236087, 0.7198603421261303, 0.05296631279857814, 0.6481798180636655, 0.18519423373247584, 0.02777913505987138, 0.1203762519261093, 0.009259711686623793, 0.9912015503964389, 0.9984229206209384, 0.004611026195493276, 0.002305513097746638, 0.016138591684226468, 0.048415775052679404, 0.009222052390986552, 0.006916539293239914, 0.9083721605121754, 0.9980962216019013, 0.1145607093577223, 0.34368212807316695, 0.4582428374308892, 0.06642487561709821, 0.03321243780854911, 0.813704726309453, 0.04981865671282366, 0.03321243780854911, 0.22248996062512225, 0.23339633124400078, 0.004362548247551417, 0.07416332020837409, 0.015268918866429958, 0.0261752894853085, 0.10251988381745829, 0.12433262505521538, 0.0021812741237757084, 0.19631467113981374, 0.07914581900957218, 0.7914581900957218, 0.07914581900957218, 0.027382982653811946, 0.04107447398071792, 0.1506064045959657, 0.479202196441709, 0.04107447398071792, 0.027382982653811946, 0.013691491326905973, 0.19168087857668362, 0.06240370146650813, 0.05200308455542344, 0.4784283779098957, 0.1872111043995244, 0.0936055521997622, 0.031201850733254065, 0.10400616911084688, 0.002840799066577368, 0.002840799066577368, 0.2059579323268592, 0.10368916593007393, 0.046873184598526574, 0.0624975794647021, 0.16476634586148736, 0.14772155146202315, 0.1874927383941063, 0.07528117526430025, 0.9990957497842324, 0.085507792546138, 0.7353670158967868, 0.09405857180075179, 0.0684062340369104, 0.0085507792546138, 0.09344417837156375, 0.029508687906809605, 0.01721340127897227, 0.0049181146511349345, 0.024590573255674673, 0.15983872616188535, 0.46230277720668383, 0.08114889174372641, 0.13033003825507575, 0.14113392482105455, 0.7056696241052728, 0.14113392482105455, 0.9104463230554358, 0.9990720741462333, 0.4914797162345826, 0.4914797162345826, 0.12424415120228405, 0.6212207560114202, 0.2484883024045681, 0.1026704531416276, 0.06160227188497656, 0.26694317816823177, 0.34907954068153385, 0.12320454376995311, 0.1026704531416276, 0.47568594197015757, 0.051425507240017036, 0.06428188405002129, 0.347122173870115, 0.012856376810004259, 0.038569130430012775, 0.012856376810004259, 0.15650780828768457, 0.035978806502915996, 0.20627849061671838, 0.21347425191730157, 0.005396820975437399, 0.04917103555398519, 0.1367194647110808, 0.10134030498321339, 0.012592582276020598, 0.08215160818165819, 0.19389294132369345, 0.5816788239710803, 0.19389294132369345, 0.1260581851048261, 0.06302909255241305, 0.09454363882861959, 0.40968910159068483, 0.03151454627620653, 0.03151454627620653, 0.03151454627620653, 0.1260581851048261, 0.06302909255241305, 0.16000009729914488, 0.016202541498647582, 0.07696207211857602, 0.02835444762263327, 0.024303812247971374, 0.008101270749323791, 0.10126588436654739, 0.21873431023174236, 0.16810136804846867, 0.20050645104576384, 0.01887790041181602, 0.28488467894195085, 0.04118814635305313, 0.0034323455294210945, 0.05320135570602696, 0.10297036588263282, 0.23168332323592386, 0.24884505088302933, 0.015445554882394925, 0.045245275381981934, 0.7239244061117109, 0.2714716522918916, 0.5776959263129092, 0.38513061754193945, 0.011062127015613713, 0.018436878359356187, 0.007374751343742475, 0.04424850806245485, 0.07006013776555352, 0.011062127015613713, 0.04424850806245485, 0.18805615926543312, 0.09587176746865218, 0.512545218390102, 0.032379777835310236, 0.016189888917655118, 0.9390135572239968, 0.008439791834338881, 0.033759167337355525, 0.18145552443828594, 0.11393718976357489, 0.06751833467471105, 0.008439791834338881, 0.5865655324865523, 0.9439508119374853, 0.02484081084046014, 0.02484081084046014, 0.012533989034612641, 0.06266994517306321, 0.025067978069225283, 0.025067978069225283, 0.050135956138450566, 0.8272432762844343, 0.02402428581132895, 0.08870505530336845, 0.00739208794194737, 0.17925813259222373, 0.00739208794194737, 0.24578692406975006, 0.24393890208426322, 0.005544065956460528, 0.19773835244709215, 0.8215063896986045, 0.13691773161643409, 0.06845886580821704, 0.8235124013329355, 0.10293905016661693, 0.051469525083308466, 0.4773987565289386, 0.17902453369835197, 0.17902453369835197, 0.11934968913223465, 0.12657552891331525, 0.017661701708834684, 0.008830850854417342, 0.06770318988386628, 0.04415425427208671, 0.08830850854417342, 0.13834999671920503, 0.029436169514724473, 0.473922329187064, 0.19325946625323684, 0.5797783987597105, 0.19325946625323684, 0.13518496310073141, 0.8111097786043885, 0.045061654366910474, 0.1970442105689928, 0.7881768422759712, 0.058759757611703066, 0.822636606563843, 0.1762792728351092, 0.9977620065329219, 0.12345712607312782, 0.8641998825118948, 0.09190572221494564, 0.0502880366836495, 0.21155656811742204, 0.10231014359776967, 0.015606632074236052, 0.1265871268243591, 0.07109687944929757, 0.04855396645317883, 0.04681989622270816, 0.23583355134401146, 0.4283816109956503, 0.06502220881183979, 0.024861432780997565, 0.015299343249844655, 0.017211761156075235, 0.07840913415545385, 0.10900782065514317, 0.14151892506106306, 0.12239474599875724, 0.978752310552614, 0.9782246332090501, 0.2790849058579226, 0.4107287293758106, 0.010531505881431041, 0.2053643646879053, 0.09478355293287938, 0.10719998091300148, 0.5359999045650073, 0.32159994273900444, 0.10719998091300148, 0.19552586709980835, 0.12330460087375301, 0.005284482894589415, 0.014091954385571773, 0.02113793157835766, 0.0017614942981964716, 0.07574425482244827, 0.2237097758709519, 0.16029598113587892, 0.1796724184160401, 0.5370366946525815, 0.18823966616688426, 0.0387552253872997, 0.005536460769614243, 0.011072921539228486, 0.055364607696142425, 0.16055736231881304, 0.9522615441954253, 0.5183971231919999, 0.1364202955768421, 0.327408709384421, 0.027284059115368416, 0.3139443559555578, 0.23545826696666838, 0.4447545042703736, 0.2206847221013874, 0.3627923083030384, 0.0016718539553135408, 0.04681191074877914, 0.031765225150957276, 0.0016718539553135408, 0.011702977687194785, 0.11368606896132077, 0.005015561865940622, 0.203966182548252, 0.1142460461669333, 0.04760251923622221, 0.1332870538614222, 0.6283532539181331, 0.08568453462519998], \"Term\": [\"abuse\", \"abuse\", \"abuse\", \"abuse\", \"accept\", \"accept\", \"accept\", \"accept\", \"accept\", \"accept\", \"accept\", \"accept\", \"account\", \"account\", \"account\", \"account\", \"account\", \"account\", \"account\", \"account\", \"account\", \"account\", \"achieve\", \"achieve\", \"achieve\", \"achieve\", \"achieve\", \"achieve\", \"achieve\", \"achieve\", \"achieve\", \"achieve\", \"activate\", \"active\", \"active\", \"active\", \"active\", \"active\", \"active\", \"active\", \"active\", \"active\", \"activity\", \"activity\", \"activity\", \"activity\", \"activity\", \"activity\", \"activity\", \"activity\", \"activity\", \"activity\", \"adaptation\", \"adaptation\", \"adaptation\", \"admit\", \"advisor\", \"advisor\", \"age\", \"age\", \"age\", \"age\", \"age\", \"age\", \"agree\", \"agree\", \"agree\", \"agree\", \"agree\", \"agree\", \"agree\", \"agree\", \"agree\", \"alert\", \"alert\", \"alert\", \"alleviate\", \"alleviate\", \"alleviate\", \"alliance\", \"alliance\", \"anchor\", \"anchor\", \"anchor\", \"anchor_tenant\", \"anchor_tenant\", \"anchor_tenant\", \"anticipated_final_cost\", \"anticipated_final_cost\", \"apology\", \"apology\", \"appendix\", \"appendix\", \"appendix\", \"appendix\", \"appendix_memorandum_submitte\", \"appendix_memorandum_submitte\", \"applicable\", \"archery\", \"architect\", \"area\", \"area\", \"area\", \"area\", \"area\", \"area\", \"area\", \"area\", \"area\", \"area\", \"arise\", \"arise\", \"arise\", \"arise\", \"arise\", \"arise\", \"arise\", \"arise\", \"arise\", \"arrangement\", \"arrangement\", \"arrangement\", \"arrangement\", \"arrangement\", \"arrangement\", \"arrangement\", \"arrangement\", \"arrangement\", \"art\", \"art\", \"art\", \"art\", \"art\", \"art\", \"art\", \"art\", \"art\", \"arup\", \"arup\", \"arup\", \"arup\", \"athlete\", \"athlete\", \"athlete\", \"athlete\", \"athlete\", \"athlete\", \"athlete\", \"athlete\", \"athlete\", \"athlete\", \"athletic\", \"athletic\", \"athletic\", \"athletic\", \"athletic\", \"athletic\", \"athletic\", \"athletic\", \"athletic\", \"athletic\", \"attainment\", \"attainment\", \"auditor_general\", \"authority\", \"authority\", \"authority\", \"authority\", \"authority\", \"authority\", \"authority\", \"authority\", \"authority\", \"authority\", \"backing\", \"backing\", \"backing\", \"basketball\", \"basketball\", \"basketball\", \"basketball\", \"beacon\", \"beacon\", \"beat\", \"beat\", \"beat\", \"beg\", \"benefit\", \"benefit\", \"benefit\", \"benefit\", \"benefit\", \"benefit\", \"benefit\", \"benefit\", \"benefit\", \"benefit\", \"bene\\ufb01ts\", \"bene\\ufb01ts\", \"bene\\ufb01ts\", \"bene\\ufb01ts\", \"bene\\ufb01ts\", \"bid\", \"bid\", \"bid\", \"bid\", \"bid\", \"bid\", \"bid\", \"bid\", \"bid\", \"bid\", \"bidding\", \"bidding\", \"bidding\", \"bidding\", \"bidding\", \"bidding\", \"bidding\", \"bidding\", \"big\", \"big\", \"big\", \"big\", \"big\", \"big\", \"big\", \"big\", \"big\", \"blight\", \"blight\", \"boa\", \"boa\", \"boa\", \"boa\", \"boa\", \"boa\", \"bombing\", \"border\", \"border\", \"borough\", \"borough\", \"borough\", \"borough\", \"borough\", \"borough\", \"borough\", \"borough\", \"borough\", \"borough\", \"boxing\", \"brie\\ufb01ng\", \"brie\\ufb01ng\", \"brie\\ufb01ng\", \"british\", \"british\", \"british\", \"british\", \"british\", \"british\", \"british\", \"british\", \"british\", \"bronze\", \"bronze\", \"brownfield\", \"brownfield\", \"broxbourne\", \"broxbourne\", \"broxbourne\", \"bryant\", \"budget\", \"budget\", \"budget\", \"budget\", \"budget\", \"budget\", \"budget\", \"budget\", \"build\", \"build\", \"build\", \"build\", \"build\", \"build\", \"build\", \"build\", \"build\", \"build\", \"business\", \"business\", \"business\", \"business\", \"business\", \"business\", \"business\", \"business\", \"business\", \"business\", \"camelot\", \"camelot\", \"camelot\", \"camelot\", \"campus\", \"campus\", \"candidate_file\", \"candidate_file\", \"carbon\", \"carbon\", \"carbon\", \"carbon\", \"carbon\", \"carbon\", \"carbon\", \"cashflow\", \"cashflow\", \"catalytic\", \"catalytic\", \"ccpr\", \"centre\", \"centre\", \"centre\", \"centre\", \"centre\", \"centre\", \"centre\", \"centre\", \"centre\", \"centre\", \"centrepiece\", \"centrepiece\", \"centrepiece\", \"certify\", \"chair\", \"chair\", \"chair\", \"chair\", \"chair\", \"chair\", \"chair\", \"chair\", \"chairman\", \"chairman\", \"chairman\", \"chairman\", \"chairman\", \"chairman\", \"chairman\", \"chairman\", \"characterise\", \"characteristic\", \"characteristic\", \"charismatic\", \"cheap\", \"cheap\", \"child\", \"child\", \"child\", \"child\", \"child\", \"child\", \"child\", \"child\", \"childhood\", \"childhood\", \"chunk\", \"city\", \"city\", \"city\", \"city\", \"city\", \"city\", \"city\", \"city\", \"city\", \"city\", \"clear\", \"clear\", \"clear\", \"clear\", \"clear\", \"clear\", \"clear\", \"clear\", \"clear\", \"clear\", \"clegg\", \"club\", \"club\", \"club\", \"club\", \"club\", \"club\", \"club\", \"club\", \"club\", \"coach\", \"coach\", \"coach\", \"coach\", \"coach\", \"coach\", \"coach\", \"coincide\", \"coincide\", \"collaborative\", \"collaborative\", \"collaborative\", \"collaborative\", \"collaborative\", \"comfort\", \"comfort\", \"command\", \"commence\", \"commence\", \"commence\", \"committee\", \"committee\", \"committee\", \"committee\", \"committee\", \"committee\", \"committee\", \"committee\", \"committee\", \"committee\", \"community\", \"community\", \"community\", \"community\", \"community\", \"community\", \"community\", \"community\", \"community\", \"community\", \"community_cohesion\", \"company\", \"company\", \"company\", \"company\", \"company\", \"company\", \"company\", \"company\", \"company\", \"company\", \"compelling\", \"compelling\", \"compelling\", \"compete\", \"compete\", \"compete\", \"compete\", \"compete\", \"compete\", \"compete\", \"compete\", \"compete\", \"competition\", \"competition\", \"competition\", \"competition\", \"competition\", \"competition\", \"competition\", \"competition\", \"competition\", \"competition\", \"completion_date\", \"completion_date\", \"compliance\", \"compliance\", \"compliance\", \"compliance\", \"compliant\", \"compliant\", \"compliant\", \"comptroller\", \"comptroller\", \"comptroller\", \"comptroller\", \"concordat\", \"concrete\", \"concrete\", \"concrete\", \"concrete\", \"conditional\", \"conditional\", \"conditional\", \"configuration\", \"configuration\", \"confused\", \"conservation\", \"conservation\", \"conservative\", \"conservative\", \"conservative\", \"conservative\", \"constituency\", \"constituency\", \"constituency\", \"constituency\", \"constituency\", \"constituency\", \"construction\", \"construction\", \"construction\", \"construction\", \"construction\", \"construction\", \"construction\", \"construction\", \"construction\", \"construction\", \"contingency\", \"contingency\", \"contingency\", \"contingency\", \"contingency\", \"contingency\", \"contingency\", \"contract\", \"contract\", \"contract\", \"contract\", \"contract\", \"contract\", \"contract\", \"contract\", \"contract\", \"contractor\", \"contractor\", \"contractor\", \"contractor\", \"contractor\", \"contractor\", \"contractor\", \"controller\", \"convergence\", \"convergence\", \"con\\ufb01dent\", \"con\\ufb01dent\", \"con\\ufb01dent\", \"con\\ufb01dent\", \"con\\ufb01dent\", \"corporation_tax\", \"corporation_tax\", \"cost\", \"cost\", \"cost\", \"cost\", \"cost\", \"cost\", \"cost\", \"cost\", \"cost\", \"cost\", \"council\", \"council\", \"council\", \"council\", \"council\", \"council\", \"council\", \"council\", \"country\", \"country\", \"country\", \"country\", \"country\", \"country\", \"country\", \"country\", \"country\", \"couple\", \"couple\", \"couple\", \"couple\", \"couple\", \"couple\", \"couple\", \"course\", \"course\", \"course\", \"course\", \"course\", \"course\", \"course\", \"course\", \"course\", \"course\", \"courtesy\", \"cover\", \"cover\", \"cover\", \"cover\", \"cover\", \"cover\", \"cover\", \"cover\", \"cover\", \"cover\", \"create\", \"create\", \"create\", \"create\", \"create\", \"create\", \"create\", \"create\", \"create\", \"create\", \"creative\", \"creative\", \"creative\", \"creative\", \"creative\", \"creative\", \"creative\", \"creative_programmer\", \"creative_programmer\", \"creative_programmer\", \"credibility\", \"credibility\", \"credibility\", \"crisis\", \"crisis\", \"crisis\", \"crisis\", \"crossrail\", \"crossrail\", \"crossrail\", \"crossrail\", \"cultural\", \"cultural\", \"cultural\", \"cultural\", \"cultural\", \"cultural\", \"cultural\", \"cultural\", \"cultural\", \"cultural\", \"curriculum\", \"curriculum\", \"curriculum\", \"customer\", \"customer\", \"customer\", \"customer\", \"customer\", \"customer\", \"customer\", \"cycle\", \"cycle\", \"cycle\", \"cycle\", \"cycle\", \"cycle\", \"cycle\", \"cycling\", \"cycling\", \"cycling\", \"cycling\", \"cycling\", \"dame_tanni_grey_thompson\", \"dame_tanni_grey_thompson\", \"date\", \"date\", \"date\", \"date\", \"date\", \"date\", \"date\", \"date\", \"date\", \"dcsf\", \"dcsf\", \"dcsf\", \"deal\", \"deal\", \"deal\", \"deal\", \"deal\", \"deal\", \"deal\", \"deal\", \"deal\", \"debate\", \"debate\", \"debate\", \"debate\", \"debate\", \"debate\", \"debate\", \"decide\", \"decide\", \"decide\", \"decide\", \"decide\", \"decide\", \"decide\", \"decision\", \"decision\", \"decision\", \"decision\", \"decision\", \"decision\", \"decision\", \"decision\", \"decision\", \"decision\", \"defence\", \"defence\", \"delay\", \"delay\", \"delay\", \"delay\", \"delay\", \"delay\", \"delay\", \"deliver\", \"deliver\", \"deliver\", \"deliver\", \"deliver\", \"deliver\", \"deliver\", \"deliver\", \"deliver\", \"deliver\", \"deliverability\", \"delivery\", \"delivery\", \"delivery\", \"delivery\", \"delivery\", \"delivery\", \"delivery\", \"delivery\", \"delivery\", \"delivery\", \"department\", \"department\", \"department\", \"department\", \"department\", \"department\", \"department\", \"department\", \"department\", \"dependency\", \"dependency\", \"dependency\", \"dependency\", \"deploy\", \"deploy\", \"deploy\", \"deploy\", \"deprivation\", \"deprivation\", \"deprivation\", \"deprivation\", \"deprivation\", \"depth\", \"depth\", \"depth\", \"description\", \"description\", \"design\", \"design\", \"design\", \"design\", \"design\", \"design\", \"design\", \"design\", \"design\", \"design\", \"designate\", \"designate\", \"designate\", \"designate\", \"designate\", \"destination\", \"destination\", \"destination\", \"destination\", \"detailed\", \"detailed\", \"detailed\", \"detailed\", \"detailed\", \"detailed\", \"detailed\", \"detailed\", \"detailed\", \"develop\", \"develop\", \"develop\", \"develop\", \"develop\", \"develop\", \"develop\", \"develop\", \"develop\", \"develop\", \"development\", \"development\", \"development\", \"development\", \"development\", \"development\", \"development\", \"development\", \"development\", \"development\", \"devolved_administration\", \"devote\", \"devote\", \"diffuse\", \"diffuse\", \"directorate\", \"directorate\", \"directorate\", \"disability\", \"disability\", \"disability\", \"disability\", \"disability\", \"disabled\", \"disabled\", \"disabled\", \"disabled\", \"disabled\", \"disabled\", \"disabled\", \"disaster\", \"disaster\", \"discrepancy\", \"discrepancy\", \"dismantle\", \"dismantle\", \"distributor\", \"distributor\", \"distributor\", \"distributor\", \"diverse_communitie\", \"dome\", \"dome\", \"dome\", \"dome\", \"dome\", \"drain\", \"drain\", \"eastway\", \"eastway\", \"economic\", \"economic\", \"economic\", \"economic\", \"economic\", \"economic\", \"economic\", \"economic\", \"economic\", \"economic\", \"economy\", \"economy\", \"economy\", \"economy\", \"economy\", \"economy\", \"economy\", \"economy\", \"economy\", \"educate\", \"educate\", \"educate\", \"education\", \"education\", \"education\", \"education\", \"education\", \"education\", \"education\", \"education\", \"effect\", \"effect\", \"effect\", \"effect\", \"effect\", \"effect\", \"effect\", \"effect\", \"effect\", \"effect\", \"eligible\", \"elite\", \"elite\", \"elite\", \"elite\", \"elite\", \"elite\", \"elite\", \"elite\", \"elite\", \"elite\", \"emission\", \"emission\", \"employment\", \"employment\", \"employment\", \"employment\", \"employment\", \"employment\", \"employment\", \"employment\", \"encounter\", \"encounter\", \"enduring\", \"engender\", \"engender\", \"engender\", \"ensure\", \"ensure\", \"ensure\", \"ensure\", \"ensure\", \"ensure\", \"ensure\", \"ensure\", \"ensure\", \"ensure\", \"entrepreneur\", \"entrepreneur\", \"entrepreneur\", \"envelope\", \"estimate\", \"estimate\", \"estimate\", \"estimate\", \"estimate\", \"estimate\", \"estimate\", \"estimate\", \"estimate\", \"european_union\", \"european_union\", \"european_union\", \"european_union\", \"event\", \"event\", \"event\", \"event\", \"event\", \"event\", \"event\", \"event\", \"event\", \"event\", \"evidence\", \"evidence\", \"evidence\", \"evidence\", \"evidence\", \"evidence\", \"evidence\", \"evidence\", \"evidence\", \"example\", \"example\", \"example\", \"example\", \"example\", \"example\", \"example\", \"example\", \"example\", \"example\", \"executive\", \"executive\", \"executive\", \"executive\", \"executive\", \"executive\", \"executive\", \"executive\", \"expected\", \"expected\", \"extended\", \"extended\", \"extraordinary\", \"extraordinary\", \"extraordinary\", \"facility\", \"facility\", \"facility\", \"facility\", \"facility\", \"facility\", \"facility\", \"facility\", \"facility\", \"facility\", \"fan\", \"fan\", \"fan\", \"fantastic\", \"fantastic\", \"fantastic\", \"fantastic\", \"fantastic\", \"festival\", \"festival\", \"festival\", \"festival\", \"figure\", \"figure\", \"figure\", \"figure\", \"figure\", \"figure\", \"figure\", \"figure\", \"figure\", \"figure\", \"film\", \"film\", \"financial\", \"financial\", \"financial\", \"financial\", \"financial\", \"financial\", \"financial\", \"financial\", \"financial\", \"financial\", \"financially_expose\", \"finely_balance\", \"finely_balance\", \"finely_balanced\", \"finely_balanced\", \"fitness\", \"fitness\", \"fitness\", \"fitness\", \"fitness\", \"flagship\", \"flagship\", \"flat\", \"flat\", \"float\", \"float\", \"football\", \"football\", \"football\", \"football\", \"football\", \"football\", \"football\", \"football\", \"football\", \"football\", \"forecast\", \"forecast\", \"forecast\", \"forecast\", \"forecast\", \"forecast\", \"forge\", \"forge\", \"fortune\", \"forum\", \"forum\", \"forum\", \"forum\", \"forum\", \"forum\", \"founder\", \"founder\", \"founder\", \"frank\", \"french\", \"frequency\", \"frequency\", \"frequency\", \"frequency\", \"fringe\", \"fringe\", \"fund\", \"fund\", \"fund\", \"fund\", \"fund\", \"fund\", \"fund\", \"fund\", \"fund\", \"fund\", \"funding\", \"funding\", \"funding\", \"funding\", \"funding\", \"funding\", \"funding\", \"funding\", \"funding\", \"funding\", \"fundraising\", \"fundraising\", \"gallery\", \"gallery\", \"gateway\", \"gateway\", \"gentleman\", \"gentleman\", \"girl\", \"girl\", \"girl\", \"gold_medal\", \"gold_medal\", \"gold_medal\", \"gold_medal\", \"governance_arrangement\", \"governing_bodie\", \"governing_bodie\", \"governing_bodie\", \"governing_bodie\", \"governing_bodie\", \"governing_bodie\", \"governing_bodie\", \"government\", \"government\", \"government\", \"government\", \"government\", \"government\", \"government\", \"government\", \"government\", \"government\", \"grant\", \"grant\", \"grant\", \"grant\", \"grant\", \"grant\", \"grant\", \"grant\", \"grant\", \"greek\", \"greek\", \"green\", \"green\", \"green\", \"green\", \"gross\", \"gross\", \"gross\", \"gross\", \"gross\", \"grouping\", \"grouping\", \"grouping\", \"grouping\", \"guard\", \"guard\", \"guard\", \"gym\", \"gym\", \"gym\", \"hackney\", \"hackney\", \"hackney\", \"hackney\", \"hackney\", \"hackney\", \"hackney_marshe\", \"hackney_marshe\", \"hackney_marshe\", \"handball\", \"handball\", \"handball\", \"handball\", \"handball\", \"happy\", \"happy\", \"happy\", \"happy\", \"happy\", \"happy\", \"haven\", \"haven\", \"haven\", \"hearing\", \"hearing\", \"hearing\", \"hearing\", \"help\", \"help\", \"help\", \"help\", \"help\", \"help\", \"help\", \"help\", \"help\", \"help\", \"heritage\", \"heritage\", \"heritage\", \"heritage\", \"heritage\", \"heritage\", \"highway\", \"highway\", \"highway\", \"holding\", \"holding\", \"holding\", \"hope\", \"hope\", \"hope\", \"hope\", \"hope\", \"hope\", \"hope\", \"hope\", \"hope\", \"host\", \"host\", \"host\", \"host\", \"host\", \"host\", \"host\", \"host\", \"host\", \"host\", \"host_borough\", \"host_borough\", \"host_borough\", \"host_borough\", \"hotel\", \"hotel\", \"hotel\", \"hotspot\", \"hotspot\", \"hotspot\", \"housing\", \"housing\", \"housing\", \"housing\", \"housing\", \"housing\", \"housing\", \"housing\", \"housing\", \"immigration\", \"immigration\", \"imply\", \"imply\", \"imply\", \"import\", \"important\", \"important\", \"important\", \"important\", \"important\", \"important\", \"important\", \"important\", \"important\", \"important\", \"improves_cultural_life\", \"improves_cultural_life\", \"inactive\", \"inbound\", \"include\", \"include\", \"include\", \"include\", \"include\", \"include\", \"include\", \"include\", \"include\", \"include\", \"increase\", \"increase\", \"increase\", \"increase\", \"increase\", \"increase\", \"increase\", \"increase\", \"increase\", \"increase\", \"independence\", \"independence\", \"individual\", \"individual\", \"individual\", \"individual\", \"individual\", \"individual\", \"individual\", \"individual\", \"individual\", \"individual\", \"inflation\", \"inflation\", \"inflation\", \"inflation\", \"influx\", \"influx\", \"infrastructure\", \"infrastructure\", \"infrastructure\", \"infrastructure\", \"infrastructure\", \"infrastructure\", \"infrastructure\", \"infrastructure\", \"infrastructure\", \"infrastructure\", \"inspect\", \"inspect\", \"installation\", \"installation\", \"insufficient\", \"insufficient\", \"insufficient\", \"integrity\", \"integrity\", \"international\", \"international\", \"international\", \"international\", \"international\", \"international\", \"international\", \"international\", \"international\", \"international\", \"intervene\", \"ioc\", \"ioc\", \"ioc\", \"ioc\", \"ioc\", \"ioc\", \"ioc\", \"irrelevant\", \"irrelevant\", \"issue\", \"issue\", \"issue\", \"issue\", \"issue\", \"issue\", \"issue\", \"issue\", \"issue\", \"issue\", \"job\", \"job\", \"job\", \"job\", \"job\", \"job\", \"job\", \"job\", \"job\", \"job\", \"joint_venture_agreement\", \"journalist\", \"journalist\", \"journalist\", \"journalist\", \"kent\", \"key\", \"key\", \"key\", \"key\", \"key\", \"key\", \"key\", \"key\", \"key\", \"key\", \"kind\", \"kind\", \"kind\", \"kind\", \"kind\", \"kind\", \"kind\", \"kind\", \"land\", \"land\", \"land\", \"land\", \"land\", \"land\", \"land\", \"land\", \"land\", \"land\", \"landowner\", \"landowner\", \"landscaping\", \"landscaping\", \"landscaping\", \"launch\", \"launch\", \"launch\", \"launch\", \"launch\", \"launch\", \"launch\", \"launch\", \"launch\", \"league\", \"league\", \"league\", \"leaving_laste\", \"leaving_laste\", \"leaving_laste\", \"legacy\", \"legacy\", \"legacy\", \"legacy\", \"legacy\", \"legacy\", \"legacy\", \"legacy\", \"legacy\", \"legacy\", \"leisure\", \"leisure\", \"leisure\", \"leisure\", \"leisure\", \"leisure\", \"leisure\", \"leisure\", \"let\", \"let\", \"let\", \"let\", \"let\", \"let\", \"let\", \"let\", \"let\", \"level\", \"level\", \"level\", \"level\", \"level\", \"level\", \"level\", \"level\", \"level\", \"level\", \"liaise\", \"library\", \"library\", \"library\", \"license\", \"license\", \"like\", \"like\", \"like\", \"like\", \"like\", \"like\", \"like\", \"like\", \"likely\", \"likely\", \"likely\", \"likely\", \"likely\", \"likely\", \"likely\", \"likely\", \"likely\", \"link\", \"link\", \"link\", \"link\", \"link\", \"link\", \"link\", \"link\", \"link\", \"live\", \"live\", \"live\", \"live\", \"live\", \"live\", \"live\", \"live\", \"live\", \"liverpool\", \"local\", \"local\", \"local\", \"local\", \"local\", \"local\", \"local\", \"local\", \"local\", \"local\", \"locog\", \"locog\", \"locog\", \"locog\", \"locog\", \"lodge\", \"lodge\", \"londoner\", \"londoner\", \"londoner\", \"londoner\", \"londoner\", \"londoner\", \"londoner\", \"londoner\", \"londoner\", \"lord_coe\", \"lottery\", \"lottery\", \"lottery\", \"lottery\", \"lottery\", \"lottery\", \"lottery\", \"lottery\", \"lottery\", \"lottery_distributor\", \"lottery_distributor\", \"lottery_distributor\", \"lucky\", \"ludicrous\", \"magnitude\", \"magnitude\", \"main\", \"main\", \"main\", \"main\", \"main\", \"main\", \"main\", \"main\", \"main\", \"main\", \"maintenance\", \"maintenance\", \"maintenance\", \"major\", \"major\", \"major\", \"major\", \"major\", \"major\", \"major\", \"major\", \"major\", \"major\", \"make_sure\", \"make_sure\", \"make_sure\", \"make_sure\", \"make_sure\", \"make_sure\", \"make_sure\", \"make_sure\", \"maker\", \"maker\", \"maker\", \"maker\", \"management\", \"management\", \"management\", \"management\", \"management\", \"management\", \"management\", \"management\", \"management\", \"management\", \"manchester\", \"manchester\", \"manchester\", \"manchester\", \"manchester\", \"manchester\", \"manchester\", \"marry\", \"marry\", \"masterplan\", \"masterplan\", \"masterplan\", \"masterplan\", \"masterplan\", \"materialise\", \"materialise\", \"materialise\", \"materialise\", \"mature\", \"mature\", \"mature\", \"mature\", \"mayor\", \"mayor\", \"mayor\", \"mayor\", \"mayor\", \"mayor\", \"mayor\", \"mayor\", \"mayor\", \"mayor\", \"medal\", \"medal\", \"medal\", \"medal\", \"medal\", \"medal\", \"medal\", \"medal_table\", \"medal_table\", \"medal_target\", \"medal_target\", \"medicine\", \"medicine\", \"medium\", \"medium\", \"medium\", \"medium\", \"medium\", \"medium\", \"medium\", \"medium\", \"medium\", \"medium\", \"memorable\", \"memorable\", \"mentor\", \"mentor\", \"mentor\", \"methodology\", \"methodology\", \"metropolitan\", \"metropolitan\", \"metropolitan\", \"military\", \"military\", \"mini\", \"mini\", \"mini\", \"miss_kirkbride\", \"mission\", \"mission\", \"mission\", \"modernise\", \"modernise\", \"momentum\", \"momentum\", \"momentum\", \"momentum\", \"momentum\", \"momentum\", \"money\", \"money\", \"money\", \"money\", \"money\", \"money\", \"money\", \"money\", \"money\", \"money\", \"mount\", \"mount\", \"mount\", \"mount\", \"museum\", \"museum\", \"music\", \"music\", \"nao\", \"nao\", \"nao\", \"nao\", \"nation\", \"nation\", \"nation\", \"nation\", \"nation\", \"nation\", \"nation\", \"nation\", \"nation\", \"nation\", \"national\", \"national\", \"national\", \"national\", \"national\", \"national\", \"national\", \"national\", \"national\", \"national\", \"national_audit_office\", \"national_audit_office\", \"national_audit_office\", \"national_audit_office\", \"negate\", \"negate\", \"negate\", \"neighbour\", \"neighbour\", \"neighbour\", \"newham\", \"newham\", \"newham\", \"newham\", \"ngbs\", \"ngbs\", \"nldf\", \"nldf\", \"notify\", \"number\", \"number\", \"number\", \"number\", \"number\", \"number\", \"number\", \"number\", \"number\", \"number\", \"nurture\", \"nurture\", \"objective\", \"objective\", \"objective\", \"objective\", \"objective\", \"objective\", \"objective\", \"objective\", \"objective\", \"objective\", \"oda\", \"oda\", \"oda\", \"oda\", \"oda\", \"oda\", \"oda\", \"oda\", \"oda\", \"offer\", \"offer\", \"offer\", \"offer\", \"offer\", \"offer\", \"offer\", \"offer\", \"offer\", \"offer\", \"old\", \"old\", \"old\", \"old\", \"old\", \"old\", \"old\", \"old\", \"open_space\", \"open_space\", \"open_space\", \"open_space\", \"open_space\", \"oplc\", \"oplc\", \"oplc\", \"oplc\", \"oplc\", \"opportunity\", \"opportunity\", \"opportunity\", \"opportunity\", \"opportunity\", \"opportunity\", \"opportunity\", \"opportunity\", \"opportunity\", \"opportunity\", \"option\", \"option\", \"option\", \"option\", \"option\", \"option\", \"option\", \"option\", \"option\", \"option\", \"orn\", \"overarch\", \"overarch\", \"overarch\", \"overarch\", \"overarch\", \"overarch\", \"override\", \"oversee\", \"oversee\", \"oversee\", \"oversee\", \"oversee\", \"oversee\", \"package\", \"package\", \"package\", \"package\", \"package\", \"package\", \"package\", \"package\", \"package\", \"pair\", \"pair\", \"paragraph\", \"paragraph\", \"paragraph\", \"paragraph\", \"paragraph\", \"paragraph\", \"paragraph\", \"paralympic\", \"paralympic\", \"paralympic\", \"paralympic\", \"paralympic\", \"paralympic\", \"paralympic\", \"paralympic\", \"paralympic\", \"park\", \"park\", \"park\", \"park\", \"park\", \"park\", \"park\", \"park\", \"park\", \"parkland\", \"parkland\", \"parkland\", \"parkland\", \"parkland\", \"parkland\", \"participant\", \"participant\", \"participant\", \"participant\", \"participant\", \"participant\", \"participant\", \"participation\", \"participation\", \"participation\", \"participation\", \"participation\", \"participation\", \"participation\", \"participation\", \"participation\", \"participation\", \"partner\", \"partner\", \"partner\", \"partner\", \"partner\", \"partner\", \"partner\", \"partner\", \"partner\", \"partner\", \"pathway\", \"pathway\", \"pathway\", \"pathway\", \"pathway\", \"pay\", \"pay\", \"pay\", \"pay\", \"pay\", \"pay\", \"pay\", \"pay\", \"pay\", \"peace\", \"peace\", \"peace\", \"penalty\", \"penalty\", \"performance\", \"performance\", \"performance\", \"performance\", \"performance\", \"performance\", \"performance\", \"performance\", \"performance\", \"personnel\", \"personnel\", \"personnel\", \"personnel\", \"personnel\", \"personnel\", \"philip_davie\", \"philip_davie\", \"philip_davie\", \"physical\", \"physical\", \"physical\", \"physical\", \"physical\", \"physical\", \"physical\", \"physical\", \"physical\", \"physical_activity\", \"physical_activity\", \"physical_activity\", \"physical_activity\", \"physical_activity\", \"physical_activity\", \"physical_activity\", \"physical_activity\", \"physical_activity\", \"picketts_lock\", \"picketts_lock\", \"picketts_lock\", \"picketts_lock\", \"pinnacle\", \"pinnacle\", \"pinnacle\", \"pioneer\", \"place\", \"place\", \"place\", \"place\", \"place\", \"place\", \"place\", \"place\", \"place\", \"place\", \"plan\", \"plan\", \"plan\", \"plan\", \"plan\", \"plan\", \"plan\", \"plan\", \"plan\", \"plan\", \"planned\", \"planned\", \"planned\", \"planned\", \"planning\", \"planning\", \"planning\", \"planning\", \"planning\", \"planning\", \"planning\", \"planning\", \"planning\", \"planning\", \"podium\", \"podium\", \"point\", \"point\", \"point\", \"point\", \"point\", \"point\", \"point\", \"point\", \"point\", \"point\", \"politic\", \"politic\", \"poll\", \"poll\", \"poll\", \"possession\", \"possession\", \"potential\", \"potential\", \"potential\", \"potential\", \"potential\", \"potential\", \"potential\", \"potential\", \"potential\", \"potential\", \"precede\", \"precede\", \"precious\", \"precious\", \"preclude\", \"preclude\", \"preclude\", \"premier\", \"premier\", \"premier\", \"preparation\", \"preparation\", \"preparation\", \"preparation\", \"preparation\", \"preparation\", \"preparation\", \"preparation\", \"preparation\", \"preparatory\", \"preparatory\", \"prestige\", \"prestige\", \"pretend\", \"pricing\", \"pricing\", \"process\", \"process\", \"process\", \"process\", \"process\", \"process\", \"process\", \"process\", \"process\", \"process\", \"procure\", \"procure\", \"procure\", \"procure\", \"procure\", \"procurement\", \"procurement\", \"procurement\", \"procurement\", \"procurement\", \"procurement\", \"procurement\", \"professionalism\", \"programme\", \"programme\", \"programme\", \"programme\", \"programme\", \"programme\", \"programme\", \"programme\", \"programme\", \"programme\", \"progress\", \"progress\", \"progress\", \"progress\", \"progress\", \"progress\", \"progress\", \"progress\", \"progress\", \"progressive\", \"progressive\", \"project\", \"project\", \"project\", \"project\", \"project\", \"project\", \"project\", \"project\", \"project\", \"project\", \"promote\", \"promote\", \"promote\", \"promote\", \"promote\", \"promote\", \"promote\", \"promote\", \"promote\", \"promote\", \"prosperous\", \"prosperous\", \"provide\", \"provide\", \"provide\", \"provide\", \"provide\", \"provide\", \"provide\", \"provide\", \"provide\", \"provide\", \"psa\", \"public\", \"public\", \"public\", \"public\", \"public\", \"public\", \"public\", \"public\", \"public\", \"public\", \"public_domain\", \"public_domain\", \"public_domain\", \"public_domain\", \"pupil\", \"pupil\", \"pupil\", \"purchase\", \"purchase\", \"purchase\", \"purchase\", \"purchase\", \"qualify\", \"qualify\", \"qualify\", \"question\", \"question\", \"question\", \"question\", \"question\", \"question\", \"question\", \"question\", \"queue\", \"queue\", \"readiness\", \"readiness\", \"readiness\", \"reconcile\", \"reconcile\", \"recreation\", \"recreation\", \"recreation\", \"recreation\", \"recreation\", \"recreation\", \"recyclable\", \"recyclable\", \"redress\", \"redress\", \"redress\", \"regeneration\", \"regeneration\", \"regeneration\", \"regeneration\", \"regeneration\", \"regeneration\", \"regeneration\", \"regeneration\", \"regeneration\", \"regeneration\", \"region\", \"region\", \"region\", \"region\", \"region\", \"region\", \"region\", \"region\", \"region\", \"regional\", \"regional\", \"regional\", \"regional\", \"regional\", \"regional\", \"regional\", \"regional\", \"regional\", \"regret\", \"reimburse\", \"reimburse\", \"reimburse\", \"relieve\", \"relieve\", \"remain\", \"remain\", \"remain\", \"remain\", \"remain\", \"remain\", \"remain\", \"remain\", \"remain\", \"remain\", \"remark\", \"remember\", \"remember\", \"remember\", \"remember\", \"remember\", \"remember\", \"remember\", \"renegotiate\", \"renegotiate\", \"report\", \"report\", \"report\", \"report\", \"report\", \"report\", \"report\", \"report\", \"resident\", \"resident\", \"resident\", \"resident\", \"resident\", \"resident\", \"resident\", \"revenue\", \"revenue\", \"revenue\", \"revenue\", \"revenue\", \"revenue\", \"revenue\", \"review\", \"review\", \"review\", \"review\", \"review\", \"review\", \"review\", \"review\", \"review\", \"risk\", \"risk\", \"risk\", \"risk\", \"risk\", \"risk\", \"risk\", \"risk\", \"risk_assessment\", \"risk_assessment\", \"risk_assessment\", \"role_model\", \"role_model\", \"role_model\", \"role_model\", \"rower\", \"rower\", \"safety\", \"safety\", \"safety\", \"safety\", \"safety\", \"safety\", \"safety\", \"safety\", \"sander\", \"sander\", \"sander\", \"sander\", \"satisfaction\", \"satisfaction\", \"satisfaction\", \"satisfaction\", \"satisfaction\", \"sceptical\", \"sceptical\", \"school\", \"school\", \"school\", \"school\", \"school\", \"school\", \"school\", \"school\", \"science\", \"science\", \"science\", \"science\", \"science\", \"screening\", \"screening\", \"screening\", \"seb\", \"sector\", \"sector\", \"sector\", \"sector\", \"sector\", \"sector\", \"sector\", \"sector\", \"sector\", \"secure\", \"secure\", \"secure\", \"secure\", \"secure\", \"secure\", \"secure\", \"secure\", \"secure\", \"secure\", \"security\", \"security\", \"security\", \"security\", \"security\", \"security\", \"security\", \"security\", \"security_guard\", \"security_guard\", \"self_finance\", \"sell\", \"sell\", \"sell\", \"sell\", \"sell\", \"sell\", \"shall\", \"shall\", \"shall\", \"shall\", \"shame\", \"shareholder\", \"shareholder\", \"shareholder\", \"shareholder\", \"shareholder\", \"shed\", \"shoot\", \"shoot\", \"shoot\", \"shooting\", \"shooting\", \"shooting\", \"silver\", \"silver\", \"silver\", \"silver_medal\", \"silver_medal\", \"sir_clive_woodward\", \"sir_clive_woodward\", \"sir_clive_woodward\", \"sit\", \"sit\", \"sit\", \"sit\", \"sit\", \"sit\", \"sit\", \"sit\", \"sit\", \"site\", \"site\", \"site\", \"site\", \"site\", \"site\", \"site\", \"site\", \"site\", \"site\", \"skill\", \"skill\", \"skill\", \"skill\", \"skill\", \"skill\", \"skill\", \"skill\", \"skill\", \"skill\", \"skilled\", \"skilled\", \"skilled\", \"sky\", \"sky\", \"sky\", \"social\", \"social\", \"social\", \"social\", \"social\", \"social\", \"social\", \"social\", \"social\", \"social\", \"social_enterprise\", \"social_enterprise\", \"soil\", \"soil\", \"soil\", \"soil\", \"soil\", \"soil\", \"soldier\", \"soldier\", \"soldier\", \"sort\", \"sort\", \"sort\", \"sort\", \"sort\", \"sort\", \"sort\", \"source_national_audit\", \"source_national_audit\", \"source_national_audit\", \"south_w\", \"south_w\", \"south_w\", \"specialise\", \"specialise\", \"specialise\", \"spend\", \"spend\", \"spend\", \"spend\", \"spend\", \"spend\", \"spend\", \"spend\", \"spend\", \"spend\", \"sporting\", \"sporting\", \"sporting\", \"sporting\", \"sporting\", \"sporting\", \"sporting\", \"sporting\", \"sporting\", \"sporting\", \"sporting_giant\", \"sporting_giants_campaign\", \"sporting_giants_campaign\", \"squad\", \"squad\", \"squad\", \"stadium\", \"stadium\", \"stadium\", \"stadium\", \"stadium\", \"stadium\", \"stadium\", \"stadium\", \"stadium\", \"stadium\", \"stage\", \"stage\", \"stage\", \"stage\", \"stage\", \"stage\", \"stage\", \"stage\", \"stage\", \"stage\", \"stakeholder\", \"stakeholder\", \"stakeholder\", \"stakeholder\", \"stakeholder\", \"stakeholder\", \"stakeholder\", \"stakeholder\", \"stakeholder\", \"stakeholder\", \"start\", \"start\", \"start\", \"start\", \"start\", \"start\", \"start\", \"start\", \"start\", \"start\", \"stationery_office_limite\", \"stead\", \"stead\", \"sterling\", \"sterling\", \"stimulus\", \"stop\", \"stop\", \"stop\", \"stop\", \"stop\", \"stop\", \"stop\", \"strategy\", \"strategy\", \"strategy\", \"strategy\", \"strategy\", \"strategy\", \"strategy\", \"strategy\", \"strategy\", \"strategy\", \"success\", \"success\", \"success\", \"success\", \"success\", \"success\", \"success\", \"success\", \"success\", \"success\", \"suite\", \"suite\", \"supplier\", \"supplier\", \"supplier\", \"supplier\", \"supplier\", \"supplier\", \"support\", \"support\", \"support\", \"support\", \"support\", \"support\", \"support\", \"support\", \"support\", \"support\", \"suppose\", \"suppose\", \"suppose\", \"suppose\", \"suppose\", \"surround\", \"surround\", \"surround\", \"surround\", \"surround\", \"surround\", \"surround\", \"surround\", \"surround\", \"surround\", \"sustainability\", \"sustainability\", \"sustainability\", \"sustainability\", \"sustainability\", \"sustainability\", \"sustainability\", \"sustainability\", \"sustainability\", \"sustainable\", \"sustainable\", \"sustainable\", \"sustainable\", \"sustainable\", \"sustainable\", \"sustainable\", \"sustainable\", \"sustainable\", \"sustainable\", \"swim\", \"swim\", \"swim\", \"swim\", \"swim\", \"swimmer\", \"swimmer\", \"swimmer\", \"swimmer\", \"swimming\", \"swimming\", \"swimming\", \"swimming\", \"swimming\", \"swimming\", \"swimming\", \"talent\", \"talent\", \"talent\", \"talent\", \"talent\", \"talent\", \"talent_identification\", \"talent_identification\", \"talent_identification\", \"talk\", \"talk\", \"talk\", \"talk\", \"talk\", \"talk\", \"tally\", \"target\", \"target\", \"target\", \"target\", \"target\", \"target\", \"target\", \"target\", \"target\", \"target\", \"tax\", \"tax\", \"tax\", \"tax\", \"tax\", \"taxpayer\", \"taxpayer\", \"taxpayer\", \"taxpayer\", \"taxpayer\", \"taxpayer\", \"teaching\", \"team\", \"team\", \"team\", \"team\", \"team\", \"team\", \"team\", \"team\", \"team\", \"team\", \"technological\", \"technological\", \"telecom\", \"telecom\", \"telecom\", \"tell\", \"tell\", \"tell\", \"tell\", \"tell\", \"tell\", \"tell\", \"tender\", \"tender\", \"tender\", \"tender\", \"tender\", \"tender\", \"tender\", \"term\", \"term\", \"term\", \"term\", \"term\", \"term\", \"term\", \"term\", \"term\", \"term\", \"terminate\", \"terminate\", \"territory\", \"test_event\", \"test_event\", \"test_event\", \"test_event\", \"test_event\", \"testimony\", \"testimony\", \"testimony\", \"thame\", \"thame\", \"thame\", \"thames_gateway_development_corporation\", \"thames_gateway_development_corporation\", \"thames_gateway_development_corporation\", \"threshold\", \"threshold\", \"threshold\", \"threshold\", \"thrust\", \"ticket\", \"ticket\", \"ticket\", \"ticket\", \"ticket\", \"ticket\", \"ticket\", \"tier\", \"tier\", \"tier\", \"tier\", \"tier\", \"tooth\", \"torch\", \"tourism\", \"tourism\", \"tourism\", \"tourism\", \"tourism\", \"tourism\", \"tourism\", \"tout\", \"trading\", \"trading\", \"trading\", \"traffic\", \"traffic\", \"traffic\", \"traffic\", \"traffic\", \"training\", \"training\", \"training\", \"training\", \"training\", \"training\", \"training\", \"training\", \"training\", \"training\", \"transcript\", \"transcript\", \"transcript\", \"transform\", \"transform\", \"transform\", \"transform\", \"transform\", \"transform\", \"transform\", \"transform\", \"transformation\", \"transformation\", \"transformation\", \"transformation\", \"transformation\", \"transformation\", \"transformation\", \"transport\", \"transport\", \"transport\", \"transport\", \"transport\", \"transport\", \"transport\", \"transport\", \"transport\", \"transport\", \"ultimate_guarantor\", \"uncertainty\", \"uncertainty\", \"uncertainty\", \"uncertainty\", \"uncertainty\", \"understand\", \"understand\", \"understand\", \"understand\", \"understand\", \"understand\", \"understand\", \"understand\", \"understand\", \"underwriting\", \"underwriting\", \"underwriting\", \"unequivocal\", \"union\", \"unlimited\", \"unlimited\", \"unlock\", \"unlock\", \"unlock\", \"utility\", \"utility\", \"utility\", \"utility\", \"utility\", \"utility\", \"velopark\", \"velopark\", \"velopark\", \"velopark\", \"velopark\", \"velopark\", \"velopark\", \"venue\", \"venue\", \"venue\", \"venue\", \"venue\", \"venue\", \"venue\", \"venue\", \"venue\", \"venue\", \"verify\", \"verify\", \"verify\", \"viability\", \"viability\", \"viability\", \"viability\", \"viability\", \"viability\", \"viability\", \"viability\", \"viability\", \"view\", \"view\", \"view\", \"view\", \"view\", \"view\", \"view\", \"view\", \"view\", \"view\", \"village\", \"village\", \"village\", \"village\", \"village\", \"village\", \"village\", \"village\", \"village\", \"visa\", \"visa\", \"visa\", \"visionary\", \"visionary\", \"visit\", \"visit\", \"visit\", \"visit\", \"visit\", \"visit\", \"visit\", \"visit\", \"visit\", \"visit\", \"visitbritain\", \"visitbritain\", \"visitbritain\", \"visitor\", \"visitor\", \"visitor\", \"visitor\", \"visitor\", \"visitor\", \"visitor\", \"volleyball\", \"volleyball\", \"volleyball\", \"voluntary\", \"voluntary\", \"voluntary\", \"voluntary\", \"voluntary\", \"voluntary\", \"volunteer\", \"volunteer\", \"volunteer\", \"volunteer\", \"volunteer\", \"volunteer\", \"volunteer\", \"volunteer\", \"volunteer\", \"wage\", \"wage\", \"wage\", \"warn\", \"warn\", \"warn\", \"waterway\", \"waterway\", \"waterway\", \"waterway\", \"welcome\", \"welcome\", \"welcome\", \"welcome\", \"welcome\", \"welcome\", \"welcome\", \"welcome\", \"welcome\", \"welcoming\", \"welcoming\", \"welcoming\", \"wembley\", \"wembley\", \"wembley\", \"west\", \"west\", \"westfield\", \"westfield\", \"westfield\", \"west\\ufb01eld\", \"wholehearte\", \"wholehearte\", \"wide\", \"wide\", \"wide\", \"wide\", \"wide\", \"wide\", \"wide\", \"wide\", \"wide\", \"wide\", \"win\", \"win\", \"win\", \"win\", \"win\", \"win\", \"win\", \"win\", \"win\", \"witnesses_questions_tuesday_january\", \"witnesses_questions_wednesday_january\", \"woman\", \"woman\", \"woman\", \"woman\", \"woman\", \"workless\", \"workless\", \"workless\", \"workless\", \"world\", \"world\", \"world\", \"world\", \"world\", \"world\", \"world\", \"world\", \"world\", \"world\", \"world_class\", \"world_class\", \"world_class\", \"world_class\", \"world_class\", \"world_class\", \"world_class\", \"wrap\", \"written_evidence_submitte\", \"written_evidence_submitte\", \"written_evidence_submitte\", \"written_evidence_submitte\", \"yesterday\", \"yesterday\", \"yesterday\", \"young\", \"young\", \"young\", \"young\", \"young\", \"young\", \"young\", \"young\", \"young\", \"young\", \"\\ufb01nal\", \"\\ufb01nal\", \"\\ufb01nal\", \"\\ufb01nal\", \"\\ufb01nal\"]}, \"R\": 30, \"lambda.step\": 0.01, \"plot.opts\": {\"xlab\": \"PC1\", \"ylab\": \"PC2\"}, \"topic.order\": [1, 2, 3, 4, 5, 6, 7, 8, 9, 10]};\n",
       "\n",
       "function LDAvis_load_lib(url, callback){\n",
       "  var s = document.createElement('script');\n",
       "  s.src = url;\n",
       "  s.async = true;\n",
       "  s.onreadystatechange = s.onload = callback;\n",
       "  s.onerror = function(){console.warn(\"failed to load library \" + url);};\n",
       "  document.getElementsByTagName(\"head\")[0].appendChild(s);\n",
       "}\n",
       "\n",
       "if(typeof(LDAvis) !== \"undefined\"){\n",
       "   // already loaded: just create the visualization\n",
       "   !function(LDAvis){\n",
       "       new LDAvis(\"#\" + \"ldavis_el1453626894657482724261621190\", ldavis_el1453626894657482724261621190_data);\n",
       "   }(LDAvis);\n",
       "}else if(typeof define === \"function\" && define.amd){\n",
       "   // require.js is available: use it to load d3/LDAvis\n",
       "   require.config({paths: {d3: \"https://d3js.org/d3.v5\"}});\n",
       "   require([\"d3\"], function(d3){\n",
       "      window.d3 = d3;\n",
       "      LDAvis_load_lib(\"https://cdn.jsdelivr.net/gh/bmabey/pyLDAvis@3.3.1/pyLDAvis/js/ldavis.v3.0.0.js\", function(){\n",
       "        new LDAvis(\"#\" + \"ldavis_el1453626894657482724261621190\", ldavis_el1453626894657482724261621190_data);\n",
       "      });\n",
       "    });\n",
       "}else{\n",
       "    // require.js not available: dynamically load d3 & LDAvis\n",
       "    LDAvis_load_lib(\"https://d3js.org/d3.v5.js\", function(){\n",
       "         LDAvis_load_lib(\"https://cdn.jsdelivr.net/gh/bmabey/pyLDAvis@3.3.1/pyLDAvis/js/ldavis.v3.0.0.js\", function(){\n",
       "                 new LDAvis(\"#\" + \"ldavis_el1453626894657482724261621190\", ldavis_el1453626894657482724261621190_data);\n",
       "            })\n",
       "         });\n",
       "}\n",
       "</script>"
      ],
      "text/plain": [
       "PreparedData(topic_coordinates=              x         y  topics  cluster       Freq\n",
       "topic                                                \n",
       "0     -0.036245 -0.016183       1        1  15.054270\n",
       "1     -0.115388 -0.121908       2        1   6.242333\n",
       "2      0.165444  0.007344       3        1  13.086591\n",
       "3      0.012263 -0.113447       4        1   5.958818\n",
       "4     -0.166593 -0.032960       5        1   3.875823\n",
       "5      0.209298 -0.055475       6        1   3.399921\n",
       "6      0.057126  0.091926       7        1  11.669868\n",
       "7     -0.022764  0.078482       8        1  17.202777\n",
       "8     -0.067651  0.188570       9        1   5.608815\n",
       "9     -0.035490 -0.026348      10        1  17.900784, topic_info=             Term         Freq        Total Category  logprob  loglift\n",
       "56            bid  1481.000000  1481.000000  Default  30.0000  30.0000\n",
       "43      authority   775.000000   775.000000  Default  29.0000  29.0000\n",
       "614          cost  3018.000000  3018.000000  Default  28.0000  28.0000\n",
       "393     programme  2528.000000  2528.000000  Default  27.0000  27.0000\n",
       "422        report  1600.000000  1600.000000  Default  26.0000  26.0000\n",
       "...           ...          ...          ...      ...      ...      ...\n",
       "140   development   260.802538  1123.769332  Topic10  -5.3335   0.2596\n",
       "614          cost   328.030958  3018.660264  Topic10  -5.1042  -0.4991\n",
       "1175         fund   238.874721   971.266856  Topic10  -5.4214   0.3177\n",
       "669       include   258.158686  1419.855844  Topic10  -5.3437   0.0156\n",
       "186      facility   236.795854  1345.073896  Topic10  -5.4301  -0.0167\n",
       "\n",
       "[788 rows x 6 columns], token_table=      Topic      Freq    Term\n",
       "term                         \n",
       "1395      1  0.221028   abuse\n",
       "1395      2  0.552570   abuse\n",
       "1395      5  0.110514   abuse\n",
       "1395      7  0.110514   abuse\n",
       "1         1  0.135492  accept\n",
       "...     ...       ...     ...\n",
       "3301      1  0.114246    ﬁnal\n",
       "3301      3  0.047603    ﬁnal\n",
       "3301      7  0.133287    ﬁnal\n",
       "3301      8  0.628353    ﬁnal\n",
       "3301     10  0.085685    ﬁnal\n",
       "\n",
       "[3015 rows x 3 columns], R=30, lambda_step=0.01, plot_opts={'xlab': 'PC1', 'ylab': 'PC2'}, topic_order=[1, 2, 3, 4, 5, 6, 7, 8, 9, 10])"
      ]
     },
     "execution_count": 41,
     "metadata": {},
     "output_type": "execute_result"
    }
   ],
   "source": [
    "pyLDAvis.enable_notebook()\n",
    "vis = pyLDAvis.gensim_models.prepare(lda_model, corpus, id2word, sort_topics = False )\n",
    "pyLDAvis.save_html(vis, './assets/lda.html') # save the reult to disk   \n",
    "vis"
   ]
  },
  {
   "cell_type": "markdown",
   "metadata": {},
   "source": [
    "## 5.3. prototypical paragraphs\n",
    "The prototypical paragraphs, the paragraphs with a high probabitiy that they belong to a topic, can be used to assist topic interpretation. This section classify the paragraphs into topics and provides the users 4 types of filters to select the prototypical paragraphs: N most prototypical paragraphs overall, N most prototypical paragraphs where the belong() function is greater than the threshold L, N most prototypical paragraphs of each topic and N most prototypical paragraphs of a specific topic."
   ]
  },
  {
   "cell_type": "markdown",
   "metadata": {},
   "source": [
    "### 5.3.1.  Classify the paragraphs based on the trained model"
   ]
  },
  {
   "cell_type": "markdown",
   "metadata": {},
   "source": [
    "##### Extract paragraphs from documents"
   ]
  },
  {
   "cell_type": "code",
   "execution_count": 42,
   "metadata": {},
   "outputs": [],
   "source": [
    "# define the function for spliting texts into paragraphs by delimiter '.\\n\\n' or '. \\n\\n'\n",
    "def para_split(i):\n",
    "    j = parser.from_file(i)\n",
    "    m = j['content']\n",
    "    import re\n",
    "    return re.split('[?.!-]\\n|[?.!-] \\n|  \\n\\n|\\n\\n[0-9]', m)"
   ]
  },
  {
   "cell_type": "code",
   "execution_count": 43,
   "metadata": {},
   "outputs": [],
   "source": [
    "list_paragraphs = []\n",
    "list_para_id = []\n",
    "for i in pdf_files:\n",
    "    para = para_split(i)\n",
    "    para = [w.replace('\\n', '') for w in para]\n",
    "    para = [x.strip() for x in para if x.strip()] # remove empty elements\n",
    "    para_id = [x for x in range(len(para))] \n",
    "    list_paragraphs.append(para)\n",
    "    list_para_id.append(para_id)"
   ]
  },
  {
   "cell_type": "code",
   "execution_count": 44,
   "metadata": {
    "scrolled": true
   },
   "outputs": [
    {
     "data": {
      "text/plain": [
       "21640"
      ]
     },
     "execution_count": 44,
     "metadata": {},
     "output_type": "execute_result"
    }
   ],
   "source": [
    "df_para1 = df.copy()\n",
    "df_para1['paragraphs'] = list_paragraphs\n",
    "df_para1['para_id'] = list_para_id\n",
    "df_para2 = df_para1.apply(pd.Series.explode)\n",
    "df_para3 = df_para2.reset_index()\n",
    "df_para4 = df_para3[['creationDate', 'document_id', 'file_name', 'para_id', 'paragraphs']]\n",
    "len(df_para4) # number of paragraphs extracted"
   ]
  },
  {
   "cell_type": "code",
   "execution_count": 45,
   "metadata": {},
   "outputs": [
    {
     "data": {
      "text/html": [
       "<div>\n",
       "<style scoped>\n",
       "    .dataframe tbody tr th:only-of-type {\n",
       "        vertical-align: middle;\n",
       "    }\n",
       "\n",
       "    .dataframe tbody tr th {\n",
       "        vertical-align: top;\n",
       "    }\n",
       "\n",
       "    .dataframe thead th {\n",
       "        text-align: right;\n",
       "    }\n",
       "</style>\n",
       "<table border=\"1\" class=\"dataframe\">\n",
       "  <thead>\n",
       "    <tr style=\"text-align: right;\">\n",
       "      <th></th>\n",
       "      <th>index</th>\n",
       "      <th>creationDate</th>\n",
       "      <th>document_id</th>\n",
       "      <th>file_name</th>\n",
       "      <th>para_id</th>\n",
       "      <th>paragraphs</th>\n",
       "    </tr>\n",
       "  </thead>\n",
       "  <tbody>\n",
       "    <tr>\n",
       "      <th>0</th>\n",
       "      <td>2</td>\n",
       "      <td>D:20210822083603+00'00'</td>\n",
       "      <td>0</td>\n",
       "      <td>Examination_of_Witnesses_Sept_2003_-_Q1-19.pdf</td>\n",
       "      <td>2</td>\n",
       "      <td>MS BARBARA CASSANI Q1 Chairman: Good morning, ...</td>\n",
       "    </tr>\n",
       "    <tr>\n",
       "      <th>1</th>\n",
       "      <td>3</td>\n",
       "      <td>D:20210822083603+00'00'</td>\n",
       "      <td>0</td>\n",
       "      <td>Examination_of_Witnesses_Sept_2003_-_Q1-19.pdf</td>\n",
       "      <td>3</td>\n",
       "      <td>Ms Cassani: Thank you very much. Thank you ver...</td>\n",
       "    </tr>\n",
       "    <tr>\n",
       "      <th>2</th>\n",
       "      <td>4</td>\n",
       "      <td>D:20210822083603+00'00'</td>\n",
       "      <td>0</td>\n",
       "      <td>Examination_of_Witnesses_Sept_2003_-_Q1-19.pdf</td>\n",
       "      <td>4</td>\n",
       "      <td>8 months I shall be able to meet frequently wi...</td>\n",
       "    </tr>\n",
       "    <tr>\n",
       "      <th>3</th>\n",
       "      <td>5</td>\n",
       "      <td>D:20210822083603+00'00'</td>\n",
       "      <td>0</td>\n",
       "      <td>Examination_of_Witnesses_Sept_2003_-_Q1-19.pdf</td>\n",
       "      <td>5</td>\n",
       "      <td>The first thing I should like to say is that I...</td>\n",
       "    </tr>\n",
       "    <tr>\n",
       "      <th>4</th>\n",
       "      <td>6</td>\n",
       "      <td>D:20210822083603+00'00'</td>\n",
       "      <td>0</td>\n",
       "      <td>Examination_of_Witnesses_Sept_2003_-_Q1-19.pdf</td>\n",
       "      <td>6</td>\n",
       "      <td>Really the backdrop is that I believe in the G...</td>\n",
       "    </tr>\n",
       "    <tr>\n",
       "      <th>...</th>\n",
       "      <td>...</td>\n",
       "      <td>...</td>\n",
       "      <td>...</td>\n",
       "      <td>...</td>\n",
       "      <td>...</td>\n",
       "      <td>...</td>\n",
       "    </tr>\n",
       "    <tr>\n",
       "      <th>17709</th>\n",
       "      <td>21631</td>\n",
       "      <td>D:20210822084546+00'00'</td>\n",
       "      <td>168</td>\n",
       "      <td>Written_evidence_submitted_by_Youth_Sport_Trus...</td>\n",
       "      <td>37</td>\n",
       "      <td>7.3  When the impact of Olympics and Paralympi...</td>\n",
       "    </tr>\n",
       "    <tr>\n",
       "      <th>17710</th>\n",
       "      <td>21633</td>\n",
       "      <td>D:20210822084546+00'00'</td>\n",
       "      <td>168</td>\n",
       "      <td>Written_evidence_submitted_by_Youth_Sport_Trus...</td>\n",
       "      <td>39</td>\n",
       "      <td>11   2007-08 School Sport Survey.     12   As ...</td>\n",
       "    </tr>\n",
       "    <tr>\n",
       "      <th>17711</th>\n",
       "      <td>21634</td>\n",
       "      <td>D:20210822084546+00'00'</td>\n",
       "      <td>168</td>\n",
       "      <td>Written_evidence_submitted_by_Youth_Sport_Trus...</td>\n",
       "      <td>40</td>\n",
       "      <td>13   Gold Young Ambassadors work across School...</td>\n",
       "    </tr>\n",
       "    <tr>\n",
       "      <th>17712</th>\n",
       "      <td>21635</td>\n",
       "      <td>D:20210822084546+00'00'</td>\n",
       "      <td>168</td>\n",
       "      <td>Written_evidence_submitted_by_Youth_Sport_Trus...</td>\n",
       "      <td>41</td>\n",
       "      <td>14   From national data supplied by Department...</td>\n",
       "    </tr>\n",
       "    <tr>\n",
       "      <th>17713</th>\n",
       "      <td>21637</td>\n",
       "      <td>D:20210822084546+00'00'</td>\n",
       "      <td>168</td>\n",
       "      <td>Written_evidence_submitted_by_Youth_Sport_Trus...</td>\n",
       "      <td>43</td>\n",
       "      <td>5   The impact of School Sport Partnerships on...</td>\n",
       "    </tr>\n",
       "  </tbody>\n",
       "</table>\n",
       "<p>17714 rows × 6 columns</p>\n",
       "</div>"
      ],
      "text/plain": [
       "       index             creationDate  document_id  \\\n",
       "0          2  D:20210822083603+00'00'            0   \n",
       "1          3  D:20210822083603+00'00'            0   \n",
       "2          4  D:20210822083603+00'00'            0   \n",
       "3          5  D:20210822083603+00'00'            0   \n",
       "4          6  D:20210822083603+00'00'            0   \n",
       "...      ...                      ...          ...   \n",
       "17709  21631  D:20210822084546+00'00'          168   \n",
       "17710  21633  D:20210822084546+00'00'          168   \n",
       "17711  21634  D:20210822084546+00'00'          168   \n",
       "17712  21635  D:20210822084546+00'00'          168   \n",
       "17713  21637  D:20210822084546+00'00'          168   \n",
       "\n",
       "                                               file_name para_id  \\\n",
       "0         Examination_of_Witnesses_Sept_2003_-_Q1-19.pdf       2   \n",
       "1         Examination_of_Witnesses_Sept_2003_-_Q1-19.pdf       3   \n",
       "2         Examination_of_Witnesses_Sept_2003_-_Q1-19.pdf       4   \n",
       "3         Examination_of_Witnesses_Sept_2003_-_Q1-19.pdf       5   \n",
       "4         Examination_of_Witnesses_Sept_2003_-_Q1-19.pdf       6   \n",
       "...                                                  ...     ...   \n",
       "17709  Written_evidence_submitted_by_Youth_Sport_Trus...      37   \n",
       "17710  Written_evidence_submitted_by_Youth_Sport_Trus...      39   \n",
       "17711  Written_evidence_submitted_by_Youth_Sport_Trus...      40   \n",
       "17712  Written_evidence_submitted_by_Youth_Sport_Trus...      41   \n",
       "17713  Written_evidence_submitted_by_Youth_Sport_Trus...      43   \n",
       "\n",
       "                                              paragraphs  \n",
       "0      MS BARBARA CASSANI Q1 Chairman: Good morning, ...  \n",
       "1      Ms Cassani: Thank you very much. Thank you ver...  \n",
       "2      8 months I shall be able to meet frequently wi...  \n",
       "3      The first thing I should like to say is that I...  \n",
       "4      Really the backdrop is that I believe in the G...  \n",
       "...                                                  ...  \n",
       "17709  7.3  When the impact of Olympics and Paralympi...  \n",
       "17710  11   2007-08 School Sport Survey.     12   As ...  \n",
       "17711  13   Gold Young Ambassadors work across School...  \n",
       "17712  14   From national data supplied by Department...  \n",
       "17713  5   The impact of School Sport Partnerships on...  \n",
       "\n",
       "[17714 rows x 6 columns]"
      ]
     },
     "execution_count": 45,
     "metadata": {},
     "output_type": "execute_result"
    }
   ],
   "source": [
    "# set a filter to filter out the paragraphs with short words\n",
    "n_word_count = 10                                                        # set the threshold of word count\n",
    "para_word_count = df_para4['paragraphs'].str.split().str.len()           # word count of each paragraph\n",
    "df_para = df_para4[(para_word_count>=n_word_count)].reset_index()        # select the paragraphs with word count not less than the threshold\n",
    "df_para"
   ]
  },
  {
   "cell_type": "markdown",
   "metadata": {},
   "source": [
    "##### Process the paragraphs"
   ]
  },
  {
   "cell_type": "code",
   "execution_count": 46,
   "metadata": {},
   "outputs": [],
   "source": [
    "# tokenization\n",
    "data2 = df_para.paragraphs.values.tolist()\n",
    "data_words2 = list(sent_to_words(data2))"
   ]
  },
  {
   "cell_type": "code",
   "execution_count": 47,
   "metadata": {},
   "outputs": [],
   "source": [
    "# Form Trigrams\n",
    "data_words_trigrams2 = make_trigrams(data_words2)\n",
    "\n",
    "# Do lemmatization keeping only noun, adj, vb\n",
    "data_lemmatized2 = lemmatization(data_words_trigrams2, allowed_postags=['NOUN', 'ADJ', 'VERB'])\n",
    "\n",
    "# set the length of word threshold as same as before for removing the words less than the threshold\n",
    "data_lemmatized2_2 = []\n",
    "for i in data_lemmatized2:\n",
    "    new_element = [x for x in i if len(x) >= minimum_len]\n",
    "    data_lemmatized2_2.append(new_element)\n",
    "    \n",
    "# Remove Stop Words\n",
    "data_lemmatized2_1 = remove_stop_words(data_lemmatized2_2)"
   ]
  },
  {
   "cell_type": "markdown",
   "metadata": {},
   "source": [
    "##### Classify the paragraphs based on the extracted topics"
   ]
  },
  {
   "cell_type": "code",
   "execution_count": 48,
   "metadata": {},
   "outputs": [],
   "source": [
    "# belong function: classify topics of paragraphs, it might take a long time because there are 148,651 paragraphs in the 11,132,849-word corpus\n",
    "list_topic_para = []\n",
    "dictionary_topic_para = {}\n",
    "for d in data_lemmatized2_1:\n",
    "    bow = id2word.doc2bow(d)\n",
    "    belong = lda_model[bow]\n",
    "    doc_dic = Convert(belong, dictionary_topic_para)\n",
    "    list_topic_para.append(doc_dic)\n",
    "    df_topic_para = pd.DataFrame(list_topic_para)"
   ]
  },
  {
   "cell_type": "code",
   "execution_count": 49,
   "metadata": {},
   "outputs": [],
   "source": [
    "# rename the topic IDs to ensure they are as same as the topic IDs in the pyLDAvis\n",
    "df_topic_para = df_topic_para.rename(columns = dict(zip(original_topic_id, new_topic_id)))\n",
    "\n",
    "# topic distribution of paragraphs\n",
    "df_topic_para1_1 = pd.merge(df_para, df_topic_para, how = 'left', left_index=True, right_index=True)\n",
    "df_topic_para1_1\n",
    "\n",
    "# save the result to disk\n",
    "df_topic_para1_1.to_pickle('./df_topic_para_Olympics.pkl')\n",
    "# load the result from disk\n",
    "df_topic_para1 = pd.read_pickle('./df_topic_para_Olympics.pkl') "
   ]
  },
  {
   "cell_type": "code",
   "execution_count": 78,
   "metadata": {},
   "outputs": [],
   "source": [
    "# drop the paragraphs with high frequency but meaningless for interperation based on the extraction of prototypical paragraphs below\n",
    "list_remove_para = [7622, 12966]                                # input the index of the paragraphs you want to drop\n",
    "df_topic_para2 = df_topic_para1.copy().drop(list_remove_para) \n",
    "df_topic_para2.to_pickle('./df_topic_para_Olympics2.pkl') # save the resuilt to disk"
   ]
  },
  {
   "cell_type": "markdown",
   "metadata": {},
   "source": [
    "### 5.3.2. N most prototypical paragraphs overall"
   ]
  },
  {
   "cell_type": "code",
   "execution_count": 79,
   "metadata": {},
   "outputs": [
    {
     "data": {
      "text/html": [
       "<div>\n",
       "<style scoped>\n",
       "    .dataframe tbody tr th:only-of-type {\n",
       "        vertical-align: middle;\n",
       "    }\n",
       "\n",
       "    .dataframe tbody tr th {\n",
       "        vertical-align: top;\n",
       "    }\n",
       "\n",
       "    .dataframe thead th {\n",
       "        text-align: right;\n",
       "    }\n",
       "</style>\n",
       "<table border=\"1\" class=\"dataframe\">\n",
       "  <thead>\n",
       "    <tr style=\"text-align: right;\">\n",
       "      <th></th>\n",
       "      <th>index</th>\n",
       "      <th>creationDate</th>\n",
       "      <th>document_id</th>\n",
       "      <th>file_name</th>\n",
       "      <th>para_id</th>\n",
       "      <th>paragraphs</th>\n",
       "      <th>1</th>\n",
       "      <th>2</th>\n",
       "      <th>3</th>\n",
       "      <th>4</th>\n",
       "      <th>5</th>\n",
       "      <th>6</th>\n",
       "      <th>7</th>\n",
       "      <th>8</th>\n",
       "      <th>9</th>\n",
       "      <th>10</th>\n",
       "    </tr>\n",
       "  </thead>\n",
       "  <tbody>\n",
       "    <tr>\n",
       "      <th>0</th>\n",
       "      <td>2</td>\n",
       "      <td>D:20210822083603+00'00'</td>\n",
       "      <td>0</td>\n",
       "      <td>Examination_of_Witnesses_Sept_2003_-_Q1-19.pdf</td>\n",
       "      <td>2</td>\n",
       "      <td>MS BARBARA CASSANI Q1 Chairman: Good morning, ...</td>\n",
       "      <td>0.073004</td>\n",
       "      <td>0.055838</td>\n",
       "      <td>0.059690</td>\n",
       "      <td>0.053839</td>\n",
       "      <td>0.070040</td>\n",
       "      <td>0.055271</td>\n",
       "      <td>0.107584</td>\n",
       "      <td>0.187902</td>\n",
       "      <td>0.265389</td>\n",
       "      <td>0.071442</td>\n",
       "    </tr>\n",
       "    <tr>\n",
       "      <th>1</th>\n",
       "      <td>3</td>\n",
       "      <td>D:20210822083603+00'00'</td>\n",
       "      <td>0</td>\n",
       "      <td>Examination_of_Witnesses_Sept_2003_-_Q1-19.pdf</td>\n",
       "      <td>3</td>\n",
       "      <td>Ms Cassani: Thank you very much. Thank you ver...</td>\n",
       "      <td>0.088119</td>\n",
       "      <td>0.080434</td>\n",
       "      <td>0.079274</td>\n",
       "      <td>0.086185</td>\n",
       "      <td>0.086952</td>\n",
       "      <td>0.087036</td>\n",
       "      <td>0.094380</td>\n",
       "      <td>0.166091</td>\n",
       "      <td>0.143715</td>\n",
       "      <td>0.087814</td>\n",
       "    </tr>\n",
       "    <tr>\n",
       "      <th>2</th>\n",
       "      <td>4</td>\n",
       "      <td>D:20210822083603+00'00'</td>\n",
       "      <td>0</td>\n",
       "      <td>Examination_of_Witnesses_Sept_2003_-_Q1-19.pdf</td>\n",
       "      <td>4</td>\n",
       "      <td>8 months I shall be able to meet frequently wi...</td>\n",
       "      <td>0.091401</td>\n",
       "      <td>0.090485</td>\n",
       "      <td>0.108595</td>\n",
       "      <td>0.103616</td>\n",
       "      <td>0.084920</td>\n",
       "      <td>0.107042</td>\n",
       "      <td>0.094514</td>\n",
       "      <td>0.127285</td>\n",
       "      <td>0.099105</td>\n",
       "      <td>0.093036</td>\n",
       "    </tr>\n",
       "    <tr>\n",
       "      <th>3</th>\n",
       "      <td>5</td>\n",
       "      <td>D:20210822083603+00'00'</td>\n",
       "      <td>0</td>\n",
       "      <td>Examination_of_Witnesses_Sept_2003_-_Q1-19.pdf</td>\n",
       "      <td>5</td>\n",
       "      <td>The first thing I should like to say is that I...</td>\n",
       "      <td>0.051126</td>\n",
       "      <td>0.069764</td>\n",
       "      <td>0.030671</td>\n",
       "      <td>0.064049</td>\n",
       "      <td>0.045791</td>\n",
       "      <td>0.033653</td>\n",
       "      <td>0.045747</td>\n",
       "      <td>0.236413</td>\n",
       "      <td>0.367553</td>\n",
       "      <td>0.055234</td>\n",
       "    </tr>\n",
       "    <tr>\n",
       "      <th>4</th>\n",
       "      <td>6</td>\n",
       "      <td>D:20210822083603+00'00'</td>\n",
       "      <td>0</td>\n",
       "      <td>Examination_of_Witnesses_Sept_2003_-_Q1-19.pdf</td>\n",
       "      <td>6</td>\n",
       "      <td>Really the backdrop is that I believe in the G...</td>\n",
       "      <td>0.103006</td>\n",
       "      <td>0.104074</td>\n",
       "      <td>0.060459</td>\n",
       "      <td>0.075865</td>\n",
       "      <td>0.061256</td>\n",
       "      <td>0.052142</td>\n",
       "      <td>0.069883</td>\n",
       "      <td>0.095555</td>\n",
       "      <td>0.273615</td>\n",
       "      <td>0.104144</td>\n",
       "    </tr>\n",
       "    <tr>\n",
       "      <th>...</th>\n",
       "      <td>...</td>\n",
       "      <td>...</td>\n",
       "      <td>...</td>\n",
       "      <td>...</td>\n",
       "      <td>...</td>\n",
       "      <td>...</td>\n",
       "      <td>...</td>\n",
       "      <td>...</td>\n",
       "      <td>...</td>\n",
       "      <td>...</td>\n",
       "      <td>...</td>\n",
       "      <td>...</td>\n",
       "      <td>...</td>\n",
       "      <td>...</td>\n",
       "      <td>...</td>\n",
       "      <td>...</td>\n",
       "    </tr>\n",
       "    <tr>\n",
       "      <th>17709</th>\n",
       "      <td>21631</td>\n",
       "      <td>D:20210822084546+00'00'</td>\n",
       "      <td>168</td>\n",
       "      <td>Written_evidence_submitted_by_Youth_Sport_Trus...</td>\n",
       "      <td>37</td>\n",
       "      <td>7.3  When the impact of Olympics and Paralympi...</td>\n",
       "      <td>0.080292</td>\n",
       "      <td>0.341630</td>\n",
       "      <td>0.067202</td>\n",
       "      <td>0.065383</td>\n",
       "      <td>0.097171</td>\n",
       "      <td>0.081064</td>\n",
       "      <td>0.063351</td>\n",
       "      <td>0.058232</td>\n",
       "      <td>0.056719</td>\n",
       "      <td>0.088957</td>\n",
       "    </tr>\n",
       "    <tr>\n",
       "      <th>17710</th>\n",
       "      <td>21633</td>\n",
       "      <td>D:20210822084546+00'00'</td>\n",
       "      <td>168</td>\n",
       "      <td>Written_evidence_submitted_by_Youth_Sport_Trus...</td>\n",
       "      <td>39</td>\n",
       "      <td>11   2007-08 School Sport Survey.     12   As ...</td>\n",
       "      <td>0.108606</td>\n",
       "      <td>0.201046</td>\n",
       "      <td>0.084207</td>\n",
       "      <td>0.090331</td>\n",
       "      <td>0.086395</td>\n",
       "      <td>0.067951</td>\n",
       "      <td>0.077790</td>\n",
       "      <td>0.094008</td>\n",
       "      <td>0.087868</td>\n",
       "      <td>0.101798</td>\n",
       "    </tr>\n",
       "    <tr>\n",
       "      <th>17711</th>\n",
       "      <td>21634</td>\n",
       "      <td>D:20210822084546+00'00'</td>\n",
       "      <td>168</td>\n",
       "      <td>Written_evidence_submitted_by_Youth_Sport_Trus...</td>\n",
       "      <td>40</td>\n",
       "      <td>13   Gold Young Ambassadors work across School...</td>\n",
       "      <td>0.170898</td>\n",
       "      <td>0.174138</td>\n",
       "      <td>0.078430</td>\n",
       "      <td>0.083826</td>\n",
       "      <td>0.083533</td>\n",
       "      <td>0.076720</td>\n",
       "      <td>0.081847</td>\n",
       "      <td>0.083701</td>\n",
       "      <td>0.078578</td>\n",
       "      <td>0.088329</td>\n",
       "    </tr>\n",
       "    <tr>\n",
       "      <th>17712</th>\n",
       "      <td>21635</td>\n",
       "      <td>D:20210822084546+00'00'</td>\n",
       "      <td>168</td>\n",
       "      <td>Written_evidence_submitted_by_Youth_Sport_Trus...</td>\n",
       "      <td>41</td>\n",
       "      <td>14   From national data supplied by Department...</td>\n",
       "      <td>0.095260</td>\n",
       "      <td>0.140983</td>\n",
       "      <td>0.105393</td>\n",
       "      <td>0.088466</td>\n",
       "      <td>0.100969</td>\n",
       "      <td>0.098432</td>\n",
       "      <td>0.099462</td>\n",
       "      <td>0.095923</td>\n",
       "      <td>0.080132</td>\n",
       "      <td>0.094981</td>\n",
       "    </tr>\n",
       "    <tr>\n",
       "      <th>17713</th>\n",
       "      <td>21637</td>\n",
       "      <td>D:20210822084546+00'00'</td>\n",
       "      <td>168</td>\n",
       "      <td>Written_evidence_submitted_by_Youth_Sport_Trus...</td>\n",
       "      <td>43</td>\n",
       "      <td>5   The impact of School Sport Partnerships on...</td>\n",
       "      <td>0.090376</td>\n",
       "      <td>0.219336</td>\n",
       "      <td>0.079896</td>\n",
       "      <td>0.084346</td>\n",
       "      <td>0.095948</td>\n",
       "      <td>0.090754</td>\n",
       "      <td>0.085128</td>\n",
       "      <td>0.082485</td>\n",
       "      <td>0.078434</td>\n",
       "      <td>0.093297</td>\n",
       "    </tr>\n",
       "  </tbody>\n",
       "</table>\n",
       "<p>17712 rows × 16 columns</p>\n",
       "</div>"
      ],
      "text/plain": [
       "       index             creationDate  document_id  \\\n",
       "0          2  D:20210822083603+00'00'            0   \n",
       "1          3  D:20210822083603+00'00'            0   \n",
       "2          4  D:20210822083603+00'00'            0   \n",
       "3          5  D:20210822083603+00'00'            0   \n",
       "4          6  D:20210822083603+00'00'            0   \n",
       "...      ...                      ...          ...   \n",
       "17709  21631  D:20210822084546+00'00'          168   \n",
       "17710  21633  D:20210822084546+00'00'          168   \n",
       "17711  21634  D:20210822084546+00'00'          168   \n",
       "17712  21635  D:20210822084546+00'00'          168   \n",
       "17713  21637  D:20210822084546+00'00'          168   \n",
       "\n",
       "                                               file_name para_id  \\\n",
       "0         Examination_of_Witnesses_Sept_2003_-_Q1-19.pdf       2   \n",
       "1         Examination_of_Witnesses_Sept_2003_-_Q1-19.pdf       3   \n",
       "2         Examination_of_Witnesses_Sept_2003_-_Q1-19.pdf       4   \n",
       "3         Examination_of_Witnesses_Sept_2003_-_Q1-19.pdf       5   \n",
       "4         Examination_of_Witnesses_Sept_2003_-_Q1-19.pdf       6   \n",
       "...                                                  ...     ...   \n",
       "17709  Written_evidence_submitted_by_Youth_Sport_Trus...      37   \n",
       "17710  Written_evidence_submitted_by_Youth_Sport_Trus...      39   \n",
       "17711  Written_evidence_submitted_by_Youth_Sport_Trus...      40   \n",
       "17712  Written_evidence_submitted_by_Youth_Sport_Trus...      41   \n",
       "17713  Written_evidence_submitted_by_Youth_Sport_Trus...      43   \n",
       "\n",
       "                                              paragraphs         1         2  \\\n",
       "0      MS BARBARA CASSANI Q1 Chairman: Good morning, ...  0.073004  0.055838   \n",
       "1      Ms Cassani: Thank you very much. Thank you ver...  0.088119  0.080434   \n",
       "2      8 months I shall be able to meet frequently wi...  0.091401  0.090485   \n",
       "3      The first thing I should like to say is that I...  0.051126  0.069764   \n",
       "4      Really the backdrop is that I believe in the G...  0.103006  0.104074   \n",
       "...                                                  ...       ...       ...   \n",
       "17709  7.3  When the impact of Olympics and Paralympi...  0.080292  0.341630   \n",
       "17710  11   2007-08 School Sport Survey.     12   As ...  0.108606  0.201046   \n",
       "17711  13   Gold Young Ambassadors work across School...  0.170898  0.174138   \n",
       "17712  14   From national data supplied by Department...  0.095260  0.140983   \n",
       "17713  5   The impact of School Sport Partnerships on...  0.090376  0.219336   \n",
       "\n",
       "              3         4         5         6         7         8         9  \\\n",
       "0      0.059690  0.053839  0.070040  0.055271  0.107584  0.187902  0.265389   \n",
       "1      0.079274  0.086185  0.086952  0.087036  0.094380  0.166091  0.143715   \n",
       "2      0.108595  0.103616  0.084920  0.107042  0.094514  0.127285  0.099105   \n",
       "3      0.030671  0.064049  0.045791  0.033653  0.045747  0.236413  0.367553   \n",
       "4      0.060459  0.075865  0.061256  0.052142  0.069883  0.095555  0.273615   \n",
       "...         ...       ...       ...       ...       ...       ...       ...   \n",
       "17709  0.067202  0.065383  0.097171  0.081064  0.063351  0.058232  0.056719   \n",
       "17710  0.084207  0.090331  0.086395  0.067951  0.077790  0.094008  0.087868   \n",
       "17711  0.078430  0.083826  0.083533  0.076720  0.081847  0.083701  0.078578   \n",
       "17712  0.105393  0.088466  0.100969  0.098432  0.099462  0.095923  0.080132   \n",
       "17713  0.079896  0.084346  0.095948  0.090754  0.085128  0.082485  0.078434   \n",
       "\n",
       "             10  \n",
       "0      0.071442  \n",
       "1      0.087814  \n",
       "2      0.093036  \n",
       "3      0.055234  \n",
       "4      0.104144  \n",
       "...         ...  \n",
       "17709  0.088957  \n",
       "17710  0.101798  \n",
       "17711  0.088329  \n",
       "17712  0.094981  \n",
       "17713  0.093297  \n",
       "\n",
       "[17712 rows x 16 columns]"
      ]
     },
     "execution_count": 79,
     "metadata": {},
     "output_type": "execute_result"
    }
   ],
   "source": [
    "df_topic_para2"
   ]
  },
  {
   "cell_type": "code",
   "execution_count": 80,
   "metadata": {},
   "outputs": [],
   "source": [
    "#N most prototypical paragraphs overall\n",
    "df_topic_para2_n = df_topic_para2.copy()\n",
    "df_topic_para2_n['highest_p'] = df_topic_para2_n.iloc[:, 6:].max(axis = 1)          # get the highest probability among the topic distribution of each paragraph\n",
    "df_topic_para2_n['salient_topic'] = df_topic_para2_n.iloc[:, 6:].idxmax(axis = 1)    # get the corresponding topic id\n",
    "df_topic_para2_n = df_topic_para2_n[['index','file_name','salient_topic','paragraphs','highest_p',]]\n",
    "df_topic_para2_n.columns = ['Index','file','topic', 'paragraph','probability']"
   ]
  },
  {
   "cell_type": "code",
   "execution_count": 81,
   "metadata": {},
   "outputs": [
    {
     "data": {
      "text/html": [
       "<style  type=\"text/css\" >\n",
       "#T_e2592_row0_col3,#T_e2592_row1_col3,#T_e2592_row2_col3,#T_e2592_row3_col3,#T_e2592_row4_col3{\n",
       "            width:  1000px;\n",
       "            length:  50px;\n",
       "        }</style><table id=\"T_e2592_\" ><thead>    <tr>        <th class=\"blank level0\" ></th>        <th class=\"col_heading level0 col0\" >Index</th>        <th class=\"col_heading level0 col1\" >file</th>        <th class=\"col_heading level0 col2\" >topic</th>        <th class=\"col_heading level0 col3\" >paragraph</th>        <th class=\"col_heading level0 col4\" >probability</th>    </tr></thead><tbody>\n",
       "                <tr>\n",
       "                        <th id=\"T_e2592_level0_row0\" class=\"row_heading level0 row0\" >17552</th>\n",
       "                        <td id=\"T_e2592_row0_col0\" class=\"data row0 col0\" >21447</td>\n",
       "                        <td id=\"T_e2592_row0_col1\" class=\"data row0 col1\" >Written_evidence_submitted_by_Vision_2020_UK_-_Jan_2010.pdf</td>\n",
       "                        <td id=\"T_e2592_row0_col2\" class=\"data row0 col2\" >2</td>\n",
       "                        <td id=\"T_e2592_row0_col3\" class=\"data row0 col3\" >4. Most clubs seem ill-prepared for enquiries from, and inclusion of, people with disabilities who wish to participate in the sport offered by the club. There is little or no support for specialist clubs who provide opportunities for sport that cannot be integrated ie wheelchair basketball or blind cricket! There is often nothing locally to support the child or their parent in accessing the specialist provision and this often involves their having to undertake extensive travel to specialist facilities or organisations catering for this group. There is poor information regarding availability etc and http://www.parasport.org.uk was established as a portal to provide pathway and provision information. The then Mayor of London published a strategy in 2007, which highlighted all these issues and to date there has been little, if any, action to redress these anomalies in London or in the rest of the country. DCSF have, in my view, shown no leadership regarding the legacy of 2012 and its impact on PE in schools and the inclusion of those with disabilities in core curriculum activities or sporting opportunities within or after school. DCMS held a legacy event in 2008 and again in April 2009 focusing on the legacy of the Games for those with disabilities. One outcome was to seek greater links between DWP, DCSF and themselves to ensure that joint strategies were developed and pathways established that enabled children to enjoy and participate in PE and sport within schools/after school clubs/integrated and specialist provision in the community, with good national talent forums and pathways established for those who wish to participate in sport at a higher level and finally, with governing bodies having clear inclusive programmes for sports men and women with disabilities active at a national and international level</td>\n",
       "                        <td id=\"T_e2592_row0_col4\" class=\"data row0 col4\" >0.676578</td>\n",
       "            </tr>\n",
       "            <tr>\n",
       "                        <th id=\"T_e2592_level0_row1\" class=\"row_heading level0 row1\" >17551</th>\n",
       "                        <td id=\"T_e2592_row1_col0\" class=\"data row1 col0\" >21446</td>\n",
       "                        <td id=\"T_e2592_row1_col1\" class=\"data row1 col1\" >Written_evidence_submitted_by_Vision_2020_UK_-_Jan_2010.pdf</td>\n",
       "                        <td id=\"T_e2592_row1_col2\" class=\"data row1 col2\" >2</td>\n",
       "                        <td id=\"T_e2592_row1_col3\" class=\"data row1 col3\" >3. After school activities often exclude this group of children ie no possibility of inclusion in team sports such as football, cricket, rugby, basket ball etc., limited access to swimming baths, athletic fields etc. All of these sports are undertaken by people with a disability, but not now normally at school. Specialist schools did provide a massive range of sporting opportunities and sport played a major part of my own adjustment to disability. I learned about teamwork, was able to set individual goals, have competition to extend my abilities, occasionally experienced \"being a winner\" and had that thrill of competition. One example of efforts to redress this issue within a school setting is in Leeds, which has a programme of monthly sporting and physical activities arranged in school time for vision impaired children within the schools. One solution easily achieved would be for groups of schools to come together monthly to provide sporting and recreational activities for disabled children and young people within their schools</td>\n",
       "                        <td id=\"T_e2592_row1_col4\" class=\"data row1 col4\" >0.627952</td>\n",
       "            </tr>\n",
       "            <tr>\n",
       "                        <th id=\"T_e2592_level0_row2\" class=\"row_heading level0 row2\" >3329</th>\n",
       "                        <td id=\"T_e2592_row2_col0\" class=\"data row2 col0\" >3935</td>\n",
       "                        <td id=\"T_e2592_row2_col1\" class=\"data row2 col1\" >NAO_Preparations_for_the_Olympics_-_Progress_report_-_June_2008.pdf</td>\n",
       "                        <td id=\"T_e2592_row2_col2\" class=\"data row2 col2\" >6</td>\n",
       "                        <td id=\"T_e2592_row2_col3\" class=\"data row2 col3\" >6 PREPARATIONS FOR THE LONDON 2012 OLyMPIC AND PARALyMPIC GAMES: PROGRESS REPORT JuNE 2008\t \t \t \t \t \t10 The start and completion dates for the construction of the main venue and infrastructure projects delivered by the Olympic Delivery Authority at the end of March 2008 compared with the milestones in the November 2007 Programme Baseline ReportProjectEnabling Works (site preparation) Power Lines under Grounding  (switchover only)   Structures, Bridges and Highways utilities Main Stadium    Aquatics Centre    VeloparkHandball/Indoor Sports ArenaBasketballInternational Broadcast Centre/ Main Press CentreOlympic Village Eton Manor (training facilities  and Paralympic events)  Broxbourne  (white water canoeing) Eton Dorney (rowing) Weymouth and Portland (sailing)construction start date November 2007  March 2008 Change in  programme  Forecast start date  baseline  (months)October 2006 October 2006 0 July 2008 July 2008 0   April 2008 April 2008 0 January 2008 January 2008 0 July 2008 May 2008 –21    September 2008 September 2008 0 March 2009 March 2009 0August 2009 June 2009 –2July 2009 November 2009 4May 2009 March 2009 –2 June 2008 May 2008 –1 March 2010 January 2010 –2   August 2008 May 2009 9  March 2009 January 2009 –2 May 2008 January 2008 –4construction end date November 2007  March 2008 Change in  programme  Forecast end date  baseline   (months)September 2009 September 2009 0 September 2008 November 2008 2   December 2011 December 2011 0 December 2011 August 2011 –4 Construction  Construction end date end dateFebruary 2011 April 2011 2Completion date  Completion date for construction  for construction and initial overlay  and initial overlay for test events for test eventsJune 2011 June 2011 0Construction  Construction end date end dateApril 2011 August 2011 4Completion date  Completion date for construction  for construction and initial overlay  and initial overlay for test events for test eventsJuly 2011 August 2011 1April 2011 February 2011 –2April 2011 March 2011 –1April 2011 April 2011 0June 2011 July 2011 1 December 2011 December 2011 0 February 2012 April 2011 –10   June 2010 October 2010 4  April 2010 July 2009 –9 February 2009 January 2009 –1Source: National Audit Office examination of actual and forecast progress against the November 2007 Programme BaselineNOTE</td>\n",
       "                        <td id=\"T_e2592_row2_col4\" class=\"data row2 col4\" >0.623241</td>\n",
       "            </tr>\n",
       "            <tr>\n",
       "                        <th id=\"T_e2592_level0_row3\" class=\"row_heading level0 row3\" >454</th>\n",
       "                        <td id=\"T_e2592_row3_col0\" class=\"data row3 col0\" >520</td>\n",
       "                        <td id=\"T_e2592_row3_col1\" class=\"data row3 col1\" >Jan_2003_-_Qs_200-220.pdf</td>\n",
       "                        <td id=\"T_e2592_row3_col2\" class=\"data row3 col2\" >9</td>\n",
       "                        <td id=\"T_e2592_row3_col3\" class=\"data row3 col3\" >The Committee suspended from 4.09 pm to 4.23 pm for a division in the House Alan Keen   202. I did not get to the end of the question at the beginning but the point I am making is that because we have to have a village and all the events have to be in that area it adds costs to hosting the Olympics, I reckon at least half a billion and probably a billion. If we could spread them round the country—and I went to Japan for the World Cup and the atmosphere was brilliant. We went to different places—more people could get to see it. If we could do that with the Olympics, the point I am really asking you is that it is difficult for the Government. The Minister and the Secretary of State are going to see the President of the IOC on Friday. It will not do our bid any good if they go there telling them how they should organise the Olympic Games in the future. I am really asking you as the main channellers of funding in sport in this country, will you make these representations that the Olympics, just for the sake of having 18,000 athletes in one village, which is very nice, although it is not so nice for those whose event comes on the last day and they want a party—we could save somewhere between half a billion and a billion pounds by using facilities we have got around the country now. The athletics could be at Wembley as they were supposed to be. The football could be at the main stadium and spread around the country as it is going to be in fact. What I am saying is that instead of having the athletes all together in one village for the three weeks of the Olympics, we could put a party on for them and they could stay for a week after the Olympics when they could all get drunk if that is what they do. I think somebody needs to go to the IOC and put this point to them. We have been taking evidence from people in the last couple of days and there are tremendous difficulties. There would hardly be a difficulty if we could use stadia around the country and we did not have to have the village. It is the village that causes all the problems that we are facing now</td>\n",
       "                        <td id=\"T_e2592_row3_col4\" class=\"data row3 col4\" >0.621515</td>\n",
       "            </tr>\n",
       "            <tr>\n",
       "                        <th id=\"T_e2592_level0_row4\" class=\"row_heading level0 row4\" >3335</th>\n",
       "                        <td id=\"T_e2592_row4_col0\" class=\"data row4 col0\" >3942</td>\n",
       "                        <td id=\"T_e2592_row4_col1\" class=\"data row4 col1\" >NAO_Preparations_for_the_Olympics_-_Progress_report_-_June_2008.pdf</td>\n",
       "                        <td id=\"T_e2592_row4_col2\" class=\"data row4 col2\" >6</td>\n",
       "                        <td id=\"T_e2592_row4_col3\" class=\"data row4 col3\" >Construction of the Main Stadium and its readiness for test events is critical to the Authority’s delivery programme. At the time of the November 2007 Programme Baseline Report, which was before contract signature, construction of the Main Stadium was scheduled to be completed in February 2011, to be followed by LOCOG overlay works for test events which were to be completed by June 2011. To date good progress has been made on site preparation, which has allowed construction to start in May 2008, two months earlier than planned.1 As a result of contract negotiations the Authority has agreed a longer construction period than anticipated (35 months rather than 32). The Authority has, however, built early access dates for LOCOG overlay works into the contract so overlay can be carried out in parallel with the construction work. The forecast date for readiness for test events remains at June 2011</td>\n",
       "                        <td id=\"T_e2592_row4_col4\" class=\"data row4 col4\" >0.619893</td>\n",
       "            </tr>\n",
       "    </tbody></table>"
      ],
      "text/plain": [
       "<pandas.io.formats.style.Styler at 0x2722e9a93a0>"
      ]
     },
     "execution_count": 81,
     "metadata": {},
     "output_type": "execute_result"
    }
   ],
   "source": [
    "N1 = 5   # Set N to get the N most prototypical paragraphs overall\n",
    "df_topic_para2_n.nlargest(N1,['probability']).style.set_properties(subset = ['paragraph'], **{'width':'1000px', 'length': '50px'})"
   ]
  },
  {
   "cell_type": "markdown",
   "metadata": {},
   "source": [
    "### 5.3.3.  N most prototypical paragraphs where the belong() function is greater than the threshold L\n",
    "I followed the method of extraction of prototypical text suggested by PTBI (Marchetti and Puranam, 2020. p. 14). PTBI attempts to not only extract the prototypical documents to improve interpretability, but also to find the minimum number of prototypical documents for topic interpretation. The algorithm is shown as follows:\n",
    "1. Defines a threshold L  (L < ∈ [0,1]). For instance, we set L to be 0.5.\n",
    "2. For each topic, select the documents with the probability that they belong to the topic is not less than L (0.5). \n",
    "3. For each topic, check whether the number of documents selected is not less than 1/L. For instance, if L = 0.5, for each topic we need at least 2 documents for topic interpretation. This method weakens the limitation that a few documents have a high proportion of a topic is because of randomness.\n",
    "4. Compute the percentage of interpretable topics as described in step iii\n",
    "5. Change L, keep iterating and find the optimal L with which the percentage of interpretable topics is the highest. "
   ]
  },
  {
   "cell_type": "markdown",
   "metadata": {},
   "source": [
    "##### Indenfication of the optimal L and miminum number of paragraphs for topic interpretation"
   ]
  },
  {
   "cell_type": "code",
   "execution_count": 82,
   "metadata": {},
   "outputs": [],
   "source": [
    "List_num_doc = [x for x in range(1, 20, 1)] # generate a list of 1/L (minimum number of documents to interpret a topic)\n",
    "list_L = [1/x for x in List_num_doc]        # generate a list of L"
   ]
  },
  {
   "cell_type": "code",
   "execution_count": 83,
   "metadata": {},
   "outputs": [],
   "source": [
    "# define the function for computing the percentage of potentially interpretable topics against parameter L\n",
    "def perc(i, df):\n",
    "    list_num_topics = []\n",
    "    for j in df:                                  \n",
    "        topic_filter = df[j] >= i         \n",
    "        m = df[j][topic_filter].count()           \n",
    "        list_num_topics.append(m)                                             \n",
    "        count1 = sum(map(lambda x : x >= 1/i, list_num_topics))                                     \n",
    "        perc1 = count1 / k\n",
    "    return(perc1)"
   ]
  },
  {
   "cell_type": "markdown",
   "metadata": {},
   "source": [
    "The plot shows that when L = 0.333, the percentage of interpretable topics is 100%, so I set L to be 0.333 - ie, each topic needs at least 3 (1/0.333) paragraphs with the probability that they belong to the topic is no less than 3  for interpretation. It is worth noting that L is inversely proportional to the minimum number of paragraphs of each topic for interpretation (1/L), in other words, the lower the threshold L is, the more paragraphs that users need to interpret the topics. Although when L = 0.1 the percentage of interpretable topics is also 100%, the minimum number of paragraphs of each topic for interpretation also rises to 10 (1/0.1), which increases the workload of interpretation significantly."
   ]
  },
  {
   "cell_type": "code",
   "execution_count": 84,
   "metadata": {},
   "outputs": [
    {
     "data": {
      "application/vnd.plotly.v1+json": {
       "config": {
        "plotlyServerURL": "https://plotly.com"
       },
       "data": [
        {
         "hovertemplate": "Threshold_L=%{x}<br>Percentage of interpretable topics=%{y}<extra></extra>",
         "legendgroup": "",
         "line": {
          "color": "#636efa",
          "dash": "solid"
         },
         "mode": "lines+markers",
         "name": "",
         "orientation": "v",
         "showlegend": false,
         "type": "scatter",
         "x": [
          1,
          0.5,
          0.3333333333333333,
          0.25,
          0.2,
          0.16666666666666666,
          0.14285714285714285,
          0.125,
          0.1111111111111111,
          0.1,
          0.09090909090909091,
          0.08333333333333333,
          0.07692307692307693,
          0.07142857142857142,
          0.06666666666666667,
          0.0625,
          0.058823529411764705,
          0.05555555555555555,
          0.05263157894736842
         ],
         "xaxis": "x",
         "y": [
          0,
          0.8,
          1,
          1,
          1,
          1,
          1,
          1,
          1,
          1,
          1,
          1,
          1,
          1,
          1,
          1,
          1,
          1,
          1
         ],
         "yaxis": "y"
        }
       ],
       "layout": {
        "autosize": false,
        "height": 400,
        "legend": {
         "tracegroupgap": 0
        },
        "template": {
         "data": {
          "bar": [
           {
            "error_x": {
             "color": "#2a3f5f"
            },
            "error_y": {
             "color": "#2a3f5f"
            },
            "marker": {
             "line": {
              "color": "#E5ECF6",
              "width": 0.5
             }
            },
            "type": "bar"
           }
          ],
          "barpolar": [
           {
            "marker": {
             "line": {
              "color": "#E5ECF6",
              "width": 0.5
             }
            },
            "type": "barpolar"
           }
          ],
          "carpet": [
           {
            "aaxis": {
             "endlinecolor": "#2a3f5f",
             "gridcolor": "white",
             "linecolor": "white",
             "minorgridcolor": "white",
             "startlinecolor": "#2a3f5f"
            },
            "baxis": {
             "endlinecolor": "#2a3f5f",
             "gridcolor": "white",
             "linecolor": "white",
             "minorgridcolor": "white",
             "startlinecolor": "#2a3f5f"
            },
            "type": "carpet"
           }
          ],
          "choropleth": [
           {
            "colorbar": {
             "outlinewidth": 0,
             "ticks": ""
            },
            "type": "choropleth"
           }
          ],
          "contour": [
           {
            "colorbar": {
             "outlinewidth": 0,
             "ticks": ""
            },
            "colorscale": [
             [
              0,
              "#0d0887"
             ],
             [
              0.1111111111111111,
              "#46039f"
             ],
             [
              0.2222222222222222,
              "#7201a8"
             ],
             [
              0.3333333333333333,
              "#9c179e"
             ],
             [
              0.4444444444444444,
              "#bd3786"
             ],
             [
              0.5555555555555556,
              "#d8576b"
             ],
             [
              0.6666666666666666,
              "#ed7953"
             ],
             [
              0.7777777777777778,
              "#fb9f3a"
             ],
             [
              0.8888888888888888,
              "#fdca26"
             ],
             [
              1,
              "#f0f921"
             ]
            ],
            "type": "contour"
           }
          ],
          "contourcarpet": [
           {
            "colorbar": {
             "outlinewidth": 0,
             "ticks": ""
            },
            "type": "contourcarpet"
           }
          ],
          "heatmap": [
           {
            "colorbar": {
             "outlinewidth": 0,
             "ticks": ""
            },
            "colorscale": [
             [
              0,
              "#0d0887"
             ],
             [
              0.1111111111111111,
              "#46039f"
             ],
             [
              0.2222222222222222,
              "#7201a8"
             ],
             [
              0.3333333333333333,
              "#9c179e"
             ],
             [
              0.4444444444444444,
              "#bd3786"
             ],
             [
              0.5555555555555556,
              "#d8576b"
             ],
             [
              0.6666666666666666,
              "#ed7953"
             ],
             [
              0.7777777777777778,
              "#fb9f3a"
             ],
             [
              0.8888888888888888,
              "#fdca26"
             ],
             [
              1,
              "#f0f921"
             ]
            ],
            "type": "heatmap"
           }
          ],
          "heatmapgl": [
           {
            "colorbar": {
             "outlinewidth": 0,
             "ticks": ""
            },
            "colorscale": [
             [
              0,
              "#0d0887"
             ],
             [
              0.1111111111111111,
              "#46039f"
             ],
             [
              0.2222222222222222,
              "#7201a8"
             ],
             [
              0.3333333333333333,
              "#9c179e"
             ],
             [
              0.4444444444444444,
              "#bd3786"
             ],
             [
              0.5555555555555556,
              "#d8576b"
             ],
             [
              0.6666666666666666,
              "#ed7953"
             ],
             [
              0.7777777777777778,
              "#fb9f3a"
             ],
             [
              0.8888888888888888,
              "#fdca26"
             ],
             [
              1,
              "#f0f921"
             ]
            ],
            "type": "heatmapgl"
           }
          ],
          "histogram": [
           {
            "marker": {
             "colorbar": {
              "outlinewidth": 0,
              "ticks": ""
             }
            },
            "type": "histogram"
           }
          ],
          "histogram2d": [
           {
            "colorbar": {
             "outlinewidth": 0,
             "ticks": ""
            },
            "colorscale": [
             [
              0,
              "#0d0887"
             ],
             [
              0.1111111111111111,
              "#46039f"
             ],
             [
              0.2222222222222222,
              "#7201a8"
             ],
             [
              0.3333333333333333,
              "#9c179e"
             ],
             [
              0.4444444444444444,
              "#bd3786"
             ],
             [
              0.5555555555555556,
              "#d8576b"
             ],
             [
              0.6666666666666666,
              "#ed7953"
             ],
             [
              0.7777777777777778,
              "#fb9f3a"
             ],
             [
              0.8888888888888888,
              "#fdca26"
             ],
             [
              1,
              "#f0f921"
             ]
            ],
            "type": "histogram2d"
           }
          ],
          "histogram2dcontour": [
           {
            "colorbar": {
             "outlinewidth": 0,
             "ticks": ""
            },
            "colorscale": [
             [
              0,
              "#0d0887"
             ],
             [
              0.1111111111111111,
              "#46039f"
             ],
             [
              0.2222222222222222,
              "#7201a8"
             ],
             [
              0.3333333333333333,
              "#9c179e"
             ],
             [
              0.4444444444444444,
              "#bd3786"
             ],
             [
              0.5555555555555556,
              "#d8576b"
             ],
             [
              0.6666666666666666,
              "#ed7953"
             ],
             [
              0.7777777777777778,
              "#fb9f3a"
             ],
             [
              0.8888888888888888,
              "#fdca26"
             ],
             [
              1,
              "#f0f921"
             ]
            ],
            "type": "histogram2dcontour"
           }
          ],
          "mesh3d": [
           {
            "colorbar": {
             "outlinewidth": 0,
             "ticks": ""
            },
            "type": "mesh3d"
           }
          ],
          "parcoords": [
           {
            "line": {
             "colorbar": {
              "outlinewidth": 0,
              "ticks": ""
             }
            },
            "type": "parcoords"
           }
          ],
          "pie": [
           {
            "automargin": true,
            "type": "pie"
           }
          ],
          "scatter": [
           {
            "marker": {
             "colorbar": {
              "outlinewidth": 0,
              "ticks": ""
             }
            },
            "type": "scatter"
           }
          ],
          "scatter3d": [
           {
            "line": {
             "colorbar": {
              "outlinewidth": 0,
              "ticks": ""
             }
            },
            "marker": {
             "colorbar": {
              "outlinewidth": 0,
              "ticks": ""
             }
            },
            "type": "scatter3d"
           }
          ],
          "scattercarpet": [
           {
            "marker": {
             "colorbar": {
              "outlinewidth": 0,
              "ticks": ""
             }
            },
            "type": "scattercarpet"
           }
          ],
          "scattergeo": [
           {
            "marker": {
             "colorbar": {
              "outlinewidth": 0,
              "ticks": ""
             }
            },
            "type": "scattergeo"
           }
          ],
          "scattergl": [
           {
            "marker": {
             "colorbar": {
              "outlinewidth": 0,
              "ticks": ""
             }
            },
            "type": "scattergl"
           }
          ],
          "scattermapbox": [
           {
            "marker": {
             "colorbar": {
              "outlinewidth": 0,
              "ticks": ""
             }
            },
            "type": "scattermapbox"
           }
          ],
          "scatterpolar": [
           {
            "marker": {
             "colorbar": {
              "outlinewidth": 0,
              "ticks": ""
             }
            },
            "type": "scatterpolar"
           }
          ],
          "scatterpolargl": [
           {
            "marker": {
             "colorbar": {
              "outlinewidth": 0,
              "ticks": ""
             }
            },
            "type": "scatterpolargl"
           }
          ],
          "scatterternary": [
           {
            "marker": {
             "colorbar": {
              "outlinewidth": 0,
              "ticks": ""
             }
            },
            "type": "scatterternary"
           }
          ],
          "surface": [
           {
            "colorbar": {
             "outlinewidth": 0,
             "ticks": ""
            },
            "colorscale": [
             [
              0,
              "#0d0887"
             ],
             [
              0.1111111111111111,
              "#46039f"
             ],
             [
              0.2222222222222222,
              "#7201a8"
             ],
             [
              0.3333333333333333,
              "#9c179e"
             ],
             [
              0.4444444444444444,
              "#bd3786"
             ],
             [
              0.5555555555555556,
              "#d8576b"
             ],
             [
              0.6666666666666666,
              "#ed7953"
             ],
             [
              0.7777777777777778,
              "#fb9f3a"
             ],
             [
              0.8888888888888888,
              "#fdca26"
             ],
             [
              1,
              "#f0f921"
             ]
            ],
            "type": "surface"
           }
          ],
          "table": [
           {
            "cells": {
             "fill": {
              "color": "#EBF0F8"
             },
             "line": {
              "color": "white"
             }
            },
            "header": {
             "fill": {
              "color": "#C8D4E3"
             },
             "line": {
              "color": "white"
             }
            },
            "type": "table"
           }
          ]
         },
         "layout": {
          "annotationdefaults": {
           "arrowcolor": "#2a3f5f",
           "arrowhead": 0,
           "arrowwidth": 1
          },
          "autotypenumbers": "strict",
          "coloraxis": {
           "colorbar": {
            "outlinewidth": 0,
            "ticks": ""
           }
          },
          "colorscale": {
           "diverging": [
            [
             0,
             "#8e0152"
            ],
            [
             0.1,
             "#c51b7d"
            ],
            [
             0.2,
             "#de77ae"
            ],
            [
             0.3,
             "#f1b6da"
            ],
            [
             0.4,
             "#fde0ef"
            ],
            [
             0.5,
             "#f7f7f7"
            ],
            [
             0.6,
             "#e6f5d0"
            ],
            [
             0.7,
             "#b8e186"
            ],
            [
             0.8,
             "#7fbc41"
            ],
            [
             0.9,
             "#4d9221"
            ],
            [
             1,
             "#276419"
            ]
           ],
           "sequential": [
            [
             0,
             "#0d0887"
            ],
            [
             0.1111111111111111,
             "#46039f"
            ],
            [
             0.2222222222222222,
             "#7201a8"
            ],
            [
             0.3333333333333333,
             "#9c179e"
            ],
            [
             0.4444444444444444,
             "#bd3786"
            ],
            [
             0.5555555555555556,
             "#d8576b"
            ],
            [
             0.6666666666666666,
             "#ed7953"
            ],
            [
             0.7777777777777778,
             "#fb9f3a"
            ],
            [
             0.8888888888888888,
             "#fdca26"
            ],
            [
             1,
             "#f0f921"
            ]
           ],
           "sequentialminus": [
            [
             0,
             "#0d0887"
            ],
            [
             0.1111111111111111,
             "#46039f"
            ],
            [
             0.2222222222222222,
             "#7201a8"
            ],
            [
             0.3333333333333333,
             "#9c179e"
            ],
            [
             0.4444444444444444,
             "#bd3786"
            ],
            [
             0.5555555555555556,
             "#d8576b"
            ],
            [
             0.6666666666666666,
             "#ed7953"
            ],
            [
             0.7777777777777778,
             "#fb9f3a"
            ],
            [
             0.8888888888888888,
             "#fdca26"
            ],
            [
             1,
             "#f0f921"
            ]
           ]
          },
          "colorway": [
           "#636efa",
           "#EF553B",
           "#00cc96",
           "#ab63fa",
           "#FFA15A",
           "#19d3f3",
           "#FF6692",
           "#B6E880",
           "#FF97FF",
           "#FECB52"
          ],
          "font": {
           "color": "#2a3f5f"
          },
          "geo": {
           "bgcolor": "white",
           "lakecolor": "white",
           "landcolor": "#E5ECF6",
           "showlakes": true,
           "showland": true,
           "subunitcolor": "white"
          },
          "hoverlabel": {
           "align": "left"
          },
          "hovermode": "closest",
          "mapbox": {
           "style": "light"
          },
          "paper_bgcolor": "white",
          "plot_bgcolor": "#E5ECF6",
          "polar": {
           "angularaxis": {
            "gridcolor": "white",
            "linecolor": "white",
            "ticks": ""
           },
           "bgcolor": "#E5ECF6",
           "radialaxis": {
            "gridcolor": "white",
            "linecolor": "white",
            "ticks": ""
           }
          },
          "scene": {
           "xaxis": {
            "backgroundcolor": "#E5ECF6",
            "gridcolor": "white",
            "gridwidth": 2,
            "linecolor": "white",
            "showbackground": true,
            "ticks": "",
            "zerolinecolor": "white"
           },
           "yaxis": {
            "backgroundcolor": "#E5ECF6",
            "gridcolor": "white",
            "gridwidth": 2,
            "linecolor": "white",
            "showbackground": true,
            "ticks": "",
            "zerolinecolor": "white"
           },
           "zaxis": {
            "backgroundcolor": "#E5ECF6",
            "gridcolor": "white",
            "gridwidth": 2,
            "linecolor": "white",
            "showbackground": true,
            "ticks": "",
            "zerolinecolor": "white"
           }
          },
          "shapedefaults": {
           "line": {
            "color": "#2a3f5f"
           }
          },
          "ternary": {
           "aaxis": {
            "gridcolor": "white",
            "linecolor": "white",
            "ticks": ""
           },
           "baxis": {
            "gridcolor": "white",
            "linecolor": "white",
            "ticks": ""
           },
           "bgcolor": "#E5ECF6",
           "caxis": {
            "gridcolor": "white",
            "linecolor": "white",
            "ticks": ""
           }
          },
          "title": {
           "x": 0.05
          },
          "xaxis": {
           "automargin": true,
           "gridcolor": "white",
           "linecolor": "white",
           "ticks": "",
           "title": {
            "standoff": 15
           },
           "zerolinecolor": "white",
           "zerolinewidth": 2
          },
          "yaxis": {
           "automargin": true,
           "gridcolor": "white",
           "linecolor": "white",
           "ticks": "",
           "title": {
            "standoff": 15
           },
           "zerolinecolor": "white",
           "zerolinewidth": 2
          }
         }
        },
        "title": {
         "text": "Percentage of interpretable topics"
        },
        "width": 800,
        "xaxis": {
         "anchor": "y",
         "domain": [
          0,
          1
         ],
         "title": {
          "text": "Threshold_L"
         }
        },
        "yaxis": {
         "anchor": "x",
         "domain": [
          0,
          1
         ],
         "title": {
          "text": "Percentage of interpretable topics"
         }
        }
       }
      },
      "text/html": [
       "<div>                            <div id=\"43911aa9-09bd-4b76-a6fb-2ac4e778318c\" class=\"plotly-graph-div\" style=\"height:400px; width:800px;\"></div>            <script type=\"text/javascript\">                require([\"plotly\"], function(Plotly) {                    window.PLOTLYENV=window.PLOTLYENV || {};                                    if (document.getElementById(\"43911aa9-09bd-4b76-a6fb-2ac4e778318c\")) {                    Plotly.newPlot(                        \"43911aa9-09bd-4b76-a6fb-2ac4e778318c\",                        [{\"hovertemplate\": \"Threshold_L=%{x}<br>Percentage of interpretable topics=%{y}<extra></extra>\", \"legendgroup\": \"\", \"line\": {\"color\": \"#636efa\", \"dash\": \"solid\"}, \"mode\": \"lines+markers\", \"name\": \"\", \"orientation\": \"v\", \"showlegend\": false, \"type\": \"scatter\", \"x\": [1.0, 0.5, 0.3333333333333333, 0.25, 0.2, 0.16666666666666666, 0.14285714285714285, 0.125, 0.1111111111111111, 0.1, 0.09090909090909091, 0.08333333333333333, 0.07692307692307693, 0.07142857142857142, 0.06666666666666667, 0.0625, 0.058823529411764705, 0.05555555555555555, 0.05263157894736842], \"xaxis\": \"x\", \"y\": [0.0, 0.8, 1.0, 1.0, 1.0, 1.0, 1.0, 1.0, 1.0, 1.0, 1.0, 1.0, 1.0, 1.0, 1.0, 1.0, 1.0, 1.0, 1.0], \"yaxis\": \"y\"}],                        {\"autosize\": false, \"height\": 400, \"legend\": {\"tracegroupgap\": 0}, \"template\": {\"data\": {\"bar\": [{\"error_x\": {\"color\": \"#2a3f5f\"}, \"error_y\": {\"color\": \"#2a3f5f\"}, \"marker\": {\"line\": {\"color\": \"#E5ECF6\", \"width\": 0.5}}, \"type\": \"bar\"}], \"barpolar\": [{\"marker\": {\"line\": {\"color\": \"#E5ECF6\", \"width\": 0.5}}, \"type\": \"barpolar\"}], \"carpet\": [{\"aaxis\": {\"endlinecolor\": \"#2a3f5f\", \"gridcolor\": \"white\", \"linecolor\": \"white\", \"minorgridcolor\": \"white\", \"startlinecolor\": \"#2a3f5f\"}, \"baxis\": {\"endlinecolor\": \"#2a3f5f\", \"gridcolor\": \"white\", \"linecolor\": \"white\", \"minorgridcolor\": \"white\", \"startlinecolor\": \"#2a3f5f\"}, \"type\": \"carpet\"}], \"choropleth\": [{\"colorbar\": {\"outlinewidth\": 0, \"ticks\": \"\"}, \"type\": \"choropleth\"}], \"contour\": [{\"colorbar\": {\"outlinewidth\": 0, \"ticks\": \"\"}, \"colorscale\": [[0.0, \"#0d0887\"], [0.1111111111111111, \"#46039f\"], [0.2222222222222222, \"#7201a8\"], [0.3333333333333333, \"#9c179e\"], [0.4444444444444444, \"#bd3786\"], [0.5555555555555556, \"#d8576b\"], [0.6666666666666666, \"#ed7953\"], [0.7777777777777778, \"#fb9f3a\"], [0.8888888888888888, \"#fdca26\"], [1.0, \"#f0f921\"]], \"type\": \"contour\"}], \"contourcarpet\": [{\"colorbar\": {\"outlinewidth\": 0, \"ticks\": \"\"}, \"type\": \"contourcarpet\"}], \"heatmap\": [{\"colorbar\": {\"outlinewidth\": 0, \"ticks\": \"\"}, \"colorscale\": [[0.0, \"#0d0887\"], [0.1111111111111111, \"#46039f\"], [0.2222222222222222, \"#7201a8\"], [0.3333333333333333, \"#9c179e\"], [0.4444444444444444, \"#bd3786\"], [0.5555555555555556, \"#d8576b\"], [0.6666666666666666, \"#ed7953\"], [0.7777777777777778, \"#fb9f3a\"], [0.8888888888888888, \"#fdca26\"], [1.0, \"#f0f921\"]], \"type\": \"heatmap\"}], \"heatmapgl\": [{\"colorbar\": {\"outlinewidth\": 0, \"ticks\": \"\"}, \"colorscale\": [[0.0, \"#0d0887\"], [0.1111111111111111, \"#46039f\"], [0.2222222222222222, \"#7201a8\"], [0.3333333333333333, \"#9c179e\"], [0.4444444444444444, \"#bd3786\"], [0.5555555555555556, \"#d8576b\"], [0.6666666666666666, \"#ed7953\"], [0.7777777777777778, \"#fb9f3a\"], [0.8888888888888888, \"#fdca26\"], [1.0, \"#f0f921\"]], \"type\": \"heatmapgl\"}], \"histogram\": [{\"marker\": {\"colorbar\": {\"outlinewidth\": 0, \"ticks\": \"\"}}, \"type\": \"histogram\"}], \"histogram2d\": [{\"colorbar\": {\"outlinewidth\": 0, \"ticks\": \"\"}, \"colorscale\": [[0.0, \"#0d0887\"], [0.1111111111111111, \"#46039f\"], [0.2222222222222222, \"#7201a8\"], [0.3333333333333333, \"#9c179e\"], [0.4444444444444444, \"#bd3786\"], [0.5555555555555556, \"#d8576b\"], [0.6666666666666666, \"#ed7953\"], [0.7777777777777778, \"#fb9f3a\"], [0.8888888888888888, \"#fdca26\"], [1.0, \"#f0f921\"]], \"type\": \"histogram2d\"}], \"histogram2dcontour\": [{\"colorbar\": {\"outlinewidth\": 0, \"ticks\": \"\"}, \"colorscale\": [[0.0, \"#0d0887\"], [0.1111111111111111, \"#46039f\"], [0.2222222222222222, \"#7201a8\"], [0.3333333333333333, \"#9c179e\"], [0.4444444444444444, \"#bd3786\"], [0.5555555555555556, \"#d8576b\"], [0.6666666666666666, \"#ed7953\"], [0.7777777777777778, \"#fb9f3a\"], [0.8888888888888888, \"#fdca26\"], [1.0, \"#f0f921\"]], \"type\": \"histogram2dcontour\"}], \"mesh3d\": [{\"colorbar\": {\"outlinewidth\": 0, \"ticks\": \"\"}, \"type\": \"mesh3d\"}], \"parcoords\": [{\"line\": {\"colorbar\": {\"outlinewidth\": 0, \"ticks\": \"\"}}, \"type\": \"parcoords\"}], \"pie\": [{\"automargin\": true, \"type\": \"pie\"}], \"scatter\": [{\"marker\": {\"colorbar\": {\"outlinewidth\": 0, \"ticks\": \"\"}}, \"type\": \"scatter\"}], \"scatter3d\": [{\"line\": {\"colorbar\": {\"outlinewidth\": 0, \"ticks\": \"\"}}, \"marker\": {\"colorbar\": {\"outlinewidth\": 0, \"ticks\": \"\"}}, \"type\": \"scatter3d\"}], \"scattercarpet\": [{\"marker\": {\"colorbar\": {\"outlinewidth\": 0, \"ticks\": \"\"}}, \"type\": \"scattercarpet\"}], \"scattergeo\": [{\"marker\": {\"colorbar\": {\"outlinewidth\": 0, \"ticks\": \"\"}}, \"type\": \"scattergeo\"}], \"scattergl\": [{\"marker\": {\"colorbar\": {\"outlinewidth\": 0, \"ticks\": \"\"}}, \"type\": \"scattergl\"}], \"scattermapbox\": [{\"marker\": {\"colorbar\": {\"outlinewidth\": 0, \"ticks\": \"\"}}, \"type\": \"scattermapbox\"}], \"scatterpolar\": [{\"marker\": {\"colorbar\": {\"outlinewidth\": 0, \"ticks\": \"\"}}, \"type\": \"scatterpolar\"}], \"scatterpolargl\": [{\"marker\": {\"colorbar\": {\"outlinewidth\": 0, \"ticks\": \"\"}}, \"type\": \"scatterpolargl\"}], \"scatterternary\": [{\"marker\": {\"colorbar\": {\"outlinewidth\": 0, \"ticks\": \"\"}}, \"type\": \"scatterternary\"}], \"surface\": [{\"colorbar\": {\"outlinewidth\": 0, \"ticks\": \"\"}, \"colorscale\": [[0.0, \"#0d0887\"], [0.1111111111111111, \"#46039f\"], [0.2222222222222222, \"#7201a8\"], [0.3333333333333333, \"#9c179e\"], [0.4444444444444444, \"#bd3786\"], [0.5555555555555556, \"#d8576b\"], [0.6666666666666666, \"#ed7953\"], [0.7777777777777778, \"#fb9f3a\"], [0.8888888888888888, \"#fdca26\"], [1.0, \"#f0f921\"]], \"type\": \"surface\"}], \"table\": [{\"cells\": {\"fill\": {\"color\": \"#EBF0F8\"}, \"line\": {\"color\": \"white\"}}, \"header\": {\"fill\": {\"color\": \"#C8D4E3\"}, \"line\": {\"color\": \"white\"}}, \"type\": \"table\"}]}, \"layout\": {\"annotationdefaults\": {\"arrowcolor\": \"#2a3f5f\", \"arrowhead\": 0, \"arrowwidth\": 1}, \"autotypenumbers\": \"strict\", \"coloraxis\": {\"colorbar\": {\"outlinewidth\": 0, \"ticks\": \"\"}}, \"colorscale\": {\"diverging\": [[0, \"#8e0152\"], [0.1, \"#c51b7d\"], [0.2, \"#de77ae\"], [0.3, \"#f1b6da\"], [0.4, \"#fde0ef\"], [0.5, \"#f7f7f7\"], [0.6, \"#e6f5d0\"], [0.7, \"#b8e186\"], [0.8, \"#7fbc41\"], [0.9, \"#4d9221\"], [1, \"#276419\"]], \"sequential\": [[0.0, \"#0d0887\"], [0.1111111111111111, \"#46039f\"], [0.2222222222222222, \"#7201a8\"], [0.3333333333333333, \"#9c179e\"], [0.4444444444444444, \"#bd3786\"], [0.5555555555555556, \"#d8576b\"], [0.6666666666666666, \"#ed7953\"], [0.7777777777777778, \"#fb9f3a\"], [0.8888888888888888, \"#fdca26\"], [1.0, \"#f0f921\"]], \"sequentialminus\": [[0.0, \"#0d0887\"], [0.1111111111111111, \"#46039f\"], [0.2222222222222222, \"#7201a8\"], [0.3333333333333333, \"#9c179e\"], [0.4444444444444444, \"#bd3786\"], [0.5555555555555556, \"#d8576b\"], [0.6666666666666666, \"#ed7953\"], [0.7777777777777778, \"#fb9f3a\"], [0.8888888888888888, \"#fdca26\"], [1.0, \"#f0f921\"]]}, \"colorway\": [\"#636efa\", \"#EF553B\", \"#00cc96\", \"#ab63fa\", \"#FFA15A\", \"#19d3f3\", \"#FF6692\", \"#B6E880\", \"#FF97FF\", \"#FECB52\"], \"font\": {\"color\": \"#2a3f5f\"}, \"geo\": {\"bgcolor\": \"white\", \"lakecolor\": \"white\", \"landcolor\": \"#E5ECF6\", \"showlakes\": true, \"showland\": true, \"subunitcolor\": \"white\"}, \"hoverlabel\": {\"align\": \"left\"}, \"hovermode\": \"closest\", \"mapbox\": {\"style\": \"light\"}, \"paper_bgcolor\": \"white\", \"plot_bgcolor\": \"#E5ECF6\", \"polar\": {\"angularaxis\": {\"gridcolor\": \"white\", \"linecolor\": \"white\", \"ticks\": \"\"}, \"bgcolor\": \"#E5ECF6\", \"radialaxis\": {\"gridcolor\": \"white\", \"linecolor\": \"white\", \"ticks\": \"\"}}, \"scene\": {\"xaxis\": {\"backgroundcolor\": \"#E5ECF6\", \"gridcolor\": \"white\", \"gridwidth\": 2, \"linecolor\": \"white\", \"showbackground\": true, \"ticks\": \"\", \"zerolinecolor\": \"white\"}, \"yaxis\": {\"backgroundcolor\": \"#E5ECF6\", \"gridcolor\": \"white\", \"gridwidth\": 2, \"linecolor\": \"white\", \"showbackground\": true, \"ticks\": \"\", \"zerolinecolor\": \"white\"}, \"zaxis\": {\"backgroundcolor\": \"#E5ECF6\", \"gridcolor\": \"white\", \"gridwidth\": 2, \"linecolor\": \"white\", \"showbackground\": true, \"ticks\": \"\", \"zerolinecolor\": \"white\"}}, \"shapedefaults\": {\"line\": {\"color\": \"#2a3f5f\"}}, \"ternary\": {\"aaxis\": {\"gridcolor\": \"white\", \"linecolor\": \"white\", \"ticks\": \"\"}, \"baxis\": {\"gridcolor\": \"white\", \"linecolor\": \"white\", \"ticks\": \"\"}, \"bgcolor\": \"#E5ECF6\", \"caxis\": {\"gridcolor\": \"white\", \"linecolor\": \"white\", \"ticks\": \"\"}}, \"title\": {\"x\": 0.05}, \"xaxis\": {\"automargin\": true, \"gridcolor\": \"white\", \"linecolor\": \"white\", \"ticks\": \"\", \"title\": {\"standoff\": 15}, \"zerolinecolor\": \"white\", \"zerolinewidth\": 2}, \"yaxis\": {\"automargin\": true, \"gridcolor\": \"white\", \"linecolor\": \"white\", \"ticks\": \"\", \"title\": {\"standoff\": 15}, \"zerolinecolor\": \"white\", \"zerolinewidth\": 2}}}, \"title\": {\"text\": \"Percentage of interpretable topics\"}, \"width\": 800, \"xaxis\": {\"anchor\": \"y\", \"domain\": [0.0, 1.0], \"title\": {\"text\": \"Threshold_L\"}}, \"yaxis\": {\"anchor\": \"x\", \"domain\": [0.0, 1.0], \"title\": {\"text\": \"Percentage of interpretable topics\"}}},                        {\"responsive\": true}                    ).then(function(){\n",
       "                            \n",
       "var gd = document.getElementById('43911aa9-09bd-4b76-a6fb-2ac4e778318c');\n",
       "var x = new MutationObserver(function (mutations, observer) {{\n",
       "        var display = window.getComputedStyle(gd).display;\n",
       "        if (!display || display === 'none') {{\n",
       "            console.log([gd, 'removed!']);\n",
       "            Plotly.purge(gd);\n",
       "            observer.disconnect();\n",
       "        }}\n",
       "}});\n",
       "\n",
       "// Listen for the removal of the full notebook cells\n",
       "var notebookContainer = gd.closest('#notebook-container');\n",
       "if (notebookContainer) {{\n",
       "    x.observe(notebookContainer, {childList: true});\n",
       "}}\n",
       "\n",
       "// Listen for the clearing of the current output cell\n",
       "var outputEl = gd.closest('.output');\n",
       "if (outputEl) {{\n",
       "    x.observe(outputEl, {childList: true});\n",
       "}}\n",
       "\n",
       "                        })                };                });            </script>        </div>"
      ]
     },
     "metadata": {},
     "output_type": "display_data"
    }
   ],
   "source": [
    "list_perc2 = []\n",
    "for i in list_L:\n",
    "    num = perc(i, df_topic_para.drop(list_remove_para))\n",
    "    list_perc2.append(num)\n",
    "\n",
    "df_L2 = pd.DataFrame({'Threshold_L': list_L, 'Percentage of interpretable topics': list_perc2})\n",
    "fig_L2 = px.line(df_L2, x = 'Threshold_L', y=\"Percentage of interpretable topics\", title = 'Percentage of interpretable topics')\n",
    "fig_L2.update_layout(autosize=False, width=800, height=400)\n",
    "fig_L2.update_traces(mode = \"lines + markers\")\n",
    "fig_L2.show()"
   ]
  },
  {
   "cell_type": "code",
   "execution_count": 85,
   "metadata": {},
   "outputs": [],
   "source": [
    "# define the function for extracting the highest N ranked paragraphs from each topic\n",
    "def top_n_filter(df, top_n):\n",
    "    list_topic_id = [x+1 for x in range(0,k)]\n",
    "    list_n_para = []\n",
    "    list_n_p = []\n",
    "    list_n_index = []\n",
    "    list_n_file_name = []\n",
    "    for x in range(1, k + 1): \n",
    "        n_para = [i for i in df.nlargest(top_n, [x])['paragraphs']]\n",
    "        n_p = [i for i in df.nlargest(top_n, [x])[x]]\n",
    "        n_index = [i for i in df_topic_para2.nlargest(top_n, [x]).index]\n",
    "        n_file_name = [i for i in df.nlargest(top_n, [x])['file_name']]\n",
    "        list_n_para.append(n_para)\n",
    "        list_n_p.append(n_p)\n",
    "        list_n_file_name.append(n_file_name)\n",
    "        list_n_index.append(n_index)\n",
    "    pd_n_para = pd.DataFrame({'Index':list_n_index, 'topic_id': list_topic_id, 'file': list_n_file_name, 'paragraph': list_n_para, 'probability': list_n_p})\n",
    "    return(pd_n_para.apply(pd.Series.explode).reset_index().drop('index', axis = 1))"
   ]
  },
  {
   "cell_type": "markdown",
   "metadata": {},
   "source": [
    "Below we get the the 3 most prototypical paragraphs of each topic when we set the optimal L to be 0.333. "
   ]
  },
  {
   "cell_type": "code",
   "execution_count": 86,
   "metadata": {},
   "outputs": [
    {
     "data": {
      "text/html": [
       "<style  type=\"text/css\" >\n",
       "#T_8a22f_row0_col3,#T_8a22f_row1_col3,#T_8a22f_row2_col3,#T_8a22f_row3_col3,#T_8a22f_row4_col3,#T_8a22f_row5_col3,#T_8a22f_row6_col3,#T_8a22f_row7_col3,#T_8a22f_row8_col3,#T_8a22f_row9_col3,#T_8a22f_row10_col3,#T_8a22f_row11_col3,#T_8a22f_row12_col3,#T_8a22f_row13_col3,#T_8a22f_row14_col3,#T_8a22f_row15_col3,#T_8a22f_row16_col3,#T_8a22f_row17_col3,#T_8a22f_row18_col3,#T_8a22f_row19_col3,#T_8a22f_row20_col3,#T_8a22f_row21_col3,#T_8a22f_row22_col3,#T_8a22f_row23_col3,#T_8a22f_row24_col3,#T_8a22f_row25_col3,#T_8a22f_row26_col3,#T_8a22f_row27_col3,#T_8a22f_row28_col3,#T_8a22f_row29_col3{\n",
       "            width:  500px;\n",
       "            length:  50px;\n",
       "        }</style><table id=\"T_8a22f_\" ><thead>    <tr>        <th class=\"blank level0\" ></th>        <th class=\"col_heading level0 col0\" >Index</th>        <th class=\"col_heading level0 col1\" >topic_id</th>        <th class=\"col_heading level0 col2\" >file</th>        <th class=\"col_heading level0 col3\" >paragraph</th>        <th class=\"col_heading level0 col4\" >probability</th>    </tr></thead><tbody>\n",
       "                <tr>\n",
       "                        <th id=\"T_8a22f_level0_row0\" class=\"row_heading level0 row0\" >0</th>\n",
       "                        <td id=\"T_8a22f_row0_col0\" class=\"data row0 col0\" >9932</td>\n",
       "                        <td id=\"T_8a22f_row0_col1\" class=\"data row0 col1\" >1</td>\n",
       "                        <td id=\"T_8a22f_row0_col2\" class=\"data row0 col2\" >Qs_202_-_238.pdf</td>\n",
       "                        <td id=\"T_8a22f_row0_col3\" class=\"data row0 col3\" >Lord Moynihan: Adrian, I am looking to the future and in this new found position of being apolitical and outside criticism of what may or may not have happened in the past I can tell you what is required moving forward is significant improvements rather than dwelling on what went wrong in the past. The first thing that is required is consistent funding. It is absolutely essential that we have consistent funding to the Olympic governing bodies. The second thing that is required is hiring the best coaches. I mentioned earlier that coaches are centres of excellence, and they really are. The coach inspires, the coach motivates, the coach can get the best out of our young Olympians of the future. We will deliver far better than we have in the past. The importance given to coaching needs to be on a step change level from where it has been in the past. I am very pleased to say that UK Sport and the Government are at one with us on the importance of reinforcing more emphasis on coaching. Then I mentioned in a highly competitive market, which it will be, to achieve fourth place we need to make sure not just the coaching but the management, the administration, the medical, the support services to our sports men and women are there and that we have the back-up facilities, the high performance centres properly resourced and that the governing bodies are given the support they need to make the decisions on behalf of their staff, their performance directors, their coaches. Ultimately we are all the servants of the sports men and women who will be up there winning medals in 2012. I am absolutely convinced that with the strength of the governing bodies and the talent we have in this country that is an achievable and deliverable target. I am absolutely convinced that unless Clearing the Bar is accepted we will not achieve that stretch target. That is why we are spending so many hours, the days and nights and little time we have available getting that document right and working with UK Sport to make sure we get that right. We have to do it now, we cannot afford to wait until the end of next year. We need to make sure that the funding is secure so that governing bodies can take the steps which are necessary next year. The time invested in the beginning of next year will be worth a huge amount when we get to 2012. It is time invested upfront to make sure that those plans can deliver the success. That means we will look at Beijing in a different light from how we would normally look at Beijing. We will look at Beijing as a stepping stone towards success in 2012 which may not best be judged by medal tallies, for example, but must be judged by how much progress the squads, the teams and the coaches have made en route from here to 2012; which will be our principal goal</td>\n",
       "                        <td id=\"T_8a22f_row0_col4\" class=\"data row0 col4\" >0.615441</td>\n",
       "            </tr>\n",
       "            <tr>\n",
       "                        <th id=\"T_8a22f_level0_row1\" class=\"row_heading level0 row1\" >1</th>\n",
       "                        <td id=\"T_8a22f_row1_col0\" class=\"data row1 col0\" >3639</td>\n",
       "                        <td id=\"T_8a22f_row1_col1\" class=\"data row1 col1\" >1</td>\n",
       "                        <td id=\"T_8a22f_row1_col2\" class=\"data row1 col2\" >NAO_Preparing_for_sporting_success_-_March_2008.pdf</td>\n",
       "                        <td id=\"T_8a22f_row1_col3\" class=\"data row1 col3\" >4 UK Sport’s ‘ultimate goals’ for medal success at the London 2012 Games will require a step change in performance amongst elite athletes. The achievements of athletes at recent elite international events in a number of sports, including sailing, cycling, rowing, boxing, disability equestrian and disability shooting, suggest that performance levels in some sports are already improving significantly. Following increased spending on elite sport, host nations can typically expect to win an extra six or seven gold medals at an Olympic Games and to win medals across a wider range of sports. This ‘host nation effect’ would not in itself be enough to deliver UK Sport’s Olympic goal, which is likely to require an improvement of eight or nine gold medals over the Great Britain team’s performance at the Athens Games in 2004 if the relative performance of other nations remained the same. Changes in the performance of other nations since 2004, especially in the context of a general trend of increased spending on elite sport, sometimes referred to as a ‘global sporting arms race’, may also have implications for UK Sport in delivering its medal aspirations</td>\n",
       "                        <td id=\"T_8a22f_row1_col4\" class=\"data row1 col4\" >0.556173</td>\n",
       "            </tr>\n",
       "            <tr>\n",
       "                        <th id=\"T_8a22f_level0_row2\" class=\"row_heading level0 row2\" >2</th>\n",
       "                        <td id=\"T_8a22f_row2_col0\" class=\"data row2 col0\" >9912</td>\n",
       "                        <td id=\"T_8a22f_row2_col1\" class=\"data row2 col1\" >1</td>\n",
       "                        <td id=\"T_8a22f_row2_col2\" class=\"data row2 col2\" >Qs_202_-_238.pdf</td>\n",
       "                        <td id=\"T_8a22f_row2_col3\" class=\"data row2 col3\" >To reach the figure that we will need to conclude our work in the next four weeks and, we will continue to work very closely indeed with UK Sport. UK Sport has been very active in working with the British Olympic Association, going round to see the governing bodies, using a performance-based model which has been a very constructive and critical model in the context of working out the funding requirements. I think it is best summarised as work in progress. We are about three-quarters of the way through the discussions with the governing bodies; we have more to complete. Clearly within each governing body, Olympic governing body, there is an elite performance cell. That elite performance cell has a performance director associated with it and the performance director is critical to this process, as are the coaches. It is essential as far as the British Olympic Association is concerned that when Clearing the Bar is presented to the Olympic Board and subsequently presented to Government that it is agreed by all the summer Olympic governing bodies. There will be no point in coming to a figure that says collectively we can achieve fourth place in the Olympic medal table in 2012, if suddenly hockey or athletics, for the sake of argument, woke up the following morning and said \"Hang on a second, we are not going to be able to contribute in the way you would like us to do on that budget\". It would need to be robust, it would need to be capable of detailed analysis by this Committee and other committees in Parliament. It requires a significant amount of work which is underway at the moment. I emphasise that it is being undertaken in partnership with UK Sport, that is right and proper as they have significant expertise which has been very helpful to us in this process. We are on target to complete that work, Chairman, and we intend to make sure that it is presented on time. It is a budget, as I say, that must be robust and bought into by the Olympic governing bodies which ultimately will be responsible for performance on the day. The final point I would make in answer to your question, Mike, is that consistent funding is essential. We cannot have the situation whereby a governing body receives funding one year and maybe gets what they are expecting in year two but then loses out in funding in year three. If we are going to compete to come fourth, and we believe that is a realistic target to achieve, it is a tough stretch but it is realistic—it should be a tough stretch but it must be realistic—then we need consistent funding over the next six years. That is absolutely essential. If we are going to contract with the best coaches in the world, if we are going to provide the best sport facilities, that base line budget must be agreed and the governing bodies must be confident that there will not be a move away from that base line budget in recruiting the staff necessary to move from tenth to fourth in the medal table. That is the current position. We are working hard both within the BOA as well as with UK Sport and with outside experts to make sure that model is robust and that Clearing the Bar will achieve not only what it says but be widely accepted by your Committee and the sporting world in this country</td>\n",
       "                        <td id=\"T_8a22f_row2_col4\" class=\"data row2 col4\" >0.540828</td>\n",
       "            </tr>\n",
       "            <tr>\n",
       "                        <th id=\"T_8a22f_level0_row3\" class=\"row_heading level0 row3\" >3</th>\n",
       "                        <td id=\"T_8a22f_row3_col0\" class=\"data row3 col0\" >17552</td>\n",
       "                        <td id=\"T_8a22f_row3_col1\" class=\"data row3 col1\" >2</td>\n",
       "                        <td id=\"T_8a22f_row3_col2\" class=\"data row3 col2\" >Written_evidence_submitted_by_Vision_2020_UK_-_Jan_2010.pdf</td>\n",
       "                        <td id=\"T_8a22f_row3_col3\" class=\"data row3 col3\" >4. Most clubs seem ill-prepared for enquiries from, and inclusion of, people with disabilities who wish to participate in the sport offered by the club. There is little or no support for specialist clubs who provide opportunities for sport that cannot be integrated ie wheelchair basketball or blind cricket! There is often nothing locally to support the child or their parent in accessing the specialist provision and this often involves their having to undertake extensive travel to specialist facilities or organisations catering for this group. There is poor information regarding availability etc and http://www.parasport.org.uk was established as a portal to provide pathway and provision information. The then Mayor of London published a strategy in 2007, which highlighted all these issues and to date there has been little, if any, action to redress these anomalies in London or in the rest of the country. DCSF have, in my view, shown no leadership regarding the legacy of 2012 and its impact on PE in schools and the inclusion of those with disabilities in core curriculum activities or sporting opportunities within or after school. DCMS held a legacy event in 2008 and again in April 2009 focusing on the legacy of the Games for those with disabilities. One outcome was to seek greater links between DWP, DCSF and themselves to ensure that joint strategies were developed and pathways established that enabled children to enjoy and participate in PE and sport within schools/after school clubs/integrated and specialist provision in the community, with good national talent forums and pathways established for those who wish to participate in sport at a higher level and finally, with governing bodies having clear inclusive programmes for sports men and women with disabilities active at a national and international level</td>\n",
       "                        <td id=\"T_8a22f_row3_col4\" class=\"data row3 col4\" >0.676578</td>\n",
       "            </tr>\n",
       "            <tr>\n",
       "                        <th id=\"T_8a22f_level0_row4\" class=\"row_heading level0 row4\" >4</th>\n",
       "                        <td id=\"T_8a22f_row4_col0\" class=\"data row4 col0\" >17551</td>\n",
       "                        <td id=\"T_8a22f_row4_col1\" class=\"data row4 col1\" >2</td>\n",
       "                        <td id=\"T_8a22f_row4_col2\" class=\"data row4 col2\" >Written_evidence_submitted_by_Vision_2020_UK_-_Jan_2010.pdf</td>\n",
       "                        <td id=\"T_8a22f_row4_col3\" class=\"data row4 col3\" >3. After school activities often exclude this group of children ie no possibility of inclusion in team sports such as football, cricket, rugby, basket ball etc., limited access to swimming baths, athletic fields etc. All of these sports are undertaken by people with a disability, but not now normally at school. Specialist schools did provide a massive range of sporting opportunities and sport played a major part of my own adjustment to disability. I learned about teamwork, was able to set individual goals, have competition to extend my abilities, occasionally experienced \"being a winner\" and had that thrill of competition. One example of efforts to redress this issue within a school setting is in Leeds, which has a programme of monthly sporting and physical activities arranged in school time for vision impaired children within the schools. One solution easily achieved would be for groups of schools to come together monthly to provide sporting and recreational activities for disabled children and young people within their schools</td>\n",
       "                        <td id=\"T_8a22f_row4_col4\" class=\"data row4 col4\" >0.627952</td>\n",
       "            </tr>\n",
       "            <tr>\n",
       "                        <th id=\"T_8a22f_level0_row5\" class=\"row_heading level0 row5\" >5</th>\n",
       "                        <td id=\"T_8a22f_row5_col0\" class=\"data row5 col0\" >17553</td>\n",
       "                        <td id=\"T_8a22f_row5_col1\" class=\"data row5 col1\" >2</td>\n",
       "                        <td id=\"T_8a22f_row5_col2\" class=\"data row5 col2\" >Written_evidence_submitted_by_Vision_2020_UK_-_Jan_2010.pdf</td>\n",
       "                        <td id=\"T_8a22f_row5_col3\" class=\"data row5 col3\" >5. Integration of disabled people into mainstream sporting provision is a concept rather than a reality. Grants to organisations has largely been based on physical access, rather than actual provision of activities, coaching etc. For some it has been a tick box action, rather than an attempt to include and integrate their provision. In order to create a lasting legacy from 2012, this offer of inclusion has to be both genuine and meaningful, ie accessible facilities with no manmade barriers re attitudes, lack of coaching or energy to find solutions regarding sporting opportunities. These are all major threats to establishing a broad base of participation pyramid with hundreds of disabled people participating in sport at the base level, filtering through at representative level for club and nationally, leading on to the tip of the pyramid—international competition at Paralympic level. This pathway does not currently exist for those with a disability and therefore, a different solution needs to be found that provides a separate provision (where appropriate) and uses the mainstream provision (where appropriate)</td>\n",
       "                        <td id=\"T_8a22f_row5_col4\" class=\"data row5 col4\" >0.594271</td>\n",
       "            </tr>\n",
       "            <tr>\n",
       "                        <th id=\"T_8a22f_level0_row6\" class=\"row_heading level0 row6\" >6</th>\n",
       "                        <td id=\"T_8a22f_row6_col0\" class=\"data row6 col0\" >2929</td>\n",
       "                        <td id=\"T_8a22f_row6_col1\" class=\"data row6 col1\" >3</td>\n",
       "                        <td id=\"T_8a22f_row6_col2\" class=\"data row6 col2\" >NAO_Preparations_for_the_Olympics_-_Progress_report_-_Feb_2010.pdf</td>\n",
       "                        <td id=\"T_8a22f_row6_col3\" class=\"data row6 col3\" >Figure 2The Delivery Authority’s November 2007 baseline for the Village and Media Centre and its December 2009 forecastall figures in £ million, inclusive of Vat november 2007 baseline Revised budget approved by funders in 2009latest forecast of potential costs december 2009Village and Stratford City land and infrastructure Land and infrastructure – public sector funding 522 553 560Estimated share of profits from post Games development (250) (250) (100)1Net Olympic Delivery Authority budget 272 303 460Village development Village construction and sales (gross) costs 0 1,095 1,1262Agreed sale of 1,379 units to Triathlon Homes 0 (268) (268)Estimated receipts from private sales – to fund construction 0 (177) (177)Village development – sub total 0 650 681Estimated receipts from private sales – to repay funders 0 (324) (324)Net Olympic Delivery Authority budget 0 326 357Media Centre3Media Centre 220 355 334Net Olympic Delivery Authority budget 220 355 334Total net cost to the Olympic Delivery Authority 492 984 1,151Source: National Audit Offi ce noteS1 See paragraph 4.10</td>\n",
       "                        <td id=\"T_8a22f_row6_col4\" class=\"data row6 col4\" >0.602559</td>\n",
       "            </tr>\n",
       "            <tr>\n",
       "                        <th id=\"T_8a22f_level0_row7\" class=\"row_heading level0 row7\" >7</th>\n",
       "                        <td id=\"T_8a22f_row7_col0\" class=\"data row7 col0\" >7679</td>\n",
       "                        <td id=\"T_8a22f_row7_col1\" class=\"data row7 col1\" >3</td>\n",
       "                        <td id=\"T_8a22f_row7_col2\" class=\"data row7 col2\" >PAC_-_Risk_assessment_and_management_-_July_2007_report.pdf</td>\n",
       "                        <td id=\"T_8a22f_row7_col3\" class=\"data row7 col3\" >6. At the time of our hearing, a number of significant areas of uncertainty remained before the budget could be finalised.18  Tax – The Department explained that tax had been excluded from the cost estimates at the time of the bid on the basis that the tax treatment could not be resolved until the delivery structures for the Games were in place.19  Contingency provision – The cost estimates at the time of the bid had included a contingency provision in respect of individual projects, but the Department now considered that an overall programme contingency margin was required to reflect the interdependencies between projects and the risks associated with the knock-on effect that problems on one project could have on the rest of the programme.20  Security – It had not been possible at the time of the bid to provide a reliable estimate of the costs of policing and wider security, and the Department had notified Parliament of a contingent liability in this respect. The Olympic Security Co-ordinator was now working up plans and budgets in association with the Home Office and the Metropolitan Police.21  Private sector funding – At the time of the bid, £738 million of private funding had been expected to help meet costs associated with the Olympic Park. In the light of further work and advice, the Department now considered there was insufficient time to negotiate contracts with the private sector within the overall timescale for the Games, so there was now little prospect of securing significant private sector funding to deliver the Olympic Park. However, most of the funding for the Olympic Village was still expected to come from the private sector.22</td>\n",
       "                        <td id=\"T_8a22f_row7_col4\" class=\"data row7 col4\" >0.596071</td>\n",
       "            </tr>\n",
       "            <tr>\n",
       "                        <th id=\"T_8a22f_level0_row8\" class=\"row_heading level0 row8\" >8</th>\n",
       "                        <td id=\"T_8a22f_row8_col0\" class=\"data row8 col0\" >2652</td>\n",
       "                        <td id=\"T_8a22f_row8_col1\" class=\"data row8 col1\" >3</td>\n",
       "                        <td id=\"T_8a22f_row8_col2\" class=\"data row8 col2\" >NAO_Budget_for_2012_Olympics_-_July_2007.pdf</td>\n",
       "                        <td id=\"T_8a22f_row8_col3\" class=\"data row8 col3\" >7 The Secretary of State announced a funding package of £9.325 billion to cover the costs and provisions set out in Figure 5, an increase of £5.906 billion on the public funding of £3.419 billion17 previously committed. (Figure 8) The contributions from the National Lottery and the Greater London Authority have increased, but the bulk of the additional funding is to come from the Exchequer, in line with the Government’s commitment to underwrite the cost of the Games. The costs to be covered by this increase in funding include £1.173 billion of tax18 which will ultimately flow back to the Exchequer. The Department has confirmed to us that the tax liabilities associated with the Games will be met entirely from Exchequer funding19, which means that ultimately the net increase in public sector funding is £4.733 billion. The funding increase of £5.906 billion includes contingency of £2.747 billion which the Department has made clear to us may not be used in full</td>\n",
       "                        <td id=\"T_8a22f_row8_col4\" class=\"data row8 col4\" >0.549523</td>\n",
       "            </tr>\n",
       "            <tr>\n",
       "                        <th id=\"T_8a22f_level0_row9\" class=\"row_heading level0 row9\" >9</th>\n",
       "                        <td id=\"T_8a22f_row9_col0\" class=\"data row9 col0\" >2002</td>\n",
       "                        <td id=\"T_8a22f_row9_col1\" class=\"data row9 col1\" >4</td>\n",
       "                        <td id=\"T_8a22f_row9_col2\" class=\"data row9 col2\" >Memorandum_submitted_by_LOCOG_-_Nov_2007.pdf</td>\n",
       "                        <td id=\"T_8a22f_row9_col3\" class=\"data row9 col3\" >Chief Medical Officer Creative Director Director of Strategy and Programme Management  Head of Procurement Head of Client Services Head of Education Head of Venues Technology Head of Programme Solutions Head of Workforce Planning Head of Accommodation Head of Sport Policy Head of Culture Head of Telecommunications Head of Ceremonies Head of Administrative IT Head of Live Site Head of Venue Management Head of Ticketing   —    We now have in place the core components required to undertake the detailed planning for the Games. The team however remains small, at just under 200 people and our recruitment is planned carefully on the basis of the core work that needs to be undertaken now.</td>\n",
       "                        <td id=\"T_8a22f_row9_col4\" class=\"data row9 col4\" >0.553650</td>\n",
       "            </tr>\n",
       "            <tr>\n",
       "                        <th id=\"T_8a22f_level0_row10\" class=\"row_heading level0 row10\" >10</th>\n",
       "                        <td id=\"T_8a22f_row10_col0\" class=\"data row10 col0\" >17005</td>\n",
       "                        <td id=\"T_8a22f_row10_col1\" class=\"data row10 col1\" >4</td>\n",
       "                        <td id=\"T_8a22f_row10_col2\" class=\"data row10 col2\" >Written_evidence_submitted_by_Olympic_Park_Legacy_Company_-_Feb_2010.pdf</td>\n",
       "                        <td id=\"T_8a22f_row10_col3\" class=\"data row10 col3\" >10.  The Olympic Park Legacy Company's strategic objectives, as set by its Founders cover: — assisting the Government and the Mayor of London in fulfilling some of the legacy promises made in the bid to host the London 2012 Olympic and Paralympic Games; — securing the timely development of the Olympic Park site as a high quality and sustainable mixed community; — promoting social, economic and environmental benefits for local communities; — securing the long term development and management of the Olympic Park site and venues in ways which provide lasting national and local sporting, cultural, education and leisure benefits and which preserve the site's Olympic heritage; — working with partners to contribute to long-term economic growth and prosperity in the wider area; — levering in private investment to maximise and provide best value for the public purse; and — promoting sustainable development, community involvement and equality of opportunity</td>\n",
       "                        <td id=\"T_8a22f_row10_col4\" class=\"data row10 col4\" >0.490745</td>\n",
       "            </tr>\n",
       "            <tr>\n",
       "                        <th id=\"T_8a22f_level0_row11\" class=\"row_heading level0 row11\" >11</th>\n",
       "                        <td id=\"T_8a22f_row11_col0\" class=\"data row11 col0\" >2285</td>\n",
       "                        <td id=\"T_8a22f_row11_col1\" class=\"data row11 col1\" >4</td>\n",
       "                        <td id=\"T_8a22f_row11_col2\" class=\"data row11 col2\" >Memorandum_submitted_by_the_Olympic_Delivery_Authority_-_Oct_2006.pdf</td>\n",
       "                        <td id=\"T_8a22f_row11_col3\" class=\"data row11 col3\" >Maximising the value of the Olympic legacy   Delivering a sustainable legacy is central to the Olympic Delivery Authority's work. As set out above, we have reviewed our master plans to ensure that the Olympic Park delivers a great legacy, as well as great Games in 2012. We now have plans that are better integrated with Stratford City and fit in better with local regeneration plans. For each of our venues, we are developing the legacy plans in significant detail, so that before we start building we have an affordable business plan for their after-use. For example: —  We have confirmed proposals for a new tennis and hockey centre in the north of the site. Combined with the velopark legacy south of the A12, this will create a sporting anchor, complementing the upgraded provision of sporting facilities on Hackney Marshes</td>\n",
       "                        <td id=\"T_8a22f_row11_col4\" class=\"data row11 col4\" >0.485637</td>\n",
       "            </tr>\n",
       "            <tr>\n",
       "                        <th id=\"T_8a22f_level0_row12\" class=\"row_heading level0 row12\" >12</th>\n",
       "                        <td id=\"T_8a22f_row12_col0\" class=\"data row12 col0\" >16483</td>\n",
       "                        <td id=\"T_8a22f_row12_col1\" class=\"data row12 col1\" >5</td>\n",
       "                        <td id=\"T_8a22f_row12_col2\" class=\"data row12 col2\" >Written_evidence_submitted_by_Host_Boroughs_Unit_-_Feb_2010.pdf</td>\n",
       "                        <td id=\"T_8a22f_row12_col3\" class=\"data row12 col3\" >4.1  The aim is that in the next 20 years, residents in the host boroughs will equal the London average in a range of the life indicators which you would expect to find in a successful community: — employment rates will increase to the London average; — average incomes in the bottom two fifths of earners in the host borough area will be increased to the London average; — young people in the host borough area will have improved GCSE results to at least the London average; — host borough 11 year olds will have at least the same educational attainment as the London average; — the number of families in receipt of benefits in the host boroughs area will fall to no more than the London average; — the rate of violent crime will continue to fall and reflect the London average; and — residents in the host boroughs area, particularly men, will have increased life expectancy to the London average</td>\n",
       "                        <td id=\"T_8a22f_row12_col4\" class=\"data row12 col4\" >0.566613</td>\n",
       "            </tr>\n",
       "            <tr>\n",
       "                        <th id=\"T_8a22f_level0_row13\" class=\"row_heading level0 row13\" >13</th>\n",
       "                        <td id=\"T_8a22f_row13_col0\" class=\"data row13 col0\" >4947</td>\n",
       "                        <td id=\"T_8a22f_row13_col1\" class=\"data row13 col1\" >5</td>\n",
       "                        <td id=\"T_8a22f_row13_col2\" class=\"data row13 col2\" >Oral_evidence_-_17_March_2010_Qs_100-143_-_Boroughs.pdf</td>\n",
       "                        <td id=\"T_8a22f_row13_col3\" class=\"data row13 col3\" >Sir Robin Wales: It is worth making a comment here. It has been very interesting watching this because Jules has led very much with a vision for this place, which the five boroughs have supported but Jules has driven that vision. It is as we have gone on and people have begun to connect with the SRF and understand what we are trying to do that people have begun to realise we are now with the OPLC, which I think is people understanding that legacy is important and beginning to line up behind the vision that Jules has pushed extensively because he understands the nature of his community and how that might work and how it will relate. I think it is a really good example of something being pushed by a local borough, backed by the rest of us, looking to have a vision that will make a difference there and will link in with the community he has got. It comes back to heroic economic assumptions. What comes out at the end will come out, but at least we are trying to do something that will deliver, something that will work for the local area, based on the vision that we have had locally and people are now beginning to line up to. So the question now is: do we get people lined up to support us on public policy and then the jobs that will come out will be the jobs that come out and they will begin to make a difference, particularly to Hackney but also to some of the people in Newham who will be able to access that, and other boroughs. It is a really good example of how the vision has been led by boroughs and people are now getting it</td>\n",
       "                        <td id=\"T_8a22f_row13_col4\" class=\"data row13 col4\" >0.536632</td>\n",
       "            </tr>\n",
       "            <tr>\n",
       "                        <th id=\"T_8a22f_level0_row14\" class=\"row_heading level0 row14\" >14</th>\n",
       "                        <td id=\"T_8a22f_row14_col0\" class=\"data row14 col0\" >4925</td>\n",
       "                        <td id=\"T_8a22f_row14_col1\" class=\"data row14 col1\" >5</td>\n",
       "                        <td id=\"T_8a22f_row14_col2\" class=\"data row14 col2\" >Oral_evidence_-_17_March_2010_Qs_100-143_-_Boroughs.pdf</td>\n",
       "                        <td id=\"T_8a22f_row14_col3\" class=\"data row14 col3\" >We have then a development site sitting there with the Park and the opportunities, and it is the best development site in Europe, certainly, and possibly further afield, and you have opportunities for jobs there all down the Lee along the Thames and the Royal Docks. The Mayor of London has said that for the next 20 years that is the hub of the regeneration of London. There are lots and lots of jobs coming there and so we need to make sure that those jobs result in people who have never worked getting into those jobs; local people getting access to those jobs and then trying to keep them locally. Very interesting, in Newham we did some research and people moving into Newham are poorer than people moving out of Newham. People who are unemployed, people who are not working, move in, get jobs and move out and we need to find a way of getting some stability around those communities, but there are tens of thousands of jobs coming. Many of them will be unskilled but I have to say that there is also an argument for having high skilled jobs so that there is an aspiration; so it is about that balance. Jules has fought very hard to get some high skilled jobs in Hackney, and those jobs are coming. Can we get people ready to access those jobs? Can we get people who will go in and take those jobs rather than sucking people in from elsewhere, that is the challenge</td>\n",
       "                        <td id=\"T_8a22f_row14_col4\" class=\"data row14 col4\" >0.530890</td>\n",
       "            </tr>\n",
       "            <tr>\n",
       "                        <th id=\"T_8a22f_level0_row15\" class=\"row_heading level0 row15\" >15</th>\n",
       "                        <td id=\"T_8a22f_row15_col0\" class=\"data row15 col0\" >3329</td>\n",
       "                        <td id=\"T_8a22f_row15_col1\" class=\"data row15 col1\" >6</td>\n",
       "                        <td id=\"T_8a22f_row15_col2\" class=\"data row15 col2\" >NAO_Preparations_for_the_Olympics_-_Progress_report_-_June_2008.pdf</td>\n",
       "                        <td id=\"T_8a22f_row15_col3\" class=\"data row15 col3\" >6 PREPARATIONS FOR THE LONDON 2012 OLyMPIC AND PARALyMPIC GAMES: PROGRESS REPORT JuNE 2008\t \t \t \t \t \t10 The start and completion dates for the construction of the main venue and infrastructure projects delivered by the Olympic Delivery Authority at the end of March 2008 compared with the milestones in the November 2007 Programme Baseline ReportProjectEnabling Works (site preparation) Power Lines under Grounding  (switchover only)   Structures, Bridges and Highways utilities Main Stadium    Aquatics Centre    VeloparkHandball/Indoor Sports ArenaBasketballInternational Broadcast Centre/ Main Press CentreOlympic Village Eton Manor (training facilities  and Paralympic events)  Broxbourne  (white water canoeing) Eton Dorney (rowing) Weymouth and Portland (sailing)construction start date November 2007  March 2008 Change in  programme  Forecast start date  baseline  (months)October 2006 October 2006 0 July 2008 July 2008 0   April 2008 April 2008 0 January 2008 January 2008 0 July 2008 May 2008 –21    September 2008 September 2008 0 March 2009 March 2009 0August 2009 June 2009 –2July 2009 November 2009 4May 2009 March 2009 –2 June 2008 May 2008 –1 March 2010 January 2010 –2   August 2008 May 2009 9  March 2009 January 2009 –2 May 2008 January 2008 –4construction end date November 2007  March 2008 Change in  programme  Forecast end date  baseline   (months)September 2009 September 2009 0 September 2008 November 2008 2   December 2011 December 2011 0 December 2011 August 2011 –4 Construction  Construction end date end dateFebruary 2011 April 2011 2Completion date  Completion date for construction  for construction and initial overlay  and initial overlay for test events for test eventsJune 2011 June 2011 0Construction  Construction end date end dateApril 2011 August 2011 4Completion date  Completion date for construction  for construction and initial overlay  and initial overlay for test events for test eventsJuly 2011 August 2011 1April 2011 February 2011 –2April 2011 March 2011 –1April 2011 April 2011 0June 2011 July 2011 1 December 2011 December 2011 0 February 2012 April 2011 –10   June 2010 October 2010 4  April 2010 July 2009 –9 February 2009 January 2009 –1Source: National Audit Office examination of actual and forecast progress against the November 2007 Programme BaselineNOTE</td>\n",
       "                        <td id=\"T_8a22f_row15_col4\" class=\"data row15 col4\" >0.623241</td>\n",
       "            </tr>\n",
       "            <tr>\n",
       "                        <th id=\"T_8a22f_level0_row16\" class=\"row_heading level0 row16\" >16</th>\n",
       "                        <td id=\"T_8a22f_row16_col0\" class=\"data row16 col0\" >3335</td>\n",
       "                        <td id=\"T_8a22f_row16_col1\" class=\"data row16 col1\" >6</td>\n",
       "                        <td id=\"T_8a22f_row16_col2\" class=\"data row16 col2\" >NAO_Preparations_for_the_Olympics_-_Progress_report_-_June_2008.pdf</td>\n",
       "                        <td id=\"T_8a22f_row16_col3\" class=\"data row16 col3\" >Construction of the Main Stadium and its readiness for test events is critical to the Authority’s delivery programme. At the time of the November 2007 Programme Baseline Report, which was before contract signature, construction of the Main Stadium was scheduled to be completed in February 2011, to be followed by LOCOG overlay works for test events which were to be completed by June 2011. To date good progress has been made on site preparation, which has allowed construction to start in May 2008, two months earlier than planned.1 As a result of contract negotiations the Authority has agreed a longer construction period than anticipated (35 months rather than 32). The Authority has, however, built early access dates for LOCOG overlay works into the contract so overlay can be carried out in parallel with the construction work. The forecast date for readiness for test events remains at June 2011</td>\n",
       "                        <td id=\"T_8a22f_row16_col4\" class=\"data row16 col4\" >0.619893</td>\n",
       "            </tr>\n",
       "            <tr>\n",
       "                        <th id=\"T_8a22f_level0_row17\" class=\"row_heading level0 row17\" >17</th>\n",
       "                        <td id=\"T_8a22f_row17_col0\" class=\"data row17 col0\" >3336</td>\n",
       "                        <td id=\"T_8a22f_row17_col1\" class=\"data row17 col1\" >6</td>\n",
       "                        <td id=\"T_8a22f_row17_col2\" class=\"data row17 col2\" >NAO_Preparations_for_the_Olympics_-_Progress_report_-_June_2008.pdf</td>\n",
       "                        <td id=\"T_8a22f_row17_col3\" class=\"data row17 col3\" >Construction of the Aquatics Centre and its readiness for test events is critical to the Authority’s delivery programme. At the time of the November 2007 Programme Baseline Report, which was before contract signature, construction of the Aquatics Centre was scheduled to be completed in April 2011, to be followed by LOCOG overlay works for test events which were to be completed by July 2011. As a result of contract negotiations, the Authority has agreed a longer construction period. The Authority considers, however, at this stage the impact on the date of readiness for test events is minimal. The Authority has built early access dates for LOCOG overlay works into the contract so that overlay can be carried out in parallel with the construction work. The forecast date for readiness for test events of August 2011 is one month later than originally expected</td>\n",
       "                        <td id=\"T_8a22f_row17_col4\" class=\"data row17 col4\" >0.586903</td>\n",
       "            </tr>\n",
       "            <tr>\n",
       "                        <th id=\"T_8a22f_level0_row18\" class=\"row_heading level0 row18\" >18</th>\n",
       "                        <td id=\"T_8a22f_row18_col0\" class=\"data row18 col0\" >8304</td>\n",
       "                        <td id=\"T_8a22f_row18_col1\" class=\"data row18 col1\" >7</td>\n",
       "                        <td id=\"T_8a22f_row18_col2\" class=\"data row18 col2\" >PAC_26_April_2012_-_Olympic_Costs_-_corrected_evidence_(no_report).pdf</td>\n",
       "                        <td id=\"T_8a22f_row18_col3\" class=\"data row18 col3\" >You think that the assessment of risks is our best estimate of the most likely outcome of the budget as a whole. But actually the assessment of risk-and how we have compiled it-is this: we have not sought to estimate how likely it is that every risk arises. We just said, \"Let us think about every risk that could arise, and let us assume that they all arise and work out the likely cost of them all arising.\" On top of that, we said, \"And there will be some risks that we just cannot think about that are unknown unknowns. There will be some multiple consequentials if everything came together.\" So we end up with an estimate not of the most likely cost of the project, which is what the burden of paragraph 1 of the PAC Report understands it is, but an estimate of how much we would need to set aside in the very unlikely event that all risks arise and some more unknown risks arise as well. The purpose of that is not to get to an estimate of the likely outcome of the budget. Its purpose and why we do it is to see, against any reasonable view of the likely risk that might arise, even on an assumption that they all arise and some more unknown risks arise, whether we have enough money. The conclusion has always been, yes, we had. Against what is therefore, in my view, a conservative and prudent estimate, we had £36 million headroom at the time of the NAO Report. We had more, and indeed the picture over the six-month period since the original figures on which the NAO was recording this, is that the contingency has gone down by £27 million or so-we reckon, because these are provisional figures, but I want to give our best figures-and the assessed risks on that very conservative and prudent basis have gone down by £136 million. So the picture on the budget as a whole is that we are spending contingency significantly slower than risks are disappearing from the programme. That is why, without in any sense being complacent, I am confident that we will bring this in within budget, and I do not think that the budget is close to being used up</td>\n",
       "                        <td id=\"T_8a22f_row18_col4\" class=\"data row18 col4\" >0.605655</td>\n",
       "            </tr>\n",
       "            <tr>\n",
       "                        <th id=\"T_8a22f_level0_row19\" class=\"row_heading level0 row19\" >19</th>\n",
       "                        <td id=\"T_8a22f_row19_col0\" class=\"data row19 col0\" >8388</td>\n",
       "                        <td id=\"T_8a22f_row19_col1\" class=\"data row19 col1\" >7</td>\n",
       "                        <td id=\"T_8a22f_row19_col2\" class=\"data row19 col2\" >PAC_26_April_2012_-_Olympic_Costs_-_corrected_evidence_(no_report).pdf</td>\n",
       "                        <td id=\"T_8a22f_row19_col3\" class=\"data row19 col3\" >Jonathan Stephens: There are two aspects to risk: likelihood and impact. What we are saying is that we made no estimate of likelihood, we just wrote in a 100% likelihood of all the risks we could think of and some unknown risks that we could not think of. We then looked at impact, and on impact we said, \"If this risk were to materialise-we are assuming a 100% likelihood that it materialises-what is the likely cost?\" That is where you get the low, the most likely outcome and the high outcome. When you add those together, you do not get to an outcome of, \"What is the most likely expenditure on the programme?\"; you get to an outcome of, \"If all conceivable risks arise, plus some unknown risks that we cannot identify, what is the likely expenditure?\" That is a conservative and prudent view of, \"Do we have enough contingency left, if all those risks arise?\" In practice, they won’t all arise. It is conceivable that some will arise, but it is pretty unlikely that all of them will arise. It is perfectly conceivable that some individual risk will arise at a higher estimate than the most likely estimate, but the prospect of all those risks arising is unlikely. The prospect of them all arising at the very highest possible cost is so unlikely as to not provide a good basis for planning. I am sorry. I am going on at some length, but there is a real point</td>\n",
       "                        <td id=\"T_8a22f_row19_col4\" class=\"data row19 col4\" >0.570251</td>\n",
       "            </tr>\n",
       "            <tr>\n",
       "                        <th id=\"T_8a22f_level0_row20\" class=\"row_heading level0 row20\" >20</th>\n",
       "                        <td id=\"T_8a22f_row20_col0\" class=\"data row20 col0\" >8439</td>\n",
       "                        <td id=\"T_8a22f_row20_col1\" class=\"data row20 col1\" >7</td>\n",
       "                        <td id=\"T_8a22f_row20_col2\" class=\"data row20 col2\" >PAC_26_April_2012_-_Olympic_Costs_-_corrected_evidence_(no_report).pdf</td>\n",
       "                        <td id=\"T_8a22f_row20_col3\" class=\"data row20 col3\" >Q66 Ian Swales: Just to build on what the CAG is saying, although we do not need to go over all this detail again, the thing that I think comes out of your letter of 25 January-which of course we did not have when we had the hearing-was in particular the G4S contract going from £86 million to £284 million. You observe about labour costs that, of that increase of £198 million, £83 million is labour. The Committee had all sorts of questions about whether that was a sensible figure, given the number of volunteers and military and so on involved, but let us not go over that again. Anyone who has negotiated a contract like this would comment on an increase in programme management costs from £7 million to £60 million, and in operational expenditure-uniforms, etc.-from £3 million to £65 million. It beggars belief that G4S thought that from a total of £10 million for those items, excluding labour, it could now convince you that costs have moved to £125 million. Your comments in Civil Service World beggar everyone’s belief, that if we had known how many security guards were needed, instead of £10 million we would have agreed £125 million for the two figures. It does not feel that that can be credible</td>\n",
       "                        <td id=\"T_8a22f_row20_col4\" class=\"data row20 col4\" >0.483295</td>\n",
       "            </tr>\n",
       "            <tr>\n",
       "                        <th id=\"T_8a22f_level0_row21\" class=\"row_heading level0 row21\" >21</th>\n",
       "                        <td id=\"T_8a22f_row21_col0\" class=\"data row21 col0\" >4654</td>\n",
       "                        <td id=\"T_8a22f_row21_col1\" class=\"data row21 col1\" >8</td>\n",
       "                        <td id=\"T_8a22f_row21_col2\" class=\"data row21 col2\" >Oral_evidence_-_15_Dec_2009_LOCOG_ODA.pdf</td>\n",
       "                        <td id=\"T_8a22f_row21_col3\" class=\"data row21 col3\" >Mr Deighton: I think the first thing is in the next one and a half years or so anybody presenting themselves as selling new tickets we want to make quite clear to the general public that cannot be possible, because tickets only go on sale in 2011. Any attempt by anybody—and this is something I think we would like the Committee's help on—if you are hearing about this in your constituencies where they think they are being offered tickets, let us know; we are trying to be as public as possible saying, \"Anything that happens pre-2011 before our formal ticket launch can't be possible\". Anyone trying to do that is effectively trying to take advantage of the public. I think that is the first thing. Secondly, of course, with Olympic tickets, like Premier League tickets, the law is very, very clear; they cannot be resold at a profit. We will be working with the police to follow up on any instances where we think that is happening; whether it is tracking it down on the internet, or whether it is happening in practice. I think the other thing that is really important, as I suggested earlier, we are very keen in our business plan for ticketing to make sure that we get those tickets initially into the hands of the people who most want them, so the opportunity to create this kind of secondary market is as limited as possible. That is why we are really building a very carefully constructed book for each sport, so once those guys have got that ticket it is not going to come back onto the market. If they do want to resell the ticket, we have a plan to develop a London 2012 ticket exchange so they will be able to resell it through us, so they will have no excuse. For whatever reason they cannot go, we will be able to resell it for them; not at a profit but we will be able to take care of their original purchase price. That again is a small facility which should constrain the supply of potential tickets that could represent a touting risk if not controlled</td>\n",
       "                        <td id=\"T_8a22f_row21_col4\" class=\"data row21 col4\" >0.593694</td>\n",
       "            </tr>\n",
       "            <tr>\n",
       "                        <th id=\"T_8a22f_level0_row22\" class=\"row_heading level0 row22\" >22</th>\n",
       "                        <td id=\"T_8a22f_row22_col0\" class=\"data row22 col0\" >4644</td>\n",
       "                        <td id=\"T_8a22f_row22_col1\" class=\"data row22 col1\" >8</td>\n",
       "                        <td id=\"T_8a22f_row22_col2\" class=\"data row22 col2\" >Oral_evidence_-_15_Dec_2009_LOCOG_ODA.pdf</td>\n",
       "                        <td id=\"T_8a22f_row22_col3\" class=\"data row22 col3\" >Indeed, if you are trying to sell 9.2 million tickets to such a range of sports, a number of which are not that well known in the UK, the only way we are going to get full stadia, full of enthusiastic fans, is to make them highly affordable, and that is our objective. It is our objective; it is certainly the objective of the Olympics Minister; it is certainly the objective of the Mayor of London; and those stakeholders are actually defining our final pricing strategy over the months ahead. The only reason it is difficult at this point to talk in such specific terms, as we have with our bid promise, is that of course back then the Games actually had a different portfolio of sports: we had baseball and softball, where you would have had 700,000 tickets at the very low end of the pricing. We just want to make sure we have got a very precise grip of the supply side of the tickets. What we have been working on is our competition schedule, so we know exactly what sport is going to be when; what is in the morning; what is in the afternoon; how many sessions we have. Just last week the IOC confirmed for example the format of the cycling competitions—where they redistributed some events towards the sprints and equalising events between men and women. You have to know what events you are putting on before you know what tickets you have got to sell. We are also looking very specifically at the seating bowl, so again I know how many seats I have to sell. We are working with the broadcasters, for example, on camera positions. If you have lots of camera positions you have fewer seats left to sell. All that work, on the schedule, the seats, is what you need to know for how many you have got; and then on the demand side, we are building up a sport-by-sport plan for who the fans are, and who is going to come and watch these sports. It is a very different proposition to get somebody to come to the final of the 100 metres in the main stadium, compared to someone to come, as I mentioned earlier, to the preliminary rounds of the handball competition where handball has not been regularly played in the United Kingdom. We need a sport-by-sport analysis of where that demand is</td>\n",
       "                        <td id=\"T_8a22f_row22_col4\" class=\"data row22 col4\" >0.540326</td>\n",
       "            </tr>\n",
       "            <tr>\n",
       "                        <th id=\"T_8a22f_level0_row23\" class=\"row_heading level0 row23\" >23</th>\n",
       "                        <td id=\"T_8a22f_row23_col0\" class=\"data row23 col0\" >4632</td>\n",
       "                        <td id=\"T_8a22f_row23_col1\" class=\"data row23 col1\" >8</td>\n",
       "                        <td id=\"T_8a22f_row23_col2\" class=\"data row23 col2\" >Oral_evidence_-_15_Dec_2009_LOCOG_ODA.pdf</td>\n",
       "                        <td id=\"T_8a22f_row23_col3\" class=\"data row23 col3\" >Mr Deighton: This is a very interesting question. The essence of every sponsorship agreement is that each company seeks exclusivity within its own category. Our role is to protect their rights around that exclusivity in that category. The complexity comes from when you introduce potential retailers, because of course we have a number of existing sponsors who sell products and they sell products through different retailers. If we create a retailing category of course those retailers also sell the products of competitors to our existing sponsors. What we have to establish is a transaction which protects our existing sponsors yet would also allow the retailer to be able to activate its rights with the Games. We continue to have discussions to try and make that a possible compromise. Our primary objective is to make sure that the rights of our existing sponsors are properly protected, because of course that is what they have paid for.</td>\n",
       "                        <td id=\"T_8a22f_row23_col4\" class=\"data row23 col4\" >0.519459</td>\n",
       "            </tr>\n",
       "            <tr>\n",
       "                        <th id=\"T_8a22f_level0_row24\" class=\"row_heading level0 row24\" >24</th>\n",
       "                        <td id=\"T_8a22f_row24_col0\" class=\"data row24 col0\" >454</td>\n",
       "                        <td id=\"T_8a22f_row24_col1\" class=\"data row24 col1\" >9</td>\n",
       "                        <td id=\"T_8a22f_row24_col2\" class=\"data row24 col2\" >Jan_2003_-_Qs_200-220.pdf</td>\n",
       "                        <td id=\"T_8a22f_row24_col3\" class=\"data row24 col3\" >The Committee suspended from 4.09 pm to 4.23 pm for a division in the House Alan Keen   202. I did not get to the end of the question at the beginning but the point I am making is that because we have to have a village and all the events have to be in that area it adds costs to hosting the Olympics, I reckon at least half a billion and probably a billion. If we could spread them round the country—and I went to Japan for the World Cup and the atmosphere was brilliant. We went to different places—more people could get to see it. If we could do that with the Olympics, the point I am really asking you is that it is difficult for the Government. The Minister and the Secretary of State are going to see the President of the IOC on Friday. It will not do our bid any good if they go there telling them how they should organise the Olympic Games in the future. I am really asking you as the main channellers of funding in sport in this country, will you make these representations that the Olympics, just for the sake of having 18,000 athletes in one village, which is very nice, although it is not so nice for those whose event comes on the last day and they want a party—we could save somewhere between half a billion and a billion pounds by using facilities we have got around the country now. The athletics could be at Wembley as they were supposed to be. The football could be at the main stadium and spread around the country as it is going to be in fact. What I am saying is that instead of having the athletes all together in one village for the three weeks of the Olympics, we could put a party on for them and they could stay for a week after the Olympics when they could all get drunk if that is what they do. I think somebody needs to go to the IOC and put this point to them. We have been taking evidence from people in the last couple of days and there are tremendous difficulties. There would hardly be a difficulty if we could use stadia around the country and we did not have to have the village. It is the village that causes all the problems that we are facing now</td>\n",
       "                        <td id=\"T_8a22f_row24_col4\" class=\"data row24 col4\" >0.621515</td>\n",
       "            </tr>\n",
       "            <tr>\n",
       "                        <th id=\"T_8a22f_level0_row25\" class=\"row_heading level0 row25\" >25</th>\n",
       "                        <td id=\"T_8a22f_row25_col0\" class=\"data row25 col0\" >466</td>\n",
       "                        <td id=\"T_8a22f_row25_col1\" class=\"data row25 col1\" >9</td>\n",
       "                        <td id=\"T_8a22f_row25_col2\" class=\"data row25 col2\" >Jan_2003_-_Qs_200-220.pdf</td>\n",
       "                        <td id=\"T_8a22f_row25_col3\" class=\"data row25 col3\" >206. But this has only just come up, has it not? In all our enquiries into Wembley Stadium lasting over years the problem of the location of the village in relation to the stadium has never ever come up. Now we are told that we need a new stadium in East London that is likely to be surplus to requirements as soon as the Olympics are over, should we get them, because of its juxtaposition to a village whose location has not been decided upon anyhow. I realise that distances in Manchester are not the same as distances in London but the village in Manchester was some considerable distance away from the stadium in Manchester and because, among other things, the structure created by Mr McCartney included an excellent transport system, there was no problem in getting there. I lament that we are having to put these questions to you but this was not a relevant issue yesterday when we had the IOC and the BOA in front of us. Why at this stage has this whole issue of the juxtaposition of the village to the stadium become critical to the likelihood of a successful bid and why have we only just heard about it now? Why, after all of these years, ever since 1996 when Sport England handed over £120 million for Wembley, is it, seven years later, that this has suddenly surfaced as a problem</td>\n",
       "                        <td id=\"T_8a22f_row25_col4\" class=\"data row25 col4\" >0.586045</td>\n",
       "            </tr>\n",
       "            <tr>\n",
       "                        <th id=\"T_8a22f_level0_row26\" class=\"row_heading level0 row26\" >26</th>\n",
       "                        <td id=\"T_8a22f_row26_col0\" class=\"data row26 col0\" >501</td>\n",
       "                        <td id=\"T_8a22f_row26_col1\" class=\"data row26 col1\" >9</td>\n",
       "                        <td id=\"T_8a22f_row26_col2\" class=\"data row26 col2\" >Jan_2003_-_Qs_200-220.pdf</td>\n",
       "                        <td id=\"T_8a22f_row26_col3\" class=\"data row26 col3\" >introduce the ability to stage athletics in the new Wembley and that is the situation that exists today. Where I think there is a danger of us mixing apples with pears is there is no doubt that Wembley as it was originally conceived, as Michael Cunnah has confirmed in his letter to you today, has the facilities to provide the athletics venue for an Olympic bid if that were the wish of those who are responsible for mounting the bid to the IOC. About two years ago I think the Mayor of London became involved in discussions with the BOA and at that stage, as Ian has quite rightly confirmed to you, an analysis of a West London bid with Wembley as a centrepiece was examined and we began to explore for the first time—I did not but it began to be explored—the East London option which looked at the present site and all the regeneration benefits that that would bring to the area and the legacy that would result, and it was at that time that a quite deliberate and conscious decision was taken that if we had to bid for the Olympic Games then the bid would be based upon a location in East London and not in West London. I can confirm that I am aware that considerations were given to village accommodation in the West London area. I do not think it ever got to an advanced stage because by that time people's attention had turned to East London. So I think the honest answer is the West London options were looked at but never became fully developed because whilst that was being examined the attractions of East London became known and people's attention turned in that direction.</td>\n",
       "                        <td id=\"T_8a22f_row26_col4\" class=\"data row26 col4\" >0.577957</td>\n",
       "            </tr>\n",
       "            <tr>\n",
       "                        <th id=\"T_8a22f_level0_row27\" class=\"row_heading level0 row27\" >27</th>\n",
       "                        <td id=\"T_8a22f_row27_col0\" class=\"data row27 col0\" >10389</td>\n",
       "                        <td id=\"T_8a22f_row27_col1\" class=\"data row27 col1\" >10</td>\n",
       "                        <td id=\"T_8a22f_row27_col2\" class=\"data row27 col2\" >Report_and_Minutes_-_Jan_2007.pdf</td>\n",
       "                        <td id=\"T_8a22f_row27_col3\" class=\"data row27 col3\" >19. There was much more optimism about scope for increasing tourist traffic after the Games. Mr Castle, the East of England representative on the Nations and Regions Group, described the Games as a “shop window” for the UK. Both he and the Tourism Management Institute saw scope for the Games to generate business tourism.254 The DCMS memorandum stated that “experience from recent host cities indicates that tourism will increase significantly across the UK, most notably after the Games”;255 and the Tourism Alliance told us that DCMS expected that up to 80% of the legacy benefit to be derived from hosting the Games would be gained through “increased tourism as a result of [the] high degree of international media exposure”.256 The Tourism Alliance itself agreed that the main way that lasting benefits would be reaped would be through media exposure; but it saw Government investment in a tourism strategy as being a necessary part of drawing on that exposure; and it spoke of a “lack of realisation within DCMS that additional funds need to be committed … to marketing and media support”. The Government has pledged that the interests of tourism “will be taken into account in all Olympic policy decisions”; underlying this pledge, however, was a statement by the Secretary of State that, in order to increase the number of visitors as a result of the Games, the tourism industry needed “to improve the consistency of its quality, raise the level of skill and, through imaginative marketing, showcase Britain’s heritage and its dynamic, 21st century cities”.257</td>\n",
       "                        <td id=\"T_8a22f_row27_col4\" class=\"data row27 col4\" >0.475559</td>\n",
       "            </tr>\n",
       "            <tr>\n",
       "                        <th id=\"T_8a22f_level0_row28\" class=\"row_heading level0 row28\" >28</th>\n",
       "                        <td id=\"T_8a22f_row28_col0\" class=\"data row28 col0\" >11848</td>\n",
       "                        <td id=\"T_8a22f_row28_col1\" class=\"data row28 col1\" >10</td>\n",
       "                        <td id=\"T_8a22f_row28_col2\" class=\"data row28 col2\" >Report_and_Minutes_-_Jan_2007_-_vol_2_-_evidence.pdf</td>\n",
       "                        <td id=\"T_8a22f_row28_col3\" class=\"data row28 col3\" >2.2 We welcome the opportunity to support the Games and are already investing in some of the keyinstitutions which will deliver a high quality Games. Institutions such as Birmingham Museum and ArtGallery, Bristol Museum and Art Gallery, Tyne and Wear Museums and the Museum of London have allreceived funding through Renaissance in the Regions. Renaissance is MLA’s programme for thetransformation of England’s regional museums. It is the first central government investment of its kind formuseums, and presents a structure through which a co-ordinated oVer amongst regional museums could bedeveloped and resources directed to support. It is therefore crucial that this existing investment is sustained,particularly as we enter a tight funding round in the 2007 comprehensive spending review. Now is the timeto build on and develop this successful programme, which if cut will severely curtail the capacity of themuseums sector to support and deliver the Cultural Olympiad and develop the UK tourism oVer. It shouldbe noted there is no national funding programme for archives, and whilst Framework for the Future oVersa programme for public libraries its focus is on improving the library service and the repositioning of publiclibraries, and does not fund organisations directly</td>\n",
       "                        <td id=\"T_8a22f_row28_col4\" class=\"data row28 col4\" >0.448851</td>\n",
       "            </tr>\n",
       "            <tr>\n",
       "                        <th id=\"T_8a22f_level0_row29\" class=\"row_heading level0 row29\" >29</th>\n",
       "                        <td id=\"T_8a22f_row29_col0\" class=\"data row29 col0\" >2306</td>\n",
       "                        <td id=\"T_8a22f_row29_col1\" class=\"data row29 col1\" >10</td>\n",
       "                        <td id=\"T_8a22f_row29_col2\" class=\"data row29 col2\" >Memorandum_submitted_by_the_Olympic_Lottery_Distributor_-_Jan_2007.pdf</td>\n",
       "                        <td id=\"T_8a22f_row29_col3\" class=\"data row29 col3\" >OLD only has the money which is made available by Lottery players. While it is not for us to sell Lottery tickets we have an interest in people continuing to play the Lottery. We see our role in helping make sure Lottery players know where their money has gone and we are in discussion on this complex issue with the ODA and LOCOG. More broadly we see ourselves as having a duty to safeguard the reputation of the Lottery insofar as it is supporting the Olympic vision behind which much of the nation united last year. We see our role of playing an active role in ensuring that Lottery money delivers Olympic objectives as helping in this respect. We are also anxious that the London Olympics are seen as another reason to play the Lottery and that the prospect of the Games will help grow the Lottery's income. We are part of the wider Lottery family and we are not indifferent to concerns that the funding requirements of the Olympics will deprive the other Good Causes and we know that damage to the reputation of the Lottery may make us all poorer. We hope therefore that the Olympics can be used as a high profile positive message in Lottery marketing</td>\n",
       "                        <td id=\"T_8a22f_row29_col4\" class=\"data row29 col4\" >0.446228</td>\n",
       "            </tr>\n",
       "    </tbody></table>"
      ],
      "text/plain": [
       "<pandas.io.formats.style.Styler at 0x2722e951610>"
      ]
     },
     "execution_count": 86,
     "metadata": {},
     "output_type": "execute_result"
    }
   ],
   "source": [
    "L = 1/3 # set the optimal L based on the analysis above\n",
    "top_n_filter(df_topic_para2, int(1/L))[top_n_filter(df_topic_para2, int(1/L))['probability'] >= L].style.set_properties(subset = ['paragraph'], **{'width':'500px', 'length': '50px'})"
   ]
  },
  {
   "cell_type": "markdown",
   "metadata": {},
   "source": [
    "### 5.3.4. N most prototypical paragraphs of each topic"
   ]
  },
  {
   "cell_type": "code",
   "execution_count": 87,
   "metadata": {},
   "outputs": [
    {
     "data": {
      "text/html": [
       "<style  type=\"text/css\" >\n",
       "#T_c5ad8_row0_col3,#T_c5ad8_row1_col3,#T_c5ad8_row2_col3,#T_c5ad8_row3_col3,#T_c5ad8_row4_col3,#T_c5ad8_row5_col3,#T_c5ad8_row6_col3,#T_c5ad8_row7_col3,#T_c5ad8_row8_col3,#T_c5ad8_row9_col3,#T_c5ad8_row10_col3,#T_c5ad8_row11_col3,#T_c5ad8_row12_col3,#T_c5ad8_row13_col3,#T_c5ad8_row14_col3,#T_c5ad8_row15_col3,#T_c5ad8_row16_col3,#T_c5ad8_row17_col3,#T_c5ad8_row18_col3,#T_c5ad8_row19_col3{\n",
       "            width:  500px;\n",
       "            length:  50px;\n",
       "        }</style><table id=\"T_c5ad8_\" ><thead>    <tr>        <th class=\"blank level0\" ></th>        <th class=\"col_heading level0 col0\" >Index</th>        <th class=\"col_heading level0 col1\" >topic_id</th>        <th class=\"col_heading level0 col2\" >file</th>        <th class=\"col_heading level0 col3\" >paragraph</th>        <th class=\"col_heading level0 col4\" >probability</th>    </tr></thead><tbody>\n",
       "                <tr>\n",
       "                        <th id=\"T_c5ad8_level0_row0\" class=\"row_heading level0 row0\" >0</th>\n",
       "                        <td id=\"T_c5ad8_row0_col0\" class=\"data row0 col0\" >9932</td>\n",
       "                        <td id=\"T_c5ad8_row0_col1\" class=\"data row0 col1\" >1</td>\n",
       "                        <td id=\"T_c5ad8_row0_col2\" class=\"data row0 col2\" >Qs_202_-_238.pdf</td>\n",
       "                        <td id=\"T_c5ad8_row0_col3\" class=\"data row0 col3\" >Lord Moynihan: Adrian, I am looking to the future and in this new found position of being apolitical and outside criticism of what may or may not have happened in the past I can tell you what is required moving forward is significant improvements rather than dwelling on what went wrong in the past. The first thing that is required is consistent funding. It is absolutely essential that we have consistent funding to the Olympic governing bodies. The second thing that is required is hiring the best coaches. I mentioned earlier that coaches are centres of excellence, and they really are. The coach inspires, the coach motivates, the coach can get the best out of our young Olympians of the future. We will deliver far better than we have in the past. The importance given to coaching needs to be on a step change level from where it has been in the past. I am very pleased to say that UK Sport and the Government are at one with us on the importance of reinforcing more emphasis on coaching. Then I mentioned in a highly competitive market, which it will be, to achieve fourth place we need to make sure not just the coaching but the management, the administration, the medical, the support services to our sports men and women are there and that we have the back-up facilities, the high performance centres properly resourced and that the governing bodies are given the support they need to make the decisions on behalf of their staff, their performance directors, their coaches. Ultimately we are all the servants of the sports men and women who will be up there winning medals in 2012. I am absolutely convinced that with the strength of the governing bodies and the talent we have in this country that is an achievable and deliverable target. I am absolutely convinced that unless Clearing the Bar is accepted we will not achieve that stretch target. That is why we are spending so many hours, the days and nights and little time we have available getting that document right and working with UK Sport to make sure we get that right. We have to do it now, we cannot afford to wait until the end of next year. We need to make sure that the funding is secure so that governing bodies can take the steps which are necessary next year. The time invested in the beginning of next year will be worth a huge amount when we get to 2012. It is time invested upfront to make sure that those plans can deliver the success. That means we will look at Beijing in a different light from how we would normally look at Beijing. We will look at Beijing as a stepping stone towards success in 2012 which may not best be judged by medal tallies, for example, but must be judged by how much progress the squads, the teams and the coaches have made en route from here to 2012; which will be our principal goal</td>\n",
       "                        <td id=\"T_c5ad8_row0_col4\" class=\"data row0 col4\" >0.615441</td>\n",
       "            </tr>\n",
       "            <tr>\n",
       "                        <th id=\"T_c5ad8_level0_row1\" class=\"row_heading level0 row1\" >1</th>\n",
       "                        <td id=\"T_c5ad8_row1_col0\" class=\"data row1 col0\" >3639</td>\n",
       "                        <td id=\"T_c5ad8_row1_col1\" class=\"data row1 col1\" >1</td>\n",
       "                        <td id=\"T_c5ad8_row1_col2\" class=\"data row1 col2\" >NAO_Preparing_for_sporting_success_-_March_2008.pdf</td>\n",
       "                        <td id=\"T_c5ad8_row1_col3\" class=\"data row1 col3\" >4 UK Sport’s ‘ultimate goals’ for medal success at the London 2012 Games will require a step change in performance amongst elite athletes. The achievements of athletes at recent elite international events in a number of sports, including sailing, cycling, rowing, boxing, disability equestrian and disability shooting, suggest that performance levels in some sports are already improving significantly. Following increased spending on elite sport, host nations can typically expect to win an extra six or seven gold medals at an Olympic Games and to win medals across a wider range of sports. This ‘host nation effect’ would not in itself be enough to deliver UK Sport’s Olympic goal, which is likely to require an improvement of eight or nine gold medals over the Great Britain team’s performance at the Athens Games in 2004 if the relative performance of other nations remained the same. Changes in the performance of other nations since 2004, especially in the context of a general trend of increased spending on elite sport, sometimes referred to as a ‘global sporting arms race’, may also have implications for UK Sport in delivering its medal aspirations</td>\n",
       "                        <td id=\"T_c5ad8_row1_col4\" class=\"data row1 col4\" >0.556173</td>\n",
       "            </tr>\n",
       "            <tr>\n",
       "                        <th id=\"T_c5ad8_level0_row2\" class=\"row_heading level0 row2\" >2</th>\n",
       "                        <td id=\"T_c5ad8_row2_col0\" class=\"data row2 col0\" >17552</td>\n",
       "                        <td id=\"T_c5ad8_row2_col1\" class=\"data row2 col1\" >2</td>\n",
       "                        <td id=\"T_c5ad8_row2_col2\" class=\"data row2 col2\" >Written_evidence_submitted_by_Vision_2020_UK_-_Jan_2010.pdf</td>\n",
       "                        <td id=\"T_c5ad8_row2_col3\" class=\"data row2 col3\" >4. Most clubs seem ill-prepared for enquiries from, and inclusion of, people with disabilities who wish to participate in the sport offered by the club. There is little or no support for specialist clubs who provide opportunities for sport that cannot be integrated ie wheelchair basketball or blind cricket! There is often nothing locally to support the child or their parent in accessing the specialist provision and this often involves their having to undertake extensive travel to specialist facilities or organisations catering for this group. There is poor information regarding availability etc and http://www.parasport.org.uk was established as a portal to provide pathway and provision information. The then Mayor of London published a strategy in 2007, which highlighted all these issues and to date there has been little, if any, action to redress these anomalies in London or in the rest of the country. DCSF have, in my view, shown no leadership regarding the legacy of 2012 and its impact on PE in schools and the inclusion of those with disabilities in core curriculum activities or sporting opportunities within or after school. DCMS held a legacy event in 2008 and again in April 2009 focusing on the legacy of the Games for those with disabilities. One outcome was to seek greater links between DWP, DCSF and themselves to ensure that joint strategies were developed and pathways established that enabled children to enjoy and participate in PE and sport within schools/after school clubs/integrated and specialist provision in the community, with good national talent forums and pathways established for those who wish to participate in sport at a higher level and finally, with governing bodies having clear inclusive programmes for sports men and women with disabilities active at a national and international level</td>\n",
       "                        <td id=\"T_c5ad8_row2_col4\" class=\"data row2 col4\" >0.676578</td>\n",
       "            </tr>\n",
       "            <tr>\n",
       "                        <th id=\"T_c5ad8_level0_row3\" class=\"row_heading level0 row3\" >3</th>\n",
       "                        <td id=\"T_c5ad8_row3_col0\" class=\"data row3 col0\" >17551</td>\n",
       "                        <td id=\"T_c5ad8_row3_col1\" class=\"data row3 col1\" >2</td>\n",
       "                        <td id=\"T_c5ad8_row3_col2\" class=\"data row3 col2\" >Written_evidence_submitted_by_Vision_2020_UK_-_Jan_2010.pdf</td>\n",
       "                        <td id=\"T_c5ad8_row3_col3\" class=\"data row3 col3\" >3. After school activities often exclude this group of children ie no possibility of inclusion in team sports such as football, cricket, rugby, basket ball etc., limited access to swimming baths, athletic fields etc. All of these sports are undertaken by people with a disability, but not now normally at school. Specialist schools did provide a massive range of sporting opportunities and sport played a major part of my own adjustment to disability. I learned about teamwork, was able to set individual goals, have competition to extend my abilities, occasionally experienced \"being a winner\" and had that thrill of competition. One example of efforts to redress this issue within a school setting is in Leeds, which has a programme of monthly sporting and physical activities arranged in school time for vision impaired children within the schools. One solution easily achieved would be for groups of schools to come together monthly to provide sporting and recreational activities for disabled children and young people within their schools</td>\n",
       "                        <td id=\"T_c5ad8_row3_col4\" class=\"data row3 col4\" >0.627952</td>\n",
       "            </tr>\n",
       "            <tr>\n",
       "                        <th id=\"T_c5ad8_level0_row4\" class=\"row_heading level0 row4\" >4</th>\n",
       "                        <td id=\"T_c5ad8_row4_col0\" class=\"data row4 col0\" >2929</td>\n",
       "                        <td id=\"T_c5ad8_row4_col1\" class=\"data row4 col1\" >3</td>\n",
       "                        <td id=\"T_c5ad8_row4_col2\" class=\"data row4 col2\" >NAO_Preparations_for_the_Olympics_-_Progress_report_-_Feb_2010.pdf</td>\n",
       "                        <td id=\"T_c5ad8_row4_col3\" class=\"data row4 col3\" >Figure 2The Delivery Authority’s November 2007 baseline for the Village and Media Centre and its December 2009 forecastall figures in £ million, inclusive of Vat november 2007 baseline Revised budget approved by funders in 2009latest forecast of potential costs december 2009Village and Stratford City land and infrastructure Land and infrastructure – public sector funding 522 553 560Estimated share of profits from post Games development (250) (250) (100)1Net Olympic Delivery Authority budget 272 303 460Village development Village construction and sales (gross) costs 0 1,095 1,1262Agreed sale of 1,379 units to Triathlon Homes 0 (268) (268)Estimated receipts from private sales – to fund construction 0 (177) (177)Village development – sub total 0 650 681Estimated receipts from private sales – to repay funders 0 (324) (324)Net Olympic Delivery Authority budget 0 326 357Media Centre3Media Centre 220 355 334Net Olympic Delivery Authority budget 220 355 334Total net cost to the Olympic Delivery Authority 492 984 1,151Source: National Audit Offi ce noteS1 See paragraph 4.10</td>\n",
       "                        <td id=\"T_c5ad8_row4_col4\" class=\"data row4 col4\" >0.602559</td>\n",
       "            </tr>\n",
       "            <tr>\n",
       "                        <th id=\"T_c5ad8_level0_row5\" class=\"row_heading level0 row5\" >5</th>\n",
       "                        <td id=\"T_c5ad8_row5_col0\" class=\"data row5 col0\" >7679</td>\n",
       "                        <td id=\"T_c5ad8_row5_col1\" class=\"data row5 col1\" >3</td>\n",
       "                        <td id=\"T_c5ad8_row5_col2\" class=\"data row5 col2\" >PAC_-_Risk_assessment_and_management_-_July_2007_report.pdf</td>\n",
       "                        <td id=\"T_c5ad8_row5_col3\" class=\"data row5 col3\" >6. At the time of our hearing, a number of significant areas of uncertainty remained before the budget could be finalised.18  Tax – The Department explained that tax had been excluded from the cost estimates at the time of the bid on the basis that the tax treatment could not be resolved until the delivery structures for the Games were in place.19  Contingency provision – The cost estimates at the time of the bid had included a contingency provision in respect of individual projects, but the Department now considered that an overall programme contingency margin was required to reflect the interdependencies between projects and the risks associated with the knock-on effect that problems on one project could have on the rest of the programme.20  Security – It had not been possible at the time of the bid to provide a reliable estimate of the costs of policing and wider security, and the Department had notified Parliament of a contingent liability in this respect. The Olympic Security Co-ordinator was now working up plans and budgets in association with the Home Office and the Metropolitan Police.21  Private sector funding – At the time of the bid, £738 million of private funding had been expected to help meet costs associated with the Olympic Park. In the light of further work and advice, the Department now considered there was insufficient time to negotiate contracts with the private sector within the overall timescale for the Games, so there was now little prospect of securing significant private sector funding to deliver the Olympic Park. However, most of the funding for the Olympic Village was still expected to come from the private sector.22</td>\n",
       "                        <td id=\"T_c5ad8_row5_col4\" class=\"data row5 col4\" >0.596071</td>\n",
       "            </tr>\n",
       "            <tr>\n",
       "                        <th id=\"T_c5ad8_level0_row6\" class=\"row_heading level0 row6\" >6</th>\n",
       "                        <td id=\"T_c5ad8_row6_col0\" class=\"data row6 col0\" >2002</td>\n",
       "                        <td id=\"T_c5ad8_row6_col1\" class=\"data row6 col1\" >4</td>\n",
       "                        <td id=\"T_c5ad8_row6_col2\" class=\"data row6 col2\" >Memorandum_submitted_by_LOCOG_-_Nov_2007.pdf</td>\n",
       "                        <td id=\"T_c5ad8_row6_col3\" class=\"data row6 col3\" >Chief Medical Officer Creative Director Director of Strategy and Programme Management  Head of Procurement Head of Client Services Head of Education Head of Venues Technology Head of Programme Solutions Head of Workforce Planning Head of Accommodation Head of Sport Policy Head of Culture Head of Telecommunications Head of Ceremonies Head of Administrative IT Head of Live Site Head of Venue Management Head of Ticketing   —    We now have in place the core components required to undertake the detailed planning for the Games. The team however remains small, at just under 200 people and our recruitment is planned carefully on the basis of the core work that needs to be undertaken now.</td>\n",
       "                        <td id=\"T_c5ad8_row6_col4\" class=\"data row6 col4\" >0.553650</td>\n",
       "            </tr>\n",
       "            <tr>\n",
       "                        <th id=\"T_c5ad8_level0_row7\" class=\"row_heading level0 row7\" >7</th>\n",
       "                        <td id=\"T_c5ad8_row7_col0\" class=\"data row7 col0\" >17005</td>\n",
       "                        <td id=\"T_c5ad8_row7_col1\" class=\"data row7 col1\" >4</td>\n",
       "                        <td id=\"T_c5ad8_row7_col2\" class=\"data row7 col2\" >Written_evidence_submitted_by_Olympic_Park_Legacy_Company_-_Feb_2010.pdf</td>\n",
       "                        <td id=\"T_c5ad8_row7_col3\" class=\"data row7 col3\" >10.  The Olympic Park Legacy Company's strategic objectives, as set by its Founders cover: — assisting the Government and the Mayor of London in fulfilling some of the legacy promises made in the bid to host the London 2012 Olympic and Paralympic Games; — securing the timely development of the Olympic Park site as a high quality and sustainable mixed community; — promoting social, economic and environmental benefits for local communities; — securing the long term development and management of the Olympic Park site and venues in ways which provide lasting national and local sporting, cultural, education and leisure benefits and which preserve the site's Olympic heritage; — working with partners to contribute to long-term economic growth and prosperity in the wider area; — levering in private investment to maximise and provide best value for the public purse; and — promoting sustainable development, community involvement and equality of opportunity</td>\n",
       "                        <td id=\"T_c5ad8_row7_col4\" class=\"data row7 col4\" >0.490745</td>\n",
       "            </tr>\n",
       "            <tr>\n",
       "                        <th id=\"T_c5ad8_level0_row8\" class=\"row_heading level0 row8\" >8</th>\n",
       "                        <td id=\"T_c5ad8_row8_col0\" class=\"data row8 col0\" >16483</td>\n",
       "                        <td id=\"T_c5ad8_row8_col1\" class=\"data row8 col1\" >5</td>\n",
       "                        <td id=\"T_c5ad8_row8_col2\" class=\"data row8 col2\" >Written_evidence_submitted_by_Host_Boroughs_Unit_-_Feb_2010.pdf</td>\n",
       "                        <td id=\"T_c5ad8_row8_col3\" class=\"data row8 col3\" >4.1  The aim is that in the next 20 years, residents in the host boroughs will equal the London average in a range of the life indicators which you would expect to find in a successful community: — employment rates will increase to the London average; — average incomes in the bottom two fifths of earners in the host borough area will be increased to the London average; — young people in the host borough area will have improved GCSE results to at least the London average; — host borough 11 year olds will have at least the same educational attainment as the London average; — the number of families in receipt of benefits in the host boroughs area will fall to no more than the London average; — the rate of violent crime will continue to fall and reflect the London average; and — residents in the host boroughs area, particularly men, will have increased life expectancy to the London average</td>\n",
       "                        <td id=\"T_c5ad8_row8_col4\" class=\"data row8 col4\" >0.566613</td>\n",
       "            </tr>\n",
       "            <tr>\n",
       "                        <th id=\"T_c5ad8_level0_row9\" class=\"row_heading level0 row9\" >9</th>\n",
       "                        <td id=\"T_c5ad8_row9_col0\" class=\"data row9 col0\" >4947</td>\n",
       "                        <td id=\"T_c5ad8_row9_col1\" class=\"data row9 col1\" >5</td>\n",
       "                        <td id=\"T_c5ad8_row9_col2\" class=\"data row9 col2\" >Oral_evidence_-_17_March_2010_Qs_100-143_-_Boroughs.pdf</td>\n",
       "                        <td id=\"T_c5ad8_row9_col3\" class=\"data row9 col3\" >Sir Robin Wales: It is worth making a comment here. It has been very interesting watching this because Jules has led very much with a vision for this place, which the five boroughs have supported but Jules has driven that vision. It is as we have gone on and people have begun to connect with the SRF and understand what we are trying to do that people have begun to realise we are now with the OPLC, which I think is people understanding that legacy is important and beginning to line up behind the vision that Jules has pushed extensively because he understands the nature of his community and how that might work and how it will relate. I think it is a really good example of something being pushed by a local borough, backed by the rest of us, looking to have a vision that will make a difference there and will link in with the community he has got. It comes back to heroic economic assumptions. What comes out at the end will come out, but at least we are trying to do something that will deliver, something that will work for the local area, based on the vision that we have had locally and people are now beginning to line up to. So the question now is: do we get people lined up to support us on public policy and then the jobs that will come out will be the jobs that come out and they will begin to make a difference, particularly to Hackney but also to some of the people in Newham who will be able to access that, and other boroughs. It is a really good example of how the vision has been led by boroughs and people are now getting it</td>\n",
       "                        <td id=\"T_c5ad8_row9_col4\" class=\"data row9 col4\" >0.536632</td>\n",
       "            </tr>\n",
       "            <tr>\n",
       "                        <th id=\"T_c5ad8_level0_row10\" class=\"row_heading level0 row10\" >10</th>\n",
       "                        <td id=\"T_c5ad8_row10_col0\" class=\"data row10 col0\" >3329</td>\n",
       "                        <td id=\"T_c5ad8_row10_col1\" class=\"data row10 col1\" >6</td>\n",
       "                        <td id=\"T_c5ad8_row10_col2\" class=\"data row10 col2\" >NAO_Preparations_for_the_Olympics_-_Progress_report_-_June_2008.pdf</td>\n",
       "                        <td id=\"T_c5ad8_row10_col3\" class=\"data row10 col3\" >6 PREPARATIONS FOR THE LONDON 2012 OLyMPIC AND PARALyMPIC GAMES: PROGRESS REPORT JuNE 2008\t \t \t \t \t \t10 The start and completion dates for the construction of the main venue and infrastructure projects delivered by the Olympic Delivery Authority at the end of March 2008 compared with the milestones in the November 2007 Programme Baseline ReportProjectEnabling Works (site preparation) Power Lines under Grounding  (switchover only)   Structures, Bridges and Highways utilities Main Stadium    Aquatics Centre    VeloparkHandball/Indoor Sports ArenaBasketballInternational Broadcast Centre/ Main Press CentreOlympic Village Eton Manor (training facilities  and Paralympic events)  Broxbourne  (white water canoeing) Eton Dorney (rowing) Weymouth and Portland (sailing)construction start date November 2007  March 2008 Change in  programme  Forecast start date  baseline  (months)October 2006 October 2006 0 July 2008 July 2008 0   April 2008 April 2008 0 January 2008 January 2008 0 July 2008 May 2008 –21    September 2008 September 2008 0 March 2009 March 2009 0August 2009 June 2009 –2July 2009 November 2009 4May 2009 March 2009 –2 June 2008 May 2008 –1 March 2010 January 2010 –2   August 2008 May 2009 9  March 2009 January 2009 –2 May 2008 January 2008 –4construction end date November 2007  March 2008 Change in  programme  Forecast end date  baseline   (months)September 2009 September 2009 0 September 2008 November 2008 2   December 2011 December 2011 0 December 2011 August 2011 –4 Construction  Construction end date end dateFebruary 2011 April 2011 2Completion date  Completion date for construction  for construction and initial overlay  and initial overlay for test events for test eventsJune 2011 June 2011 0Construction  Construction end date end dateApril 2011 August 2011 4Completion date  Completion date for construction  for construction and initial overlay  and initial overlay for test events for test eventsJuly 2011 August 2011 1April 2011 February 2011 –2April 2011 March 2011 –1April 2011 April 2011 0June 2011 July 2011 1 December 2011 December 2011 0 February 2012 April 2011 –10   June 2010 October 2010 4  April 2010 July 2009 –9 February 2009 January 2009 –1Source: National Audit Office examination of actual and forecast progress against the November 2007 Programme BaselineNOTE</td>\n",
       "                        <td id=\"T_c5ad8_row10_col4\" class=\"data row10 col4\" >0.623241</td>\n",
       "            </tr>\n",
       "            <tr>\n",
       "                        <th id=\"T_c5ad8_level0_row11\" class=\"row_heading level0 row11\" >11</th>\n",
       "                        <td id=\"T_c5ad8_row11_col0\" class=\"data row11 col0\" >3335</td>\n",
       "                        <td id=\"T_c5ad8_row11_col1\" class=\"data row11 col1\" >6</td>\n",
       "                        <td id=\"T_c5ad8_row11_col2\" class=\"data row11 col2\" >NAO_Preparations_for_the_Olympics_-_Progress_report_-_June_2008.pdf</td>\n",
       "                        <td id=\"T_c5ad8_row11_col3\" class=\"data row11 col3\" >Construction of the Main Stadium and its readiness for test events is critical to the Authority’s delivery programme. At the time of the November 2007 Programme Baseline Report, which was before contract signature, construction of the Main Stadium was scheduled to be completed in February 2011, to be followed by LOCOG overlay works for test events which were to be completed by June 2011. To date good progress has been made on site preparation, which has allowed construction to start in May 2008, two months earlier than planned.1 As a result of contract negotiations the Authority has agreed a longer construction period than anticipated (35 months rather than 32). The Authority has, however, built early access dates for LOCOG overlay works into the contract so overlay can be carried out in parallel with the construction work. The forecast date for readiness for test events remains at June 2011</td>\n",
       "                        <td id=\"T_c5ad8_row11_col4\" class=\"data row11 col4\" >0.619893</td>\n",
       "            </tr>\n",
       "            <tr>\n",
       "                        <th id=\"T_c5ad8_level0_row12\" class=\"row_heading level0 row12\" >12</th>\n",
       "                        <td id=\"T_c5ad8_row12_col0\" class=\"data row12 col0\" >8304</td>\n",
       "                        <td id=\"T_c5ad8_row12_col1\" class=\"data row12 col1\" >7</td>\n",
       "                        <td id=\"T_c5ad8_row12_col2\" class=\"data row12 col2\" >PAC_26_April_2012_-_Olympic_Costs_-_corrected_evidence_(no_report).pdf</td>\n",
       "                        <td id=\"T_c5ad8_row12_col3\" class=\"data row12 col3\" >You think that the assessment of risks is our best estimate of the most likely outcome of the budget as a whole. But actually the assessment of risk-and how we have compiled it-is this: we have not sought to estimate how likely it is that every risk arises. We just said, \"Let us think about every risk that could arise, and let us assume that they all arise and work out the likely cost of them all arising.\" On top of that, we said, \"And there will be some risks that we just cannot think about that are unknown unknowns. There will be some multiple consequentials if everything came together.\" So we end up with an estimate not of the most likely cost of the project, which is what the burden of paragraph 1 of the PAC Report understands it is, but an estimate of how much we would need to set aside in the very unlikely event that all risks arise and some more unknown risks arise as well. The purpose of that is not to get to an estimate of the likely outcome of the budget. Its purpose and why we do it is to see, against any reasonable view of the likely risk that might arise, even on an assumption that they all arise and some more unknown risks arise, whether we have enough money. The conclusion has always been, yes, we had. Against what is therefore, in my view, a conservative and prudent estimate, we had £36 million headroom at the time of the NAO Report. We had more, and indeed the picture over the six-month period since the original figures on which the NAO was recording this, is that the contingency has gone down by £27 million or so-we reckon, because these are provisional figures, but I want to give our best figures-and the assessed risks on that very conservative and prudent basis have gone down by £136 million. So the picture on the budget as a whole is that we are spending contingency significantly slower than risks are disappearing from the programme. That is why, without in any sense being complacent, I am confident that we will bring this in within budget, and I do not think that the budget is close to being used up</td>\n",
       "                        <td id=\"T_c5ad8_row12_col4\" class=\"data row12 col4\" >0.605655</td>\n",
       "            </tr>\n",
       "            <tr>\n",
       "                        <th id=\"T_c5ad8_level0_row13\" class=\"row_heading level0 row13\" >13</th>\n",
       "                        <td id=\"T_c5ad8_row13_col0\" class=\"data row13 col0\" >8388</td>\n",
       "                        <td id=\"T_c5ad8_row13_col1\" class=\"data row13 col1\" >7</td>\n",
       "                        <td id=\"T_c5ad8_row13_col2\" class=\"data row13 col2\" >PAC_26_April_2012_-_Olympic_Costs_-_corrected_evidence_(no_report).pdf</td>\n",
       "                        <td id=\"T_c5ad8_row13_col3\" class=\"data row13 col3\" >Jonathan Stephens: There are two aspects to risk: likelihood and impact. What we are saying is that we made no estimate of likelihood, we just wrote in a 100% likelihood of all the risks we could think of and some unknown risks that we could not think of. We then looked at impact, and on impact we said, \"If this risk were to materialise-we are assuming a 100% likelihood that it materialises-what is the likely cost?\" That is where you get the low, the most likely outcome and the high outcome. When you add those together, you do not get to an outcome of, \"What is the most likely expenditure on the programme?\"; you get to an outcome of, \"If all conceivable risks arise, plus some unknown risks that we cannot identify, what is the likely expenditure?\" That is a conservative and prudent view of, \"Do we have enough contingency left, if all those risks arise?\" In practice, they won’t all arise. It is conceivable that some will arise, but it is pretty unlikely that all of them will arise. It is perfectly conceivable that some individual risk will arise at a higher estimate than the most likely estimate, but the prospect of all those risks arising is unlikely. The prospect of them all arising at the very highest possible cost is so unlikely as to not provide a good basis for planning. I am sorry. I am going on at some length, but there is a real point</td>\n",
       "                        <td id=\"T_c5ad8_row13_col4\" class=\"data row13 col4\" >0.570251</td>\n",
       "            </tr>\n",
       "            <tr>\n",
       "                        <th id=\"T_c5ad8_level0_row14\" class=\"row_heading level0 row14\" >14</th>\n",
       "                        <td id=\"T_c5ad8_row14_col0\" class=\"data row14 col0\" >4654</td>\n",
       "                        <td id=\"T_c5ad8_row14_col1\" class=\"data row14 col1\" >8</td>\n",
       "                        <td id=\"T_c5ad8_row14_col2\" class=\"data row14 col2\" >Oral_evidence_-_15_Dec_2009_LOCOG_ODA.pdf</td>\n",
       "                        <td id=\"T_c5ad8_row14_col3\" class=\"data row14 col3\" >Mr Deighton: I think the first thing is in the next one and a half years or so anybody presenting themselves as selling new tickets we want to make quite clear to the general public that cannot be possible, because tickets only go on sale in 2011. Any attempt by anybody—and this is something I think we would like the Committee's help on—if you are hearing about this in your constituencies where they think they are being offered tickets, let us know; we are trying to be as public as possible saying, \"Anything that happens pre-2011 before our formal ticket launch can't be possible\". Anyone trying to do that is effectively trying to take advantage of the public. I think that is the first thing. Secondly, of course, with Olympic tickets, like Premier League tickets, the law is very, very clear; they cannot be resold at a profit. We will be working with the police to follow up on any instances where we think that is happening; whether it is tracking it down on the internet, or whether it is happening in practice. I think the other thing that is really important, as I suggested earlier, we are very keen in our business plan for ticketing to make sure that we get those tickets initially into the hands of the people who most want them, so the opportunity to create this kind of secondary market is as limited as possible. That is why we are really building a very carefully constructed book for each sport, so once those guys have got that ticket it is not going to come back onto the market. If they do want to resell the ticket, we have a plan to develop a London 2012 ticket exchange so they will be able to resell it through us, so they will have no excuse. For whatever reason they cannot go, we will be able to resell it for them; not at a profit but we will be able to take care of their original purchase price. That again is a small facility which should constrain the supply of potential tickets that could represent a touting risk if not controlled</td>\n",
       "                        <td id=\"T_c5ad8_row14_col4\" class=\"data row14 col4\" >0.593694</td>\n",
       "            </tr>\n",
       "            <tr>\n",
       "                        <th id=\"T_c5ad8_level0_row15\" class=\"row_heading level0 row15\" >15</th>\n",
       "                        <td id=\"T_c5ad8_row15_col0\" class=\"data row15 col0\" >4644</td>\n",
       "                        <td id=\"T_c5ad8_row15_col1\" class=\"data row15 col1\" >8</td>\n",
       "                        <td id=\"T_c5ad8_row15_col2\" class=\"data row15 col2\" >Oral_evidence_-_15_Dec_2009_LOCOG_ODA.pdf</td>\n",
       "                        <td id=\"T_c5ad8_row15_col3\" class=\"data row15 col3\" >Indeed, if you are trying to sell 9.2 million tickets to such a range of sports, a number of which are not that well known in the UK, the only way we are going to get full stadia, full of enthusiastic fans, is to make them highly affordable, and that is our objective. It is our objective; it is certainly the objective of the Olympics Minister; it is certainly the objective of the Mayor of London; and those stakeholders are actually defining our final pricing strategy over the months ahead. The only reason it is difficult at this point to talk in such specific terms, as we have with our bid promise, is that of course back then the Games actually had a different portfolio of sports: we had baseball and softball, where you would have had 700,000 tickets at the very low end of the pricing. We just want to make sure we have got a very precise grip of the supply side of the tickets. What we have been working on is our competition schedule, so we know exactly what sport is going to be when; what is in the morning; what is in the afternoon; how many sessions we have. Just last week the IOC confirmed for example the format of the cycling competitions—where they redistributed some events towards the sprints and equalising events between men and women. You have to know what events you are putting on before you know what tickets you have got to sell. We are also looking very specifically at the seating bowl, so again I know how many seats I have to sell. We are working with the broadcasters, for example, on camera positions. If you have lots of camera positions you have fewer seats left to sell. All that work, on the schedule, the seats, is what you need to know for how many you have got; and then on the demand side, we are building up a sport-by-sport plan for who the fans are, and who is going to come and watch these sports. It is a very different proposition to get somebody to come to the final of the 100 metres in the main stadium, compared to someone to come, as I mentioned earlier, to the preliminary rounds of the handball competition where handball has not been regularly played in the United Kingdom. We need a sport-by-sport analysis of where that demand is</td>\n",
       "                        <td id=\"T_c5ad8_row15_col4\" class=\"data row15 col4\" >0.540326</td>\n",
       "            </tr>\n",
       "            <tr>\n",
       "                        <th id=\"T_c5ad8_level0_row16\" class=\"row_heading level0 row16\" >16</th>\n",
       "                        <td id=\"T_c5ad8_row16_col0\" class=\"data row16 col0\" >454</td>\n",
       "                        <td id=\"T_c5ad8_row16_col1\" class=\"data row16 col1\" >9</td>\n",
       "                        <td id=\"T_c5ad8_row16_col2\" class=\"data row16 col2\" >Jan_2003_-_Qs_200-220.pdf</td>\n",
       "                        <td id=\"T_c5ad8_row16_col3\" class=\"data row16 col3\" >The Committee suspended from 4.09 pm to 4.23 pm for a division in the House Alan Keen   202. I did not get to the end of the question at the beginning but the point I am making is that because we have to have a village and all the events have to be in that area it adds costs to hosting the Olympics, I reckon at least half a billion and probably a billion. If we could spread them round the country—and I went to Japan for the World Cup and the atmosphere was brilliant. We went to different places—more people could get to see it. If we could do that with the Olympics, the point I am really asking you is that it is difficult for the Government. The Minister and the Secretary of State are going to see the President of the IOC on Friday. It will not do our bid any good if they go there telling them how they should organise the Olympic Games in the future. I am really asking you as the main channellers of funding in sport in this country, will you make these representations that the Olympics, just for the sake of having 18,000 athletes in one village, which is very nice, although it is not so nice for those whose event comes on the last day and they want a party—we could save somewhere between half a billion and a billion pounds by using facilities we have got around the country now. The athletics could be at Wembley as they were supposed to be. The football could be at the main stadium and spread around the country as it is going to be in fact. What I am saying is that instead of having the athletes all together in one village for the three weeks of the Olympics, we could put a party on for them and they could stay for a week after the Olympics when they could all get drunk if that is what they do. I think somebody needs to go to the IOC and put this point to them. We have been taking evidence from people in the last couple of days and there are tremendous difficulties. There would hardly be a difficulty if we could use stadia around the country and we did not have to have the village. It is the village that causes all the problems that we are facing now</td>\n",
       "                        <td id=\"T_c5ad8_row16_col4\" class=\"data row16 col4\" >0.621515</td>\n",
       "            </tr>\n",
       "            <tr>\n",
       "                        <th id=\"T_c5ad8_level0_row17\" class=\"row_heading level0 row17\" >17</th>\n",
       "                        <td id=\"T_c5ad8_row17_col0\" class=\"data row17 col0\" >466</td>\n",
       "                        <td id=\"T_c5ad8_row17_col1\" class=\"data row17 col1\" >9</td>\n",
       "                        <td id=\"T_c5ad8_row17_col2\" class=\"data row17 col2\" >Jan_2003_-_Qs_200-220.pdf</td>\n",
       "                        <td id=\"T_c5ad8_row17_col3\" class=\"data row17 col3\" >206. But this has only just come up, has it not? In all our enquiries into Wembley Stadium lasting over years the problem of the location of the village in relation to the stadium has never ever come up. Now we are told that we need a new stadium in East London that is likely to be surplus to requirements as soon as the Olympics are over, should we get them, because of its juxtaposition to a village whose location has not been decided upon anyhow. I realise that distances in Manchester are not the same as distances in London but the village in Manchester was some considerable distance away from the stadium in Manchester and because, among other things, the structure created by Mr McCartney included an excellent transport system, there was no problem in getting there. I lament that we are having to put these questions to you but this was not a relevant issue yesterday when we had the IOC and the BOA in front of us. Why at this stage has this whole issue of the juxtaposition of the village to the stadium become critical to the likelihood of a successful bid and why have we only just heard about it now? Why, after all of these years, ever since 1996 when Sport England handed over £120 million for Wembley, is it, seven years later, that this has suddenly surfaced as a problem</td>\n",
       "                        <td id=\"T_c5ad8_row17_col4\" class=\"data row17 col4\" >0.586045</td>\n",
       "            </tr>\n",
       "            <tr>\n",
       "                        <th id=\"T_c5ad8_level0_row18\" class=\"row_heading level0 row18\" >18</th>\n",
       "                        <td id=\"T_c5ad8_row18_col0\" class=\"data row18 col0\" >10389</td>\n",
       "                        <td id=\"T_c5ad8_row18_col1\" class=\"data row18 col1\" >10</td>\n",
       "                        <td id=\"T_c5ad8_row18_col2\" class=\"data row18 col2\" >Report_and_Minutes_-_Jan_2007.pdf</td>\n",
       "                        <td id=\"T_c5ad8_row18_col3\" class=\"data row18 col3\" >19. There was much more optimism about scope for increasing tourist traffic after the Games. Mr Castle, the East of England representative on the Nations and Regions Group, described the Games as a “shop window” for the UK. Both he and the Tourism Management Institute saw scope for the Games to generate business tourism.254 The DCMS memorandum stated that “experience from recent host cities indicates that tourism will increase significantly across the UK, most notably after the Games”;255 and the Tourism Alliance told us that DCMS expected that up to 80% of the legacy benefit to be derived from hosting the Games would be gained through “increased tourism as a result of [the] high degree of international media exposure”.256 The Tourism Alliance itself agreed that the main way that lasting benefits would be reaped would be through media exposure; but it saw Government investment in a tourism strategy as being a necessary part of drawing on that exposure; and it spoke of a “lack of realisation within DCMS that additional funds need to be committed … to marketing and media support”. The Government has pledged that the interests of tourism “will be taken into account in all Olympic policy decisions”; underlying this pledge, however, was a statement by the Secretary of State that, in order to increase the number of visitors as a result of the Games, the tourism industry needed “to improve the consistency of its quality, raise the level of skill and, through imaginative marketing, showcase Britain’s heritage and its dynamic, 21st century cities”.257</td>\n",
       "                        <td id=\"T_c5ad8_row18_col4\" class=\"data row18 col4\" >0.475559</td>\n",
       "            </tr>\n",
       "            <tr>\n",
       "                        <th id=\"T_c5ad8_level0_row19\" class=\"row_heading level0 row19\" >19</th>\n",
       "                        <td id=\"T_c5ad8_row19_col0\" class=\"data row19 col0\" >11848</td>\n",
       "                        <td id=\"T_c5ad8_row19_col1\" class=\"data row19 col1\" >10</td>\n",
       "                        <td id=\"T_c5ad8_row19_col2\" class=\"data row19 col2\" >Report_and_Minutes_-_Jan_2007_-_vol_2_-_evidence.pdf</td>\n",
       "                        <td id=\"T_c5ad8_row19_col3\" class=\"data row19 col3\" >2.2 We welcome the opportunity to support the Games and are already investing in some of the keyinstitutions which will deliver a high quality Games. Institutions such as Birmingham Museum and ArtGallery, Bristol Museum and Art Gallery, Tyne and Wear Museums and the Museum of London have allreceived funding through Renaissance in the Regions. Renaissance is MLA’s programme for thetransformation of England’s regional museums. It is the first central government investment of its kind formuseums, and presents a structure through which a co-ordinated oVer amongst regional museums could bedeveloped and resources directed to support. It is therefore crucial that this existing investment is sustained,particularly as we enter a tight funding round in the 2007 comprehensive spending review. Now is the timeto build on and develop this successful programme, which if cut will severely curtail the capacity of themuseums sector to support and deliver the Cultural Olympiad and develop the UK tourism oVer. It shouldbe noted there is no national funding programme for archives, and whilst Framework for the Future oVersa programme for public libraries its focus is on improving the library service and the repositioning of publiclibraries, and does not fund organisations directly</td>\n",
       "                        <td id=\"T_c5ad8_row19_col4\" class=\"data row19 col4\" >0.448851</td>\n",
       "            </tr>\n",
       "    </tbody></table>"
      ],
      "text/plain": [
       "<pandas.io.formats.style.Styler at 0x272397e2eb0>"
      ]
     },
     "execution_count": 87,
     "metadata": {},
     "output_type": "execute_result"
    }
   ],
   "source": [
    "# 2 most prototypical paragraphs of each topic\n",
    "N2 = 2\n",
    "top_n_filter(df_topic_para2, N2).style.set_properties(subset = ['paragraph'], **{'width':'500px', 'length': '50px'})"
   ]
  },
  {
   "cell_type": "markdown",
   "metadata": {},
   "source": [
    "### 5.3.5.  N most prototypical paragraphs of a specific topic"
   ]
  },
  {
   "cell_type": "code",
   "execution_count": 88,
   "metadata": {},
   "outputs": [
    {
     "data": {
      "text/html": [
       "<style  type=\"text/css\" >\n",
       "#T_10cde_row0_col3,#T_10cde_row1_col3{\n",
       "            width:  500px;\n",
       "            length:  50px;\n",
       "        }</style><table id=\"T_10cde_\" ><thead>    <tr>        <th class=\"blank level0\" ></th>        <th class=\"col_heading level0 col0\" >Index</th>        <th class=\"col_heading level0 col1\" >topic_id</th>        <th class=\"col_heading level0 col2\" >file</th>        <th class=\"col_heading level0 col3\" >paragraph</th>        <th class=\"col_heading level0 col4\" >probability</th>    </tr></thead><tbody>\n",
       "                <tr>\n",
       "                        <th id=\"T_10cde_level0_row0\" class=\"row_heading level0 row0\" >2</th>\n",
       "                        <td id=\"T_10cde_row0_col0\" class=\"data row0 col0\" >17552</td>\n",
       "                        <td id=\"T_10cde_row0_col1\" class=\"data row0 col1\" >2</td>\n",
       "                        <td id=\"T_10cde_row0_col2\" class=\"data row0 col2\" >Written_evidence_submitted_by_Vision_2020_UK_-_Jan_2010.pdf</td>\n",
       "                        <td id=\"T_10cde_row0_col3\" class=\"data row0 col3\" >4. Most clubs seem ill-prepared for enquiries from, and inclusion of, people with disabilities who wish to participate in the sport offered by the club. There is little or no support for specialist clubs who provide opportunities for sport that cannot be integrated ie wheelchair basketball or blind cricket! There is often nothing locally to support the child or their parent in accessing the specialist provision and this often involves their having to undertake extensive travel to specialist facilities or organisations catering for this group. There is poor information regarding availability etc and http://www.parasport.org.uk was established as a portal to provide pathway and provision information. The then Mayor of London published a strategy in 2007, which highlighted all these issues and to date there has been little, if any, action to redress these anomalies in London or in the rest of the country. DCSF have, in my view, shown no leadership regarding the legacy of 2012 and its impact on PE in schools and the inclusion of those with disabilities in core curriculum activities or sporting opportunities within or after school. DCMS held a legacy event in 2008 and again in April 2009 focusing on the legacy of the Games for those with disabilities. One outcome was to seek greater links between DWP, DCSF and themselves to ensure that joint strategies were developed and pathways established that enabled children to enjoy and participate in PE and sport within schools/after school clubs/integrated and specialist provision in the community, with good national talent forums and pathways established for those who wish to participate in sport at a higher level and finally, with governing bodies having clear inclusive programmes for sports men and women with disabilities active at a national and international level</td>\n",
       "                        <td id=\"T_10cde_row0_col4\" class=\"data row0 col4\" >0.676578</td>\n",
       "            </tr>\n",
       "            <tr>\n",
       "                        <th id=\"T_10cde_level0_row1\" class=\"row_heading level0 row1\" >3</th>\n",
       "                        <td id=\"T_10cde_row1_col0\" class=\"data row1 col0\" >17551</td>\n",
       "                        <td id=\"T_10cde_row1_col1\" class=\"data row1 col1\" >2</td>\n",
       "                        <td id=\"T_10cde_row1_col2\" class=\"data row1 col2\" >Written_evidence_submitted_by_Vision_2020_UK_-_Jan_2010.pdf</td>\n",
       "                        <td id=\"T_10cde_row1_col3\" class=\"data row1 col3\" >3. After school activities often exclude this group of children ie no possibility of inclusion in team sports such as football, cricket, rugby, basket ball etc., limited access to swimming baths, athletic fields etc. All of these sports are undertaken by people with a disability, but not now normally at school. Specialist schools did provide a massive range of sporting opportunities and sport played a major part of my own adjustment to disability. I learned about teamwork, was able to set individual goals, have competition to extend my abilities, occasionally experienced \"being a winner\" and had that thrill of competition. One example of efforts to redress this issue within a school setting is in Leeds, which has a programme of monthly sporting and physical activities arranged in school time for vision impaired children within the schools. One solution easily achieved would be for groups of schools to come together monthly to provide sporting and recreational activities for disabled children and young people within their schools</td>\n",
       "                        <td id=\"T_10cde_row1_col4\" class=\"data row1 col4\" >0.627952</td>\n",
       "            </tr>\n",
       "    </tbody></table>"
      ],
      "text/plain": [
       "<pandas.io.formats.style.Styler at 0x2722e58b340>"
      ]
     },
     "execution_count": 88,
     "metadata": {},
     "output_type": "execute_result"
    }
   ],
   "source": [
    "topic_id_chosen = 2                                    # choose the topic ID\n",
    "num_para = 2                                            # set N to extract the N most prototypical paragraphs of a specific topic\n",
    "df_n_topic_k = top_n_filter(df_topic_para2, num_para)\n",
    "topic_id_filter = df_n_topic_k['topic_id'] == topic_id_chosen\n",
    "df_n_topic_k[topic_id_filter].style.set_properties(subset = ['paragraph'], **{'width':'500px', 'length': '50px'})"
   ]
  },
  {
   "cell_type": "markdown",
   "metadata": {},
   "source": [
    "## 5.4 Dashboard for topic interpretation"
   ]
  },
  {
   "cell_type": "markdown",
   "metadata": {},
   "source": [
    "Below the visualisation of PyLDAvis and the prototypical paragraphs are integrated into a dashboard, users can click the link generated to open the dashboard and interpret the topics more easily. To \n",
    "launch the dash, remember to download the two css files from https://github.com/suhao3123/CSS, create a folder named assets in the root of your app directory and include the two files in that folder.\n",
    "After the first run of the whole program, users can run the chunks below independently."
   ]
  },
  {
   "cell_type": "code",
   "execution_count": 89,
   "metadata": {},
   "outputs": [],
   "source": [
    "import plotly.express as px \n",
    "import plotly.graph_objects as go\n",
    "\n",
    "from jupyter_dash import JupyterDash\n",
    "\n",
    "import dash\n",
    "import dash_table\n",
    "import dash_core_components as dcc\n",
    "import dash_html_components as html\n",
    "import dash_bootstrap_components as dbc\n",
    "from dash_table.Format import Format, Scheme, Trim\n",
    "from dash.dependencies import Input, Output, State\n",
    "from dash.exceptions import PreventUpdate"
   ]
  },
  {
   "cell_type": "code",
   "execution_count": 90,
   "metadata": {},
   "outputs": [
    {
     "name": "stdout",
     "output_type": "stream",
     "text": [
      "Dash app running on http://127.0.0.1:8050/\n"
     ]
    }
   ],
   "source": [
    "# load the topic distribution of paragraphs from disk\n",
    "df_topic_para3 = pd.read_pickle('./df_topic_para_Olympics2.pkl')\n",
    "df_topic_para3_n = df_topic_para3.copy()\n",
    "df_topic_para3_n['highest_p'] = df_topic_para3_n.iloc[:, 6:].max(axis = 1)         \n",
    "df_topic_para3_n['salient_topic'] = df_topic_para3_n.iloc[:, 6:].idxmax(axis = 1)  \n",
    "df_topic_para3_n = df_topic_para3_n[['index','file_name','salient_topic','paragraphs','highest_p',]]\n",
    "df_topic_para3_n.columns = ['Index','file','topic', 'paragraph','probability']\n",
    "\n",
    "# define the function for extracting the highest N ranked paragraphs from each topic\n",
    "def top_n_filter(df, top_n):\n",
    "    list_topic_id = [x+1 for x in range(0,k)]\n",
    "    list_n_para = []\n",
    "    list_n_p = []\n",
    "    list_n_index = []\n",
    "    list_n_file_name = []\n",
    "    for x in range(1, k + 1): \n",
    "        n_para = [i for i in df.nlargest(top_n, [x])['paragraphs']]\n",
    "        n_p = [i for i in df.nlargest(top_n, [x])[x]]\n",
    "        n_index = [i for i in df_topic_para3.nlargest(top_n, [x]).index]\n",
    "        n_file_name = [i for i in df.nlargest(top_n, [x])['file_name']]\n",
    "        list_n_para.append(n_para)\n",
    "        list_n_p.append(n_p)\n",
    "        list_n_file_name.append(n_file_name)\n",
    "        list_n_index.append(n_index)\n",
    "    pd_n_para = pd.DataFrame({'Index':list_n_index, 'topic_id': list_topic_id, 'file': list_n_file_name, 'paragraph': list_n_para, 'probability': list_n_p})\n",
    "    return(pd_n_para.apply(pd.Series.explode).reset_index().drop('index', axis = 1))\n",
    "\n",
    "list_mark = list(np.arange(0,1.050,0.050))\n",
    "list_mark_round = [round(i, 2) for i in list_mark]\n",
    "marks= {x: str(x) for x in list_mark_round}\n",
    "\n",
    "# Set up the app\n",
    "external_stylesheets = [dbc.themes.BOOTSTRAP, \"assets/bootstrap.min.css\"]\n",
    "app = JupyterDash(__name__, external_stylesheets=external_stylesheets)\n",
    "\n",
    "# Bootstrap's cards provide a flexible content container with multiple variants and options.\n",
    "pyLDAcard = dbc.Card(\n",
    "    [\n",
    "            dbc.CardHeader(html.H4(\"Topic visualisation\")),                # title\n",
    "            dbc.CardBody(\n",
    "            [\n",
    "                dbc.Row(\n",
    "                        dbc.Col(\n",
    "                            [\n",
    "                                html.Embed(src = \"assets/lda.html\" ,style={ 'position': 'relative', 'left': '-250px', 'top': '-100px',\n",
    "                                                                            'width':'1400px', 'height':'860px', 'transform': 'scale(0.70)'}), \n",
    "                            ]\n",
    "                        )\n",
    "                )\n",
    "            ]\n",
    "        ),\n",
    "    ]\n",
    ")\n",
    "\n",
    "\n",
    "table_card = dbc.Card(\n",
    "    [\n",
    "        dbc.CardHeader(\n",
    "            dbc.Row([\n",
    "                  dbc.Col(html.H4(\"Prototypical paragraphs\"))\n",
    "            ])            \n",
    "        ),\n",
    "        \n",
    "        \n",
    "        dbc.CardHeader(\n",
    "                         dbc.Row(\n",
    "                            [\n",
    "                            dbc.Col(\n",
    "                            [\n",
    "                                html.H6(\"Threshold of probability \"),\n",
    "                                dcc.Slider(\n",
    "                                            id='slider',\n",
    "                                            min=0,\n",
    "                                            max=1,\n",
    "                                            step=0.01,\n",
    "                                marks=marks,\n",
    "                                        value=0.1,\n",
    "                                        ),html.Div(style={'width': '1000px'})\n",
    "                            ]\n",
    "                        ),\n",
    "                        dbc.Col(\n",
    "                        [\n",
    "                                html.H6(\"Topic Selection\"),\n",
    "                                dcc.Input(id=\"topic_selection\", type=\"number\",min=1, max=11, step=1, value=1),\n",
    "                                html.Div(style={'width': '100px'})\n",
    "                        ]\n",
    "                        ),\n",
    "                          dbc.Col(\n",
    "                        [\n",
    "                                html.H6(\"N Selection\"),\n",
    "                                dcc.Input(id=\"rank_selection\", type=\"number\",min=1, max=20, step=1,value=5),\n",
    "                                html.Div(style={'width': '100px'})\n",
    "                        ]\n",
    "                        ),\n",
    "                                dbc.Col(\n",
    "                                    [\n",
    "                                        html.H6(\"Mode\"),\n",
    "                                        dcc.Dropdown(\n",
    "                                                            id='dropdown',\n",
    "                                                            options=[\n",
    "                                                                {'label': 'N most prototypical paragraphs for topic K', 'value': 'c1'},\n",
    "                                                                {'label': 'N most prototypical paragraphs overall', 'value': 'c2'},\n",
    "                                                                {'label': 'N most prototypical paragraphs for each topic', 'value': 'c3'}\n",
    "                                                            ],\n",
    "                                               #             value = 'c1',\n",
    "                                                            searchable=False,\n",
    "                                                            clearable=False,\n",
    "                                                            placeholder=\"Select a mode\",\n",
    "                                                        ),html.Div(style={'width': '380px'})\n",
    "                                    ]\n",
    "                                ),                                \n",
    "                ]\n",
    "            )                    \n",
    "                ),\n",
    "        \n",
    "        dbc.CardBody(\n",
    "                dbc.Col([\n",
    "                    dash_table.DataTable(),html.Div(id=\"data_table\")           \n",
    "                ])    \n",
    "                ),\n",
    "        \n",
    "        dbc.CardFooter(\n",
    "            dbc.Row([\n",
    "                dbc.Col(\n",
    "                                    [\n",
    "                                        html.H6('Please click the \"Submit\" button after setting the parameters above'),html.Div(style={'width': '500px'})\n",
    "\n",
    "                                    ]\n",
    "                                ),\n",
    "                                \n",
    "                dbc.Col(\n",
    "                                    [\n",
    "                                        dbc.Button(\"Submit\", id='submit', color=\"success\"),\n",
    "                                        html.Div(id='button')\n",
    "                                    ]\n",
    "                                )\n",
    "                ])\n",
    "                )       \n",
    "    ]\n",
    ")\n",
    "        \n",
    "app.layout = html.Div(\n",
    "    [\n",
    "        dbc.Container(\n",
    "            [dbc.Row(\n",
    "                [\n",
    "                dbc.Col(pyLDAcard,md=7), \n",
    "                dbc.Col(table_card,md=5)\n",
    "            ]             \n",
    "            )\n",
    "            ],\n",
    "            fluid=True,\n",
    "        ),\n",
    "    ]\n",
    ")\n",
    "\n",
    "@app.callback(\n",
    "    Output('data_table','children'),\n",
    "    Input('submit', 'n_clicks'), Input('dropdown', 'value'), Input('slider', 'value'), Input('topic_selection','value'), Input('rank_selection','value')\n",
    "     )\n",
    "\n",
    "def update_datatable(n_clicks, dropdown_value, slider_value,topic_value,top_n):\n",
    "  \n",
    "    ctx = dash.callback_context\n",
    "    if not ctx.triggered:\n",
    "        button_id = 'No clicks'\n",
    "    else:\n",
    "        button_id = ctx.triggered[0]['prop_id'].split('.')[0]\n",
    "    \n",
    "#    print(button_id)\n",
    "                 \n",
    "    if button_id==\"submit\":\n",
    "        topic = topic_value                        #Topic filter of the Highest ranked paragraphs\n",
    "        Top_N = top_n                          #Set rank of for for topic \n",
    "#        print(topic_value)\n",
    "#        print(Top_N)   \n",
    "        \n",
    "        minimum_probability = slider_value #Topics with an assigned probability lower than this threshold will be discarded.\n",
    "#        print(minimum_probability)            \n",
    "\n",
    "        if dropdown_value=='c1':\n",
    "            c_df = top_n_filter(df_topic_para3, Top_N)[top_n_filter(df_topic_para3, Top_N)['topic_id'] == topic]\n",
    "        elif dropdown_value=='c2':\n",
    "            c_df = df_topic_para3_n.nlargest(Top_N,['probability'])\n",
    "        elif dropdown_value=='c3':\n",
    "            c_df = top_n_filter(df_topic_para3, Top_N)\n",
    "        else:\n",
    "            return None\n",
    "#        print(dropdown_value)\n",
    "        \n",
    "        table = dash_table.DataTable(\n",
    "                                    id=\"table-line-1\",\n",
    "                                    columns=[\n",
    "                                                dict(id=c_df.columns[0], name=c_df.columns[0]),\n",
    "                                                dict(id=c_df.columns[1], name=c_df.columns[1]),\n",
    "                                                dict(id=c_df.columns[2], name=c_df.columns[2]),\n",
    "                                                dict(id=c_df.columns[3], name=c_df.columns[3]),\n",
    "                                                dict(id=c_df.columns[4], name=c_df.columns[4], type='numeric', format=Format(precision=2, scheme=Scheme.fixed)),             \n",
    "                                            ],\n",
    "                                    data=c_df.to_dict(\"records\"),\n",
    "                       #             page_action='none',\n",
    "                                    page_size=5,\n",
    "                                    style_table={'height': '1000px', 'overflowY': 'auto'},\n",
    "                                    fixed_rows={'headers': True},\n",
    "                                    style_header={ 'border': '1px solid black', 'fontWeight': 'bold','textAlign': 'center', 'fontSize':'1px'},\n",
    "                                    style_cell={  'fontSize':'10px','border': '1px solid grey','minWidth': 10, 'maxWidth': 30, 'width': 30,'whiteSpace': 'normal',\n",
    "                                                'height': 'auto', 'lineHeight': '15px','textAlign': 'center','textOverflow': 'ellipsis', 'maxWidth': 0},\n",
    "                                    css=[{\n",
    "                                            'selector': '.dash-spreadsheet td div',\n",
    "                                            'rule': '''\n",
    "                                                line-height: 15px;\n",
    "                                                max-height: 300px; min-height: 50px; height: 300px;\n",
    "                                                display: block;\n",
    "                                                overflow-y: hidden;\n",
    "                                            '''\n",
    "                                        }],\n",
    "                                     style_cell_conditional=[\n",
    "                                                                    {'if': {'column_id': 'Index'},'width': '5%'},\n",
    "                                                                    {'if': {'column_id': 'file'},'width': '10%' },\n",
    "                                                                    {'if': {'column_id': 'topic_id'},'width': '5%' },\n",
    "                                                                    {'if': {'column_id': 'paragraph'},'width': '75%','textAlign': 'left'},\n",
    "                                                                    {'if': {'column_id': 'probability'},'width': '5%'},\n",
    "                                                                    \n",
    "    \n",
    "                                                                ],\n",
    "    \n",
    "                                    style_as_list_view=True,\n",
    "                 )\n",
    "#        print('end')\n",
    "        return table\n",
    "          \n",
    "app.run_server(mode = 'external')"
   ]
  },
  {
   "cell_type": "code",
   "execution_count": 91,
   "metadata": {},
   "outputs": [],
   "source": [
    "# remove the hash below and run the chunk to terminate the Dash\n",
    "# app._terminate_server_for_port('localhost', 8050)"
   ]
  },
  {
   "cell_type": "code",
   "execution_count": null,
   "metadata": {},
   "outputs": [],
   "source": []
  }
 ],
 "metadata": {
  "kernelspec": {
   "display_name": "Python 3",
   "language": "python",
   "name": "python3"
  },
  "language_info": {
   "codemirror_mode": {
    "name": "ipython",
    "version": 3
   },
   "file_extension": ".py",
   "mimetype": "text/x-python",
   "name": "python",
   "nbconvert_exporter": "python",
   "pygments_lexer": "ipython3",
   "version": "3.8.3"
  }
 },
 "nbformat": 4,
 "nbformat_minor": 4
}
